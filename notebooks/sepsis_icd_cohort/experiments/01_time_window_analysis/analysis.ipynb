{
 "cells": [
  {
   "cell_type": "markdown",
   "metadata": {},
   "source": [
    "# Analysis"
   ]
  },
  {
   "cell_type": "markdown",
   "metadata": {},
   "source": [
    "## Run the analysis"
   ]
  },
  {
   "cell_type": "code",
   "execution_count": 4,
   "metadata": {},
   "outputs": [
    {
     "name": "stdout",
     "output_type": "stream",
     "text": [
      "windowBefore: 0windowAfter: 1\n",
      "2023-11-29 14:51:24,029 - EHR-ML - INFO - Parsing command line arguments\n",
      "2023-11-29 14:51:24,030 - EHR-ML - INFO - args.data_file: /home/yram0006/phd/chapter_2/workspace/MIMIC-EHR-Pipeline/data/sepsis_icd_cohort/final/data_matrix.csv\n",
      "2023-11-29 14:51:24,030 - EHR-ML - INFO - args.target_column: death_0_7_adm\n",
      "2023-11-29 14:51:24,030 - EHR-ML - INFO - args.id_columns: ['person_id', 'visit_occurrence_id']\n",
      "2023-11-29 14:51:24,030 - EHR-ML - INFO - args.measurement_date_column: measurement_date\n",
      "2023-11-29 14:51:24,030 - EHR-ML - INFO - args.anchor_date_column: visit_start_datetime_adm\n",
      "2023-11-29 14:51:24,030 - EHR-ML - INFO - args.window_before: 0\n",
      "2023-11-29 14:51:24,030 - EHR-ML - INFO - args.window_after: 1\n",
      "2023-11-29 14:51:24,030 - EHR-ML - INFO - args.save_path: /home/yram0006/phd/chapter_2/workspace/MIMIC-EHR-Pipeline/data/sepsis_icd_cohort/experiments/01_time_window_analysis/ts_0_te_7_wb_0_wa_1\n",
      "2023-11-29 14:51:24,589 - EHR-ML - INFO - Split data to test and train sets\n",
      "2023-11-29 14:51:30,085 - EHR-ML - INFO - Performing Hyperparameter optimisation for XGBoost smaller models\n",
      "2023-11-29 14:51:30,085 - EHR-ML - INFO - Hyperparameter optimisation for: {'max_depth': range(1, 10), 'scale_pos_weight': [0.1, 0.15, 0.2, 0.25, 0.3, 0.35, 0.4]}\n",
      "2023-11-29 14:51:50,664 - EHR-ML - INFO - Hyperparameter optimisation for: {'n_estimators': range(50, 250, 10)}\n",
      "2023-11-29 14:51:55,125 - EHR-ML - INFO - Hyperparameter optimisation for: {'min_child_weight': range(1, 10)}\n",
      "2023-11-29 14:51:57,241 - EHR-ML - INFO - Hyperparameter optimisation for: {'gamma': [0.0, 0.1, 0.2, 0.3, 0.4]}\n",
      "2023-11-29 14:51:58,427 - EHR-ML - INFO - Hyperparameter optimisation for: {'subsample': [0.1, 0.2, 0.3, 0.4, 0.5, 0.6, 0.7, 0.8, 0.9], 'colsample_bytree': [0.1, 0.2, 0.3, 0.4, 0.5, 0.6, 0.7, 0.8, 0.9]}\n",
      "2023-11-29 14:52:18,793 - EHR-ML - INFO - Hyperparameter optimisation for: {'reg_alpha': [0, 1e-05, 0.001, 0.1, 10]}\n",
      "2023-11-29 14:52:20,021 - EHR-ML - INFO - params: {'max_depth': 1, 'scale_pos_weight': 0.3, 'n_estimators': 160, 'min_child_weight': 1, 'gamma': 0.0, 'colsample_bytree': 0.4, 'subsample': 0.9, 'reg_alpha': 0}\n",
      "2023-11-29 14:52:20,021 - EHR-ML - INFO - Performing Hyperparameter optimisation for Logistic Regression smaller models\n"
     ]
    }
   ],
   "source": [
    "import os\n",
    "\n",
    "\n",
    "for windowAfter in range(1, 7):\n",
    "    for windowBefore in range(0, 3):\n",
    "        print('windowBefore: ' + str(windowBefore) + ' windowAfter: ' + str(windowAfter))\n",
    "        os.system(\n",
    "            'cd ' + os.environ['EHR_ML_BASE'] + ';'\n",
    "            +\n",
    "            '''.venv/bin/python -m ehrml.predict_mortality.Evaluate ''' + os.environ['MIMIC_EHR_PIPELINE_BASE'] + '''/data/sepsis_icd_cohort/final/data_matrix.csv -tc \"death_0_7_adm\" -ic \"person_id\" \"visit_occurrence_id\" -mdc \"measurement_date\" -adc \"visit_start_datetime_adm\" -wb ''' + str(windowBefore) + ''' -wa ''' + str(windowAfter) + ''' -sp ''' + os.environ['MIMIC_EHR_PIPELINE_BASE'] + '''/data/sepsis_icd_cohort/experiments/01_time_window_analysis/ts_0_te_7_wb_''' + str(windowBefore) + '''_wa_''' + str(windowAfter) + '''.json;'''\n",
    "            )\n"
   ]
  },
  {
   "cell_type": "markdown",
   "metadata": {},
   "source": [
    "## Read the results"
   ]
  },
  {
   "cell_type": "code",
   "execution_count": 5,
   "metadata": {},
   "outputs": [
    {
     "data": {
      "text/html": [
       "<div>\n",
       "<style scoped>\n",
       "    .dataframe tbody tr th:only-of-type {\n",
       "        vertical-align: middle;\n",
       "    }\n",
       "\n",
       "    .dataframe tbody tr th {\n",
       "        vertical-align: top;\n",
       "    }\n",
       "\n",
       "    .dataframe thead th {\n",
       "        text-align: right;\n",
       "    }\n",
       "</style>\n",
       "<table border=\"1\" class=\"dataframe\">\n",
       "  <thead>\n",
       "    <tr style=\"text-align: right;\">\n",
       "      <th></th>\n",
       "      <th>0</th>\n",
       "      <th>1</th>\n",
       "    </tr>\n",
       "  </thead>\n",
       "  <tbody>\n",
       "    <tr>\n",
       "      <th>0</th>\n",
       "      <td>0.607506</td>\n",
       "      <td>0.617994</td>\n",
       "    </tr>\n",
       "    <tr>\n",
       "      <th>1</th>\n",
       "      <td>0.642935</td>\n",
       "      <td>0.713503</td>\n",
       "    </tr>\n",
       "    <tr>\n",
       "      <th>2</th>\n",
       "      <td>0.642935</td>\n",
       "      <td>0.713503</td>\n",
       "    </tr>\n",
       "  </tbody>\n",
       "</table>\n",
       "</div>"
      ],
      "text/plain": [
       "          0         1\n",
       "0  0.607506  0.617994\n",
       "1  0.642935  0.713503\n",
       "2  0.642935  0.713503"
      ]
     },
     "execution_count": 5,
     "metadata": {},
     "output_type": "execute_result"
    }
   ],
   "source": [
    "import os\n",
    "import json\n",
    "\n",
    "import numpy as np\n",
    "import pandas as pd\n",
    "\n",
    "\n",
    "resultsDirPath = os.environ['MIMIC_EHR_PIPELINE_BASE'] + '/data/sepsis_icd_cohort/experiments/01_time_window_analysis'\n",
    "\n",
    "plotDf = pd.DataFrame(np.zeros([3, 2])*np.nan)\n",
    "for file in os.listdir(resultsDirPath):\n",
    "    if file.endswith('.json'):\n",
    "        wb = int(file.split('.')[0].split('_')[5])\n",
    "        wa = int(file.split('.')[0].split('_')[7]) - 1\n",
    "        with open(resultsDirPath + '/' + file) as f:\n",
    "            aurocs = json.load(f)['test_roc_auc']\n",
    "            mean = sum(aurocs)/len(aurocs)\n",
    "            plotDf.at[wb, wa] = mean\n",
    "plotDf"
   ]
  },
  {
   "cell_type": "markdown",
   "metadata": {},
   "source": [
    "## Plot"
   ]
  },
  {
   "cell_type": "code",
   "execution_count": 8,
   "metadata": {},
   "outputs": [
    {
     "data": {
      "text/plain": [
       "[Text(0.5, 23.52222222222222, 'Window After (days)'),\n",
       " Text(50.722222222222214, 0.5, 'Window Before (days)')]"
      ]
     },
     "execution_count": 8,
     "metadata": {},
     "output_type": "execute_result"
    },
    {
     "data": {
      "image/png": "[encoded data removed]",
      "text/plain": [
       "<Figure size 640x480 with 2 Axes>"
      ]
     },
     "metadata": {},
     "output_type": "display_data"
    }
   ],
   "source": [
    "import seaborn as sns\n",
    "\n",
    "\n",
    "s = sns.heatmap(\n",
    "    plotDf,\n",
    "    annot=True,\n",
    "    fmt=\".2f\",\n",
    "    cmap=\"Blues\",\n",
    "    vmin=0.7,\n",
    "    vmax=0.9,\n",
    "    yticklabels=['0', '1', '2'],\n",
    "    xticklabels=['1', '2'],\n",
    "    \n",
    ")\n",
    "s.set(xlabel='Window After (days)', ylabel='Window Before (days)')"
   ]
  }
 ],
 "metadata": {
  "kernelspec": {
   "display_name": ".venv",
   "language": "python",
   "name": "python3"
  },
  "language_info": {
   "codemirror_mode": {
    "name": "ipython",
    "version": 3
   },
   "file_extension": ".py",
   "mimetype": "text/x-python",
   "name": "python",
   "nbconvert_exporter": "python",
   "pygments_lexer": "ipython3",
   "version": "3.8.10"
  }
 },
 "nbformat": 4,
 "nbformat_minor": 2
}
