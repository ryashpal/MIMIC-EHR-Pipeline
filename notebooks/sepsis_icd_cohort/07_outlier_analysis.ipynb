{
 "cells": [
  {
   "cell_type": "markdown",
   "metadata": {},
   "source": [
    "# Outlier Analysis"
   ]
  },
  {
   "cell_type": "markdown",
   "metadata": {},
   "source": [
    "## Vitals"
   ]
  },
  {
   "cell_type": "markdown",
   "metadata": {},
   "source": [
    "### avg"
   ]
  },
  {
   "cell_type": "code",
   "execution_count": 2,
   "metadata": {},
   "outputs": [
    {
     "name": "stdout",
     "output_type": "stream",
     "text": [
      "2023-11-29 11:44:55,485 - EHR-QC - INFO - Parsing command line arguments\n",
      "2023-11-29 11:44:55,486 - EHR-QC - INFO - args.source_file: /home/yram0006/phd/chapter_2/workspace/MIMIC-EHR-Pipeline/data/sepsis_icd_cohort/imputed/vitals_avg_episode_date.csv\n",
      "2023-11-29 11:44:55,486 - EHR-QC - INFO - args.save_file: /home/yram0006/phd/chapter_2/workspace/MIMIC-EHR-Pipeline/data/sepsis_icd_cohort/cleaned/vitals_avg_episode_date.csv\n",
      "2023-11-29 11:44:55,486 - EHR-QC - INFO - args.action: clean\n",
      "2023-11-29 11:44:55,486 - EHR-QC - INFO - args.columns: ['Respiratory rate', 'Heart rate', 'Body weight', 'Oxygen saturation in Arterial blood by Pulse oximetry', 'Glasgow coma score eye opening', 'Glasgow coma score verbal', 'Glasgow coma score motor', 'Physical mobility Braden scale', 'Nutrition intake pattern Braden scale', 'Sensory perception Braden scale', 'Physical activity Braden scale', 'Moisture exposure Braden scale', 'Friction and shear Braden scale', 'Mean blood pressure', 'Systolic blood pressure', 'Diastolic blood pressure', 'Body temperature']\n",
      "2023-11-29 11:44:55,629 - EHR-QC - INFO - Validating the input arguments.\n",
      "2023-11-29 11:44:55,634 - EHR-QC - INFO - Validating complete!!\n",
      "2023-11-29 11:44:55,634 - EHR-QC - INFO - Removing outliers\n"
     ]
    },
    {
     "name": "stderr",
     "output_type": "stream",
     "text": [
      "/superbugai-data/yash/chapter_2/workspace/EHR-QC-Preprocess/.venv/lib/python3.9/site-packages/sklearn/utils/validation.py:757: FutureWarning: is_sparse is deprecated and will be removed in a future version. Check `isinstance(dtype, pd.SparseDtype)` instead.\n",
      "  if not hasattr(array, \"sparse\") and array.dtypes.apply(is_sparse).any():\n",
      "/superbugai-data/yash/chapter_2/workspace/EHR-QC-Preprocess/.venv/lib/python3.9/site-packages/sklearn/utils/validation.py:595: FutureWarning: is_sparse is deprecated and will be removed in a future version. Check `isinstance(dtype, pd.SparseDtype)` instead.\n",
      "  if is_sparse(pd_dtype):\n",
      "/superbugai-data/yash/chapter_2/workspace/EHR-QC-Preprocess/.venv/lib/python3.9/site-packages/sklearn/utils/validation.py:604: FutureWarning: is_sparse is deprecated and will be removed in a future version. Check `isinstance(dtype, pd.SparseDtype)` instead.\n",
      "  if is_sparse(pd_dtype) or not is_extension_array_dtype(pd_dtype):\n",
      "/superbugai-data/yash/chapter_2/workspace/EHR-QC-Preprocess/.venv/lib/python3.9/site-packages/sklearn/base.py:450: UserWarning: X does not have valid feature names, but IsolationForest was fitted with feature names\n",
      "  warnings.warn(\n",
      "/superbugai-data/yash/chapter_2/workspace/EHR-QC-Preprocess/.venv/lib/python3.9/site-packages/sklearn/utils/validation.py:757: FutureWarning: is_sparse is deprecated and will be removed in a future version. Check `isinstance(dtype, pd.SparseDtype)` instead.\n",
      "  if not hasattr(array, \"sparse\") and array.dtypes.apply(is_sparse).any():\n",
      "/superbugai-data/yash/chapter_2/workspace/EHR-QC-Preprocess/.venv/lib/python3.9/site-packages/sklearn/utils/validation.py:595: FutureWarning: is_sparse is deprecated and will be removed in a future version. Check `isinstance(dtype, pd.SparseDtype)` instead.\n",
      "  if is_sparse(pd_dtype):\n",
      "/superbugai-data/yash/chapter_2/workspace/EHR-QC-Preprocess/.venv/lib/python3.9/site-packages/sklearn/utils/validation.py:604: FutureWarning: is_sparse is deprecated and will be removed in a future version. Check `isinstance(dtype, pd.SparseDtype)` instead.\n",
      "  if is_sparse(pd_dtype) or not is_extension_array_dtype(pd_dtype):\n",
      "/superbugai-data/yash/chapter_2/workspace/EHR-QC-Preprocess/ehrqc/plot/OutlierIsolationForest.py:88: SettingWithCopyWarning: \n",
      "A value is trying to be set on a copy of a slice from a DataFrame\n",
      "\n",
      "See the caveats in the documentation: https://pandas.pydata.org/pandas-docs/stable/user_guide/indexing.html#returning-a-view-versus-a-copy\n",
      "  correctedDf.drop(columns=['outlier_scores'], inplace=True)\n"
     ]
    },
    {
     "name": "stdout",
     "output_type": "stream",
     "text": [
      "2023-11-29 11:44:59,102 - EHR-QC - INFO - Saving the corrected file\n",
      "2023-11-29 11:44:59,862 - EHR-QC - INFO - Done!!\n"
     ]
    },
    {
     "data": {
      "text/plain": [
       "0"
      ]
     },
     "execution_count": 2,
     "metadata": {},
     "output_type": "execute_result"
    }
   ],
   "source": [
    "import os\n",
    "\n",
    "\n",
    "os.system(\n",
    "    'cd ' + os.environ['EHR_QC_PREPROCESS_BASE'] + ';'\n",
    "    +\n",
    "    '''.venv/bin/python -m ehrqc.plot.OutlierIsolationForest ''' + os.environ['MIMIC_EHR_PIPELINE_BASE'] + '''/data/sepsis_icd_cohort/imputed/vitals_avg_episode_date.csv ''' + os.environ['MIMIC_EHR_PIPELINE_BASE'] + '''/data/sepsis_icd_cohort/cleaned/vitals_avg_episode_date.csv clean -c \"Respiratory rate\" \"Heart rate\" \"Body weight\" \"Oxygen saturation in Arterial blood by Pulse oximetry\" \"Glasgow coma score eye opening\" \"Glasgow coma score verbal\" \"Glasgow coma score motor\" \"Physical mobility Braden scale\" \"Nutrition intake pattern Braden scale\" \"Sensory perception Braden scale\" \"Physical activity Braden scale\" \"Moisture exposure Braden scale\" \"Friction and shear Braden scale\" \"Mean blood pressure\" \"Systolic blood pressure\" \"Diastolic blood pressure\" \"Body temperature\"'''\n",
    "    )\n"
   ]
  },
  {
   "cell_type": "markdown",
   "metadata": {},
   "source": [
    "### min"
   ]
  },
  {
   "cell_type": "code",
   "execution_count": 3,
   "metadata": {},
   "outputs": [
    {
     "name": "stdout",
     "output_type": "stream",
     "text": [
      "2023-11-29 11:45:42,031 - EHR-QC - INFO - Parsing command line arguments\n",
      "2023-11-29 11:45:42,032 - EHR-QC - INFO - args.source_file: /home/yram0006/phd/chapter_2/workspace/MIMIC-EHR-Pipeline/data/sepsis_icd_cohort/imputed/vitals_min_episode_date.csv\n",
      "2023-11-29 11:45:42,032 - EHR-QC - INFO - args.save_file: /home/yram0006/phd/chapter_2/workspace/MIMIC-EHR-Pipeline/data/sepsis_icd_cohort/cleaned/vitals_min_episode_date.csv\n",
      "2023-11-29 11:45:42,033 - EHR-QC - INFO - args.action: clean\n",
      "2023-11-29 11:45:42,033 - EHR-QC - INFO - args.columns: ['Respiratory rate', 'Heart rate', 'Body weight', 'Oxygen saturation in Arterial blood by Pulse oximetry', 'Glasgow coma score eye opening', 'Glasgow coma score verbal', 'Glasgow coma score motor', 'Physical mobility Braden scale', 'Nutrition intake pattern Braden scale', 'Sensory perception Braden scale', 'Physical activity Braden scale', 'Moisture exposure Braden scale', 'Friction and shear Braden scale', 'Mean blood pressure', 'Systolic blood pressure', 'Diastolic blood pressure', 'Body temperature']\n",
      "2023-11-29 11:45:42,176 - EHR-QC - INFO - Validating the input arguments.\n",
      "2023-11-29 11:45:42,180 - EHR-QC - INFO - Validating complete!!\n",
      "2023-11-29 11:45:42,180 - EHR-QC - INFO - Removing outliers\n"
     ]
    },
    {
     "name": "stderr",
     "output_type": "stream",
     "text": [
      "/superbugai-data/yash/chapter_2/workspace/EHR-QC-Preprocess/.venv/lib/python3.9/site-packages/sklearn/utils/validation.py:757: FutureWarning: is_sparse is deprecated and will be removed in a future version. Check `isinstance(dtype, pd.SparseDtype)` instead.\n",
      "  if not hasattr(array, \"sparse\") and array.dtypes.apply(is_sparse).any():\n",
      "/superbugai-data/yash/chapter_2/workspace/EHR-QC-Preprocess/.venv/lib/python3.9/site-packages/sklearn/utils/validation.py:595: FutureWarning: is_sparse is deprecated and will be removed in a future version. Check `isinstance(dtype, pd.SparseDtype)` instead.\n",
      "  if is_sparse(pd_dtype):\n",
      "/superbugai-data/yash/chapter_2/workspace/EHR-QC-Preprocess/.venv/lib/python3.9/site-packages/sklearn/utils/validation.py:604: FutureWarning: is_sparse is deprecated and will be removed in a future version. Check `isinstance(dtype, pd.SparseDtype)` instead.\n",
      "  if is_sparse(pd_dtype) or not is_extension_array_dtype(pd_dtype):\n",
      "/superbugai-data/yash/chapter_2/workspace/EHR-QC-Preprocess/.venv/lib/python3.9/site-packages/sklearn/base.py:450: UserWarning: X does not have valid feature names, but IsolationForest was fitted with feature names\n",
      "  warnings.warn(\n",
      "/superbugai-data/yash/chapter_2/workspace/EHR-QC-Preprocess/.venv/lib/python3.9/site-packages/sklearn/utils/validation.py:757: FutureWarning: is_sparse is deprecated and will be removed in a future version. Check `isinstance(dtype, pd.SparseDtype)` instead.\n",
      "  if not hasattr(array, \"sparse\") and array.dtypes.apply(is_sparse).any():\n",
      "/superbugai-data/yash/chapter_2/workspace/EHR-QC-Preprocess/.venv/lib/python3.9/site-packages/sklearn/utils/validation.py:595: FutureWarning: is_sparse is deprecated and will be removed in a future version. Check `isinstance(dtype, pd.SparseDtype)` instead.\n",
      "  if is_sparse(pd_dtype):\n",
      "/superbugai-data/yash/chapter_2/workspace/EHR-QC-Preprocess/.venv/lib/python3.9/site-packages/sklearn/utils/validation.py:604: FutureWarning: is_sparse is deprecated and will be removed in a future version. Check `isinstance(dtype, pd.SparseDtype)` instead.\n",
      "  if is_sparse(pd_dtype) or not is_extension_array_dtype(pd_dtype):\n",
      "/superbugai-data/yash/chapter_2/workspace/EHR-QC-Preprocess/ehrqc/plot/OutlierIsolationForest.py:88: SettingWithCopyWarning: \n",
      "A value is trying to be set on a copy of a slice from a DataFrame\n",
      "\n",
      "See the caveats in the documentation: https://pandas.pydata.org/pandas-docs/stable/user_guide/indexing.html#returning-a-view-versus-a-copy\n",
      "  correctedDf.drop(columns=['outlier_scores'], inplace=True)\n"
     ]
    },
    {
     "name": "stdout",
     "output_type": "stream",
     "text": [
      "2023-11-29 11:45:45,688 - EHR-QC - INFO - Saving the corrected file\n",
      "2023-11-29 11:45:46,400 - EHR-QC - INFO - Done!!\n"
     ]
    },
    {
     "data": {
      "text/plain": [
       "0"
      ]
     },
     "execution_count": 3,
     "metadata": {},
     "output_type": "execute_result"
    }
   ],
   "source": [
    "import os\n",
    "\n",
    "\n",
    "os.system(\n",
    "    'cd ' + os.environ['EHR_QC_PREPROCESS_BASE'] + ';'\n",
    "    +\n",
    "    '''.venv/bin/python -m ehrqc.plot.OutlierIsolationForest ''' + os.environ['MIMIC_EHR_PIPELINE_BASE'] + '''/data/sepsis_icd_cohort/imputed/vitals_min_episode_date.csv ''' + os.environ['MIMIC_EHR_PIPELINE_BASE'] + '''/data/sepsis_icd_cohort/cleaned/vitals_min_episode_date.csv clean -c \"Respiratory rate\" \"Heart rate\" \"Body weight\" \"Oxygen saturation in Arterial blood by Pulse oximetry\" \"Glasgow coma score eye opening\" \"Glasgow coma score verbal\" \"Glasgow coma score motor\" \"Physical mobility Braden scale\" \"Nutrition intake pattern Braden scale\" \"Sensory perception Braden scale\" \"Physical activity Braden scale\" \"Moisture exposure Braden scale\" \"Friction and shear Braden scale\" \"Mean blood pressure\" \"Systolic blood pressure\" \"Diastolic blood pressure\" \"Body temperature\"'''\n",
    "    )\n"
   ]
  },
  {
   "cell_type": "markdown",
   "metadata": {},
   "source": [
    "### max"
   ]
  },
  {
   "cell_type": "code",
   "execution_count": 4,
   "metadata": {},
   "outputs": [
    {
     "name": "stdout",
     "output_type": "stream",
     "text": [
      "2023-11-29 11:46:00,513 - EHR-QC - INFO - Parsing command line arguments\n",
      "2023-11-29 11:46:00,514 - EHR-QC - INFO - args.source_file: /home/yram0006/phd/chapter_2/workspace/MIMIC-EHR-Pipeline/data/sepsis_icd_cohort/imputed/vitals_max_episode_date.csv\n",
      "2023-11-29 11:46:00,514 - EHR-QC - INFO - args.save_file: /home/yram0006/phd/chapter_2/workspace/MIMIC-EHR-Pipeline/data/sepsis_icd_cohort/cleaned/vitals_max_episode_date.csv\n",
      "2023-11-29 11:46:00,514 - EHR-QC - INFO - args.action: clean\n",
      "2023-11-29 11:46:00,514 - EHR-QC - INFO - args.columns: ['Respiratory rate', 'Heart rate', 'Body weight', 'Oxygen saturation in Arterial blood by Pulse oximetry', 'Glasgow coma score eye opening', 'Glasgow coma score verbal', 'Glasgow coma score motor', 'Physical mobility Braden scale', 'Nutrition intake pattern Braden scale', 'Sensory perception Braden scale', 'Physical activity Braden scale', 'Moisture exposure Braden scale', 'Friction and shear Braden scale', 'Mean blood pressure', 'Systolic blood pressure', 'Diastolic blood pressure', 'Body temperature']\n",
      "2023-11-29 11:46:00,661 - EHR-QC - INFO - Validating the input arguments.\n",
      "2023-11-29 11:46:00,664 - EHR-QC - INFO - Validating complete!!\n",
      "2023-11-29 11:46:00,665 - EHR-QC - INFO - Removing outliers\n"
     ]
    },
    {
     "name": "stderr",
     "output_type": "stream",
     "text": [
      "/superbugai-data/yash/chapter_2/workspace/EHR-QC-Preprocess/.venv/lib/python3.9/site-packages/sklearn/utils/validation.py:757: FutureWarning: is_sparse is deprecated and will be removed in a future version. Check `isinstance(dtype, pd.SparseDtype)` instead.\n",
      "  if not hasattr(array, \"sparse\") and array.dtypes.apply(is_sparse).any():\n",
      "/superbugai-data/yash/chapter_2/workspace/EHR-QC-Preprocess/.venv/lib/python3.9/site-packages/sklearn/utils/validation.py:595: FutureWarning: is_sparse is deprecated and will be removed in a future version. Check `isinstance(dtype, pd.SparseDtype)` instead.\n",
      "  if is_sparse(pd_dtype):\n",
      "/superbugai-data/yash/chapter_2/workspace/EHR-QC-Preprocess/.venv/lib/python3.9/site-packages/sklearn/utils/validation.py:604: FutureWarning: is_sparse is deprecated and will be removed in a future version. Check `isinstance(dtype, pd.SparseDtype)` instead.\n",
      "  if is_sparse(pd_dtype) or not is_extension_array_dtype(pd_dtype):\n",
      "/superbugai-data/yash/chapter_2/workspace/EHR-QC-Preprocess/.venv/lib/python3.9/site-packages/sklearn/base.py:450: UserWarning: X does not have valid feature names, but IsolationForest was fitted with feature names\n",
      "  warnings.warn(\n",
      "/superbugai-data/yash/chapter_2/workspace/EHR-QC-Preprocess/.venv/lib/python3.9/site-packages/sklearn/utils/validation.py:757: FutureWarning: is_sparse is deprecated and will be removed in a future version. Check `isinstance(dtype, pd.SparseDtype)` instead.\n",
      "  if not hasattr(array, \"sparse\") and array.dtypes.apply(is_sparse).any():\n",
      "/superbugai-data/yash/chapter_2/workspace/EHR-QC-Preprocess/.venv/lib/python3.9/site-packages/sklearn/utils/validation.py:595: FutureWarning: is_sparse is deprecated and will be removed in a future version. Check `isinstance(dtype, pd.SparseDtype)` instead.\n",
      "  if is_sparse(pd_dtype):\n",
      "/superbugai-data/yash/chapter_2/workspace/EHR-QC-Preprocess/.venv/lib/python3.9/site-packages/sklearn/utils/validation.py:604: FutureWarning: is_sparse is deprecated and will be removed in a future version. Check `isinstance(dtype, pd.SparseDtype)` instead.\n",
      "  if is_sparse(pd_dtype) or not is_extension_array_dtype(pd_dtype):\n",
      "/superbugai-data/yash/chapter_2/workspace/EHR-QC-Preprocess/ehrqc/plot/OutlierIsolationForest.py:88: SettingWithCopyWarning: \n",
      "A value is trying to be set on a copy of a slice from a DataFrame\n",
      "\n",
      "See the caveats in the documentation: https://pandas.pydata.org/pandas-docs/stable/user_guide/indexing.html#returning-a-view-versus-a-copy\n",
      "  correctedDf.drop(columns=['outlier_scores'], inplace=True)\n"
     ]
    },
    {
     "name": "stdout",
     "output_type": "stream",
     "text": [
      "2023-11-29 11:46:04,119 - EHR-QC - INFO - Saving the corrected file\n",
      "2023-11-29 11:46:04,836 - EHR-QC - INFO - Done!!\n"
     ]
    },
    {
     "data": {
      "text/plain": [
       "0"
      ]
     },
     "execution_count": 4,
     "metadata": {},
     "output_type": "execute_result"
    }
   ],
   "source": [
    "import os\n",
    "\n",
    "\n",
    "os.system(\n",
    "    'cd ' + os.environ['EHR_QC_PREPROCESS_BASE'] + ';'\n",
    "    +\n",
    "    '''.venv/bin/python -m ehrqc.plot.OutlierIsolationForest ''' + os.environ['MIMIC_EHR_PIPELINE_BASE'] + '''/data/sepsis_icd_cohort/imputed/vitals_max_episode_date.csv ''' + os.environ['MIMIC_EHR_PIPELINE_BASE'] + '''/data/sepsis_icd_cohort/cleaned/vitals_max_episode_date.csv clean -c \"Respiratory rate\" \"Heart rate\" \"Body weight\" \"Oxygen saturation in Arterial blood by Pulse oximetry\" \"Glasgow coma score eye opening\" \"Glasgow coma score verbal\" \"Glasgow coma score motor\" \"Physical mobility Braden scale\" \"Nutrition intake pattern Braden scale\" \"Sensory perception Braden scale\" \"Physical activity Braden scale\" \"Moisture exposure Braden scale\" \"Friction and shear Braden scale\" \"Mean blood pressure\" \"Systolic blood pressure\" \"Diastolic blood pressure\" \"Body temperature\"'''\n",
    "    )\n"
   ]
  },
  {
   "cell_type": "markdown",
   "metadata": {},
   "source": [
    "### first"
   ]
  },
  {
   "cell_type": "code",
   "execution_count": 5,
   "metadata": {},
   "outputs": [
    {
     "name": "stdout",
     "output_type": "stream",
     "text": [
      "2023-11-29 11:46:24,559 - EHR-QC - INFO - Parsing command line arguments\n",
      "2023-11-29 11:46:24,560 - EHR-QC - INFO - args.source_file: /home/yram0006/phd/chapter_2/workspace/MIMIC-EHR-Pipeline/data/sepsis_icd_cohort/imputed/vitals_first_episode_date.csv\n",
      "2023-11-29 11:46:24,560 - EHR-QC - INFO - args.save_file: /home/yram0006/phd/chapter_2/workspace/MIMIC-EHR-Pipeline/data/sepsis_icd_cohort/cleaned/vitals_first_episode_date.csv\n",
      "2023-11-29 11:46:24,560 - EHR-QC - INFO - args.action: clean\n",
      "2023-11-29 11:46:24,560 - EHR-QC - INFO - args.columns: ['Respiratory rate', 'Heart rate', 'Body weight', 'Oxygen saturation in Arterial blood by Pulse oximetry', 'Glasgow coma score eye opening', 'Glasgow coma score verbal', 'Glasgow coma score motor', 'Physical mobility Braden scale', 'Nutrition intake pattern Braden scale', 'Sensory perception Braden scale', 'Physical activity Braden scale', 'Moisture exposure Braden scale', 'Friction and shear Braden scale', 'Mean blood pressure', 'Systolic blood pressure', 'Diastolic blood pressure', 'Body temperature']\n",
      "2023-11-29 11:46:24,664 - EHR-QC - INFO - Validating the input arguments.\n",
      "2023-11-29 11:46:24,667 - EHR-QC - INFO - Validating complete!!\n",
      "2023-11-29 11:46:24,667 - EHR-QC - INFO - Removing outliers\n"
     ]
    },
    {
     "name": "stderr",
     "output_type": "stream",
     "text": [
      "/superbugai-data/yash/chapter_2/workspace/EHR-QC-Preprocess/.venv/lib/python3.9/site-packages/sklearn/utils/validation.py:757: FutureWarning: is_sparse is deprecated and will be removed in a future version. Check `isinstance(dtype, pd.SparseDtype)` instead.\n",
      "  if not hasattr(array, \"sparse\") and array.dtypes.apply(is_sparse).any():\n",
      "/superbugai-data/yash/chapter_2/workspace/EHR-QC-Preprocess/.venv/lib/python3.9/site-packages/sklearn/utils/validation.py:595: FutureWarning: is_sparse is deprecated and will be removed in a future version. Check `isinstance(dtype, pd.SparseDtype)` instead.\n",
      "  if is_sparse(pd_dtype):\n",
      "/superbugai-data/yash/chapter_2/workspace/EHR-QC-Preprocess/.venv/lib/python3.9/site-packages/sklearn/utils/validation.py:604: FutureWarning: is_sparse is deprecated and will be removed in a future version. Check `isinstance(dtype, pd.SparseDtype)` instead.\n",
      "  if is_sparse(pd_dtype) or not is_extension_array_dtype(pd_dtype):\n",
      "/superbugai-data/yash/chapter_2/workspace/EHR-QC-Preprocess/.venv/lib/python3.9/site-packages/sklearn/base.py:450: UserWarning: X does not have valid feature names, but IsolationForest was fitted with feature names\n",
      "  warnings.warn(\n",
      "/superbugai-data/yash/chapter_2/workspace/EHR-QC-Preprocess/.venv/lib/python3.9/site-packages/sklearn/utils/validation.py:757: FutureWarning: is_sparse is deprecated and will be removed in a future version. Check `isinstance(dtype, pd.SparseDtype)` instead.\n",
      "  if not hasattr(array, \"sparse\") and array.dtypes.apply(is_sparse).any():\n",
      "/superbugai-data/yash/chapter_2/workspace/EHR-QC-Preprocess/.venv/lib/python3.9/site-packages/sklearn/utils/validation.py:595: FutureWarning: is_sparse is deprecated and will be removed in a future version. Check `isinstance(dtype, pd.SparseDtype)` instead.\n",
      "  if is_sparse(pd_dtype):\n",
      "/superbugai-data/yash/chapter_2/workspace/EHR-QC-Preprocess/.venv/lib/python3.9/site-packages/sklearn/utils/validation.py:604: FutureWarning: is_sparse is deprecated and will be removed in a future version. Check `isinstance(dtype, pd.SparseDtype)` instead.\n",
      "  if is_sparse(pd_dtype) or not is_extension_array_dtype(pd_dtype):\n",
      "/superbugai-data/yash/chapter_2/workspace/EHR-QC-Preprocess/ehrqc/plot/OutlierIsolationForest.py:88: SettingWithCopyWarning: \n",
      "A value is trying to be set on a copy of a slice from a DataFrame\n",
      "\n",
      "See the caveats in the documentation: https://pandas.pydata.org/pandas-docs/stable/user_guide/indexing.html#returning-a-view-versus-a-copy\n",
      "  correctedDf.drop(columns=['outlier_scores'], inplace=True)\n"
     ]
    },
    {
     "name": "stdout",
     "output_type": "stream",
     "text": [
      "2023-11-29 11:46:28,094 - EHR-QC - INFO - Saving the corrected file\n",
      "2023-11-29 11:46:28,617 - EHR-QC - INFO - Done!!\n"
     ]
    },
    {
     "data": {
      "text/plain": [
       "0"
      ]
     },
     "execution_count": 5,
     "metadata": {},
     "output_type": "execute_result"
    }
   ],
   "source": [
    "import os\n",
    "\n",
    "\n",
    "os.system(\n",
    "    'cd ' + os.environ['EHR_QC_PREPROCESS_BASE'] + ';'\n",
    "    +\n",
    "    '''.venv/bin/python -m ehrqc.plot.OutlierIsolationForest ''' + os.environ['MIMIC_EHR_PIPELINE_BASE'] + '''/data/sepsis_icd_cohort/imputed/vitals_first_episode_date.csv ''' + os.environ['MIMIC_EHR_PIPELINE_BASE'] + '''/data/sepsis_icd_cohort/cleaned/vitals_first_episode_date.csv clean -c \"Respiratory rate\" \"Heart rate\" \"Body weight\" \"Oxygen saturation in Arterial blood by Pulse oximetry\" \"Glasgow coma score eye opening\" \"Glasgow coma score verbal\" \"Glasgow coma score motor\" \"Physical mobility Braden scale\" \"Nutrition intake pattern Braden scale\" \"Sensory perception Braden scale\" \"Physical activity Braden scale\" \"Moisture exposure Braden scale\" \"Friction and shear Braden scale\" \"Mean blood pressure\" \"Systolic blood pressure\" \"Diastolic blood pressure\" \"Body temperature\"'''\n",
    "    )\n"
   ]
  },
  {
   "cell_type": "markdown",
   "metadata": {},
   "source": [
    "### last"
   ]
  },
  {
   "cell_type": "code",
   "execution_count": 6,
   "metadata": {},
   "outputs": [
    {
     "name": "stdout",
     "output_type": "stream",
     "text": [
      "2023-11-29 11:47:02,386 - EHR-QC - INFO - Parsing command line arguments\n",
      "2023-11-29 11:47:02,387 - EHR-QC - INFO - args.source_file: /home/yram0006/phd/chapter_2/workspace/MIMIC-EHR-Pipeline/data/sepsis_icd_cohort/imputed/vitals_last_episode_date.csv\n",
      "2023-11-29 11:47:02,387 - EHR-QC - INFO - args.save_file: /home/yram0006/phd/chapter_2/workspace/MIMIC-EHR-Pipeline/data/sepsis_icd_cohort/cleaned/vitals_last_episode_date.csv\n",
      "2023-11-29 11:47:02,387 - EHR-QC - INFO - args.action: clean\n",
      "2023-11-29 11:47:02,387 - EHR-QC - INFO - args.columns: ['Respiratory rate', 'Heart rate', 'Body weight', 'Oxygen saturation in Arterial blood by Pulse oximetry', 'Glasgow coma score eye opening', 'Glasgow coma score verbal', 'Glasgow coma score motor', 'Physical mobility Braden scale', 'Nutrition intake pattern Braden scale', 'Sensory perception Braden scale', 'Physical activity Braden scale', 'Moisture exposure Braden scale', 'Friction and shear Braden scale', 'Mean blood pressure', 'Systolic blood pressure', 'Diastolic blood pressure', 'Body temperature']\n",
      "2023-11-29 11:47:02,491 - EHR-QC - INFO - Validating the input arguments.\n",
      "2023-11-29 11:47:02,495 - EHR-QC - INFO - Validating complete!!\n",
      "2023-11-29 11:47:02,495 - EHR-QC - INFO - Removing outliers\n"
     ]
    },
    {
     "name": "stderr",
     "output_type": "stream",
     "text": [
      "/superbugai-data/yash/chapter_2/workspace/EHR-QC-Preprocess/.venv/lib/python3.9/site-packages/sklearn/utils/validation.py:757: FutureWarning: is_sparse is deprecated and will be removed in a future version. Check `isinstance(dtype, pd.SparseDtype)` instead.\n",
      "  if not hasattr(array, \"sparse\") and array.dtypes.apply(is_sparse).any():\n",
      "/superbugai-data/yash/chapter_2/workspace/EHR-QC-Preprocess/.venv/lib/python3.9/site-packages/sklearn/utils/validation.py:595: FutureWarning: is_sparse is deprecated and will be removed in a future version. Check `isinstance(dtype, pd.SparseDtype)` instead.\n",
      "  if is_sparse(pd_dtype):\n",
      "/superbugai-data/yash/chapter_2/workspace/EHR-QC-Preprocess/.venv/lib/python3.9/site-packages/sklearn/utils/validation.py:604: FutureWarning: is_sparse is deprecated and will be removed in a future version. Check `isinstance(dtype, pd.SparseDtype)` instead.\n",
      "  if is_sparse(pd_dtype) or not is_extension_array_dtype(pd_dtype):\n",
      "/superbugai-data/yash/chapter_2/workspace/EHR-QC-Preprocess/.venv/lib/python3.9/site-packages/sklearn/base.py:450: UserWarning: X does not have valid feature names, but IsolationForest was fitted with feature names\n",
      "  warnings.warn(\n",
      "/superbugai-data/yash/chapter_2/workspace/EHR-QC-Preprocess/.venv/lib/python3.9/site-packages/sklearn/utils/validation.py:757: FutureWarning: is_sparse is deprecated and will be removed in a future version. Check `isinstance(dtype, pd.SparseDtype)` instead.\n",
      "  if not hasattr(array, \"sparse\") and array.dtypes.apply(is_sparse).any():\n",
      "/superbugai-data/yash/chapter_2/workspace/EHR-QC-Preprocess/.venv/lib/python3.9/site-packages/sklearn/utils/validation.py:595: FutureWarning: is_sparse is deprecated and will be removed in a future version. Check `isinstance(dtype, pd.SparseDtype)` instead.\n",
      "  if is_sparse(pd_dtype):\n",
      "/superbugai-data/yash/chapter_2/workspace/EHR-QC-Preprocess/.venv/lib/python3.9/site-packages/sklearn/utils/validation.py:604: FutureWarning: is_sparse is deprecated and will be removed in a future version. Check `isinstance(dtype, pd.SparseDtype)` instead.\n",
      "  if is_sparse(pd_dtype) or not is_extension_array_dtype(pd_dtype):\n",
      "/superbugai-data/yash/chapter_2/workspace/EHR-QC-Preprocess/ehrqc/plot/OutlierIsolationForest.py:88: SettingWithCopyWarning: \n",
      "A value is trying to be set on a copy of a slice from a DataFrame\n",
      "\n",
      "See the caveats in the documentation: https://pandas.pydata.org/pandas-docs/stable/user_guide/indexing.html#returning-a-view-versus-a-copy\n",
      "  correctedDf.drop(columns=['outlier_scores'], inplace=True)\n"
     ]
    },
    {
     "name": "stdout",
     "output_type": "stream",
     "text": [
      "2023-11-29 11:47:05,895 - EHR-QC - INFO - Saving the corrected file\n",
      "2023-11-29 11:47:06,422 - EHR-QC - INFO - Done!!\n"
     ]
    },
    {
     "data": {
      "text/plain": [
       "0"
      ]
     },
     "execution_count": 6,
     "metadata": {},
     "output_type": "execute_result"
    }
   ],
   "source": [
    "import os\n",
    "\n",
    "\n",
    "os.system(\n",
    "    'cd ' + os.environ['EHR_QC_PREPROCESS_BASE'] + ';'\n",
    "    +\n",
    "    '''.venv/bin/python -m ehrqc.plot.OutlierIsolationForest ''' + os.environ['MIMIC_EHR_PIPELINE_BASE'] + '''/data/sepsis_icd_cohort/imputed/vitals_last_episode_date.csv ''' + os.environ['MIMIC_EHR_PIPELINE_BASE'] + '''/data/sepsis_icd_cohort/cleaned/vitals_last_episode_date.csv clean -c \"Respiratory rate\" \"Heart rate\" \"Body weight\" \"Oxygen saturation in Arterial blood by Pulse oximetry\" \"Glasgow coma score eye opening\" \"Glasgow coma score verbal\" \"Glasgow coma score motor\" \"Physical mobility Braden scale\" \"Nutrition intake pattern Braden scale\" \"Sensory perception Braden scale\" \"Physical activity Braden scale\" \"Moisture exposure Braden scale\" \"Friction and shear Braden scale\" \"Mean blood pressure\" \"Systolic blood pressure\" \"Diastolic blood pressure\" \"Body temperature\"'''\n",
    "    )\n"
   ]
  },
  {
   "cell_type": "markdown",
   "metadata": {},
   "source": [
    "## Labs"
   ]
  },
  {
   "cell_type": "markdown",
   "metadata": {},
   "source": [
    "### avg"
   ]
  },
  {
   "cell_type": "code",
   "execution_count": 7,
   "metadata": {},
   "outputs": [
    {
     "name": "stdout",
     "output_type": "stream",
     "text": [
      "2023-11-29 11:48:22,098 - EHR-QC - INFO - Parsing command line arguments\n",
      "2023-11-29 11:48:22,099 - EHR-QC - INFO - args.source_file: /home/yram0006/phd/chapter_2/workspace/MIMIC-EHR-Pipeline/data/sepsis_icd_cohort/imputed/labs_avg_episode_date.csv\n",
      "2023-11-29 11:48:22,099 - EHR-QC - INFO - args.save_file: /home/yram0006/phd/chapter_2/workspace/MIMIC-EHR-Pipeline/data/sepsis_icd_cohort/cleaned/labs_avg_episode_date.csv\n",
      "2023-11-29 11:48:22,099 - EHR-QC - INFO - args.action: clean\n",
      "2023-11-29 11:48:22,099 - EHR-QC - INFO - args.columns: ['Leukocytes in Blood by Manual count', 'Hematocrit of Blood by Automated count', 'MCHC by Automated count', 'MCH by Automated count', 'Erythrocyte distribution width by Automated count', 'MCV by Automated count', 'Erythrocytes in Blood by Automated count', 'Platelets in Blood by Automated count', 'Hemoglobin in Blood', 'Urea nitrogen in Serum or Plasma', 'Creatinine in Serum or Plasma', 'Potassium in Serum or Plasma', 'Chloride in Serum or Plasma', 'Bicarbonate in Serum or Plasma', 'Sodium in Serum or Plasma', 'Anion gap 4 in Serum or Plasma', 'Glucose in Serum or Plasma', 'Magnesium in Serum or Plasma', 'Calcium in Serum or Plasma', 'Phosphate in Serum or Plasma', 'Neutrophils in Urine by Automated count', 'Lymphocytes in Blood by Automated count', 'Basophils in Blood by Automated count', 'Eosinophils in Blood by Automated count', 'Monocytes in Blood by Automated count', 'Prothrombin time (PT)', 'INR in Platelet poor plasma by Coagulation assay', 'aPTT in Blood by Coagulation assay', 'Specific gravity of Urine by Test strip', 'pH of Urine by Test strip', 'Bilirubin.total in Serum or Plasma', 'Aspartate aminotransferase in Serum or Plasma', 'Alanine aminotransferase in Serum or Plasma', 'Alkaline phosphatase in Serum or Plasma', 'Albumin in Serum or Plasma']\n",
      "2023-11-29 11:48:22,627 - EHR-QC - INFO - Validating the input arguments.\n",
      "2023-11-29 11:48:22,636 - EHR-QC - INFO - Validating complete!!\n",
      "2023-11-29 11:48:22,636 - EHR-QC - INFO - Removing outliers\n"
     ]
    },
    {
     "name": "stderr",
     "output_type": "stream",
     "text": [
      "/superbugai-data/yash/chapter_2/workspace/EHR-QC-Preprocess/.venv/lib/python3.9/site-packages/sklearn/utils/validation.py:757: FutureWarning: is_sparse is deprecated and will be removed in a future version. Check `isinstance(dtype, pd.SparseDtype)` instead.\n",
      "  if not hasattr(array, \"sparse\") and array.dtypes.apply(is_sparse).any():\n",
      "/superbugai-data/yash/chapter_2/workspace/EHR-QC-Preprocess/.venv/lib/python3.9/site-packages/sklearn/utils/validation.py:595: FutureWarning: is_sparse is deprecated and will be removed in a future version. Check `isinstance(dtype, pd.SparseDtype)` instead.\n",
      "  if is_sparse(pd_dtype):\n",
      "/superbugai-data/yash/chapter_2/workspace/EHR-QC-Preprocess/.venv/lib/python3.9/site-packages/sklearn/utils/validation.py:604: FutureWarning: is_sparse is deprecated and will be removed in a future version. Check `isinstance(dtype, pd.SparseDtype)` instead.\n",
      "  if is_sparse(pd_dtype) or not is_extension_array_dtype(pd_dtype):\n",
      "/superbugai-data/yash/chapter_2/workspace/EHR-QC-Preprocess/.venv/lib/python3.9/site-packages/sklearn/base.py:450: UserWarning: X does not have valid feature names, but IsolationForest was fitted with feature names\n",
      "  warnings.warn(\n",
      "/superbugai-data/yash/chapter_2/workspace/EHR-QC-Preprocess/.venv/lib/python3.9/site-packages/sklearn/utils/validation.py:757: FutureWarning: is_sparse is deprecated and will be removed in a future version. Check `isinstance(dtype, pd.SparseDtype)` instead.\n",
      "  if not hasattr(array, \"sparse\") and array.dtypes.apply(is_sparse).any():\n",
      "/superbugai-data/yash/chapter_2/workspace/EHR-QC-Preprocess/.venv/lib/python3.9/site-packages/sklearn/utils/validation.py:595: FutureWarning: is_sparse is deprecated and will be removed in a future version. Check `isinstance(dtype, pd.SparseDtype)` instead.\n",
      "  if is_sparse(pd_dtype):\n",
      "/superbugai-data/yash/chapter_2/workspace/EHR-QC-Preprocess/.venv/lib/python3.9/site-packages/sklearn/utils/validation.py:604: FutureWarning: is_sparse is deprecated and will be removed in a future version. Check `isinstance(dtype, pd.SparseDtype)` instead.\n",
      "  if is_sparse(pd_dtype) or not is_extension_array_dtype(pd_dtype):\n",
      "/superbugai-data/yash/chapter_2/workspace/EHR-QC-Preprocess/ehrqc/plot/OutlierIsolationForest.py:88: SettingWithCopyWarning: \n",
      "A value is trying to be set on a copy of a slice from a DataFrame\n",
      "\n",
      "See the caveats in the documentation: https://pandas.pydata.org/pandas-docs/stable/user_guide/indexing.html#returning-a-view-versus-a-copy\n",
      "  correctedDf.drop(columns=['outlier_scores'], inplace=True)\n"
     ]
    },
    {
     "name": "stdout",
     "output_type": "stream",
     "text": [
      "2023-11-29 11:48:32,488 - EHR-QC - INFO - Saving the corrected file\n",
      "2023-11-29 11:48:35,327 - EHR-QC - INFO - Done!!\n"
     ]
    },
    {
     "data": {
      "text/plain": [
       "0"
      ]
     },
     "execution_count": 7,
     "metadata": {},
     "output_type": "execute_result"
    }
   ],
   "source": [
    "import os\n",
    "\n",
    "\n",
    "os.system(\n",
    "    'cd ' + os.environ['EHR_QC_PREPROCESS_BASE'] + ';'\n",
    "    +\n",
    "    '''.venv/bin/python -m ehrqc.plot.OutlierIsolationForest ''' + os.environ['MIMIC_EHR_PIPELINE_BASE'] + '''/data/sepsis_icd_cohort/imputed/labs_avg_episode_date.csv ''' + os.environ['MIMIC_EHR_PIPELINE_BASE'] + '''/data/sepsis_icd_cohort/cleaned/labs_avg_episode_date.csv clean -c \"Leukocytes in Blood by Manual count\" \"Hematocrit of Blood by Automated count\" \"MCHC by Automated count\" \"MCH by Automated count\" \"Erythrocyte distribution width by Automated count\" \"MCV by Automated count\" \"Erythrocytes in Blood by Automated count\" \"Platelets in Blood by Automated count\" \"Hemoglobin in Blood\" \"Urea nitrogen in Serum or Plasma\" \"Creatinine in Serum or Plasma\" \"Potassium in Serum or Plasma\" \"Chloride in Serum or Plasma\" \"Bicarbonate in Serum or Plasma\" \"Sodium in Serum or Plasma\" \"Anion gap 4 in Serum or Plasma\" \"Glucose in Serum or Plasma\" \"Magnesium in Serum or Plasma\" \"Calcium in Serum or Plasma\" \"Phosphate in Serum or Plasma\" \"Neutrophils in Urine by Automated count\" \"Lymphocytes in Blood by Automated count\" \"Basophils in Blood by Automated count\" \"Eosinophils in Blood by Automated count\" \"Monocytes in Blood by Automated count\" \"Prothrombin time (PT)\" \"INR in Platelet poor plasma by Coagulation assay\" \"aPTT in Blood by Coagulation assay\" \"Specific gravity of Urine by Test strip\" \"pH of Urine by Test strip\" \"Bilirubin.total in Serum or Plasma\" \"Aspartate aminotransferase in Serum or Plasma\" \"Alanine aminotransferase in Serum or Plasma\" \"Alkaline phosphatase in Serum or Plasma\" \"Albumin in Serum or Plasma\"'''\n",
    "    )\n"
   ]
  },
  {
   "cell_type": "markdown",
   "metadata": {},
   "source": [
    "### min"
   ]
  },
  {
   "cell_type": "code",
   "execution_count": 8,
   "metadata": {},
   "outputs": [
    {
     "name": "stdout",
     "output_type": "stream",
     "text": [
      "2023-11-29 11:48:46,778 - EHR-QC - INFO - Parsing command line arguments\n",
      "2023-11-29 11:48:46,779 - EHR-QC - INFO - args.source_file: /home/yram0006/phd/chapter_2/workspace/MIMIC-EHR-Pipeline/data/sepsis_icd_cohort/imputed/labs_min_episode_date.csv\n",
      "2023-11-29 11:48:46,779 - EHR-QC - INFO - args.save_file: /home/yram0006/phd/chapter_2/workspace/MIMIC-EHR-Pipeline/data/sepsis_icd_cohort/cleaned/labs_min_episode_date.csv\n",
      "2023-11-29 11:48:46,779 - EHR-QC - INFO - args.action: clean\n",
      "2023-11-29 11:48:46,779 - EHR-QC - INFO - args.columns: ['Leukocytes in Blood by Manual count', 'Hematocrit of Blood by Automated count', 'MCHC by Automated count', 'MCH by Automated count', 'Erythrocyte distribution width by Automated count', 'MCV by Automated count', 'Erythrocytes in Blood by Automated count', 'Platelets in Blood by Automated count', 'Hemoglobin in Blood', 'Urea nitrogen in Serum or Plasma', 'Creatinine in Serum or Plasma', 'Potassium in Serum or Plasma', 'Chloride in Serum or Plasma', 'Bicarbonate in Serum or Plasma', 'Sodium in Serum or Plasma', 'Anion gap 4 in Serum or Plasma', 'Glucose in Serum or Plasma', 'Magnesium in Serum or Plasma', 'Calcium in Serum or Plasma', 'Phosphate in Serum or Plasma', 'Neutrophils in Urine by Automated count', 'Lymphocytes in Blood by Automated count', 'Basophils in Blood by Automated count', 'Eosinophils in Blood by Automated count', 'Monocytes in Blood by Automated count', 'Prothrombin time (PT)', 'INR in Platelet poor plasma by Coagulation assay', 'aPTT in Blood by Coagulation assay', 'Specific gravity of Urine by Test strip', 'pH of Urine by Test strip', 'Bilirubin.total in Serum or Plasma', 'Aspartate aminotransferase in Serum or Plasma', 'Alanine aminotransferase in Serum or Plasma', 'Alkaline phosphatase in Serum or Plasma', 'Albumin in Serum or Plasma']\n",
      "2023-11-29 11:48:47,308 - EHR-QC - INFO - Validating the input arguments.\n",
      "2023-11-29 11:48:47,317 - EHR-QC - INFO - Validating complete!!\n",
      "2023-11-29 11:48:47,317 - EHR-QC - INFO - Removing outliers\n"
     ]
    },
    {
     "name": "stderr",
     "output_type": "stream",
     "text": [
      "/superbugai-data/yash/chapter_2/workspace/EHR-QC-Preprocess/.venv/lib/python3.9/site-packages/sklearn/utils/validation.py:757: FutureWarning: is_sparse is deprecated and will be removed in a future version. Check `isinstance(dtype, pd.SparseDtype)` instead.\n",
      "  if not hasattr(array, \"sparse\") and array.dtypes.apply(is_sparse).any():\n",
      "/superbugai-data/yash/chapter_2/workspace/EHR-QC-Preprocess/.venv/lib/python3.9/site-packages/sklearn/utils/validation.py:595: FutureWarning: is_sparse is deprecated and will be removed in a future version. Check `isinstance(dtype, pd.SparseDtype)` instead.\n",
      "  if is_sparse(pd_dtype):\n",
      "/superbugai-data/yash/chapter_2/workspace/EHR-QC-Preprocess/.venv/lib/python3.9/site-packages/sklearn/utils/validation.py:604: FutureWarning: is_sparse is deprecated and will be removed in a future version. Check `isinstance(dtype, pd.SparseDtype)` instead.\n",
      "  if is_sparse(pd_dtype) or not is_extension_array_dtype(pd_dtype):\n",
      "/superbugai-data/yash/chapter_2/workspace/EHR-QC-Preprocess/.venv/lib/python3.9/site-packages/sklearn/base.py:450: UserWarning: X does not have valid feature names, but IsolationForest was fitted with feature names\n",
      "  warnings.warn(\n",
      "/superbugai-data/yash/chapter_2/workspace/EHR-QC-Preprocess/.venv/lib/python3.9/site-packages/sklearn/utils/validation.py:757: FutureWarning: is_sparse is deprecated and will be removed in a future version. Check `isinstance(dtype, pd.SparseDtype)` instead.\n",
      "  if not hasattr(array, \"sparse\") and array.dtypes.apply(is_sparse).any():\n",
      "/superbugai-data/yash/chapter_2/workspace/EHR-QC-Preprocess/.venv/lib/python3.9/site-packages/sklearn/utils/validation.py:595: FutureWarning: is_sparse is deprecated and will be removed in a future version. Check `isinstance(dtype, pd.SparseDtype)` instead.\n",
      "  if is_sparse(pd_dtype):\n",
      "/superbugai-data/yash/chapter_2/workspace/EHR-QC-Preprocess/.venv/lib/python3.9/site-packages/sklearn/utils/validation.py:604: FutureWarning: is_sparse is deprecated and will be removed in a future version. Check `isinstance(dtype, pd.SparseDtype)` instead.\n",
      "  if is_sparse(pd_dtype) or not is_extension_array_dtype(pd_dtype):\n",
      "/superbugai-data/yash/chapter_2/workspace/EHR-QC-Preprocess/ehrqc/plot/OutlierIsolationForest.py:88: SettingWithCopyWarning: \n",
      "A value is trying to be set on a copy of a slice from a DataFrame\n",
      "\n",
      "See the caveats in the documentation: https://pandas.pydata.org/pandas-docs/stable/user_guide/indexing.html#returning-a-view-versus-a-copy\n",
      "  correctedDf.drop(columns=['outlier_scores'], inplace=True)\n"
     ]
    },
    {
     "name": "stdout",
     "output_type": "stream",
     "text": [
      "2023-11-29 11:48:56,795 - EHR-QC - INFO - Saving the corrected file\n",
      "2023-11-29 11:48:59,598 - EHR-QC - INFO - Done!!\n"
     ]
    },
    {
     "data": {
      "text/plain": [
       "0"
      ]
     },
     "execution_count": 8,
     "metadata": {},
     "output_type": "execute_result"
    }
   ],
   "source": [
    "import os\n",
    "\n",
    "\n",
    "os.system(\n",
    "    'cd ' + os.environ['EHR_QC_PREPROCESS_BASE'] + ';'\n",
    "    +\n",
    "    '''.venv/bin/python -m ehrqc.plot.OutlierIsolationForest ''' + os.environ['MIMIC_EHR_PIPELINE_BASE'] + '''/data/sepsis_icd_cohort/imputed/labs_min_episode_date.csv ''' + os.environ['MIMIC_EHR_PIPELINE_BASE'] + '''/data/sepsis_icd_cohort/cleaned/labs_min_episode_date.csv clean -c \"Leukocytes in Blood by Manual count\" \"Hematocrit of Blood by Automated count\" \"MCHC by Automated count\" \"MCH by Automated count\" \"Erythrocyte distribution width by Automated count\" \"MCV by Automated count\" \"Erythrocytes in Blood by Automated count\" \"Platelets in Blood by Automated count\" \"Hemoglobin in Blood\" \"Urea nitrogen in Serum or Plasma\" \"Creatinine in Serum or Plasma\" \"Potassium in Serum or Plasma\" \"Chloride in Serum or Plasma\" \"Bicarbonate in Serum or Plasma\" \"Sodium in Serum or Plasma\" \"Anion gap 4 in Serum or Plasma\" \"Glucose in Serum or Plasma\" \"Magnesium in Serum or Plasma\" \"Calcium in Serum or Plasma\" \"Phosphate in Serum or Plasma\" \"Neutrophils in Urine by Automated count\" \"Lymphocytes in Blood by Automated count\" \"Basophils in Blood by Automated count\" \"Eosinophils in Blood by Automated count\" \"Monocytes in Blood by Automated count\" \"Prothrombin time (PT)\" \"INR in Platelet poor plasma by Coagulation assay\" \"aPTT in Blood by Coagulation assay\" \"Specific gravity of Urine by Test strip\" \"pH of Urine by Test strip\" \"Bilirubin.total in Serum or Plasma\" \"Aspartate aminotransferase in Serum or Plasma\" \"Alanine aminotransferase in Serum or Plasma\" \"Alkaline phosphatase in Serum or Plasma\" \"Albumin in Serum or Plasma\"'''\n",
    "    )\n"
   ]
  },
  {
   "cell_type": "markdown",
   "metadata": {},
   "source": [
    "### max"
   ]
  },
  {
   "cell_type": "code",
   "execution_count": 9,
   "metadata": {},
   "outputs": [
    {
     "name": "stdout",
     "output_type": "stream",
     "text": [
      "2023-11-29 11:49:09,068 - EHR-QC - INFO - Parsing command line arguments\n",
      "2023-11-29 11:49:09,070 - EHR-QC - INFO - args.source_file: /home/yram0006/phd/chapter_2/workspace/MIMIC-EHR-Pipeline/data/sepsis_icd_cohort/imputed/labs_max_episode_date.csv\n",
      "2023-11-29 11:49:09,070 - EHR-QC - INFO - args.save_file: /home/yram0006/phd/chapter_2/workspace/MIMIC-EHR-Pipeline/data/sepsis_icd_cohort/cleaned/labs_max_episode_date.csv\n",
      "2023-11-29 11:49:09,070 - EHR-QC - INFO - args.action: clean\n",
      "2023-11-29 11:49:09,070 - EHR-QC - INFO - args.columns: ['Leukocytes in Blood by Manual count', 'Hematocrit of Blood by Automated count', 'MCHC by Automated count', 'MCH by Automated count', 'Erythrocyte distribution width by Automated count', 'MCV by Automated count', 'Erythrocytes in Blood by Automated count', 'Platelets in Blood by Automated count', 'Hemoglobin in Blood', 'Urea nitrogen in Serum or Plasma', 'Creatinine in Serum or Plasma', 'Potassium in Serum or Plasma', 'Chloride in Serum or Plasma', 'Bicarbonate in Serum or Plasma', 'Sodium in Serum or Plasma', 'Anion gap 4 in Serum or Plasma', 'Glucose in Serum or Plasma', 'Magnesium in Serum or Plasma', 'Calcium in Serum or Plasma', 'Phosphate in Serum or Plasma', 'Neutrophils in Urine by Automated count', 'Lymphocytes in Blood by Automated count', 'Basophils in Blood by Automated count', 'Eosinophils in Blood by Automated count', 'Monocytes in Blood by Automated count', 'Prothrombin time (PT)', 'INR in Platelet poor plasma by Coagulation assay', 'aPTT in Blood by Coagulation assay', 'Specific gravity of Urine by Test strip', 'pH of Urine by Test strip', 'Bilirubin.total in Serum or Plasma', 'Aspartate aminotransferase in Serum or Plasma', 'Alanine aminotransferase in Serum or Plasma', 'Alkaline phosphatase in Serum or Plasma', 'Albumin in Serum or Plasma']\n",
      "2023-11-29 11:49:09,595 - EHR-QC - INFO - Validating the input arguments.\n",
      "2023-11-29 11:49:09,604 - EHR-QC - INFO - Validating complete!!\n",
      "2023-11-29 11:49:09,604 - EHR-QC - INFO - Removing outliers\n"
     ]
    },
    {
     "name": "stderr",
     "output_type": "stream",
     "text": [
      "/superbugai-data/yash/chapter_2/workspace/EHR-QC-Preprocess/.venv/lib/python3.9/site-packages/sklearn/utils/validation.py:757: FutureWarning: is_sparse is deprecated and will be removed in a future version. Check `isinstance(dtype, pd.SparseDtype)` instead.\n",
      "  if not hasattr(array, \"sparse\") and array.dtypes.apply(is_sparse).any():\n",
      "/superbugai-data/yash/chapter_2/workspace/EHR-QC-Preprocess/.venv/lib/python3.9/site-packages/sklearn/utils/validation.py:595: FutureWarning: is_sparse is deprecated and will be removed in a future version. Check `isinstance(dtype, pd.SparseDtype)` instead.\n",
      "  if is_sparse(pd_dtype):\n",
      "/superbugai-data/yash/chapter_2/workspace/EHR-QC-Preprocess/.venv/lib/python3.9/site-packages/sklearn/utils/validation.py:604: FutureWarning: is_sparse is deprecated and will be removed in a future version. Check `isinstance(dtype, pd.SparseDtype)` instead.\n",
      "  if is_sparse(pd_dtype) or not is_extension_array_dtype(pd_dtype):\n",
      "/superbugai-data/yash/chapter_2/workspace/EHR-QC-Preprocess/.venv/lib/python3.9/site-packages/sklearn/base.py:450: UserWarning: X does not have valid feature names, but IsolationForest was fitted with feature names\n",
      "  warnings.warn(\n",
      "/superbugai-data/yash/chapter_2/workspace/EHR-QC-Preprocess/.venv/lib/python3.9/site-packages/sklearn/utils/validation.py:757: FutureWarning: is_sparse is deprecated and will be removed in a future version. Check `isinstance(dtype, pd.SparseDtype)` instead.\n",
      "  if not hasattr(array, \"sparse\") and array.dtypes.apply(is_sparse).any():\n",
      "/superbugai-data/yash/chapter_2/workspace/EHR-QC-Preprocess/.venv/lib/python3.9/site-packages/sklearn/utils/validation.py:595: FutureWarning: is_sparse is deprecated and will be removed in a future version. Check `isinstance(dtype, pd.SparseDtype)` instead.\n",
      "  if is_sparse(pd_dtype):\n",
      "/superbugai-data/yash/chapter_2/workspace/EHR-QC-Preprocess/.venv/lib/python3.9/site-packages/sklearn/utils/validation.py:604: FutureWarning: is_sparse is deprecated and will be removed in a future version. Check `isinstance(dtype, pd.SparseDtype)` instead.\n",
      "  if is_sparse(pd_dtype) or not is_extension_array_dtype(pd_dtype):\n",
      "/superbugai-data/yash/chapter_2/workspace/EHR-QC-Preprocess/ehrqc/plot/OutlierIsolationForest.py:88: SettingWithCopyWarning: \n",
      "A value is trying to be set on a copy of a slice from a DataFrame\n",
      "\n",
      "See the caveats in the documentation: https://pandas.pydata.org/pandas-docs/stable/user_guide/indexing.html#returning-a-view-versus-a-copy\n",
      "  correctedDf.drop(columns=['outlier_scores'], inplace=True)\n"
     ]
    },
    {
     "name": "stdout",
     "output_type": "stream",
     "text": [
      "2023-11-29 11:49:19,162 - EHR-QC - INFO - Saving the corrected file\n",
      "2023-11-29 11:49:22,111 - EHR-QC - INFO - Done!!\n"
     ]
    },
    {
     "data": {
      "text/plain": [
       "0"
      ]
     },
     "execution_count": 9,
     "metadata": {},
     "output_type": "execute_result"
    }
   ],
   "source": [
    "import os\n",
    "\n",
    "\n",
    "os.system(\n",
    "    'cd ' + os.environ['EHR_QC_PREPROCESS_BASE'] + ';'\n",
    "    +\n",
    "    '''.venv/bin/python -m ehrqc.plot.OutlierIsolationForest ''' + os.environ['MIMIC_EHR_PIPELINE_BASE'] + '''/data/sepsis_icd_cohort/imputed/labs_max_episode_date.csv ''' + os.environ['MIMIC_EHR_PIPELINE_BASE'] + '''/data/sepsis_icd_cohort/cleaned/labs_max_episode_date.csv clean -c \"Leukocytes in Blood by Manual count\" \"Hematocrit of Blood by Automated count\" \"MCHC by Automated count\" \"MCH by Automated count\" \"Erythrocyte distribution width by Automated count\" \"MCV by Automated count\" \"Erythrocytes in Blood by Automated count\" \"Platelets in Blood by Automated count\" \"Hemoglobin in Blood\" \"Urea nitrogen in Serum or Plasma\" \"Creatinine in Serum or Plasma\" \"Potassium in Serum or Plasma\" \"Chloride in Serum or Plasma\" \"Bicarbonate in Serum or Plasma\" \"Sodium in Serum or Plasma\" \"Anion gap 4 in Serum or Plasma\" \"Glucose in Serum or Plasma\" \"Magnesium in Serum or Plasma\" \"Calcium in Serum or Plasma\" \"Phosphate in Serum or Plasma\" \"Neutrophils in Urine by Automated count\" \"Lymphocytes in Blood by Automated count\" \"Basophils in Blood by Automated count\" \"Eosinophils in Blood by Automated count\" \"Monocytes in Blood by Automated count\" \"Prothrombin time (PT)\" \"INR in Platelet poor plasma by Coagulation assay\" \"aPTT in Blood by Coagulation assay\" \"Specific gravity of Urine by Test strip\" \"pH of Urine by Test strip\" \"Bilirubin.total in Serum or Plasma\" \"Aspartate aminotransferase in Serum or Plasma\" \"Alanine aminotransferase in Serum or Plasma\" \"Alkaline phosphatase in Serum or Plasma\" \"Albumin in Serum or Plasma\"'''\n",
    "    )\n"
   ]
  },
  {
   "cell_type": "markdown",
   "metadata": {},
   "source": [
    "### first"
   ]
  },
  {
   "cell_type": "code",
   "execution_count": 10,
   "metadata": {},
   "outputs": [
    {
     "name": "stdout",
     "output_type": "stream",
     "text": [
      "2023-11-29 11:49:37,413 - EHR-QC - INFO - Parsing command line arguments\n",
      "2023-11-29 11:49:37,415 - EHR-QC - INFO - args.source_file: /home/yram0006/phd/chapter_2/workspace/MIMIC-EHR-Pipeline/data/sepsis_icd_cohort/imputed/labs_first_episode_date.csv\n",
      "2023-11-29 11:49:37,415 - EHR-QC - INFO - args.save_file: /home/yram0006/phd/chapter_2/workspace/MIMIC-EHR-Pipeline/data/sepsis_icd_cohort/cleaned/labs_first_episode_date.csv\n",
      "2023-11-29 11:49:37,415 - EHR-QC - INFO - args.action: clean\n",
      "2023-11-29 11:49:37,415 - EHR-QC - INFO - args.columns: ['Leukocytes in Blood by Manual count', 'Hematocrit of Blood by Automated count', 'MCHC by Automated count', 'MCH by Automated count', 'Erythrocyte distribution width by Automated count', 'MCV by Automated count', 'Erythrocytes in Blood by Automated count', 'Platelets in Blood by Automated count', 'Hemoglobin in Blood', 'Urea nitrogen in Serum or Plasma', 'Creatinine in Serum or Plasma', 'Potassium in Serum or Plasma', 'Chloride in Serum or Plasma', 'Bicarbonate in Serum or Plasma', 'Sodium in Serum or Plasma', 'Anion gap 4 in Serum or Plasma', 'Glucose in Serum or Plasma', 'Magnesium in Serum or Plasma', 'Calcium in Serum or Plasma', 'Phosphate in Serum or Plasma', 'Neutrophils in Urine by Automated count', 'Lymphocytes in Blood by Automated count', 'Basophils in Blood by Automated count', 'Eosinophils in Blood by Automated count', 'Monocytes in Blood by Automated count', 'Prothrombin time (PT)', 'INR in Platelet poor plasma by Coagulation assay', 'aPTT in Blood by Coagulation assay', 'Specific gravity of Urine by Test strip', 'pH of Urine by Test strip', 'Bilirubin.total in Serum or Plasma', 'Aspartate aminotransferase in Serum or Plasma', 'Alanine aminotransferase in Serum or Plasma', 'Alkaline phosphatase in Serum or Plasma', 'Albumin in Serum or Plasma']\n",
      "2023-11-29 11:49:37,909 - EHR-QC - INFO - Validating the input arguments.\n",
      "2023-11-29 11:49:37,917 - EHR-QC - INFO - Validating complete!!\n",
      "2023-11-29 11:49:37,918 - EHR-QC - INFO - Removing outliers\n"
     ]
    },
    {
     "name": "stderr",
     "output_type": "stream",
     "text": [
      "/superbugai-data/yash/chapter_2/workspace/EHR-QC-Preprocess/.venv/lib/python3.9/site-packages/sklearn/utils/validation.py:757: FutureWarning: is_sparse is deprecated and will be removed in a future version. Check `isinstance(dtype, pd.SparseDtype)` instead.\n",
      "  if not hasattr(array, \"sparse\") and array.dtypes.apply(is_sparse).any():\n",
      "/superbugai-data/yash/chapter_2/workspace/EHR-QC-Preprocess/.venv/lib/python3.9/site-packages/sklearn/utils/validation.py:595: FutureWarning: is_sparse is deprecated and will be removed in a future version. Check `isinstance(dtype, pd.SparseDtype)` instead.\n",
      "  if is_sparse(pd_dtype):\n",
      "/superbugai-data/yash/chapter_2/workspace/EHR-QC-Preprocess/.venv/lib/python3.9/site-packages/sklearn/utils/validation.py:604: FutureWarning: is_sparse is deprecated and will be removed in a future version. Check `isinstance(dtype, pd.SparseDtype)` instead.\n",
      "  if is_sparse(pd_dtype) or not is_extension_array_dtype(pd_dtype):\n",
      "/superbugai-data/yash/chapter_2/workspace/EHR-QC-Preprocess/.venv/lib/python3.9/site-packages/sklearn/base.py:450: UserWarning: X does not have valid feature names, but IsolationForest was fitted with feature names\n",
      "  warnings.warn(\n",
      "/superbugai-data/yash/chapter_2/workspace/EHR-QC-Preprocess/.venv/lib/python3.9/site-packages/sklearn/utils/validation.py:757: FutureWarning: is_sparse is deprecated and will be removed in a future version. Check `isinstance(dtype, pd.SparseDtype)` instead.\n",
      "  if not hasattr(array, \"sparse\") and array.dtypes.apply(is_sparse).any():\n",
      "/superbugai-data/yash/chapter_2/workspace/EHR-QC-Preprocess/.venv/lib/python3.9/site-packages/sklearn/utils/validation.py:595: FutureWarning: is_sparse is deprecated and will be removed in a future version. Check `isinstance(dtype, pd.SparseDtype)` instead.\n",
      "  if is_sparse(pd_dtype):\n",
      "/superbugai-data/yash/chapter_2/workspace/EHR-QC-Preprocess/.venv/lib/python3.9/site-packages/sklearn/utils/validation.py:604: FutureWarning: is_sparse is deprecated and will be removed in a future version. Check `isinstance(dtype, pd.SparseDtype)` instead.\n",
      "  if is_sparse(pd_dtype) or not is_extension_array_dtype(pd_dtype):\n",
      "/superbugai-data/yash/chapter_2/workspace/EHR-QC-Preprocess/ehrqc/plot/OutlierIsolationForest.py:88: SettingWithCopyWarning: \n",
      "A value is trying to be set on a copy of a slice from a DataFrame\n",
      "\n",
      "See the caveats in the documentation: https://pandas.pydata.org/pandas-docs/stable/user_guide/indexing.html#returning-a-view-versus-a-copy\n",
      "  correctedDf.drop(columns=['outlier_scores'], inplace=True)\n"
     ]
    },
    {
     "name": "stdout",
     "output_type": "stream",
     "text": [
      "2023-11-29 11:49:47,618 - EHR-QC - INFO - Saving the corrected file\n",
      "2023-11-29 11:49:50,311 - EHR-QC - INFO - Done!!\n"
     ]
    },
    {
     "data": {
      "text/plain": [
       "0"
      ]
     },
     "execution_count": 10,
     "metadata": {},
     "output_type": "execute_result"
    }
   ],
   "source": [
    "import os\n",
    "\n",
    "\n",
    "os.system(\n",
    "    'cd ' + os.environ['EHR_QC_PREPROCESS_BASE'] + ';'\n",
    "    +\n",
    "    '''.venv/bin/python -m ehrqc.plot.OutlierIsolationForest ''' + os.environ['MIMIC_EHR_PIPELINE_BASE'] + '''/data/sepsis_icd_cohort/imputed/labs_first_episode_date.csv ''' + os.environ['MIMIC_EHR_PIPELINE_BASE'] + '''/data/sepsis_icd_cohort/cleaned/labs_first_episode_date.csv clean -c \"Leukocytes in Blood by Manual count\" \"Hematocrit of Blood by Automated count\" \"MCHC by Automated count\" \"MCH by Automated count\" \"Erythrocyte distribution width by Automated count\" \"MCV by Automated count\" \"Erythrocytes in Blood by Automated count\" \"Platelets in Blood by Automated count\" \"Hemoglobin in Blood\" \"Urea nitrogen in Serum or Plasma\" \"Creatinine in Serum or Plasma\" \"Potassium in Serum or Plasma\" \"Chloride in Serum or Plasma\" \"Bicarbonate in Serum or Plasma\" \"Sodium in Serum or Plasma\" \"Anion gap 4 in Serum or Plasma\" \"Glucose in Serum or Plasma\" \"Magnesium in Serum or Plasma\" \"Calcium in Serum or Plasma\" \"Phosphate in Serum or Plasma\" \"Neutrophils in Urine by Automated count\" \"Lymphocytes in Blood by Automated count\" \"Basophils in Blood by Automated count\" \"Eosinophils in Blood by Automated count\" \"Monocytes in Blood by Automated count\" \"Prothrombin time (PT)\" \"INR in Platelet poor plasma by Coagulation assay\" \"aPTT in Blood by Coagulation assay\" \"Specific gravity of Urine by Test strip\" \"pH of Urine by Test strip\" \"Bilirubin.total in Serum or Plasma\" \"Aspartate aminotransferase in Serum or Plasma\" \"Alanine aminotransferase in Serum or Plasma\" \"Alkaline phosphatase in Serum or Plasma\" \"Albumin in Serum or Plasma\"'''\n",
    "    )\n"
   ]
  },
  {
   "cell_type": "markdown",
   "metadata": {},
   "source": [
    "### last"
   ]
  },
  {
   "cell_type": "code",
   "execution_count": 11,
   "metadata": {},
   "outputs": [
    {
     "name": "stdout",
     "output_type": "stream",
     "text": [
      "2023-11-29 11:49:58,572 - EHR-QC - INFO - Parsing command line arguments\n",
      "2023-11-29 11:49:58,574 - EHR-QC - INFO - args.source_file: /home/yram0006/phd/chapter_2/workspace/MIMIC-EHR-Pipeline/data/sepsis_icd_cohort/imputed/labs_last_episode_date.csv\n",
      "2023-11-29 11:49:58,574 - EHR-QC - INFO - args.save_file: /home/yram0006/phd/chapter_2/workspace/MIMIC-EHR-Pipeline/data/sepsis_icd_cohort/cleaned/labs_last_episode_date.csv\n",
      "2023-11-29 11:49:58,574 - EHR-QC - INFO - args.action: clean\n",
      "2023-11-29 11:49:58,574 - EHR-QC - INFO - args.columns: ['Leukocytes in Blood by Manual count', 'Hematocrit of Blood by Automated count', 'MCHC by Automated count', 'MCH by Automated count', 'Erythrocyte distribution width by Automated count', 'MCV by Automated count', 'Erythrocytes in Blood by Automated count', 'Platelets in Blood by Automated count', 'Hemoglobin in Blood', 'Urea nitrogen in Serum or Plasma', 'Creatinine in Serum or Plasma', 'Potassium in Serum or Plasma', 'Chloride in Serum or Plasma', 'Bicarbonate in Serum or Plasma', 'Sodium in Serum or Plasma', 'Anion gap 4 in Serum or Plasma', 'Glucose in Serum or Plasma', 'Magnesium in Serum or Plasma', 'Calcium in Serum or Plasma', 'Phosphate in Serum or Plasma', 'Neutrophils in Urine by Automated count', 'Lymphocytes in Blood by Automated count', 'Basophils in Blood by Automated count', 'Eosinophils in Blood by Automated count', 'Monocytes in Blood by Automated count', 'Prothrombin time (PT)', 'INR in Platelet poor plasma by Coagulation assay', 'aPTT in Blood by Coagulation assay', 'Specific gravity of Urine by Test strip', 'pH of Urine by Test strip', 'Bilirubin.total in Serum or Plasma', 'Aspartate aminotransferase in Serum or Plasma', 'Alanine aminotransferase in Serum or Plasma', 'Alkaline phosphatase in Serum or Plasma', 'Albumin in Serum or Plasma']\n",
      "2023-11-29 11:49:59,061 - EHR-QC - INFO - Validating the input arguments.\n",
      "2023-11-29 11:49:59,070 - EHR-QC - INFO - Validating complete!!\n",
      "2023-11-29 11:49:59,070 - EHR-QC - INFO - Removing outliers\n"
     ]
    },
    {
     "name": "stderr",
     "output_type": "stream",
     "text": [
      "/superbugai-data/yash/chapter_2/workspace/EHR-QC-Preprocess/.venv/lib/python3.9/site-packages/sklearn/utils/validation.py:757: FutureWarning: is_sparse is deprecated and will be removed in a future version. Check `isinstance(dtype, pd.SparseDtype)` instead.\n",
      "  if not hasattr(array, \"sparse\") and array.dtypes.apply(is_sparse).any():\n",
      "/superbugai-data/yash/chapter_2/workspace/EHR-QC-Preprocess/.venv/lib/python3.9/site-packages/sklearn/utils/validation.py:595: FutureWarning: is_sparse is deprecated and will be removed in a future version. Check `isinstance(dtype, pd.SparseDtype)` instead.\n",
      "  if is_sparse(pd_dtype):\n",
      "/superbugai-data/yash/chapter_2/workspace/EHR-QC-Preprocess/.venv/lib/python3.9/site-packages/sklearn/utils/validation.py:604: FutureWarning: is_sparse is deprecated and will be removed in a future version. Check `isinstance(dtype, pd.SparseDtype)` instead.\n",
      "  if is_sparse(pd_dtype) or not is_extension_array_dtype(pd_dtype):\n",
      "/superbugai-data/yash/chapter_2/workspace/EHR-QC-Preprocess/.venv/lib/python3.9/site-packages/sklearn/base.py:450: UserWarning: X does not have valid feature names, but IsolationForest was fitted with feature names\n",
      "  warnings.warn(\n",
      "/superbugai-data/yash/chapter_2/workspace/EHR-QC-Preprocess/.venv/lib/python3.9/site-packages/sklearn/utils/validation.py:757: FutureWarning: is_sparse is deprecated and will be removed in a future version. Check `isinstance(dtype, pd.SparseDtype)` instead.\n",
      "  if not hasattr(array, \"sparse\") and array.dtypes.apply(is_sparse).any():\n",
      "/superbugai-data/yash/chapter_2/workspace/EHR-QC-Preprocess/.venv/lib/python3.9/site-packages/sklearn/utils/validation.py:595: FutureWarning: is_sparse is deprecated and will be removed in a future version. Check `isinstance(dtype, pd.SparseDtype)` instead.\n",
      "  if is_sparse(pd_dtype):\n",
      "/superbugai-data/yash/chapter_2/workspace/EHR-QC-Preprocess/.venv/lib/python3.9/site-packages/sklearn/utils/validation.py:604: FutureWarning: is_sparse is deprecated and will be removed in a future version. Check `isinstance(dtype, pd.SparseDtype)` instead.\n",
      "  if is_sparse(pd_dtype) or not is_extension_array_dtype(pd_dtype):\n",
      "/superbugai-data/yash/chapter_2/workspace/EHR-QC-Preprocess/ehrqc/plot/OutlierIsolationForest.py:88: SettingWithCopyWarning: \n",
      "A value is trying to be set on a copy of a slice from a DataFrame\n",
      "\n",
      "See the caveats in the documentation: https://pandas.pydata.org/pandas-docs/stable/user_guide/indexing.html#returning-a-view-versus-a-copy\n",
      "  correctedDf.drop(columns=['outlier_scores'], inplace=True)\n"
     ]
    },
    {
     "name": "stdout",
     "output_type": "stream",
     "text": [
      "2023-11-29 11:50:08,700 - EHR-QC - INFO - Saving the corrected file\n",
      "2023-11-29 11:50:11,421 - EHR-QC - INFO - Done!!\n"
     ]
    },
    {
     "data": {
      "text/plain": [
       "0"
      ]
     },
     "execution_count": 11,
     "metadata": {},
     "output_type": "execute_result"
    }
   ],
   "source": [
    "import os\n",
    "\n",
    "\n",
    "os.system(\n",
    "    'cd ' + os.environ['EHR_QC_PREPROCESS_BASE'] + ';'\n",
    "    +\n",
    "    '''.venv/bin/python -m ehrqc.plot.OutlierIsolationForest ''' + os.environ['MIMIC_EHR_PIPELINE_BASE'] + '''/data/sepsis_icd_cohort/imputed/labs_last_episode_date.csv ''' + os.environ['MIMIC_EHR_PIPELINE_BASE'] + '''/data/sepsis_icd_cohort/cleaned/labs_last_episode_date.csv clean -c \"Leukocytes in Blood by Manual count\" \"Hematocrit of Blood by Automated count\" \"MCHC by Automated count\" \"MCH by Automated count\" \"Erythrocyte distribution width by Automated count\" \"MCV by Automated count\" \"Erythrocytes in Blood by Automated count\" \"Platelets in Blood by Automated count\" \"Hemoglobin in Blood\" \"Urea nitrogen in Serum or Plasma\" \"Creatinine in Serum or Plasma\" \"Potassium in Serum or Plasma\" \"Chloride in Serum or Plasma\" \"Bicarbonate in Serum or Plasma\" \"Sodium in Serum or Plasma\" \"Anion gap 4 in Serum or Plasma\" \"Glucose in Serum or Plasma\" \"Magnesium in Serum or Plasma\" \"Calcium in Serum or Plasma\" \"Phosphate in Serum or Plasma\" \"Neutrophils in Urine by Automated count\" \"Lymphocytes in Blood by Automated count\" \"Basophils in Blood by Automated count\" \"Eosinophils in Blood by Automated count\" \"Monocytes in Blood by Automated count\" \"Prothrombin time (PT)\" \"INR in Platelet poor plasma by Coagulation assay\" \"aPTT in Blood by Coagulation assay\" \"Specific gravity of Urine by Test strip\" \"pH of Urine by Test strip\" \"Bilirubin.total in Serum or Plasma\" \"Aspartate aminotransferase in Serum or Plasma\" \"Alanine aminotransferase in Serum or Plasma\" \"Alkaline phosphatase in Serum or Plasma\" \"Albumin in Serum or Plasma\"'''\n",
    "    )\n"
   ]
  }
 ],
 "metadata": {
  "kernelspec": {
   "display_name": ".venv",
   "language": "python",
   "name": "python3"
  },
  "language_info": {
   "codemirror_mode": {
    "name": "ipython",
    "version": 3
   },
   "file_extension": ".py",
   "mimetype": "text/x-python",
   "name": "python",
   "nbconvert_exporter": "python",
   "pygments_lexer": "ipython3",
   "version": "3.8.10"
  }
 },
 "nbformat": 4,
 "nbformat_minor": 2
}
