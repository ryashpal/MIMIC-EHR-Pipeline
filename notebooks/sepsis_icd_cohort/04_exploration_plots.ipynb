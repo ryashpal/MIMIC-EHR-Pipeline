{
 "cells": [
  {
   "cell_type": "markdown",
   "metadata": {},
   "source": [
    "# Data Exploration Plots after extracting the data"
   ]
  },
  {
   "cell_type": "markdown",
   "metadata": {},
   "source": [
    "## Vitals"
   ]
  },
  {
   "cell_type": "markdown",
   "metadata": {},
   "source": [
    "### avg"
   ]
  },
  {
   "cell_type": "code",
   "execution_count": 11,
   "metadata": {},
   "outputs": [
    {
     "name": "stdout",
     "output_type": "stream",
     "text": [
      "2023-11-29 00:11:37,585 - EHR-QC - INFO - Parsing command line arguments\n",
      "2023-11-29 00:11:37,586 - EHR-QC - INFO - args.source_path: /home/yram0006/phd/chapter_2/workspace/MIMIC-EHR-Pipeline/data/sepsis_icd_cohort/extracts/vitals_avg_episode_date.csv\n",
      "2023-11-29 00:11:37,586 - EHR-QC - INFO - args.save_path: /home/yram0006/phd/chapter_2/workspace/MIMIC-EHR-Pipeline/data/sepsis_icd_cohort/plots/explore/vitals_avg.html\n",
      "2023-11-29 00:11:37,586 - EHR-QC - INFO - args.columns_list: ['Respiratory rate', 'Heart rate', 'Body weight', 'Oxygen saturation in Arterial blood by Pulse oximetry', 'Glasgow coma score eye opening', 'Glasgow coma score verbal', 'Glasgow coma score motor', 'Physical mobility Braden scale', 'Nutrition intake pattern Braden scale', 'Sensory perception Braden scale', 'Physical activity Braden scale', 'Moisture exposure Braden scale', 'Friction and shear Braden scale', 'Mean blood pressure', 'Systolic blood pressure', 'Diastolic blood pressure', 'Body temperature']\n",
      "2023-11-29 00:11:37,718 - EHR-QC - INFO - Generating the exploration report\n",
      "2023-11-29 00:11:37,718 - EHR-QC - INFO - Columns: Respiratory rate\n",
      "2023-11-29 00:11:38,313 - EHR-QC - INFO - Columns: Heart rate\n",
      "2023-11-29 00:11:38,655 - EHR-QC - INFO - Columns: Body weight\n",
      "2023-11-29 00:11:38,893 - EHR-QC - INFO - Columns: Oxygen saturation in Arterial blood by Pulse oximetry\n",
      "2023-11-29 00:11:39,257 - EHR-QC - INFO - Columns: Glasgow coma score eye opening\n",
      "2023-11-29 00:11:39,556 - EHR-QC - INFO - Columns: Glasgow coma score verbal\n",
      "2023-11-29 00:11:39,840 - EHR-QC - INFO - Columns: Glasgow coma score motor\n",
      "2023-11-29 00:11:40,135 - EHR-QC - INFO - Columns: Physical mobility Braden scale\n",
      "2023-11-29 00:11:40,437 - EHR-QC - INFO - Columns: Nutrition intake pattern Braden scale\n",
      "2023-11-29 00:11:40,750 - EHR-QC - INFO - Columns: Sensory perception Braden scale\n",
      "2023-11-29 00:11:41,048 - EHR-QC - INFO - Columns: Physical activity Braden scale\n",
      "2023-11-29 00:11:41,389 - EHR-QC - INFO - Columns: Moisture exposure Braden scale\n",
      "2023-11-29 00:11:41,710 - EHR-QC - INFO - Columns: Friction and shear Braden scale\n",
      "2023-11-29 00:11:42,027 - EHR-QC - INFO - Columns: Mean blood pressure\n",
      "2023-11-29 00:11:42,412 - EHR-QC - INFO - Columns: Systolic blood pressure\n",
      "2023-11-29 00:11:42,779 - EHR-QC - INFO - Columns: Diastolic blood pressure\n",
      "2023-11-29 00:11:43,222 - EHR-QC - INFO - Columns: Body temperature\n",
      "2023-11-29 00:11:43,587 - EHR-QC - INFO - Saving the exploration report!!\n",
      "2023-11-29 00:11:43,589 - EHR-QC - INFO - Done!!\n"
     ]
    },
    {
     "data": {
      "text/plain": [
       "0"
      ]
     },
     "execution_count": 11,
     "metadata": {},
     "output_type": "execute_result"
    }
   ],
   "source": [
    "import os\n",
    "\n",
    "\n",
    "os.system(\n",
    "    'cd ' + os.environ['EHR_QC_PREPROCESS_BASE'] + ';'\n",
    "    +\n",
    "    '''.venv/bin/python -m ehrqc.plot.ExplorationGraphs ''' + os.environ['MIMIC_EHR_PIPELINE_BASE'] + '''/data/sepsis_icd_cohort/extracts/vitals_avg_episode_date.csv ''' + os.environ['MIMIC_EHR_PIPELINE_BASE'] + '''/data/sepsis_icd_cohort/plots/explore/vitals_avg.html -c \"Respiratory rate\" \"Heart rate\" \"Body weight\" \"Oxygen saturation in Arterial blood by Pulse oximetry\" \"Glasgow coma score eye opening\" \"Glasgow coma score verbal\" \"Glasgow coma score motor\" \"Physical mobility Braden scale\" \"Nutrition intake pattern Braden scale\" \"Sensory perception Braden scale\" \"Physical activity Braden scale\" \"Moisture exposure Braden scale\" \"Friction and shear Braden scale\" \"Mean blood pressure\" \"Systolic blood pressure\" \"Diastolic blood pressure\" \"Body temperature\"'''\n",
    "    )\n"
   ]
  },
  {
   "cell_type": "markdown",
   "metadata": {},
   "source": [
    "### min"
   ]
  },
  {
   "cell_type": "code",
   "execution_count": 12,
   "metadata": {},
   "outputs": [
    {
     "name": "stdout",
     "output_type": "stream",
     "text": [
      "2023-11-29 00:14:39,091 - EHR-QC - INFO - Parsing command line arguments\n",
      "2023-11-29 00:14:39,093 - EHR-QC - INFO - args.source_path: /home/yram0006/phd/chapter_2/workspace/MIMIC-EHR-Pipeline/data/sepsis_icd_cohort/extracts/vitals_min_episode_date.csv\n",
      "2023-11-29 00:14:39,093 - EHR-QC - INFO - args.save_path: /home/yram0006/phd/chapter_2/workspace/MIMIC-EHR-Pipeline/data/sepsis_icd_cohort/plots/explore/vitals_min.html\n",
      "2023-11-29 00:14:39,093 - EHR-QC - INFO - args.columns_list: ['Respiratory rate', 'Heart rate', 'Body weight', 'Oxygen saturation in Arterial blood by Pulse oximetry', 'Glasgow coma score eye opening', 'Glasgow coma score verbal', 'Glasgow coma score motor', 'Physical mobility Braden scale', 'Nutrition intake pattern Braden scale', 'Sensory perception Braden scale', 'Physical activity Braden scale', 'Moisture exposure Braden scale', 'Friction and shear Braden scale', 'Mean blood pressure', 'Systolic blood pressure', 'Diastolic blood pressure', 'Body temperature']\n",
      "2023-11-29 00:14:39,229 - EHR-QC - INFO - Generating the exploration report\n",
      "2023-11-29 00:14:39,230 - EHR-QC - INFO - Columns: Respiratory rate\n",
      "2023-11-29 00:14:39,834 - EHR-QC - INFO - Columns: Heart rate\n",
      "2023-11-29 00:14:40,186 - EHR-QC - INFO - Columns: Body weight\n",
      "2023-11-29 00:14:40,428 - EHR-QC - INFO - Columns: Oxygen saturation in Arterial blood by Pulse oximetry\n",
      "2023-11-29 00:14:40,798 - EHR-QC - INFO - Columns: Glasgow coma score eye opening\n",
      "2023-11-29 00:14:41,103 - EHR-QC - INFO - Columns: Glasgow coma score verbal\n",
      "2023-11-29 00:14:41,399 - EHR-QC - INFO - Columns: Glasgow coma score motor\n",
      "2023-11-29 00:14:41,699 - EHR-QC - INFO - Columns: Physical mobility Braden scale\n",
      "2023-11-29 00:14:42,003 - EHR-QC - INFO - Columns: Nutrition intake pattern Braden scale\n",
      "2023-11-29 00:14:42,322 - EHR-QC - INFO - Columns: Sensory perception Braden scale\n",
      "2023-11-29 00:14:42,620 - EHR-QC - INFO - Columns: Physical activity Braden scale\n",
      "2023-11-29 00:14:42,956 - EHR-QC - INFO - Columns: Moisture exposure Braden scale\n",
      "2023-11-29 00:14:43,268 - EHR-QC - INFO - Columns: Friction and shear Braden scale\n",
      "2023-11-29 00:14:43,563 - EHR-QC - INFO - Columns: Mean blood pressure\n",
      "2023-11-29 00:14:43,931 - EHR-QC - INFO - Columns: Systolic blood pressure\n",
      "2023-11-29 00:14:44,289 - EHR-QC - INFO - Columns: Diastolic blood pressure\n",
      "2023-11-29 00:14:44,720 - EHR-QC - INFO - Columns: Body temperature\n",
      "2023-11-29 00:14:45,071 - EHR-QC - INFO - Saving the exploration report!!\n",
      "2023-11-29 00:14:45,074 - EHR-QC - INFO - Done!!\n"
     ]
    },
    {
     "data": {
      "text/plain": [
       "0"
      ]
     },
     "execution_count": 12,
     "metadata": {},
     "output_type": "execute_result"
    }
   ],
   "source": [
    "import os\n",
    "\n",
    "\n",
    "os.system(\n",
    "    'cd ' + os.environ['EHR_QC_PREPROCESS_BASE'] + ';'\n",
    "    +\n",
    "    '''.venv/bin/python -m ehrqc.plot.ExplorationGraphs ''' + os.environ['MIMIC_EHR_PIPELINE_BASE'] + '''/data/sepsis_icd_cohort/extracts/vitals_min_episode_date.csv ''' + os.environ['MIMIC_EHR_PIPELINE_BASE'] + '''/data/sepsis_icd_cohort/plots/explore/vitals_min.html -c \"Respiratory rate\" \"Heart rate\" \"Body weight\" \"Oxygen saturation in Arterial blood by Pulse oximetry\" \"Glasgow coma score eye opening\" \"Glasgow coma score verbal\" \"Glasgow coma score motor\" \"Physical mobility Braden scale\" \"Nutrition intake pattern Braden scale\" \"Sensory perception Braden scale\" \"Physical activity Braden scale\" \"Moisture exposure Braden scale\" \"Friction and shear Braden scale\" \"Mean blood pressure\" \"Systolic blood pressure\" \"Diastolic blood pressure\" \"Body temperature\"'''\n",
    "    )\n"
   ]
  },
  {
   "cell_type": "markdown",
   "metadata": {},
   "source": [
    "### max"
   ]
  },
  {
   "cell_type": "code",
   "execution_count": 13,
   "metadata": {},
   "outputs": [
    {
     "name": "stdout",
     "output_type": "stream",
     "text": [
      "2023-11-29 00:15:03,713 - EHR-QC - INFO - Parsing command line arguments\n",
      "2023-11-29 00:15:03,714 - EHR-QC - INFO - args.source_path: /home/yram0006/phd/chapter_2/workspace/MIMIC-EHR-Pipeline/data/sepsis_icd_cohort/extracts/vitals_max_episode_date.csv\n",
      "2023-11-29 00:15:03,714 - EHR-QC - INFO - args.save_path: /home/yram0006/phd/chapter_2/workspace/MIMIC-EHR-Pipeline/data/sepsis_icd_cohort/plots/explore/vitals_max.html\n",
      "2023-11-29 00:15:03,714 - EHR-QC - INFO - args.columns_list: ['Respiratory rate', 'Heart rate', 'Body weight', 'Oxygen saturation in Arterial blood by Pulse oximetry', 'Glasgow coma score eye opening', 'Glasgow coma score verbal', 'Glasgow coma score motor', 'Physical mobility Braden scale', 'Nutrition intake pattern Braden scale', 'Sensory perception Braden scale', 'Physical activity Braden scale', 'Moisture exposure Braden scale', 'Friction and shear Braden scale', 'Mean blood pressure', 'Systolic blood pressure', 'Diastolic blood pressure', 'Body temperature']\n",
      "2023-11-29 00:15:03,848 - EHR-QC - INFO - Generating the exploration report\n",
      "2023-11-29 00:15:03,848 - EHR-QC - INFO - Columns: Respiratory rate\n",
      "2023-11-29 00:15:04,533 - EHR-QC - INFO - Columns: Heart rate\n",
      "2023-11-29 00:15:04,939 - EHR-QC - INFO - Columns: Body weight\n",
      "2023-11-29 00:15:05,174 - EHR-QC - INFO - Columns: Oxygen saturation in Arterial blood by Pulse oximetry\n",
      "2023-11-29 00:15:05,530 - EHR-QC - INFO - Columns: Glasgow coma score eye opening\n",
      "2023-11-29 00:15:05,828 - EHR-QC - INFO - Columns: Glasgow coma score verbal\n",
      "2023-11-29 00:15:06,114 - EHR-QC - INFO - Columns: Glasgow coma score motor\n",
      "2023-11-29 00:15:06,408 - EHR-QC - INFO - Columns: Physical mobility Braden scale\n",
      "2023-11-29 00:15:06,707 - EHR-QC - INFO - Columns: Nutrition intake pattern Braden scale\n",
      "2023-11-29 00:15:07,015 - EHR-QC - INFO - Columns: Sensory perception Braden scale\n",
      "2023-11-29 00:15:07,313 - EHR-QC - INFO - Columns: Physical activity Braden scale\n",
      "2023-11-29 00:15:07,657 - EHR-QC - INFO - Columns: Moisture exposure Braden scale\n",
      "2023-11-29 00:15:07,969 - EHR-QC - INFO - Columns: Friction and shear Braden scale\n",
      "2023-11-29 00:15:08,262 - EHR-QC - INFO - Columns: Mean blood pressure\n",
      "2023-11-29 00:15:08,625 - EHR-QC - INFO - Columns: Systolic blood pressure\n",
      "2023-11-29 00:15:08,986 - EHR-QC - INFO - Columns: Diastolic blood pressure\n",
      "2023-11-29 00:15:09,409 - EHR-QC - INFO - Columns: Body temperature\n",
      "2023-11-29 00:15:09,752 - EHR-QC - INFO - Saving the exploration report!!\n",
      "2023-11-29 00:15:09,754 - EHR-QC - INFO - Done!!\n"
     ]
    },
    {
     "data": {
      "text/plain": [
       "0"
      ]
     },
     "execution_count": 13,
     "metadata": {},
     "output_type": "execute_result"
    }
   ],
   "source": [
    "import os\n",
    "\n",
    "\n",
    "os.system(\n",
    "    'cd ' + os.environ['EHR_QC_PREPROCESS_BASE'] + ';'\n",
    "    +\n",
    "    '''.venv/bin/python -m ehrqc.plot.ExplorationGraphs ''' + os.environ['MIMIC_EHR_PIPELINE_BASE'] + '''/data/sepsis_icd_cohort/extracts/vitals_max_episode_date.csv ''' + os.environ['MIMIC_EHR_PIPELINE_BASE'] + '''/data/sepsis_icd_cohort/plots/explore/vitals_max.html -c \"Respiratory rate\" \"Heart rate\" \"Body weight\" \"Oxygen saturation in Arterial blood by Pulse oximetry\" \"Glasgow coma score eye opening\" \"Glasgow coma score verbal\" \"Glasgow coma score motor\" \"Physical mobility Braden scale\" \"Nutrition intake pattern Braden scale\" \"Sensory perception Braden scale\" \"Physical activity Braden scale\" \"Moisture exposure Braden scale\" \"Friction and shear Braden scale\" \"Mean blood pressure\" \"Systolic blood pressure\" \"Diastolic blood pressure\" \"Body temperature\"'''\n",
    "    )\n"
   ]
  },
  {
   "cell_type": "markdown",
   "metadata": {},
   "source": [
    "### first"
   ]
  },
  {
   "cell_type": "code",
   "execution_count": 14,
   "metadata": {},
   "outputs": [
    {
     "name": "stdout",
     "output_type": "stream",
     "text": [
      "2023-11-29 00:15:30,328 - EHR-QC - INFO - Parsing command line arguments\n",
      "2023-11-29 00:15:30,329 - EHR-QC - INFO - args.source_path: /home/yram0006/phd/chapter_2/workspace/MIMIC-EHR-Pipeline/data/sepsis_icd_cohort/extracts/vitals_first_episode_date.csv\n",
      "2023-11-29 00:15:30,329 - EHR-QC - INFO - args.save_path: /home/yram0006/phd/chapter_2/workspace/MIMIC-EHR-Pipeline/data/sepsis_icd_cohort/plots/explore/vitals_first.html\n",
      "2023-11-29 00:15:30,329 - EHR-QC - INFO - args.columns_list: ['Respiratory rate', 'Heart rate', 'Body weight', 'Oxygen saturation in Arterial blood by Pulse oximetry', 'Glasgow coma score eye opening', 'Glasgow coma score verbal', 'Glasgow coma score motor', 'Physical mobility Braden scale', 'Nutrition intake pattern Braden scale', 'Sensory perception Braden scale', 'Physical activity Braden scale', 'Moisture exposure Braden scale', 'Friction and shear Braden scale', 'Mean blood pressure', 'Systolic blood pressure', 'Diastolic blood pressure', 'Body temperature']\n",
      "2023-11-29 00:15:30,426 - EHR-QC - INFO - Generating the exploration report\n",
      "2023-11-29 00:15:30,426 - EHR-QC - INFO - Columns: Respiratory rate\n",
      "2023-11-29 00:15:31,017 - EHR-QC - INFO - Columns: Heart rate\n",
      "2023-11-29 00:15:31,352 - EHR-QC - INFO - Columns: Body weight\n",
      "2023-11-29 00:15:31,598 - EHR-QC - INFO - Columns: Oxygen saturation in Arterial blood by Pulse oximetry\n",
      "2023-11-29 00:15:31,953 - EHR-QC - INFO - Columns: Glasgow coma score eye opening\n",
      "2023-11-29 00:15:32,253 - EHR-QC - INFO - Columns: Glasgow coma score verbal\n",
      "2023-11-29 00:15:32,539 - EHR-QC - INFO - Columns: Glasgow coma score motor\n",
      "2023-11-29 00:15:32,831 - EHR-QC - INFO - Columns: Physical mobility Braden scale\n",
      "2023-11-29 00:15:33,125 - EHR-QC - INFO - Columns: Nutrition intake pattern Braden scale\n",
      "2023-11-29 00:15:33,425 - EHR-QC - INFO - Columns: Sensory perception Braden scale\n",
      "2023-11-29 00:15:33,748 - EHR-QC - INFO - Columns: Physical activity Braden scale\n",
      "2023-11-29 00:15:34,090 - EHR-QC - INFO - Columns: Moisture exposure Braden scale\n",
      "2023-11-29 00:15:34,403 - EHR-QC - INFO - Columns: Friction and shear Braden scale\n",
      "2023-11-29 00:15:34,696 - EHR-QC - INFO - Columns: Mean blood pressure\n",
      "2023-11-29 00:15:35,070 - EHR-QC - INFO - Columns: Systolic blood pressure\n",
      "2023-11-29 00:15:35,488 - EHR-QC - INFO - Columns: Diastolic blood pressure\n",
      "2023-11-29 00:15:35,831 - EHR-QC - INFO - Columns: Body temperature\n",
      "2023-11-29 00:15:36,176 - EHR-QC - INFO - Saving the exploration report!!\n",
      "2023-11-29 00:15:36,178 - EHR-QC - INFO - Done!!\n"
     ]
    },
    {
     "data": {
      "text/plain": [
       "0"
      ]
     },
     "execution_count": 14,
     "metadata": {},
     "output_type": "execute_result"
    }
   ],
   "source": [
    "import os\n",
    "\n",
    "\n",
    "os.system(\n",
    "    'cd ' + os.environ['EHR_QC_PREPROCESS_BASE'] + ';'\n",
    "    +\n",
    "    '''.venv/bin/python -m ehrqc.plot.ExplorationGraphs ''' + os.environ['MIMIC_EHR_PIPELINE_BASE'] + '''/data/sepsis_icd_cohort/extracts/vitals_first_episode_date.csv ''' + os.environ['MIMIC_EHR_PIPELINE_BASE'] + '''/data/sepsis_icd_cohort/plots/explore/vitals_first.html -c \"Respiratory rate\" \"Heart rate\" \"Body weight\" \"Oxygen saturation in Arterial blood by Pulse oximetry\" \"Glasgow coma score eye opening\" \"Glasgow coma score verbal\" \"Glasgow coma score motor\" \"Physical mobility Braden scale\" \"Nutrition intake pattern Braden scale\" \"Sensory perception Braden scale\" \"Physical activity Braden scale\" \"Moisture exposure Braden scale\" \"Friction and shear Braden scale\" \"Mean blood pressure\" \"Systolic blood pressure\" \"Diastolic blood pressure\" \"Body temperature\"'''\n",
    "    )\n"
   ]
  },
  {
   "cell_type": "markdown",
   "metadata": {},
   "source": [
    "### last"
   ]
  },
  {
   "cell_type": "code",
   "execution_count": 15,
   "metadata": {},
   "outputs": [
    {
     "name": "stdout",
     "output_type": "stream",
     "text": [
      "2023-11-29 00:16:47,383 - EHR-QC - INFO - Parsing command line arguments\n",
      "2023-11-29 00:16:47,384 - EHR-QC - INFO - args.source_path: /home/yram0006/phd/chapter_2/workspace/MIMIC-EHR-Pipeline/data/sepsis_icd_cohort/extracts/vitals_last_episode_date.csv\n",
      "2023-11-29 00:16:47,384 - EHR-QC - INFO - args.save_path: /home/yram0006/phd/chapter_2/workspace/MIMIC-EHR-Pipeline/data/sepsis_icd_cohort/plots/explore/vitals_last.html\n",
      "2023-11-29 00:16:47,384 - EHR-QC - INFO - args.columns_list: ['Respiratory rate', 'Heart rate', 'Body weight', 'Oxygen saturation in Arterial blood by Pulse oximetry', 'Glasgow coma score eye opening', 'Glasgow coma score verbal', 'Glasgow coma score motor', 'Physical mobility Braden scale', 'Nutrition intake pattern Braden scale', 'Sensory perception Braden scale', 'Physical activity Braden scale', 'Moisture exposure Braden scale', 'Friction and shear Braden scale', 'Mean blood pressure', 'Systolic blood pressure', 'Diastolic blood pressure', 'Body temperature']\n",
      "2023-11-29 00:16:47,479 - EHR-QC - INFO - Generating the exploration report\n",
      "2023-11-29 00:16:47,480 - EHR-QC - INFO - Columns: Respiratory rate\n",
      "2023-11-29 00:16:48,074 - EHR-QC - INFO - Columns: Heart rate\n",
      "2023-11-29 00:16:48,412 - EHR-QC - INFO - Columns: Body weight\n",
      "2023-11-29 00:16:48,659 - EHR-QC - INFO - Columns: Oxygen saturation in Arterial blood by Pulse oximetry\n",
      "2023-11-29 00:16:49,017 - EHR-QC - INFO - Columns: Glasgow coma score eye opening\n",
      "2023-11-29 00:16:49,315 - EHR-QC - INFO - Columns: Glasgow coma score verbal\n",
      "2023-11-29 00:16:49,601 - EHR-QC - INFO - Columns: Glasgow coma score motor\n",
      "2023-11-29 00:16:49,892 - EHR-QC - INFO - Columns: Physical mobility Braden scale\n",
      "2023-11-29 00:16:50,189 - EHR-QC - INFO - Columns: Nutrition intake pattern Braden scale\n",
      "2023-11-29 00:16:50,489 - EHR-QC - INFO - Columns: Sensory perception Braden scale\n",
      "2023-11-29 00:16:50,784 - EHR-QC - INFO - Columns: Physical activity Braden scale\n",
      "2023-11-29 00:16:51,111 - EHR-QC - INFO - Columns: Moisture exposure Braden scale\n",
      "2023-11-29 00:16:51,421 - EHR-QC - INFO - Columns: Friction and shear Braden scale\n",
      "2023-11-29 00:16:51,707 - EHR-QC - INFO - Columns: Mean blood pressure\n",
      "2023-11-29 00:16:52,062 - EHR-QC - INFO - Columns: Systolic blood pressure\n",
      "2023-11-29 00:16:52,495 - EHR-QC - INFO - Columns: Diastolic blood pressure\n",
      "2023-11-29 00:16:52,844 - EHR-QC - INFO - Columns: Body temperature\n",
      "2023-11-29 00:16:53,196 - EHR-QC - INFO - Saving the exploration report!!\n",
      "2023-11-29 00:16:53,198 - EHR-QC - INFO - Done!!\n"
     ]
    },
    {
     "data": {
      "text/plain": [
       "0"
      ]
     },
     "execution_count": 15,
     "metadata": {},
     "output_type": "execute_result"
    }
   ],
   "source": [
    "import os\n",
    "\n",
    "\n",
    "os.system(\n",
    "    'cd ' + os.environ['EHR_QC_PREPROCESS_BASE'] + ';'\n",
    "    +\n",
    "    '''.venv/bin/python -m ehrqc.plot.ExplorationGraphs ''' + os.environ['MIMIC_EHR_PIPELINE_BASE'] + '''/data/sepsis_icd_cohort/extracts/vitals_last_episode_date.csv ''' + os.environ['MIMIC_EHR_PIPELINE_BASE'] + '''/data/sepsis_icd_cohort/plots/explore/vitals_last.html -c \"Respiratory rate\" \"Heart rate\" \"Body weight\" \"Oxygen saturation in Arterial blood by Pulse oximetry\" \"Glasgow coma score eye opening\" \"Glasgow coma score verbal\" \"Glasgow coma score motor\" \"Physical mobility Braden scale\" \"Nutrition intake pattern Braden scale\" \"Sensory perception Braden scale\" \"Physical activity Braden scale\" \"Moisture exposure Braden scale\" \"Friction and shear Braden scale\" \"Mean blood pressure\" \"Systolic blood pressure\" \"Diastolic blood pressure\" \"Body temperature\"'''\n",
    "    )\n"
   ]
  },
  {
   "cell_type": "markdown",
   "metadata": {},
   "source": [
    "## Labs"
   ]
  },
  {
   "cell_type": "markdown",
   "metadata": {},
   "source": [
    "### avg"
   ]
  },
  {
   "cell_type": "code",
   "execution_count": 22,
   "metadata": {},
   "outputs": [
    {
     "name": "stdout",
     "output_type": "stream",
     "text": [
      "2023-11-29 00:35:22,637 - EHR-QC - INFO - Parsing command line arguments\n",
      "2023-11-29 00:35:22,638 - EHR-QC - INFO - args.source_path: /home/yram0006/phd/chapter_2/workspace/MIMIC-EHR-Pipeline/data/sepsis_icd_cohort/extracts/labs_avg_episode_date.csv\n",
      "2023-11-29 00:35:22,638 - EHR-QC - INFO - args.save_path: /home/yram0006/phd/chapter_2/workspace/MIMIC-EHR-Pipeline/data/sepsis_icd_cohort/plots/explore/labs_avg.html\n",
      "2023-11-29 00:35:22,638 - EHR-QC - INFO - args.columns_list: ['Leukocytes in Blood by Manual count', 'Hematocrit of Blood by Automated count', 'MCHC by Automated count', 'MCH by Automated count', 'Erythrocyte distribution width by Automated count', 'MCV by Automated count', 'Erythrocytes in Blood by Automated count', 'Platelets in Blood by Automated count', 'Hemoglobin in Blood', 'Urea nitrogen in Serum or Plasma', 'Creatinine in Serum or Plasma', 'Potassium in Serum or Plasma', 'Chloride in Serum or Plasma', 'Bicarbonate in Serum or Plasma', 'Sodium in Serum or Plasma', 'Anion gap 4 in Serum or Plasma', 'Glucose in Serum or Plasma', 'Magnesium in Serum or Plasma', 'Calcium in Serum or Plasma', 'Phosphate in Serum or Plasma', 'Neutrophils in Urine by Automated count', 'Lymphocytes in Blood by Automated count', 'Basophils in Blood by Automated count', 'Eosinophils in Blood by Automated count', 'Monocytes in Blood by Automated count', 'Prothrombin time (PT)', 'INR in Platelet poor plasma by Coagulation assay', 'aPTT in Blood by Coagulation assay', 'Protein in Urine by Test strip', 'Specific gravity of Urine by Test strip', 'pH of Urine by Test strip', 'Glucose in Urine by Test strip', 'Ketones in Urine by Test strip', 'Urobilinogen in Urine by Test strip', 'Bilirubin.total in Serum or Plasma', 'Aspartate aminotransferase in Serum or Plasma', 'Alanine aminotransferase in Serum or Plasma', 'Alkaline phosphatase in Serum or Plasma', 'Leukocytes in Urine sediment by Microscopy high power field', 'Bacteria in Urine sediment by Microscopy high power field', 'Epithelial cells in Urine sediment by Microscopy high power fie', 'Erythrocytes in Urine sediment by Microscopy high power field', 'Albumin in Serum or Plasma']\n",
      "2023-11-29 00:35:23,054 - EHR-QC - INFO - Generating the exploration report\n",
      "2023-11-29 00:35:23,055 - EHR-QC - INFO - Columns: Leukocytes in Blood by Manual count\n",
      "2023-11-29 00:35:23,999 - EHR-QC - INFO - Columns: Hematocrit of Blood by Automated count\n",
      "2023-11-29 00:35:24,659 - EHR-QC - INFO - Columns: MCHC by Automated count\n",
      "2023-11-29 00:35:25,338 - EHR-QC - INFO - Columns: MCH by Automated count\n",
      "2023-11-29 00:35:26,016 - EHR-QC - INFO - Columns: Erythrocyte distribution width by Automated count\n",
      "2023-11-29 00:35:26,673 - EHR-QC - INFO - Columns: MCV by Automated count\n",
      "2023-11-29 00:35:27,338 - EHR-QC - INFO - Columns: Erythrocytes in Blood by Automated count\n",
      "2023-11-29 00:35:27,999 - EHR-QC - INFO - Columns: Platelets in Blood by Automated count\n",
      "2023-11-29 00:35:28,666 - EHR-QC - INFO - Columns: Hemoglobin in Blood\n",
      "2023-11-29 00:35:29,348 - EHR-QC - INFO - Columns: Urea nitrogen in Serum or Plasma\n",
      "2023-11-29 00:35:30,026 - EHR-QC - INFO - Columns: Creatinine in Serum or Plasma\n",
      "2023-11-29 00:35:30,741 - EHR-QC - INFO - Columns: Potassium in Serum or Plasma\n",
      "2023-11-29 00:35:31,438 - EHR-QC - INFO - Columns: Chloride in Serum or Plasma\n",
      "2023-11-29 00:35:32,135 - EHR-QC - INFO - Columns: Bicarbonate in Serum or Plasma\n",
      "2023-11-29 00:35:32,839 - EHR-QC - INFO - Columns: Sodium in Serum or Plasma\n",
      "2023-11-29 00:35:33,554 - EHR-QC - INFO - Columns: Anion gap 4 in Serum or Plasma\n",
      "2023-11-29 00:35:34,323 - EHR-QC - INFO - Columns: Glucose in Serum or Plasma\n",
      "2023-11-29 00:35:35,042 - EHR-QC - INFO - Columns: Magnesium in Serum or Plasma\n",
      "2023-11-29 00:35:35,748 - EHR-QC - INFO - Columns: Calcium in Serum or Plasma\n",
      "2023-11-29 00:35:36,428 - EHR-QC - INFO - Columns: Phosphate in Serum or Plasma\n",
      "2023-11-29 00:35:37,097 - EHR-QC - INFO - Columns: Neutrophils in Urine by Automated count\n"
     ]
    },
    {
     "name": "stderr",
     "output_type": "stream",
     "text": [
      "/superbugai-data/yash/chapter_2/workspace/EHR-QC-Preprocess/ehrqc/plot/ExplorationGraphs.py:61: RuntimeWarning: More than 20 figures have been opened. Figures created through the pyplot interface (`matplotlib.pyplot.figure`) are retained until explicitly closed and may consume too much memory. (To control this warning, see the rcParam `figure.max_open_warning`). Consider using `matplotlib.pyplot.close()`.\n",
      "  fig, ax = plt.subplots()\n"
     ]
    },
    {
     "name": "stdout",
     "output_type": "stream",
     "text": [
      "2023-11-29 00:35:37,485 - EHR-QC - INFO - Columns: Lymphocytes in Blood by Automated count\n",
      "2023-11-29 00:35:37,910 - EHR-QC - INFO - Columns: Basophils in Blood by Automated count\n",
      "2023-11-29 00:35:38,343 - EHR-QC - INFO - Columns: Eosinophils in Blood by Automated count\n",
      "2023-11-29 00:35:38,769 - EHR-QC - INFO - Columns: Monocytes in Blood by Automated count\n",
      "2023-11-29 00:35:39,187 - EHR-QC - INFO - Columns: Prothrombin time (PT)\n",
      "2023-11-29 00:35:39,755 - EHR-QC - INFO - Columns: INR in Platelet poor plasma by Coagulation assay\n",
      "2023-11-29 00:35:40,316 - EHR-QC - INFO - Columns: aPTT in Blood by Coagulation assay\n",
      "2023-11-29 00:35:40,842 - EHR-QC - INFO - Columns: Protein in Urine by Test strip\n",
      "2023-11-29 00:35:41,159 - EHR-QC - INFO - Columns: Specific gravity of Urine by Test strip\n",
      "2023-11-29 00:35:41,506 - EHR-QC - INFO - Columns: pH of Urine by Test strip\n",
      "2023-11-29 00:35:41,831 - EHR-QC - INFO - Columns: Glucose in Urine by Test strip\n",
      "2023-11-29 00:35:42,121 - EHR-QC - INFO - Columns: Ketones in Urine by Test strip\n",
      "2023-11-29 00:35:42,407 - EHR-QC - INFO - Columns: Urobilinogen in Urine by Test strip\n",
      "2023-11-29 00:35:42,695 - EHR-QC - INFO - Columns: Bilirubin.total in Serum or Plasma\n",
      "2023-11-29 00:35:43,181 - EHR-QC - INFO - Columns: Aspartate aminotransferase in Serum or Plasma\n",
      "2023-11-29 00:35:43,690 - EHR-QC - INFO - Columns: Alanine aminotransferase in Serum or Plasma\n",
      "2023-11-29 00:35:44,176 - EHR-QC - INFO - Columns: Alkaline phosphatase in Serum or Plasma\n",
      "2023-11-29 00:35:44,673 - EHR-QC - INFO - Columns: Leukocytes in Urine sediment by Microscopy high power field\n",
      "2023-11-29 00:35:45,117 - EHR-QC - INFO - Columns: Bacteria in Urine sediment by Microscopy high power field\n",
      "2023-11-29 00:35:45,379 - EHR-QC - INFO - Columns: Epithelial cells in Urine sediment by Microscopy high power fie\n",
      "2023-11-29 00:35:45,729 - EHR-QC - INFO - Columns: Erythrocytes in Urine sediment by Microscopy high power field\n",
      "2023-11-29 00:35:46,084 - EHR-QC - INFO - Columns: Albumin in Serum or Plasma\n",
      "2023-11-29 00:35:46,478 - EHR-QC - INFO - Saving the exploration report!!\n",
      "2023-11-29 00:35:46,482 - EHR-QC - INFO - Done!!\n"
     ]
    },
    {
     "data": {
      "text/plain": [
       "0"
      ]
     },
     "execution_count": 22,
     "metadata": {},
     "output_type": "execute_result"
    }
   ],
   "source": [
    "import os\n",
    "\n",
    "\n",
    "os.system(\n",
    "    'cd ' + os.environ['EHR_QC_PREPROCESS_BASE'] + ';'\n",
    "    +\n",
    "    '''.venv/bin/python -m ehrqc.plot.ExplorationGraphs ''' + os.environ['MIMIC_EHR_PIPELINE_BASE'] + '''/data/sepsis_icd_cohort/extracts/labs_avg_episode_date.csv ''' + os.environ['MIMIC_EHR_PIPELINE_BASE'] + '''/data/sepsis_icd_cohort/plots/explore/labs_avg.html -c \"Leukocytes in Blood by Manual count\" \"Hematocrit of Blood by Automated count\" \"MCHC by Automated count\" \"MCH by Automated count\" \"Erythrocyte distribution width by Automated count\" \"MCV by Automated count\" \"Erythrocytes in Blood by Automated count\" \"Platelets in Blood by Automated count\" \"Hemoglobin in Blood\" \"Urea nitrogen in Serum or Plasma\" \"Creatinine in Serum or Plasma\" \"Potassium in Serum or Plasma\" \"Chloride in Serum or Plasma\" \"Bicarbonate in Serum or Plasma\" \"Sodium in Serum or Plasma\" \"Anion gap 4 in Serum or Plasma\" \"Glucose in Serum or Plasma\" \"Magnesium in Serum or Plasma\" \"Calcium in Serum or Plasma\" \"Phosphate in Serum or Plasma\" \"Neutrophils in Urine by Automated count\" \"Lymphocytes in Blood by Automated count\" \"Basophils in Blood by Automated count\" \"Eosinophils in Blood by Automated count\" \"Monocytes in Blood by Automated count\" \"Prothrombin time (PT)\" \"INR in Platelet poor plasma by Coagulation assay\" \"aPTT in Blood by Coagulation assay\" \"Protein in Urine by Test strip\" \"Specific gravity of Urine by Test strip\" \"pH of Urine by Test strip\" \"Glucose in Urine by Test strip\" \"Ketones in Urine by Test strip\" \"Urobilinogen in Urine by Test strip\" \"Bilirubin.total in Serum or Plasma\" \"Aspartate aminotransferase in Serum or Plasma\" \"Alanine aminotransferase in Serum or Plasma\" \"Alkaline phosphatase in Serum or Plasma\" \"Leukocytes in Urine sediment by Microscopy high power field\" \"Bacteria in Urine sediment by Microscopy high power field\" \"Epithelial cells in Urine sediment by Microscopy high power fie\" \"Erythrocytes in Urine sediment by Microscopy high power field\" \"Albumin in Serum or Plasma\"'''\n",
    "    )\n"
   ]
  },
  {
   "cell_type": "markdown",
   "metadata": {},
   "source": [
    "### min"
   ]
  },
  {
   "cell_type": "code",
   "execution_count": 23,
   "metadata": {},
   "outputs": [
    {
     "name": "stdout",
     "output_type": "stream",
     "text": [
      "2023-11-29 00:35:59,923 - EHR-QC - INFO - Parsing command line arguments\n",
      "2023-11-29 00:35:59,924 - EHR-QC - INFO - args.source_path: /home/yram0006/phd/chapter_2/workspace/MIMIC-EHR-Pipeline/data/sepsis_icd_cohort/extracts/labs_min_episode_date.csv\n",
      "2023-11-29 00:35:59,924 - EHR-QC - INFO - args.save_path: /home/yram0006/phd/chapter_2/workspace/MIMIC-EHR-Pipeline/data/sepsis_icd_cohort/plots/explore/labs_min.html\n",
      "2023-11-29 00:35:59,925 - EHR-QC - INFO - args.columns_list: ['Leukocytes in Blood by Manual count', 'Hematocrit of Blood by Automated count', 'MCHC by Automated count', 'MCH by Automated count', 'Erythrocyte distribution width by Automated count', 'MCV by Automated count', 'Erythrocytes in Blood by Automated count', 'Platelets in Blood by Automated count', 'Hemoglobin in Blood', 'Urea nitrogen in Serum or Plasma', 'Creatinine in Serum or Plasma', 'Potassium in Serum or Plasma', 'Chloride in Serum or Plasma', 'Bicarbonate in Serum or Plasma', 'Sodium in Serum or Plasma', 'Anion gap 4 in Serum or Plasma', 'Glucose in Serum or Plasma', 'Magnesium in Serum or Plasma', 'Calcium in Serum or Plasma', 'Phosphate in Serum or Plasma', 'Neutrophils in Urine by Automated count', 'Lymphocytes in Blood by Automated count', 'Basophils in Blood by Automated count', 'Eosinophils in Blood by Automated count', 'Monocytes in Blood by Automated count', 'Prothrombin time (PT)', 'INR in Platelet poor plasma by Coagulation assay', 'aPTT in Blood by Coagulation assay', 'Protein in Urine by Test strip', 'Specific gravity of Urine by Test strip', 'pH of Urine by Test strip', 'Glucose in Urine by Test strip', 'Ketones in Urine by Test strip', 'Urobilinogen in Urine by Test strip', 'Bilirubin.total in Serum or Plasma', 'Aspartate aminotransferase in Serum or Plasma', 'Alanine aminotransferase in Serum or Plasma', 'Alkaline phosphatase in Serum or Plasma', 'Leukocytes in Urine sediment by Microscopy high power field', 'Bacteria in Urine sediment by Microscopy high power field', 'Epithelial cells in Urine sediment by Microscopy high power fie', 'Erythrocytes in Urine sediment by Microscopy high power field', 'Albumin in Serum or Plasma']\n",
      "2023-11-29 00:36:00,333 - EHR-QC - INFO - Generating the exploration report\n",
      "2023-11-29 00:36:00,333 - EHR-QC - INFO - Columns: Leukocytes in Blood by Manual count\n",
      "2023-11-29 00:36:01,264 - EHR-QC - INFO - Columns: Hematocrit of Blood by Automated count\n",
      "2023-11-29 00:36:01,894 - EHR-QC - INFO - Columns: MCHC by Automated count\n",
      "2023-11-29 00:36:02,541 - EHR-QC - INFO - Columns: MCH by Automated count\n",
      "2023-11-29 00:36:03,192 - EHR-QC - INFO - Columns: Erythrocyte distribution width by Automated count\n",
      "2023-11-29 00:36:03,820 - EHR-QC - INFO - Columns: MCV by Automated count\n",
      "2023-11-29 00:36:04,456 - EHR-QC - INFO - Columns: Erythrocytes in Blood by Automated count\n",
      "2023-11-29 00:36:05,086 - EHR-QC - INFO - Columns: Platelets in Blood by Automated count\n",
      "2023-11-29 00:36:05,719 - EHR-QC - INFO - Columns: Hemoglobin in Blood\n",
      "2023-11-29 00:36:06,367 - EHR-QC - INFO - Columns: Urea nitrogen in Serum or Plasma\n",
      "2023-11-29 00:36:07,007 - EHR-QC - INFO - Columns: Creatinine in Serum or Plasma\n",
      "2023-11-29 00:36:07,677 - EHR-QC - INFO - Columns: Potassium in Serum or Plasma\n",
      "2023-11-29 00:36:08,321 - EHR-QC - INFO - Columns: Chloride in Serum or Plasma\n",
      "2023-11-29 00:36:08,966 - EHR-QC - INFO - Columns: Bicarbonate in Serum or Plasma\n",
      "2023-11-29 00:36:09,610 - EHR-QC - INFO - Columns: Sodium in Serum or Plasma\n",
      "2023-11-29 00:36:10,265 - EHR-QC - INFO - Columns: Anion gap 4 in Serum or Plasma\n",
      "2023-11-29 00:36:10,982 - EHR-QC - INFO - Columns: Glucose in Serum or Plasma\n",
      "2023-11-29 00:36:11,647 - EHR-QC - INFO - Columns: Magnesium in Serum or Plasma\n",
      "2023-11-29 00:36:12,299 - EHR-QC - INFO - Columns: Calcium in Serum or Plasma\n",
      "2023-11-29 00:36:12,927 - EHR-QC - INFO - Columns: Phosphate in Serum or Plasma\n",
      "2023-11-29 00:36:13,542 - EHR-QC - INFO - Columns: Neutrophils in Urine by Automated count\n"
     ]
    },
    {
     "name": "stderr",
     "output_type": "stream",
     "text": [
      "/superbugai-data/yash/chapter_2/workspace/EHR-QC-Preprocess/ehrqc/plot/ExplorationGraphs.py:61: RuntimeWarning: More than 20 figures have been opened. Figures created through the pyplot interface (`matplotlib.pyplot.figure`) are retained until explicitly closed and may consume too much memory. (To control this warning, see the rcParam `figure.max_open_warning`). Consider using `matplotlib.pyplot.close()`.\n",
      "  fig, ax = plt.subplots()\n"
     ]
    },
    {
     "name": "stdout",
     "output_type": "stream",
     "text": [
      "2023-11-29 00:36:13,901 - EHR-QC - INFO - Columns: Lymphocytes in Blood by Automated count\n",
      "2023-11-29 00:36:14,302 - EHR-QC - INFO - Columns: Basophils in Blood by Automated count\n",
      "2023-11-29 00:36:14,712 - EHR-QC - INFO - Columns: Eosinophils in Blood by Automated count\n",
      "2023-11-29 00:36:15,128 - EHR-QC - INFO - Columns: Monocytes in Blood by Automated count\n",
      "2023-11-29 00:36:15,534 - EHR-QC - INFO - Columns: Prothrombin time (PT)\n",
      "2023-11-29 00:36:16,099 - EHR-QC - INFO - Columns: INR in Platelet poor plasma by Coagulation assay\n",
      "2023-11-29 00:36:16,638 - EHR-QC - INFO - Columns: aPTT in Blood by Coagulation assay\n",
      "2023-11-29 00:36:17,156 - EHR-QC - INFO - Columns: Protein in Urine by Test strip\n",
      "2023-11-29 00:36:17,489 - EHR-QC - INFO - Columns: Specific gravity of Urine by Test strip\n",
      "2023-11-29 00:36:17,850 - EHR-QC - INFO - Columns: pH of Urine by Test strip\n",
      "2023-11-29 00:36:18,195 - EHR-QC - INFO - Columns: Glucose in Urine by Test strip\n",
      "2023-11-29 00:36:18,493 - EHR-QC - INFO - Columns: Ketones in Urine by Test strip\n",
      "2023-11-29 00:36:18,772 - EHR-QC - INFO - Columns: Urobilinogen in Urine by Test strip\n",
      "2023-11-29 00:36:19,063 - EHR-QC - INFO - Columns: Bilirubin.total in Serum or Plasma\n",
      "2023-11-29 00:36:19,544 - EHR-QC - INFO - Columns: Aspartate aminotransferase in Serum or Plasma\n",
      "2023-11-29 00:36:20,052 - EHR-QC - INFO - Columns: Alanine aminotransferase in Serum or Plasma\n",
      "2023-11-29 00:36:20,539 - EHR-QC - INFO - Columns: Alkaline phosphatase in Serum or Plasma\n",
      "2023-11-29 00:36:21,034 - EHR-QC - INFO - Columns: Leukocytes in Urine sediment by Microscopy high power field\n",
      "2023-11-29 00:36:21,492 - EHR-QC - INFO - Columns: Bacteria in Urine sediment by Microscopy high power field\n",
      "2023-11-29 00:36:21,757 - EHR-QC - INFO - Columns: Epithelial cells in Urine sediment by Microscopy high power fie\n",
      "2023-11-29 00:36:22,114 - EHR-QC - INFO - Columns: Erythrocytes in Urine sediment by Microscopy high power field\n",
      "2023-11-29 00:36:22,463 - EHR-QC - INFO - Columns: Albumin in Serum or Plasma\n",
      "2023-11-29 00:36:22,849 - EHR-QC - INFO - Saving the exploration report!!\n",
      "2023-11-29 00:36:22,852 - EHR-QC - INFO - Done!!\n"
     ]
    },
    {
     "data": {
      "text/plain": [
       "0"
      ]
     },
     "execution_count": 23,
     "metadata": {},
     "output_type": "execute_result"
    }
   ],
   "source": [
    "import os\n",
    "\n",
    "\n",
    "os.system(\n",
    "    'cd ' + os.environ['EHR_QC_PREPROCESS_BASE'] + ';'\n",
    "    +\n",
    "    '''.venv/bin/python -m ehrqc.plot.ExplorationGraphs ''' + os.environ['MIMIC_EHR_PIPELINE_BASE'] + '''/data/sepsis_icd_cohort/extracts/labs_min_episode_date.csv ''' + os.environ['MIMIC_EHR_PIPELINE_BASE'] + '''/data/sepsis_icd_cohort/plots/explore/labs_min.html -c \"Leukocytes in Blood by Manual count\" \"Hematocrit of Blood by Automated count\" \"MCHC by Automated count\" \"MCH by Automated count\" \"Erythrocyte distribution width by Automated count\" \"MCV by Automated count\" \"Erythrocytes in Blood by Automated count\" \"Platelets in Blood by Automated count\" \"Hemoglobin in Blood\" \"Urea nitrogen in Serum or Plasma\" \"Creatinine in Serum or Plasma\" \"Potassium in Serum or Plasma\" \"Chloride in Serum or Plasma\" \"Bicarbonate in Serum or Plasma\" \"Sodium in Serum or Plasma\" \"Anion gap 4 in Serum or Plasma\" \"Glucose in Serum or Plasma\" \"Magnesium in Serum or Plasma\" \"Calcium in Serum or Plasma\" \"Phosphate in Serum or Plasma\" \"Neutrophils in Urine by Automated count\" \"Lymphocytes in Blood by Automated count\" \"Basophils in Blood by Automated count\" \"Eosinophils in Blood by Automated count\" \"Monocytes in Blood by Automated count\" \"Prothrombin time (PT)\" \"INR in Platelet poor plasma by Coagulation assay\" \"aPTT in Blood by Coagulation assay\" \"Protein in Urine by Test strip\" \"Specific gravity of Urine by Test strip\" \"pH of Urine by Test strip\" \"Glucose in Urine by Test strip\" \"Ketones in Urine by Test strip\" \"Urobilinogen in Urine by Test strip\" \"Bilirubin.total in Serum or Plasma\" \"Aspartate aminotransferase in Serum or Plasma\" \"Alanine aminotransferase in Serum or Plasma\" \"Alkaline phosphatase in Serum or Plasma\" \"Leukocytes in Urine sediment by Microscopy high power field\" \"Bacteria in Urine sediment by Microscopy high power field\" \"Epithelial cells in Urine sediment by Microscopy high power fie\" \"Erythrocytes in Urine sediment by Microscopy high power field\" \"Albumin in Serum or Plasma\"'''\n",
    "    )\n"
   ]
  },
  {
   "cell_type": "markdown",
   "metadata": {},
   "source": [
    "### max"
   ]
  },
  {
   "cell_type": "code",
   "execution_count": 24,
   "metadata": {},
   "outputs": [
    {
     "name": "stdout",
     "output_type": "stream",
     "text": [
      "2023-11-29 00:36:24,176 - EHR-QC - INFO - Parsing command line arguments\n",
      "2023-11-29 00:36:24,177 - EHR-QC - INFO - args.source_path: /home/yram0006/phd/chapter_2/workspace/MIMIC-EHR-Pipeline/data/sepsis_icd_cohort/extracts/labs_max_episode_date.csv\n",
      "2023-11-29 00:36:24,178 - EHR-QC - INFO - args.save_path: /home/yram0006/phd/chapter_2/workspace/MIMIC-EHR-Pipeline/data/sepsis_icd_cohort/plots/explore/labs_max.html\n",
      "2023-11-29 00:36:24,178 - EHR-QC - INFO - args.columns_list: ['Leukocytes in Blood by Manual count', 'Hematocrit of Blood by Automated count', 'MCHC by Automated count', 'MCH by Automated count', 'Erythrocyte distribution width by Automated count', 'MCV by Automated count', 'Erythrocytes in Blood by Automated count', 'Platelets in Blood by Automated count', 'Hemoglobin in Blood', 'Urea nitrogen in Serum or Plasma', 'Creatinine in Serum or Plasma', 'Potassium in Serum or Plasma', 'Chloride in Serum or Plasma', 'Bicarbonate in Serum or Plasma', 'Sodium in Serum or Plasma', 'Anion gap 4 in Serum or Plasma', 'Glucose in Serum or Plasma', 'Magnesium in Serum or Plasma', 'Calcium in Serum or Plasma', 'Phosphate in Serum or Plasma', 'Neutrophils in Urine by Automated count', 'Lymphocytes in Blood by Automated count', 'Basophils in Blood by Automated count', 'Eosinophils in Blood by Automated count', 'Monocytes in Blood by Automated count', 'Prothrombin time (PT)', 'INR in Platelet poor plasma by Coagulation assay', 'aPTT in Blood by Coagulation assay', 'Protein in Urine by Test strip', 'Specific gravity of Urine by Test strip', 'pH of Urine by Test strip', 'Glucose in Urine by Test strip', 'Ketones in Urine by Test strip', 'Urobilinogen in Urine by Test strip', 'Bilirubin.total in Serum or Plasma', 'Aspartate aminotransferase in Serum or Plasma', 'Alanine aminotransferase in Serum or Plasma', 'Alkaline phosphatase in Serum or Plasma', 'Leukocytes in Urine sediment by Microscopy high power field', 'Bacteria in Urine sediment by Microscopy high power field', 'Epithelial cells in Urine sediment by Microscopy high power fie', 'Erythrocytes in Urine sediment by Microscopy high power field', 'Albumin in Serum or Plasma']\n",
      "2023-11-29 00:36:24,583 - EHR-QC - INFO - Generating the exploration report\n",
      "2023-11-29 00:36:24,583 - EHR-QC - INFO - Columns: Leukocytes in Blood by Manual count\n",
      "2023-11-29 00:36:25,497 - EHR-QC - INFO - Columns: Hematocrit of Blood by Automated count\n",
      "2023-11-29 00:36:26,127 - EHR-QC - INFO - Columns: MCHC by Automated count\n",
      "2023-11-29 00:36:26,775 - EHR-QC - INFO - Columns: MCH by Automated count\n",
      "2023-11-29 00:36:27,449 - EHR-QC - INFO - Columns: Erythrocyte distribution width by Automated count\n",
      "2023-11-29 00:36:28,171 - EHR-QC - INFO - Columns: MCV by Automated count\n",
      "2023-11-29 00:36:28,912 - EHR-QC - INFO - Columns: Erythrocytes in Blood by Automated count\n",
      "2023-11-29 00:36:29,656 - EHR-QC - INFO - Columns: Platelets in Blood by Automated count\n",
      "2023-11-29 00:36:30,405 - EHR-QC - INFO - Columns: Hemoglobin in Blood\n",
      "2023-11-29 00:36:31,169 - EHR-QC - INFO - Columns: Urea nitrogen in Serum or Plasma\n",
      "2023-11-29 00:36:31,902 - EHR-QC - INFO - Columns: Creatinine in Serum or Plasma\n",
      "2023-11-29 00:36:32,618 - EHR-QC - INFO - Columns: Potassium in Serum or Plasma\n",
      "2023-11-29 00:36:33,310 - EHR-QC - INFO - Columns: Chloride in Serum or Plasma\n",
      "2023-11-29 00:36:34,000 - EHR-QC - INFO - Columns: Bicarbonate in Serum or Plasma\n",
      "2023-11-29 00:36:34,674 - EHR-QC - INFO - Columns: Sodium in Serum or Plasma\n",
      "2023-11-29 00:36:35,423 - EHR-QC - INFO - Columns: Anion gap 4 in Serum or Plasma\n",
      "2023-11-29 00:36:36,268 - EHR-QC - INFO - Columns: Glucose in Serum or Plasma\n",
      "2023-11-29 00:36:37,033 - EHR-QC - INFO - Columns: Magnesium in Serum or Plasma\n",
      "2023-11-29 00:36:37,785 - EHR-QC - INFO - Columns: Calcium in Serum or Plasma\n",
      "2023-11-29 00:36:38,460 - EHR-QC - INFO - Columns: Phosphate in Serum or Plasma\n",
      "2023-11-29 00:36:39,151 - EHR-QC - INFO - Columns: Neutrophils in Urine by Automated count\n"
     ]
    },
    {
     "name": "stderr",
     "output_type": "stream",
     "text": [
      "/superbugai-data/yash/chapter_2/workspace/EHR-QC-Preprocess/ehrqc/plot/ExplorationGraphs.py:61: RuntimeWarning: More than 20 figures have been opened. Figures created through the pyplot interface (`matplotlib.pyplot.figure`) are retained until explicitly closed and may consume too much memory. (To control this warning, see the rcParam `figure.max_open_warning`). Consider using `matplotlib.pyplot.close()`.\n",
      "  fig, ax = plt.subplots()\n"
     ]
    },
    {
     "name": "stdout",
     "output_type": "stream",
     "text": [
      "2023-11-29 00:36:39,576 - EHR-QC - INFO - Columns: Lymphocytes in Blood by Automated count\n",
      "2023-11-29 00:36:40,019 - EHR-QC - INFO - Columns: Basophils in Blood by Automated count\n",
      "2023-11-29 00:36:40,463 - EHR-QC - INFO - Columns: Eosinophils in Blood by Automated count\n",
      "2023-11-29 00:36:40,898 - EHR-QC - INFO - Columns: Monocytes in Blood by Automated count\n",
      "2023-11-29 00:36:41,332 - EHR-QC - INFO - Columns: Prothrombin time (PT)\n",
      "2023-11-29 00:36:41,898 - EHR-QC - INFO - Columns: INR in Platelet poor plasma by Coagulation assay\n",
      "2023-11-29 00:36:42,463 - EHR-QC - INFO - Columns: aPTT in Blood by Coagulation assay\n",
      "2023-11-29 00:36:42,999 - EHR-QC - INFO - Columns: Protein in Urine by Test strip\n",
      "2023-11-29 00:36:43,351 - EHR-QC - INFO - Columns: Specific gravity of Urine by Test strip\n",
      "2023-11-29 00:36:43,731 - EHR-QC - INFO - Columns: pH of Urine by Test strip\n",
      "2023-11-29 00:36:44,177 - EHR-QC - INFO - Columns: Glucose in Urine by Test strip\n",
      "2023-11-29 00:36:44,467 - EHR-QC - INFO - Columns: Ketones in Urine by Test strip\n",
      "2023-11-29 00:36:44,752 - EHR-QC - INFO - Columns: Urobilinogen in Urine by Test strip\n",
      "2023-11-29 00:36:45,044 - EHR-QC - INFO - Columns: Bilirubin.total in Serum or Plasma\n",
      "2023-11-29 00:36:45,599 - EHR-QC - INFO - Columns: Aspartate aminotransferase in Serum or Plasma\n",
      "2023-11-29 00:36:46,163 - EHR-QC - INFO - Columns: Alanine aminotransferase in Serum or Plasma\n",
      "2023-11-29 00:36:46,726 - EHR-QC - INFO - Columns: Alkaline phosphatase in Serum or Plasma\n",
      "2023-11-29 00:36:47,267 - EHR-QC - INFO - Columns: Leukocytes in Urine sediment by Microscopy high power field\n",
      "2023-11-29 00:36:47,725 - EHR-QC - INFO - Columns: Bacteria in Urine sediment by Microscopy high power field\n",
      "2023-11-29 00:36:47,991 - EHR-QC - INFO - Columns: Epithelial cells in Urine sediment by Microscopy high power fie\n",
      "2023-11-29 00:36:48,354 - EHR-QC - INFO - Columns: Erythrocytes in Urine sediment by Microscopy high power field\n",
      "2023-11-29 00:36:48,708 - EHR-QC - INFO - Columns: Albumin in Serum or Plasma\n",
      "2023-11-29 00:36:49,098 - EHR-QC - INFO - Saving the exploration report!!\n",
      "2023-11-29 00:36:49,102 - EHR-QC - INFO - Done!!\n"
     ]
    },
    {
     "data": {
      "text/plain": [
       "0"
      ]
     },
     "execution_count": 24,
     "metadata": {},
     "output_type": "execute_result"
    }
   ],
   "source": [
    "import os\n",
    "\n",
    "\n",
    "os.system(\n",
    "    'cd ' + os.environ['EHR_QC_PREPROCESS_BASE'] + ';'\n",
    "    +\n",
    "    '''.venv/bin/python -m ehrqc.plot.ExplorationGraphs ''' + os.environ['MIMIC_EHR_PIPELINE_BASE'] + '''/data/sepsis_icd_cohort/extracts/labs_max_episode_date.csv ''' + os.environ['MIMIC_EHR_PIPELINE_BASE'] + '''/data/sepsis_icd_cohort/plots/explore/labs_max.html -c \"Leukocytes in Blood by Manual count\" \"Hematocrit of Blood by Automated count\" \"MCHC by Automated count\" \"MCH by Automated count\" \"Erythrocyte distribution width by Automated count\" \"MCV by Automated count\" \"Erythrocytes in Blood by Automated count\" \"Platelets in Blood by Automated count\" \"Hemoglobin in Blood\" \"Urea nitrogen in Serum or Plasma\" \"Creatinine in Serum or Plasma\" \"Potassium in Serum or Plasma\" \"Chloride in Serum or Plasma\" \"Bicarbonate in Serum or Plasma\" \"Sodium in Serum or Plasma\" \"Anion gap 4 in Serum or Plasma\" \"Glucose in Serum or Plasma\" \"Magnesium in Serum or Plasma\" \"Calcium in Serum or Plasma\" \"Phosphate in Serum or Plasma\" \"Neutrophils in Urine by Automated count\" \"Lymphocytes in Blood by Automated count\" \"Basophils in Blood by Automated count\" \"Eosinophils in Blood by Automated count\" \"Monocytes in Blood by Automated count\" \"Prothrombin time (PT)\" \"INR in Platelet poor plasma by Coagulation assay\" \"aPTT in Blood by Coagulation assay\" \"Protein in Urine by Test strip\" \"Specific gravity of Urine by Test strip\" \"pH of Urine by Test strip\" \"Glucose in Urine by Test strip\" \"Ketones in Urine by Test strip\" \"Urobilinogen in Urine by Test strip\" \"Bilirubin.total in Serum or Plasma\" \"Aspartate aminotransferase in Serum or Plasma\" \"Alanine aminotransferase in Serum or Plasma\" \"Alkaline phosphatase in Serum or Plasma\" \"Leukocytes in Urine sediment by Microscopy high power field\" \"Bacteria in Urine sediment by Microscopy high power field\" \"Epithelial cells in Urine sediment by Microscopy high power fie\" \"Erythrocytes in Urine sediment by Microscopy high power field\" \"Albumin in Serum or Plasma\"'''\n",
    "    )\n"
   ]
  },
  {
   "cell_type": "markdown",
   "metadata": {},
   "source": [
    "### first"
   ]
  },
  {
   "cell_type": "code",
   "execution_count": 25,
   "metadata": {},
   "outputs": [
    {
     "name": "stdout",
     "output_type": "stream",
     "text": [
      "2023-11-29 00:36:50,426 - EHR-QC - INFO - Parsing command line arguments\n",
      "2023-11-29 00:36:50,427 - EHR-QC - INFO - args.source_path: /home/yram0006/phd/chapter_2/workspace/MIMIC-EHR-Pipeline/data/sepsis_icd_cohort/extracts/labs_first_episode_date.csv\n",
      "2023-11-29 00:36:50,427 - EHR-QC - INFO - args.save_path: /home/yram0006/phd/chapter_2/workspace/MIMIC-EHR-Pipeline/data/sepsis_icd_cohort/plots/explore/labs_first.html\n",
      "2023-11-29 00:36:50,427 - EHR-QC - INFO - args.columns_list: ['Leukocytes in Blood by Manual count', 'Hematocrit of Blood by Automated count', 'MCHC by Automated count', 'MCH by Automated count', 'Erythrocyte distribution width by Automated count', 'MCV by Automated count', 'Erythrocytes in Blood by Automated count', 'Platelets in Blood by Automated count', 'Hemoglobin in Blood', 'Urea nitrogen in Serum or Plasma', 'Creatinine in Serum or Plasma', 'Potassium in Serum or Plasma', 'Chloride in Serum or Plasma', 'Bicarbonate in Serum or Plasma', 'Sodium in Serum or Plasma', 'Anion gap 4 in Serum or Plasma', 'Glucose in Serum or Plasma', 'Magnesium in Serum or Plasma', 'Calcium in Serum or Plasma', 'Phosphate in Serum or Plasma', 'Neutrophils in Urine by Automated count', 'Lymphocytes in Blood by Automated count', 'Basophils in Blood by Automated count', 'Eosinophils in Blood by Automated count', 'Monocytes in Blood by Automated count', 'Prothrombin time (PT)', 'INR in Platelet poor plasma by Coagulation assay', 'aPTT in Blood by Coagulation assay', 'Protein in Urine by Test strip', 'Specific gravity of Urine by Test strip', 'pH of Urine by Test strip', 'Glucose in Urine by Test strip', 'Ketones in Urine by Test strip', 'Urobilinogen in Urine by Test strip', 'Bilirubin.total in Serum or Plasma', 'Aspartate aminotransferase in Serum or Plasma', 'Alanine aminotransferase in Serum or Plasma', 'Alkaline phosphatase in Serum or Plasma', 'Leukocytes in Urine sediment by Microscopy high power field', 'Bacteria in Urine sediment by Microscopy high power field', 'Epithelial cells in Urine sediment by Microscopy high power fie', 'Erythrocytes in Urine sediment by Microscopy high power field', 'Albumin in Serum or Plasma']\n",
      "2023-11-29 00:36:50,798 - EHR-QC - INFO - Generating the exploration report\n",
      "2023-11-29 00:36:50,798 - EHR-QC - INFO - Columns: Leukocytes in Blood by Manual count\n",
      "2023-11-29 00:36:51,696 - EHR-QC - INFO - Columns: Hematocrit of Blood by Automated count\n",
      "2023-11-29 00:36:52,340 - EHR-QC - INFO - Columns: MCHC by Automated count\n",
      "2023-11-29 00:36:53,004 - EHR-QC - INFO - Columns: MCH by Automated count\n",
      "2023-11-29 00:36:53,649 - EHR-QC - INFO - Columns: Erythrocyte distribution width by Automated count\n",
      "2023-11-29 00:36:54,274 - EHR-QC - INFO - Columns: MCV by Automated count\n",
      "2023-11-29 00:36:54,910 - EHR-QC - INFO - Columns: Erythrocytes in Blood by Automated count\n",
      "2023-11-29 00:36:55,558 - EHR-QC - INFO - Columns: Platelets in Blood by Automated count\n",
      "2023-11-29 00:36:56,194 - EHR-QC - INFO - Columns: Hemoglobin in Blood\n",
      "2023-11-29 00:36:56,826 - EHR-QC - INFO - Columns: Urea nitrogen in Serum or Plasma\n",
      "2023-11-29 00:36:57,467 - EHR-QC - INFO - Columns: Creatinine in Serum or Plasma\n",
      "2023-11-29 00:36:58,148 - EHR-QC - INFO - Columns: Potassium in Serum or Plasma\n",
      "2023-11-29 00:36:58,794 - EHR-QC - INFO - Columns: Chloride in Serum or Plasma\n",
      "2023-11-29 00:36:59,443 - EHR-QC - INFO - Columns: Bicarbonate in Serum or Plasma\n",
      "2023-11-29 00:37:00,081 - EHR-QC - INFO - Columns: Sodium in Serum or Plasma\n",
      "2023-11-29 00:37:00,737 - EHR-QC - INFO - Columns: Anion gap 4 in Serum or Plasma\n",
      "2023-11-29 00:37:01,471 - EHR-QC - INFO - Columns: Glucose in Serum or Plasma\n",
      "2023-11-29 00:37:02,139 - EHR-QC - INFO - Columns: Magnesium in Serum or Plasma\n",
      "2023-11-29 00:37:02,787 - EHR-QC - INFO - Columns: Calcium in Serum or Plasma\n",
      "2023-11-29 00:37:03,428 - EHR-QC - INFO - Columns: Phosphate in Serum or Plasma\n",
      "2023-11-29 00:37:04,066 - EHR-QC - INFO - Columns: Neutrophils in Urine by Automated count\n"
     ]
    },
    {
     "name": "stderr",
     "output_type": "stream",
     "text": [
      "/superbugai-data/yash/chapter_2/workspace/EHR-QC-Preprocess/ehrqc/plot/ExplorationGraphs.py:61: RuntimeWarning: More than 20 figures have been opened. Figures created through the pyplot interface (`matplotlib.pyplot.figure`) are retained until explicitly closed and may consume too much memory. (To control this warning, see the rcParam `figure.max_open_warning`). Consider using `matplotlib.pyplot.close()`.\n",
      "  fig, ax = plt.subplots()\n"
     ]
    },
    {
     "name": "stdout",
     "output_type": "stream",
     "text": [
      "2023-11-29 00:37:04,425 - EHR-QC - INFO - Columns: Lymphocytes in Blood by Automated count\n",
      "2023-11-29 00:37:04,827 - EHR-QC - INFO - Columns: Basophils in Blood by Automated count\n",
      "2023-11-29 00:37:05,254 - EHR-QC - INFO - Columns: Eosinophils in Blood by Automated count\n",
      "2023-11-29 00:37:05,669 - EHR-QC - INFO - Columns: Monocytes in Blood by Automated count\n",
      "2023-11-29 00:37:06,079 - EHR-QC - INFO - Columns: Prothrombin time (PT)\n",
      "2023-11-29 00:37:06,621 - EHR-QC - INFO - Columns: INR in Platelet poor plasma by Coagulation assay\n",
      "2023-11-29 00:37:07,159 - EHR-QC - INFO - Columns: aPTT in Blood by Coagulation assay\n",
      "2023-11-29 00:37:07,678 - EHR-QC - INFO - Columns: Protein in Urine by Test strip\n",
      "2023-11-29 00:37:07,995 - EHR-QC - INFO - Columns: Specific gravity of Urine by Test strip\n",
      "2023-11-29 00:37:08,353 - EHR-QC - INFO - Columns: pH of Urine by Test strip\n",
      "2023-11-29 00:37:08,700 - EHR-QC - INFO - Columns: Glucose in Urine by Test strip\n",
      "2023-11-29 00:37:08,981 - EHR-QC - INFO - Columns: Ketones in Urine by Test strip\n",
      "2023-11-29 00:37:09,260 - EHR-QC - INFO - Columns: Urobilinogen in Urine by Test strip\n",
      "2023-11-29 00:37:09,546 - EHR-QC - INFO - Columns: Bilirubin.total in Serum or Plasma\n",
      "2023-11-29 00:37:10,024 - EHR-QC - INFO - Columns: Aspartate aminotransferase in Serum or Plasma\n",
      "2023-11-29 00:37:10,513 - EHR-QC - INFO - Columns: Alanine aminotransferase in Serum or Plasma\n",
      "2023-11-29 00:37:10,994 - EHR-QC - INFO - Columns: Alkaline phosphatase in Serum or Plasma\n",
      "2023-11-29 00:37:11,589 - EHR-QC - INFO - Columns: Leukocytes in Urine sediment by Microscopy high power field\n",
      "2023-11-29 00:37:11,938 - EHR-QC - INFO - Columns: Bacteria in Urine sediment by Microscopy high power field\n",
      "2023-11-29 00:37:12,206 - EHR-QC - INFO - Columns: Epithelial cells in Urine sediment by Microscopy high power fie\n",
      "2023-11-29 00:37:12,560 - EHR-QC - INFO - Columns: Erythrocytes in Urine sediment by Microscopy high power field\n",
      "2023-11-29 00:37:12,916 - EHR-QC - INFO - Columns: Albumin in Serum or Plasma\n",
      "2023-11-29 00:37:13,318 - EHR-QC - INFO - Saving the exploration report!!\n",
      "2023-11-29 00:37:13,322 - EHR-QC - INFO - Done!!\n"
     ]
    },
    {
     "data": {
      "text/plain": [
       "0"
      ]
     },
     "execution_count": 25,
     "metadata": {},
     "output_type": "execute_result"
    }
   ],
   "source": [
    "import os\n",
    "\n",
    "\n",
    "os.system(\n",
    "    'cd ' + os.environ['EHR_QC_PREPROCESS_BASE'] + ';'\n",
    "    +\n",
    "    '''.venv/bin/python -m ehrqc.plot.ExplorationGraphs ''' + os.environ['MIMIC_EHR_PIPELINE_BASE'] + '''/data/sepsis_icd_cohort/extracts/labs_first_episode_date.csv ''' + os.environ['MIMIC_EHR_PIPELINE_BASE'] + '''/data/sepsis_icd_cohort/plots/explore/labs_first.html -c \"Leukocytes in Blood by Manual count\" \"Hematocrit of Blood by Automated count\" \"MCHC by Automated count\" \"MCH by Automated count\" \"Erythrocyte distribution width by Automated count\" \"MCV by Automated count\" \"Erythrocytes in Blood by Automated count\" \"Platelets in Blood by Automated count\" \"Hemoglobin in Blood\" \"Urea nitrogen in Serum or Plasma\" \"Creatinine in Serum or Plasma\" \"Potassium in Serum or Plasma\" \"Chloride in Serum or Plasma\" \"Bicarbonate in Serum or Plasma\" \"Sodium in Serum or Plasma\" \"Anion gap 4 in Serum or Plasma\" \"Glucose in Serum or Plasma\" \"Magnesium in Serum or Plasma\" \"Calcium in Serum or Plasma\" \"Phosphate in Serum or Plasma\" \"Neutrophils in Urine by Automated count\" \"Lymphocytes in Blood by Automated count\" \"Basophils in Blood by Automated count\" \"Eosinophils in Blood by Automated count\" \"Monocytes in Blood by Automated count\" \"Prothrombin time (PT)\" \"INR in Platelet poor plasma by Coagulation assay\" \"aPTT in Blood by Coagulation assay\" \"Protein in Urine by Test strip\" \"Specific gravity of Urine by Test strip\" \"pH of Urine by Test strip\" \"Glucose in Urine by Test strip\" \"Ketones in Urine by Test strip\" \"Urobilinogen in Urine by Test strip\" \"Bilirubin.total in Serum or Plasma\" \"Aspartate aminotransferase in Serum or Plasma\" \"Alanine aminotransferase in Serum or Plasma\" \"Alkaline phosphatase in Serum or Plasma\" \"Leukocytes in Urine sediment by Microscopy high power field\" \"Bacteria in Urine sediment by Microscopy high power field\" \"Epithelial cells in Urine sediment by Microscopy high power fie\" \"Erythrocytes in Urine sediment by Microscopy high power field\" \"Albumin in Serum or Plasma\"'''\n",
    "    )\n"
   ]
  },
  {
   "cell_type": "markdown",
   "metadata": {},
   "source": [
    "### last"
   ]
  },
  {
   "cell_type": "code",
   "execution_count": 26,
   "metadata": {},
   "outputs": [
    {
     "name": "stdout",
     "output_type": "stream",
     "text": [
      "2023-11-29 00:37:14,650 - EHR-QC - INFO - Parsing command line arguments\n",
      "2023-11-29 00:37:14,651 - EHR-QC - INFO - args.source_path: /home/yram0006/phd/chapter_2/workspace/MIMIC-EHR-Pipeline/data/sepsis_icd_cohort/extracts/labs_last_episode_date.csv\n",
      "2023-11-29 00:37:14,651 - EHR-QC - INFO - args.save_path: /home/yram0006/phd/chapter_2/workspace/MIMIC-EHR-Pipeline/data/sepsis_icd_cohort/plots/explore/labs_last.html\n",
      "2023-11-29 00:37:14,651 - EHR-QC - INFO - args.columns_list: ['Leukocytes in Blood by Manual count', 'Hematocrit of Blood by Automated count', 'MCHC by Automated count', 'MCH by Automated count', 'Erythrocyte distribution width by Automated count', 'MCV by Automated count', 'Erythrocytes in Blood by Automated count', 'Platelets in Blood by Automated count', 'Hemoglobin in Blood', 'Urea nitrogen in Serum or Plasma', 'Creatinine in Serum or Plasma', 'Potassium in Serum or Plasma', 'Chloride in Serum or Plasma', 'Bicarbonate in Serum or Plasma', 'Sodium in Serum or Plasma', 'Anion gap 4 in Serum or Plasma', 'Glucose in Serum or Plasma', 'Magnesium in Serum or Plasma', 'Calcium in Serum or Plasma', 'Phosphate in Serum or Plasma', 'Neutrophils in Urine by Automated count', 'Lymphocytes in Blood by Automated count', 'Basophils in Blood by Automated count', 'Eosinophils in Blood by Automated count', 'Monocytes in Blood by Automated count', 'Prothrombin time (PT)', 'INR in Platelet poor plasma by Coagulation assay', 'aPTT in Blood by Coagulation assay', 'Protein in Urine by Test strip', 'Specific gravity of Urine by Test strip', 'pH of Urine by Test strip', 'Glucose in Urine by Test strip', 'Ketones in Urine by Test strip', 'Urobilinogen in Urine by Test strip', 'Bilirubin.total in Serum or Plasma', 'Aspartate aminotransferase in Serum or Plasma', 'Alanine aminotransferase in Serum or Plasma', 'Alkaline phosphatase in Serum or Plasma', 'Leukocytes in Urine sediment by Microscopy high power field', 'Bacteria in Urine sediment by Microscopy high power field', 'Epithelial cells in Urine sediment by Microscopy high power fie', 'Erythrocytes in Urine sediment by Microscopy high power field', 'Albumin in Serum or Plasma']\n",
      "2023-11-29 00:37:15,023 - EHR-QC - INFO - Generating the exploration report\n",
      "2023-11-29 00:37:15,023 - EHR-QC - INFO - Columns: Leukocytes in Blood by Manual count\n",
      "2023-11-29 00:37:15,916 - EHR-QC - INFO - Columns: Hematocrit of Blood by Automated count\n",
      "2023-11-29 00:37:16,565 - EHR-QC - INFO - Columns: MCHC by Automated count\n",
      "2023-11-29 00:37:17,210 - EHR-QC - INFO - Columns: MCH by Automated count\n",
      "2023-11-29 00:37:17,857 - EHR-QC - INFO - Columns: Erythrocyte distribution width by Automated count\n",
      "2023-11-29 00:37:18,482 - EHR-QC - INFO - Columns: MCV by Automated count\n",
      "2023-11-29 00:37:19,121 - EHR-QC - INFO - Columns: Erythrocytes in Blood by Automated count\n",
      "2023-11-29 00:37:19,762 - EHR-QC - INFO - Columns: Platelets in Blood by Automated count\n",
      "2023-11-29 00:37:20,395 - EHR-QC - INFO - Columns: Hemoglobin in Blood\n",
      "2023-11-29 00:37:21,046 - EHR-QC - INFO - Columns: Urea nitrogen in Serum or Plasma\n",
      "2023-11-29 00:37:21,688 - EHR-QC - INFO - Columns: Creatinine in Serum or Plasma\n",
      "2023-11-29 00:37:22,338 - EHR-QC - INFO - Columns: Potassium in Serum or Plasma\n",
      "2023-11-29 00:37:22,986 - EHR-QC - INFO - Columns: Chloride in Serum or Plasma\n",
      "2023-11-29 00:37:23,630 - EHR-QC - INFO - Columns: Bicarbonate in Serum or Plasma\n",
      "2023-11-29 00:37:24,271 - EHR-QC - INFO - Columns: Sodium in Serum or Plasma\n",
      "2023-11-29 00:37:24,924 - EHR-QC - INFO - Columns: Anion gap 4 in Serum or Plasma\n",
      "2023-11-29 00:37:25,644 - EHR-QC - INFO - Columns: Glucose in Serum or Plasma\n",
      "2023-11-29 00:37:26,308 - EHR-QC - INFO - Columns: Magnesium in Serum or Plasma\n",
      "2023-11-29 00:37:26,952 - EHR-QC - INFO - Columns: Calcium in Serum or Plasma\n",
      "2023-11-29 00:37:27,584 - EHR-QC - INFO - Columns: Phosphate in Serum or Plasma\n",
      "2023-11-29 00:37:28,198 - EHR-QC - INFO - Columns: Neutrophils in Urine by Automated count\n"
     ]
    },
    {
     "name": "stderr",
     "output_type": "stream",
     "text": [
      "/superbugai-data/yash/chapter_2/workspace/EHR-QC-Preprocess/ehrqc/plot/ExplorationGraphs.py:61: RuntimeWarning: More than 20 figures have been opened. Figures created through the pyplot interface (`matplotlib.pyplot.figure`) are retained until explicitly closed and may consume too much memory. (To control this warning, see the rcParam `figure.max_open_warning`). Consider using `matplotlib.pyplot.close()`.\n",
      "  fig, ax = plt.subplots()\n"
     ]
    },
    {
     "name": "stdout",
     "output_type": "stream",
     "text": [
      "2023-11-29 00:37:28,557 - EHR-QC - INFO - Columns: Lymphocytes in Blood by Automated count\n",
      "2023-11-29 00:37:28,945 - EHR-QC - INFO - Columns: Basophils in Blood by Automated count\n",
      "2023-11-29 00:37:29,333 - EHR-QC - INFO - Columns: Eosinophils in Blood by Automated count\n",
      "2023-11-29 00:37:29,728 - EHR-QC - INFO - Columns: Monocytes in Blood by Automated count\n",
      "2023-11-29 00:37:30,115 - EHR-QC - INFO - Columns: Prothrombin time (PT)\n",
      "2023-11-29 00:37:30,640 - EHR-QC - INFO - Columns: INR in Platelet poor plasma by Coagulation assay\n",
      "2023-11-29 00:37:31,157 - EHR-QC - INFO - Columns: aPTT in Blood by Coagulation assay\n",
      "2023-11-29 00:37:31,659 - EHR-QC - INFO - Columns: Protein in Urine by Test strip\n",
      "2023-11-29 00:37:31,972 - EHR-QC - INFO - Columns: Specific gravity of Urine by Test strip\n",
      "2023-11-29 00:37:32,308 - EHR-QC - INFO - Columns: pH of Urine by Test strip\n",
      "2023-11-29 00:37:32,634 - EHR-QC - INFO - Columns: Glucose in Urine by Test strip\n",
      "2023-11-29 00:37:32,923 - EHR-QC - INFO - Columns: Ketones in Urine by Test strip\n",
      "2023-11-29 00:37:33,208 - EHR-QC - INFO - Columns: Urobilinogen in Urine by Test strip\n",
      "2023-11-29 00:37:33,501 - EHR-QC - INFO - Columns: Bilirubin.total in Serum or Plasma\n",
      "2023-11-29 00:37:33,983 - EHR-QC - INFO - Columns: Aspartate aminotransferase in Serum or Plasma\n",
      "2023-11-29 00:37:34,488 - EHR-QC - INFO - Columns: Alanine aminotransferase in Serum or Plasma\n",
      "2023-11-29 00:37:34,976 - EHR-QC - INFO - Columns: Alkaline phosphatase in Serum or Plasma\n",
      "2023-11-29 00:37:35,468 - EHR-QC - INFO - Columns: Leukocytes in Urine sediment by Microscopy high power field\n",
      "2023-11-29 00:37:35,934 - EHR-QC - INFO - Columns: Bacteria in Urine sediment by Microscopy high power field\n",
      "2023-11-29 00:37:36,198 - EHR-QC - INFO - Columns: Epithelial cells in Urine sediment by Microscopy high power fie\n",
      "2023-11-29 00:37:36,557 - EHR-QC - INFO - Columns: Erythrocytes in Urine sediment by Microscopy high power field\n",
      "2023-11-29 00:37:36,910 - EHR-QC - INFO - Columns: Albumin in Serum or Plasma\n",
      "2023-11-29 00:37:37,300 - EHR-QC - INFO - Saving the exploration report!!\n",
      "2023-11-29 00:37:37,304 - EHR-QC - INFO - Done!!\n"
     ]
    },
    {
     "data": {
      "text/plain": [
       "0"
      ]
     },
     "execution_count": 26,
     "metadata": {},
     "output_type": "execute_result"
    }
   ],
   "source": [
    "import os\n",
    "\n",
    "\n",
    "os.system(\n",
    "    'cd ' + os.environ['EHR_QC_PREPROCESS_BASE'] + ';'\n",
    "    +\n",
    "    '''.venv/bin/python -m ehrqc.plot.ExplorationGraphs ''' + os.environ['MIMIC_EHR_PIPELINE_BASE'] + '''/data/sepsis_icd_cohort/extracts/labs_last_episode_date.csv ''' + os.environ['MIMIC_EHR_PIPELINE_BASE'] + '''/data/sepsis_icd_cohort/plots/explore/labs_last.html -c \"Leukocytes in Blood by Manual count\" \"Hematocrit of Blood by Automated count\" \"MCHC by Automated count\" \"MCH by Automated count\" \"Erythrocyte distribution width by Automated count\" \"MCV by Automated count\" \"Erythrocytes in Blood by Automated count\" \"Platelets in Blood by Automated count\" \"Hemoglobin in Blood\" \"Urea nitrogen in Serum or Plasma\" \"Creatinine in Serum or Plasma\" \"Potassium in Serum or Plasma\" \"Chloride in Serum or Plasma\" \"Bicarbonate in Serum or Plasma\" \"Sodium in Serum or Plasma\" \"Anion gap 4 in Serum or Plasma\" \"Glucose in Serum or Plasma\" \"Magnesium in Serum or Plasma\" \"Calcium in Serum or Plasma\" \"Phosphate in Serum or Plasma\" \"Neutrophils in Urine by Automated count\" \"Lymphocytes in Blood by Automated count\" \"Basophils in Blood by Automated count\" \"Eosinophils in Blood by Automated count\" \"Monocytes in Blood by Automated count\" \"Prothrombin time (PT)\" \"INR in Platelet poor plasma by Coagulation assay\" \"aPTT in Blood by Coagulation assay\" \"Protein in Urine by Test strip\" \"Specific gravity of Urine by Test strip\" \"pH of Urine by Test strip\" \"Glucose in Urine by Test strip\" \"Ketones in Urine by Test strip\" \"Urobilinogen in Urine by Test strip\" \"Bilirubin.total in Serum or Plasma\" \"Aspartate aminotransferase in Serum or Plasma\" \"Alanine aminotransferase in Serum or Plasma\" \"Alkaline phosphatase in Serum or Plasma\" \"Leukocytes in Urine sediment by Microscopy high power field\" \"Bacteria in Urine sediment by Microscopy high power field\" \"Epithelial cells in Urine sediment by Microscopy high power fie\" \"Erythrocytes in Urine sediment by Microscopy high power field\" \"Albumin in Serum or Plasma\"'''\n",
    "    )\n"
   ]
  }
 ],
 "metadata": {
  "kernelspec": {
   "display_name": ".venv",
   "language": "python",
   "name": "python3"
  },
  "language_info": {
   "codemirror_mode": {
    "name": "ipython",
    "version": 3
   },
   "file_extension": ".py",
   "mimetype": "text/x-python",
   "name": "python",
   "nbconvert_exporter": "python",
   "pygments_lexer": "ipython3",
   "version": "3.8.10"
  }
 },
 "nbformat": 4,
 "nbformat_minor": 2
}
