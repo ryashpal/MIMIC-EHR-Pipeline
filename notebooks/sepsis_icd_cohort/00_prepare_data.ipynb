{
 "cells": [
  {
   "cell_type": "markdown",
   "metadata": {},
   "source": [
    "# Data preparation\n",
    "\n",
    "This notebook contains code that is used to prepare the MIMIC ICU cohort before starting the standardisation process"
   ]
  },
  {
   "cell_type": "markdown",
   "metadata": {},
   "source": [
    "## Get DB Connection"
   ]
  },
  {
   "cell_type": "code",
   "execution_count": null,
   "metadata": {},
   "outputs": [],
   "source": [
    "import os\n",
    "import psycopg2\n",
    "\n",
    "\n",
    "def getConnection():\n",
    "    # Connect to postgres with a copy of the MIMIC-III database\n",
    "    con = psycopg2.connect(\n",
    "        dbname=os.environ['POSTGRES_DB_NAME'],\n",
    "        user=os.environ['POSTGRES_USER_NAME'],\n",
    "        host=os.environ['POSTGRES_HOSTNAME'],\n",
    "        port=os.environ['POSTGRES_PORT_NUMBER'],\n",
    "        password=os.environ['POSTGRES_PASSWORD']\n",
    "        )\n",
    "    return con"
   ]
  },
  {
   "cell_type": "markdown",
   "metadata": {},
   "source": [
    "## Create a Cohort"
   ]
  },
  {
   "cell_type": "code",
   "execution_count": null,
   "metadata": {},
   "outputs": [],
   "source": [
    "con = getConnection()\n",
    "\n",
    "\n",
    "dropQuery = \"\"\"drop table if exists omop_test_20220817.cohort_icd cascade\"\"\"\n",
    "createQuery = '''\n",
    "    create table omop_test_20220817.cohort_icd AS\n",
    "    with stg1 as (\n",
    "        select\n",
    "        per.person_id,\n",
    "        min(vis.visit_start_datetime) as anchor_time\n",
    "        from\n",
    "        omop_test_20220817.condition_occurrence con\n",
    "        inner join omop_test_20220817.visit_occurrence vis\n",
    "        on con.visit_occurrence_id = vis.visit_occurrence_id\n",
    "        inner join mimiciv.admissions adm\n",
    "        on adm.hadm_id = split_part(vis.visit_source_value, '|', 2)::int\n",
    "        inner join mimiciv.patients pat\n",
    "        on pat.subject_id = adm.subject_id\n",
    "        inner join omop_test_20220817.person per\n",
    "        on per.person_id = con.person_id\n",
    "        where vis.visit_source_value not like '%-%'\n",
    "        and (floor(date_part('day', vis.visit_start_datetime - make_timestamp(pat.anchor_year, 1, 1, 0, 0, 0))/365.0) + pat.anchor_age) > 18\n",
    "        and (con.condition_source_value in ('99591', '99592', '78552', 'A419', 'R6520', 'R6521'))\n",
    "        group by per.person_id\n",
    "    )\n",
    "    select\n",
    "    s1.person_id,\n",
    "    s1.anchor_time,\n",
    "    vo.visit_occurrence_id\n",
    "    from\n",
    "    stg1 s1\n",
    "    inner join omop_test_20220817.visit_occurrence vo\n",
    "    on vo.person_id = s1.person_id\n",
    "    and vo.visit_start_datetime = s1.anchor_time\n",
    "'''\n",
    "\n",
    "with con:\n",
    "    with con.cursor() as cursor:\n",
    "        cursor.execute(dropQuery)\n",
    "        cursor.execute(createQuery)\n"
   ]
  }
 ],
 "metadata": {
  "language_info": {
   "name": "python"
  }
 },
 "nbformat": 4,
 "nbformat_minor": 2
}
