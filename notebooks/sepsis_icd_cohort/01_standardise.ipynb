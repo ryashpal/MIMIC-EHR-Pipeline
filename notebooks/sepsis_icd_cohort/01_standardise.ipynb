{
 "cells": [
  {
   "cell_type": "markdown",
   "metadata": {},
   "source": [
    "# OMOP-CDM migration\n",
    "\n",
    "The data is already standardised"
   ]
  }
 ],
 "metadata": {
  "language_info": {
   "name": "python"
  }
 },
 "nbformat": 4,
 "nbformat_minor": 2
}
