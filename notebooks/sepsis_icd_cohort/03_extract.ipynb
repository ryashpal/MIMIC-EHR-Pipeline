{
 "cells": [
  {
   "cell_type": "markdown",
   "metadata": {},
   "source": [
    "# Extract the data"
   ]
  },
  {
   "cell_type": "markdown",
   "metadata": {},
   "source": [
    "## Labs - from standard OMOP-CDM schema to csv files"
   ]
  },
  {
   "cell_type": "markdown",
   "metadata": {},
   "source": [
    "### Average per episode and date"
   ]
  },
  {
   "cell_type": "code",
   "execution_count": 9,
   "metadata": {},
   "outputs": [
    {
     "name": "stdout",
     "output_type": "stream",
     "text": [
      "2023-11-29 00:34:17,691 - EHR-QC - INFO - Parsing command line arguments\n",
      "2023-11-29 00:34:17,692 - EHR-QC - INFO - args.save_path: /home/yram0006/phd/chapter_2/workspace/MIMIC-EHR-Pipeline/data/sepsis_icd_cohort/extracts/labs_avg_episode_date.csv\n",
      "2023-11-29 00:34:17,692 - EHR-QC - INFO - args.schema_name: omop_migration_etl_20220817\n",
      "2023-11-29 00:34:17,692 - EHR-QC - INFO - args.sql_file_path: /home/yram0006/phd/chapter_2/workspace/EHR-QC-Preprocess/sql/mimic_icd_cohort/omop_labs_episode_date/avg.sql\n",
      "2023-11-29 00:34:17,715 - EHR-QC - INFO - extracting data\n"
     ]
    },
    {
     "name": "stderr",
     "output_type": "stream",
     "text": [
      "/superbugai-data/yash/chapter_2/workspace/EHR-QC-Preprocess/ehrqc/extract/ExtractData.py:11: UserWarning: pandas only supports SQLAlchemy connectable (engine/connection) or database string URI or sqlite3 DBAPI2 connection. Other DBAPI2 objects are not tested. Please consider using SQLAlchemy.\n",
      "  mimicOmopSepsisIcdDf = pd.read_sql_query(mimicOmopSepsisIcdQuery, con)\n"
     ]
    },
    {
     "name": "stdout",
     "output_type": "stream",
     "text": [
      "2023-11-29 00:34:44,198 - EHR-QC - INFO - Saving raw data to file\n",
      "2023-11-29 00:34:47,596 - EHR-QC - INFO - Done!\n"
     ]
    },
    {
     "data": {
      "text/plain": [
       "0"
      ]
     },
     "execution_count": 9,
     "metadata": {},
     "output_type": "execute_result"
    }
   ],
   "source": [
    "import os\n",
    "\n",
    "\n",
    "os.system(\n",
    "    'cd ' + os.environ['EHR_QC_PREPROCESS_BASE'] + ';'\n",
    "    +\n",
    "    '''.venv/bin/python -m ehrqc.extract.ExtractData ''' + os.environ['MIMIC_EHR_PIPELINE_BASE'] + '''/data/sepsis_icd_cohort/extracts/labs_avg_episode_date.csv omop_migration_etl_20220817 ''' + os.environ['EHR_QC_PREPROCESS_BASE'] + '''/sql/mimic_icd_cohort/omop_labs_episode_date/avg.sql;'''\n",
    "    )\n"
   ]
  },
  {
   "cell_type": "markdown",
   "metadata": {},
   "source": [
    "### Min per episode and date"
   ]
  },
  {
   "cell_type": "code",
   "execution_count": 10,
   "metadata": {},
   "outputs": [
    {
     "name": "stdout",
     "output_type": "stream",
     "text": [
      "2023-11-29 00:34:48,096 - EHR-QC - INFO - Parsing command line arguments\n",
      "2023-11-29 00:34:48,097 - EHR-QC - INFO - args.save_path: /home/yram0006/phd/chapter_2/workspace/MIMIC-EHR-Pipeline/data/sepsis_icd_cohort/extracts/labs_min_episode_date.csv\n",
      "2023-11-29 00:34:48,097 - EHR-QC - INFO - args.schema_name: omop_migration_etl_20220817\n",
      "2023-11-29 00:34:48,097 - EHR-QC - INFO - args.sql_file_path: /home/yram0006/phd/chapter_2/workspace/EHR-QC-Preprocess/sql/mimic_icd_cohort/omop_labs_episode_date/min.sql\n",
      "2023-11-29 00:34:48,119 - EHR-QC - INFO - extracting data\n"
     ]
    },
    {
     "name": "stderr",
     "output_type": "stream",
     "text": [
      "/superbugai-data/yash/chapter_2/workspace/EHR-QC-Preprocess/ehrqc/extract/ExtractData.py:11: UserWarning: pandas only supports SQLAlchemy connectable (engine/connection) or database string URI or sqlite3 DBAPI2 connection. Other DBAPI2 objects are not tested. Please consider using SQLAlchemy.\n",
      "  mimicOmopSepsisIcdDf = pd.read_sql_query(mimicOmopSepsisIcdQuery, con)\n"
     ]
    },
    {
     "name": "stdout",
     "output_type": "stream",
     "text": [
      "2023-11-29 00:35:12,136 - EHR-QC - INFO - Saving raw data to file\n",
      "2023-11-29 00:35:15,425 - EHR-QC - INFO - Done!\n"
     ]
    },
    {
     "data": {
      "text/plain": [
       "0"
      ]
     },
     "execution_count": 10,
     "metadata": {},
     "output_type": "execute_result"
    }
   ],
   "source": [
    "import os\n",
    "\n",
    "\n",
    "os.system(\n",
    "    'cd ' + os.environ['EHR_QC_PREPROCESS_BASE'] + ';'\n",
    "    +\n",
    "    '''.venv/bin/python -m ehrqc.extract.ExtractData ''' + os.environ['MIMIC_EHR_PIPELINE_BASE'] + '''/data/sepsis_icd_cohort/extracts/labs_min_episode_date.csv omop_migration_etl_20220817 ''' + os.environ['EHR_QC_PREPROCESS_BASE'] + '''/sql/mimic_icd_cohort/omop_labs_episode_date/min.sql;'''\n",
    "    )"
   ]
  },
  {
   "cell_type": "markdown",
   "metadata": {},
   "source": [
    "### Max per episode and date"
   ]
  },
  {
   "cell_type": "code",
   "execution_count": 11,
   "metadata": {},
   "outputs": [
    {
     "name": "stdout",
     "output_type": "stream",
     "text": [
      "2023-11-29 00:35:15,922 - EHR-QC - INFO - Parsing command line arguments\n",
      "2023-11-29 00:35:15,923 - EHR-QC - INFO - args.save_path: /home/yram0006/phd/chapter_2/workspace/MIMIC-EHR-Pipeline/data/sepsis_icd_cohort/extracts/labs_max_episode_date.csv\n",
      "2023-11-29 00:35:15,923 - EHR-QC - INFO - args.schema_name: omop_migration_etl_20220817\n",
      "2023-11-29 00:35:15,923 - EHR-QC - INFO - args.sql_file_path: /home/yram0006/phd/chapter_2/workspace/EHR-QC-Preprocess/sql/mimic_icd_cohort/omop_labs_episode_date/max.sql\n",
      "2023-11-29 00:35:15,945 - EHR-QC - INFO - extracting data\n"
     ]
    },
    {
     "name": "stderr",
     "output_type": "stream",
     "text": [
      "/superbugai-data/yash/chapter_2/workspace/EHR-QC-Preprocess/ehrqc/extract/ExtractData.py:11: UserWarning: pandas only supports SQLAlchemy connectable (engine/connection) or database string URI or sqlite3 DBAPI2 connection. Other DBAPI2 objects are not tested. Please consider using SQLAlchemy.\n",
      "  mimicOmopSepsisIcdDf = pd.read_sql_query(mimicOmopSepsisIcdQuery, con)\n"
     ]
    },
    {
     "name": "stdout",
     "output_type": "stream",
     "text": [
      "2023-11-29 00:35:40,142 - EHR-QC - INFO - Saving raw data to file\n",
      "2023-11-29 00:35:43,427 - EHR-QC - INFO - Done!\n"
     ]
    },
    {
     "data": {
      "text/plain": [
       "0"
      ]
     },
     "execution_count": 11,
     "metadata": {},
     "output_type": "execute_result"
    }
   ],
   "source": [
    "import os\n",
    "\n",
    "\n",
    "os.system(\n",
    "    'cd ' + os.environ['EHR_QC_PREPROCESS_BASE'] + ';'\n",
    "    +\n",
    "    '''.venv/bin/python -m ehrqc.extract.ExtractData ''' + os.environ['MIMIC_EHR_PIPELINE_BASE'] + '''/data/sepsis_icd_cohort/extracts/labs_max_episode_date.csv omop_migration_etl_20220817 ''' + os.environ['EHR_QC_PREPROCESS_BASE'] + '''/sql/mimic_icd_cohort/omop_labs_episode_date/max.sql;'''\n",
    "    )"
   ]
  },
  {
   "cell_type": "markdown",
   "metadata": {},
   "source": [
    "### First per episode and date"
   ]
  },
  {
   "cell_type": "code",
   "execution_count": 12,
   "metadata": {},
   "outputs": [
    {
     "name": "stdout",
     "output_type": "stream",
     "text": [
      "2023-11-29 00:35:43,967 - EHR-QC - INFO - Parsing command line arguments\n",
      "2023-11-29 00:35:43,968 - EHR-QC - INFO - args.save_path: /home/yram0006/phd/chapter_2/workspace/MIMIC-EHR-Pipeline/data/sepsis_icd_cohort/extracts/labs_first_episode_date.csv\n",
      "2023-11-29 00:35:43,968 - EHR-QC - INFO - args.schema_name: omop_migration_etl_20220817\n",
      "2023-11-29 00:35:43,968 - EHR-QC - INFO - args.sql_file_path: /home/yram0006/phd/chapter_2/workspace/EHR-QC-Preprocess/sql/mimic_icd_cohort/omop_labs_episode_date/first.sql\n",
      "2023-11-29 00:35:43,992 - EHR-QC - INFO - extracting data\n"
     ]
    },
    {
     "name": "stderr",
     "output_type": "stream",
     "text": [
      "/superbugai-data/yash/chapter_2/workspace/EHR-QC-Preprocess/ehrqc/extract/ExtractData.py:11: UserWarning: pandas only supports SQLAlchemy connectable (engine/connection) or database string URI or sqlite3 DBAPI2 connection. Other DBAPI2 objects are not tested. Please consider using SQLAlchemy.\n",
      "  mimicOmopSepsisIcdDf = pd.read_sql_query(mimicOmopSepsisIcdQuery, con)\n"
     ]
    },
    {
     "name": "stdout",
     "output_type": "stream",
     "text": [
      "2023-11-29 00:36:23,332 - EHR-QC - INFO - Saving raw data to file\n",
      "2023-11-29 00:36:26,453 - EHR-QC - INFO - Done!\n"
     ]
    },
    {
     "data": {
      "text/plain": [
       "0"
      ]
     },
     "execution_count": 12,
     "metadata": {},
     "output_type": "execute_result"
    }
   ],
   "source": [
    "import os\n",
    "\n",
    "\n",
    "os.system(\n",
    "    'cd ' + os.environ['EHR_QC_PREPROCESS_BASE'] + ';'\n",
    "    +\n",
    "    '''.venv/bin/python -m ehrqc.extract.ExtractData ''' + os.environ['MIMIC_EHR_PIPELINE_BASE'] + '''/data/sepsis_icd_cohort/extracts/labs_first_episode_date.csv omop_migration_etl_20220817 ''' + os.environ['EHR_QC_PREPROCESS_BASE'] + '''/sql/mimic_icd_cohort/omop_labs_episode_date/first.sql;'''\n",
    "    )"
   ]
  },
  {
   "cell_type": "markdown",
   "metadata": {},
   "source": [
    "### Last per episode and date"
   ]
  },
  {
   "cell_type": "code",
   "execution_count": 13,
   "metadata": {},
   "outputs": [
    {
     "name": "stdout",
     "output_type": "stream",
     "text": [
      "2023-11-29 00:36:26,992 - EHR-QC - INFO - Parsing command line arguments\n",
      "2023-11-29 00:36:26,993 - EHR-QC - INFO - args.save_path: /home/yram0006/phd/chapter_2/workspace/MIMIC-EHR-Pipeline/data/sepsis_icd_cohort/extracts/labs_last_episode_date.csv\n",
      "2023-11-29 00:36:26,993 - EHR-QC - INFO - args.schema_name: omop_migration_etl_20220817\n",
      "2023-11-29 00:36:26,993 - EHR-QC - INFO - args.sql_file_path: /home/yram0006/phd/chapter_2/workspace/EHR-QC-Preprocess/sql/mimic_icd_cohort/omop_labs_episode_date/last.sql\n",
      "2023-11-29 00:36:27,017 - EHR-QC - INFO - extracting data\n"
     ]
    },
    {
     "name": "stderr",
     "output_type": "stream",
     "text": [
      "/superbugai-data/yash/chapter_2/workspace/EHR-QC-Preprocess/ehrqc/extract/ExtractData.py:11: UserWarning: pandas only supports SQLAlchemy connectable (engine/connection) or database string URI or sqlite3 DBAPI2 connection. Other DBAPI2 objects are not tested. Please consider using SQLAlchemy.\n",
      "  mimicOmopSepsisIcdDf = pd.read_sql_query(mimicOmopSepsisIcdQuery, con)\n"
     ]
    },
    {
     "name": "stdout",
     "output_type": "stream",
     "text": [
      "2023-11-29 00:37:06,590 - EHR-QC - INFO - Saving raw data to file\n",
      "2023-11-29 00:37:09,735 - EHR-QC - INFO - Done!\n"
     ]
    },
    {
     "data": {
      "text/plain": [
       "0"
      ]
     },
     "execution_count": 13,
     "metadata": {},
     "output_type": "execute_result"
    }
   ],
   "source": [
    "import os\n",
    "\n",
    "\n",
    "os.system(\n",
    "    'cd ' + os.environ['EHR_QC_PREPROCESS_BASE'] + ';'\n",
    "    +\n",
    "    '''.venv/bin/python -m ehrqc.extract.ExtractData ''' + os.environ['MIMIC_EHR_PIPELINE_BASE'] + '''/data/sepsis_icd_cohort/extracts/labs_last_episode_date.csv omop_migration_etl_20220817 ''' + os.environ['EHR_QC_PREPROCESS_BASE'] + '''/sql/mimic_icd_cohort/omop_labs_episode_date/last.sql;'''\n",
    "    )"
   ]
  },
  {
   "cell_type": "markdown",
   "metadata": {},
   "source": [
    "## Vitals - from standard OMOP-CDM schema to csv files"
   ]
  },
  {
   "cell_type": "markdown",
   "metadata": {},
   "source": [
    "### Average per episode and date"
   ]
  },
  {
   "cell_type": "code",
   "execution_count": 4,
   "metadata": {},
   "outputs": [
    {
     "name": "stdout",
     "output_type": "stream",
     "text": [
      "2023-11-29 00:09:38,023 - EHR-QC - INFO - Parsing command line arguments\n",
      "2023-11-29 00:09:38,024 - EHR-QC - INFO - args.save_path: /home/yram0006/phd/chapter_2/workspace/MIMIC-EHR-Pipeline/data/sepsis_icd_cohort/extracts/vitals_avg_episode_date.csv\n",
      "2023-11-29 00:09:38,024 - EHR-QC - INFO - args.schema_name: omop_migration_etl_20220817\n",
      "2023-11-29 00:09:38,024 - EHR-QC - INFO - args.sql_file_path: /home/yram0006/phd/chapter_2/workspace/EHR-QC-Preprocess/sql/mimic_icd_cohort/omop_vitals_episode_date/avg.sql\n",
      "2023-11-29 00:09:38,046 - EHR-QC - INFO - extracting data\n"
     ]
    },
    {
     "name": "stderr",
     "output_type": "stream",
     "text": [
      "/superbugai-data/yash/chapter_2/workspace/EHR-QC-Preprocess/ehrqc/extract/ExtractData.py:11: UserWarning: pandas only supports SQLAlchemy connectable (engine/connection) or database string URI or sqlite3 DBAPI2 connection. Other DBAPI2 objects are not tested. Please consider using SQLAlchemy.\n",
      "  mimicOmopSepsisIcdDf = pd.read_sql_query(mimicOmopSepsisIcdQuery, con)\n"
     ]
    },
    {
     "name": "stdout",
     "output_type": "stream",
     "text": [
      "2023-11-29 00:10:04,677 - EHR-QC - INFO - Saving raw data to file\n",
      "2023-11-29 00:10:05,607 - EHR-QC - INFO - Done!\n"
     ]
    },
    {
     "data": {
      "text/plain": [
       "0"
      ]
     },
     "execution_count": 4,
     "metadata": {},
     "output_type": "execute_result"
    }
   ],
   "source": [
    "import os\n",
    "\n",
    "\n",
    "os.system(\n",
    "    'cd ' + os.environ['EHR_QC_PREPROCESS_BASE'] + ';'\n",
    "    +\n",
    "    '''.venv/bin/python -m ehrqc.extract.ExtractData ''' + os.environ['MIMIC_EHR_PIPELINE_BASE'] + '''/data/sepsis_icd_cohort/extracts/vitals_avg_episode_date.csv omop_migration_etl_20220817 ''' + os.environ['EHR_QC_PREPROCESS_BASE'] + '''/sql/mimic_icd_cohort/omop_vitals_episode_date/avg.sql;'''\n",
    "    )\n"
   ]
  },
  {
   "cell_type": "markdown",
   "metadata": {},
   "source": [
    "### Min per episode and date"
   ]
  },
  {
   "cell_type": "code",
   "execution_count": 5,
   "metadata": {},
   "outputs": [
    {
     "name": "stdout",
     "output_type": "stream",
     "text": [
      "2023-11-29 00:10:05,981 - EHR-QC - INFO - Parsing command line arguments\n",
      "2023-11-29 00:10:05,982 - EHR-QC - INFO - args.save_path: /home/yram0006/phd/chapter_2/workspace/MIMIC-EHR-Pipeline/data/sepsis_icd_cohort/extracts/vitals_min_episode_date.csv\n",
      "2023-11-29 00:10:05,982 - EHR-QC - INFO - args.schema_name: omop_migration_etl_20220817\n",
      "2023-11-29 00:10:05,982 - EHR-QC - INFO - args.sql_file_path: /home/yram0006/phd/chapter_2/workspace/EHR-QC-Preprocess/sql/mimic_icd_cohort/omop_vitals_episode_date/min.sql\n",
      "2023-11-29 00:10:06,004 - EHR-QC - INFO - extracting data\n"
     ]
    },
    {
     "name": "stderr",
     "output_type": "stream",
     "text": [
      "/superbugai-data/yash/chapter_2/workspace/EHR-QC-Preprocess/ehrqc/extract/ExtractData.py:11: UserWarning: pandas only supports SQLAlchemy connectable (engine/connection) or database string URI or sqlite3 DBAPI2 connection. Other DBAPI2 objects are not tested. Please consider using SQLAlchemy.\n",
      "  mimicOmopSepsisIcdDf = pd.read_sql_query(mimicOmopSepsisIcdQuery, con)\n"
     ]
    },
    {
     "name": "stdout",
     "output_type": "stream",
     "text": [
      "2023-11-29 00:10:30,843 - EHR-QC - INFO - Saving raw data to file\n",
      "2023-11-29 00:10:31,781 - EHR-QC - INFO - Done!\n"
     ]
    },
    {
     "data": {
      "text/plain": [
       "0"
      ]
     },
     "execution_count": 5,
     "metadata": {},
     "output_type": "execute_result"
    }
   ],
   "source": [
    "import os\n",
    "\n",
    "\n",
    "os.system(\n",
    "    'cd ' + os.environ['EHR_QC_PREPROCESS_BASE'] + ';'\n",
    "    +\n",
    "    '''.venv/bin/python -m ehrqc.extract.ExtractData ''' + os.environ['MIMIC_EHR_PIPELINE_BASE'] + '''/data/sepsis_icd_cohort/extracts/vitals_min_episode_date.csv omop_migration_etl_20220817 ''' + os.environ['EHR_QC_PREPROCESS_BASE'] + '''/sql/mimic_icd_cohort/omop_vitals_episode_date/min.sql;'''\n",
    "    )\n"
   ]
  },
  {
   "cell_type": "markdown",
   "metadata": {},
   "source": [
    "### Max per episode and date"
   ]
  },
  {
   "cell_type": "code",
   "execution_count": 6,
   "metadata": {},
   "outputs": [
    {
     "name": "stdout",
     "output_type": "stream",
     "text": [
      "2023-11-29 00:10:32,161 - EHR-QC - INFO - Parsing command line arguments\n",
      "2023-11-29 00:10:32,162 - EHR-QC - INFO - args.save_path: /home/yram0006/phd/chapter_2/workspace/MIMIC-EHR-Pipeline/data/sepsis_icd_cohort/extracts/vitals_max_episode_date.csv\n",
      "2023-11-29 00:10:32,162 - EHR-QC - INFO - args.schema_name: omop_migration_etl_20220817\n",
      "2023-11-29 00:10:32,162 - EHR-QC - INFO - args.sql_file_path: /home/yram0006/phd/chapter_2/workspace/EHR-QC-Preprocess/sql/mimic_icd_cohort/omop_vitals_episode_date/max.sql\n",
      "2023-11-29 00:10:32,184 - EHR-QC - INFO - extracting data\n"
     ]
    },
    {
     "name": "stderr",
     "output_type": "stream",
     "text": [
      "/superbugai-data/yash/chapter_2/workspace/EHR-QC-Preprocess/ehrqc/extract/ExtractData.py:11: UserWarning: pandas only supports SQLAlchemy connectable (engine/connection) or database string URI or sqlite3 DBAPI2 connection. Other DBAPI2 objects are not tested. Please consider using SQLAlchemy.\n",
      "  mimicOmopSepsisIcdDf = pd.read_sql_query(mimicOmopSepsisIcdQuery, con)\n"
     ]
    },
    {
     "name": "stdout",
     "output_type": "stream",
     "text": [
      "2023-11-29 00:10:56,738 - EHR-QC - INFO - Saving raw data to file\n",
      "2023-11-29 00:10:57,671 - EHR-QC - INFO - Done!\n"
     ]
    },
    {
     "data": {
      "text/plain": [
       "0"
      ]
     },
     "execution_count": 6,
     "metadata": {},
     "output_type": "execute_result"
    }
   ],
   "source": [
    "import os\n",
    "\n",
    "\n",
    "os.system(\n",
    "    'cd ' + os.environ['EHR_QC_PREPROCESS_BASE'] + ';'\n",
    "    +\n",
    "    '''.venv/bin/python -m ehrqc.extract.ExtractData ''' + os.environ['MIMIC_EHR_PIPELINE_BASE'] + '''/data/sepsis_icd_cohort/extracts/vitals_max_episode_date.csv omop_migration_etl_20220817 ''' + os.environ['EHR_QC_PREPROCESS_BASE'] + '''/sql/mimic_icd_cohort/omop_vitals_episode_date/max.sql;'''\n",
    "    )\n"
   ]
  },
  {
   "cell_type": "markdown",
   "metadata": {},
   "source": [
    "### First per episode and date"
   ]
  },
  {
   "cell_type": "code",
   "execution_count": 7,
   "metadata": {},
   "outputs": [
    {
     "name": "stdout",
     "output_type": "stream",
     "text": [
      "2023-11-29 00:10:58,072 - EHR-QC - INFO - Parsing command line arguments\n",
      "2023-11-29 00:10:58,074 - EHR-QC - INFO - args.save_path: /home/yram0006/phd/chapter_2/workspace/MIMIC-EHR-Pipeline/data/sepsis_icd_cohort/extracts/vitals_first_episode_date.csv\n",
      "2023-11-29 00:10:58,074 - EHR-QC - INFO - args.schema_name: omop_migration_etl_20220817\n",
      "2023-11-29 00:10:58,074 - EHR-QC - INFO - args.sql_file_path: /home/yram0006/phd/chapter_2/workspace/EHR-QC-Preprocess/sql/mimic_icd_cohort/omop_vitals_episode_date/first.sql\n",
      "2023-11-29 00:10:58,096 - EHR-QC - INFO - extracting data\n"
     ]
    },
    {
     "name": "stderr",
     "output_type": "stream",
     "text": [
      "/superbugai-data/yash/chapter_2/workspace/EHR-QC-Preprocess/ehrqc/extract/ExtractData.py:11: UserWarning: pandas only supports SQLAlchemy connectable (engine/connection) or database string URI or sqlite3 DBAPI2 connection. Other DBAPI2 objects are not tested. Please consider using SQLAlchemy.\n",
      "  mimicOmopSepsisIcdDf = pd.read_sql_query(mimicOmopSepsisIcdQuery, con)\n"
     ]
    },
    {
     "name": "stdout",
     "output_type": "stream",
     "text": [
      "2023-11-29 00:11:54,094 - EHR-QC - INFO - Saving raw data to file\n",
      "2023-11-29 00:11:54,821 - EHR-QC - INFO - Done!\n"
     ]
    },
    {
     "data": {
      "text/plain": [
       "0"
      ]
     },
     "execution_count": 7,
     "metadata": {},
     "output_type": "execute_result"
    }
   ],
   "source": [
    "import os\n",
    "\n",
    "\n",
    "os.system(\n",
    "    'cd ' + os.environ['EHR_QC_PREPROCESS_BASE'] + ';'\n",
    "    +\n",
    "    '''.venv/bin/python -m ehrqc.extract.ExtractData ''' + os.environ['MIMIC_EHR_PIPELINE_BASE'] + '''/data/sepsis_icd_cohort/extracts/vitals_first_episode_date.csv omop_migration_etl_20220817 ''' + os.environ['EHR_QC_PREPROCESS_BASE'] + '''/sql/mimic_icd_cohort/omop_vitals_episode_date/first.sql;'''\n",
    "    )\n"
   ]
  },
  {
   "cell_type": "markdown",
   "metadata": {},
   "source": [
    "### Last per episode and date"
   ]
  },
  {
   "cell_type": "code",
   "execution_count": 8,
   "metadata": {},
   "outputs": [
    {
     "name": "stdout",
     "output_type": "stream",
     "text": [
      "2023-11-29 00:11:55,206 - EHR-QC - INFO - Parsing command line arguments\n",
      "2023-11-29 00:11:55,207 - EHR-QC - INFO - args.save_path: /home/yram0006/phd/chapter_2/workspace/MIMIC-EHR-Pipeline/data/sepsis_icd_cohort/extracts/vitals_last_episode_date.csv\n",
      "2023-11-29 00:11:55,207 - EHR-QC - INFO - args.schema_name: omop_migration_etl_20220817\n",
      "2023-11-29 00:11:55,207 - EHR-QC - INFO - args.sql_file_path: /home/yram0006/phd/chapter_2/workspace/EHR-QC-Preprocess/sql/mimic_icd_cohort/omop_vitals_episode_date/last.sql\n",
      "2023-11-29 00:11:55,230 - EHR-QC - INFO - extracting data\n"
     ]
    },
    {
     "name": "stderr",
     "output_type": "stream",
     "text": [
      "/superbugai-data/yash/chapter_2/workspace/EHR-QC-Preprocess/ehrqc/extract/ExtractData.py:11: UserWarning: pandas only supports SQLAlchemy connectable (engine/connection) or database string URI or sqlite3 DBAPI2 connection. Other DBAPI2 objects are not tested. Please consider using SQLAlchemy.\n",
      "  mimicOmopSepsisIcdDf = pd.read_sql_query(mimicOmopSepsisIcdQuery, con)\n"
     ]
    },
    {
     "name": "stdout",
     "output_type": "stream",
     "text": [
      "2023-11-29 00:12:50,881 - EHR-QC - INFO - Saving raw data to file\n",
      "2023-11-29 00:12:51,598 - EHR-QC - INFO - Done!\n"
     ]
    },
    {
     "data": {
      "text/plain": [
       "0"
      ]
     },
     "execution_count": 8,
     "metadata": {},
     "output_type": "execute_result"
    }
   ],
   "source": [
    "import os\n",
    "\n",
    "\n",
    "os.system(\n",
    "    'cd ' + os.environ['EHR_QC_PREPROCESS_BASE'] + ';'\n",
    "    +\n",
    "    '''.venv/bin/python -m ehrqc.extract.ExtractData ''' + os.environ['MIMIC_EHR_PIPELINE_BASE'] + '''/data/sepsis_icd_cohort/extracts/vitals_last_episode_date.csv omop_migration_etl_20220817 ''' + os.environ['EHR_QC_PREPROCESS_BASE'] + '''/sql/mimic_icd_cohort/omop_vitals_episode_date/last.sql;'''\n",
    "    )\n"
   ]
  },
  {
   "cell_type": "markdown",
   "metadata": {},
   "source": [
    "## Admissions - from standard OMOP-CDM schema to csv files"
   ]
  },
  {
   "cell_type": "code",
   "execution_count": 14,
   "metadata": {},
   "outputs": [
    {
     "name": "stdout",
     "output_type": "stream",
     "text": [
      "2023-11-29 13:19:57,292 - EHR-QC - INFO - Parsing command line arguments\n",
      "2023-11-29 13:19:57,293 - EHR-QC - INFO - args.save_path: /home/yram0006/phd/chapter_2/workspace/MIMIC-EHR-Pipeline/data/sepsis_icd_cohort/extracts/admissions.csv\n",
      "2023-11-29 13:19:57,293 - EHR-QC - INFO - args.schema_name: omop_migration_etl_20220817\n",
      "2023-11-29 13:19:57,293 - EHR-QC - INFO - args.sql_file_path: /home/yram0006/phd/chapter_2/workspace/EHR-QC-Preprocess/sql/mimic_icd_cohort/admissions.sql\n",
      "2023-11-29 13:19:57,314 - EHR-QC - INFO - extracting data\n"
     ]
    },
    {
     "name": "stderr",
     "output_type": "stream",
     "text": [
      "/superbugai-data/yash/chapter_2/workspace/EHR-QC-Preprocess/ehrqc/extract/ExtractData.py:11: UserWarning: pandas only supports SQLAlchemy connectable (engine/connection) or database string URI or sqlite3 DBAPI2 connection. Other DBAPI2 objects are not tested. Please consider using SQLAlchemy.\n",
      "  mimicOmopSepsisIcdDf = pd.read_sql_query(mimicOmopSepsisIcdQuery, con)\n"
     ]
    },
    {
     "name": "stdout",
     "output_type": "stream",
     "text": [
      "2023-11-29 13:20:08,059 - EHR-QC - INFO - Saving raw data to file\n",
      "2023-11-29 13:20:08,120 - EHR-QC - INFO - Done!\n"
     ]
    },
    {
     "data": {
      "text/plain": [
       "0"
      ]
     },
     "execution_count": 14,
     "metadata": {},
     "output_type": "execute_result"
    }
   ],
   "source": [
    "import os\n",
    "\n",
    "\n",
    "os.system(\n",
    "    'cd ' + os.environ['EHR_QC_PREPROCESS_BASE'] + ';'\n",
    "    +\n",
    "    '''.venv/bin/python -m ehrqc.extract.ExtractData ''' + os.environ['MIMIC_EHR_PIPELINE_BASE'] + '''/data/sepsis_icd_cohort/extracts/admissions.csv omop_migration_etl_20220817 ''' + os.environ['EHR_QC_PREPROCESS_BASE'] + '''/sql/mimic_icd_cohort/admissions.sql;'''\n",
    "    )\n"
   ]
  }
 ],
 "metadata": {
  "kernelspec": {
   "display_name": ".venv",
   "language": "python",
   "name": "python3"
  },
  "language_info": {
   "codemirror_mode": {
    "name": "ipython",
    "version": 3
   },
   "file_extension": ".py",
   "mimetype": "text/x-python",
   "name": "python",
   "nbconvert_exporter": "python",
   "pygments_lexer": "ipython3",
   "version": "3.8.10"
  }
 },
 "nbformat": 4,
 "nbformat_minor": 2
}
