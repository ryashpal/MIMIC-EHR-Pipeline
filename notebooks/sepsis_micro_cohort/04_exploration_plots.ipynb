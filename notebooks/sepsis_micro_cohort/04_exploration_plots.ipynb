{
 "cells": [
  {
   "cell_type": "markdown",
   "metadata": {},
   "source": [
    "# Data Exploration Plots after extracting the data"
   ]
  },
  {
   "cell_type": "markdown",
   "metadata": {},
   "source": [
    "## Vitals"
   ]
  },
  {
   "cell_type": "markdown",
   "metadata": {},
   "source": [
    "### avg"
   ]
  },
  {
   "cell_type": "code",
   "execution_count": 2,
   "metadata": {},
   "outputs": [
    {
     "name": "stdout",
     "output_type": "stream",
     "text": [
      "2023-11-29 21:38:16,876 - EHR-QC - INFO - Parsing command line arguments\n",
      "2023-11-29 21:38:16,877 - EHR-QC - INFO - args.source_path: /home/yram0006/phd/chapter_2/workspace/MIMIC-EHR-Pipeline/data/sepsis_micro_cohort/extracts/vitals_avg_episode_date.csv\n",
      "2023-11-29 21:38:16,877 - EHR-QC - INFO - args.save_path: /home/yram0006/phd/chapter_2/workspace/MIMIC-EHR-Pipeline/data/sepsis_micro_cohort/plots/explore/vitals_avg.html\n",
      "2023-11-29 21:38:16,877 - EHR-QC - INFO - args.columns_list: ['Respiratory rate', 'Heart rate', 'Body weight', 'Oxygen saturation in Arterial blood by Pulse oximetry', 'Glasgow coma score eye opening', 'Glasgow coma score verbal', 'Glasgow coma score motor', 'Physical mobility Braden scale', 'Nutrition intake pattern Braden scale', 'Sensory perception Braden scale', 'Physical activity Braden scale', 'Moisture exposure Braden scale', 'Friction and shear Braden scale', 'Mean blood pressure', 'Systolic blood pressure', 'Diastolic blood pressure', 'Body temperature']\n",
      "2023-11-29 21:38:16,957 - EHR-QC - INFO - Generating the exploration report\n",
      "2023-11-29 21:38:16,957 - EHR-QC - INFO - Columns: Respiratory rate\n",
      "2023-11-29 21:38:17,529 - EHR-QC - INFO - Columns: Heart rate\n",
      "2023-11-29 21:38:17,788 - EHR-QC - INFO - Columns: Body weight\n",
      "2023-11-29 21:38:17,970 - EHR-QC - INFO - Columns: Oxygen saturation in Arterial blood by Pulse oximetry\n",
      "2023-11-29 21:38:18,243 - EHR-QC - INFO - Columns: Glasgow coma score eye opening\n",
      "2023-11-29 21:38:18,480 - EHR-QC - INFO - Columns: Glasgow coma score verbal\n",
      "2023-11-29 21:38:18,710 - EHR-QC - INFO - Columns: Glasgow coma score motor\n",
      "2023-11-29 21:38:18,938 - EHR-QC - INFO - Columns: Physical mobility Braden scale\n",
      "2023-11-29 21:38:19,174 - EHR-QC - INFO - Columns: Nutrition intake pattern Braden scale\n",
      "2023-11-29 21:38:19,411 - EHR-QC - INFO - Columns: Sensory perception Braden scale\n",
      "2023-11-29 21:38:19,707 - EHR-QC - INFO - Columns: Physical activity Braden scale\n",
      "2023-11-29 21:38:19,958 - EHR-QC - INFO - Columns: Moisture exposure Braden scale\n",
      "2023-11-29 21:38:20,194 - EHR-QC - INFO - Columns: Friction and shear Braden scale\n",
      "2023-11-29 21:38:20,417 - EHR-QC - INFO - Columns: Mean blood pressure\n",
      "2023-11-29 21:38:20,722 - EHR-QC - INFO - Columns: Systolic blood pressure\n",
      "2023-11-29 21:38:21,089 - EHR-QC - INFO - Columns: Diastolic blood pressure\n",
      "2023-11-29 21:38:21,343 - EHR-QC - INFO - Columns: Body temperature\n",
      "2023-11-29 21:38:21,596 - EHR-QC - INFO - Saving the exploration report!!\n",
      "2023-11-29 21:38:21,602 - EHR-QC - INFO - Done!!\n"
     ]
    },
    {
     "data": {
      "text/plain": [
       "0"
      ]
     },
     "execution_count": 2,
     "metadata": {},
     "output_type": "execute_result"
    }
   ],
   "source": [
    "import os\n",
    "\n",
    "\n",
    "os.system(\n",
    "    'cd ' + os.environ['EHR_QC_PREPROCESS_BASE'] + ';'\n",
    "    +\n",
    "    '''.venv/bin/python -m ehrqc.plot.ExplorationGraphs ''' + os.environ['MIMIC_EHR_PIPELINE_BASE'] + '''/data/sepsis_micro_cohort/extracts/vitals_avg_episode_date.csv ''' + os.environ['MIMIC_EHR_PIPELINE_BASE'] + '''/data/sepsis_micro_cohort/plots/explore/vitals_avg.html -c \"Respiratory rate\" \"Heart rate\" \"Body weight\" \"Oxygen saturation in Arterial blood by Pulse oximetry\" \"Glasgow coma score eye opening\" \"Glasgow coma score verbal\" \"Glasgow coma score motor\" \"Physical mobility Braden scale\" \"Nutrition intake pattern Braden scale\" \"Sensory perception Braden scale\" \"Physical activity Braden scale\" \"Moisture exposure Braden scale\" \"Friction and shear Braden scale\" \"Mean blood pressure\" \"Systolic blood pressure\" \"Diastolic blood pressure\" \"Body temperature\"'''\n",
    "    )\n"
   ]
  },
  {
   "cell_type": "markdown",
   "metadata": {},
   "source": [
    "### min"
   ]
  },
  {
   "cell_type": "code",
   "execution_count": 3,
   "metadata": {},
   "outputs": [
    {
     "name": "stdout",
     "output_type": "stream",
     "text": [
      "2023-11-29 21:39:35,045 - EHR-QC - INFO - Parsing command line arguments\n",
      "2023-11-29 21:39:35,046 - EHR-QC - INFO - args.source_path: /home/yram0006/phd/chapter_2/workspace/MIMIC-EHR-Pipeline/data/sepsis_micro_cohort/extracts/vitals_min_episode_date.csv\n",
      "2023-11-29 21:39:35,046 - EHR-QC - INFO - args.save_path: /home/yram0006/phd/chapter_2/workspace/MIMIC-EHR-Pipeline/data/sepsis_micro_cohort/plots/explore/vitals_min.html\n",
      "2023-11-29 21:39:35,046 - EHR-QC - INFO - args.columns_list: ['Respiratory rate', 'Heart rate', 'Body weight', 'Oxygen saturation in Arterial blood by Pulse oximetry', 'Glasgow coma score eye opening', 'Glasgow coma score verbal', 'Glasgow coma score motor', 'Physical mobility Braden scale', 'Nutrition intake pattern Braden scale', 'Sensory perception Braden scale', 'Physical activity Braden scale', 'Moisture exposure Braden scale', 'Friction and shear Braden scale', 'Mean blood pressure', 'Systolic blood pressure', 'Diastolic blood pressure', 'Body temperature']\n",
      "2023-11-29 21:39:35,129 - EHR-QC - INFO - Generating the exploration report\n",
      "2023-11-29 21:39:35,129 - EHR-QC - INFO - Columns: Respiratory rate\n",
      "2023-11-29 21:39:35,731 - EHR-QC - INFO - Columns: Heart rate\n",
      "2023-11-29 21:39:36,109 - EHR-QC - INFO - Columns: Body weight\n",
      "2023-11-29 21:39:36,365 - EHR-QC - INFO - Columns: Oxygen saturation in Arterial blood by Pulse oximetry\n",
      "2023-11-29 21:39:36,740 - EHR-QC - INFO - Columns: Glasgow coma score eye opening\n",
      "2023-11-29 21:39:37,091 - EHR-QC - INFO - Columns: Glasgow coma score verbal\n",
      "2023-11-29 21:39:37,390 - EHR-QC - INFO - Columns: Glasgow coma score motor\n",
      "2023-11-29 21:39:37,766 - EHR-QC - INFO - Columns: Physical mobility Braden scale\n",
      "2023-11-29 21:39:38,067 - EHR-QC - INFO - Columns: Nutrition intake pattern Braden scale\n",
      "2023-11-29 21:39:38,374 - EHR-QC - INFO - Columns: Sensory perception Braden scale\n",
      "2023-11-29 21:39:38,672 - EHR-QC - INFO - Columns: Physical activity Braden scale\n",
      "2023-11-29 21:39:39,000 - EHR-QC - INFO - Columns: Moisture exposure Braden scale\n",
      "2023-11-29 21:39:39,365 - EHR-QC - INFO - Columns: Friction and shear Braden scale\n",
      "2023-11-29 21:39:39,681 - EHR-QC - INFO - Columns: Mean blood pressure\n",
      "2023-11-29 21:39:40,094 - EHR-QC - INFO - Columns: Systolic blood pressure\n",
      "2023-11-29 21:39:40,650 - EHR-QC - INFO - Columns: Diastolic blood pressure\n",
      "2023-11-29 21:39:40,963 - EHR-QC - INFO - Columns: Body temperature\n",
      "2023-11-29 21:39:41,327 - EHR-QC - INFO - Saving the exploration report!!\n",
      "2023-11-29 21:39:41,332 - EHR-QC - INFO - Done!!\n"
     ]
    },
    {
     "data": {
      "text/plain": [
       "0"
      ]
     },
     "execution_count": 3,
     "metadata": {},
     "output_type": "execute_result"
    }
   ],
   "source": [
    "import os\n",
    "\n",
    "\n",
    "os.system(\n",
    "    'cd ' + os.environ['EHR_QC_PREPROCESS_BASE'] + ';'\n",
    "    +\n",
    "    '''.venv/bin/python -m ehrqc.plot.ExplorationGraphs ''' + os.environ['MIMIC_EHR_PIPELINE_BASE'] + '''/data/sepsis_micro_cohort/extracts/vitals_min_episode_date.csv ''' + os.environ['MIMIC_EHR_PIPELINE_BASE'] + '''/data/sepsis_micro_cohort/plots/explore/vitals_min.html -c \"Respiratory rate\" \"Heart rate\" \"Body weight\" \"Oxygen saturation in Arterial blood by Pulse oximetry\" \"Glasgow coma score eye opening\" \"Glasgow coma score verbal\" \"Glasgow coma score motor\" \"Physical mobility Braden scale\" \"Nutrition intake pattern Braden scale\" \"Sensory perception Braden scale\" \"Physical activity Braden scale\" \"Moisture exposure Braden scale\" \"Friction and shear Braden scale\" \"Mean blood pressure\" \"Systolic blood pressure\" \"Diastolic blood pressure\" \"Body temperature\"'''\n",
    "    )\n"
   ]
  },
  {
   "cell_type": "markdown",
   "metadata": {},
   "source": [
    "### max"
   ]
  },
  {
   "cell_type": "code",
   "execution_count": 4,
   "metadata": {},
   "outputs": [
    {
     "name": "stdout",
     "output_type": "stream",
     "text": [
      "2023-11-29 21:39:53,788 - EHR-QC - INFO - Parsing command line arguments\n",
      "2023-11-29 21:39:53,789 - EHR-QC - INFO - args.source_path: /home/yram0006/phd/chapter_2/workspace/MIMIC-EHR-Pipeline/data/sepsis_micro_cohort/extracts/vitals_max_episode_date.csv\n",
      "2023-11-29 21:39:53,789 - EHR-QC - INFO - args.save_path: /home/yram0006/phd/chapter_2/workspace/MIMIC-EHR-Pipeline/data/sepsis_micro_cohort/plots/explore/vitals_max.html\n",
      "2023-11-29 21:39:53,789 - EHR-QC - INFO - args.columns_list: ['Respiratory rate', 'Heart rate', 'Body weight', 'Oxygen saturation in Arterial blood by Pulse oximetry', 'Glasgow coma score eye opening', 'Glasgow coma score verbal', 'Glasgow coma score motor', 'Physical mobility Braden scale', 'Nutrition intake pattern Braden scale', 'Sensory perception Braden scale', 'Physical activity Braden scale', 'Moisture exposure Braden scale', 'Friction and shear Braden scale', 'Mean blood pressure', 'Systolic blood pressure', 'Diastolic blood pressure', 'Body temperature']\n",
      "2023-11-29 21:39:53,871 - EHR-QC - INFO - Generating the exploration report\n",
      "2023-11-29 21:39:53,871 - EHR-QC - INFO - Columns: Respiratory rate\n",
      "2023-11-29 21:39:54,520 - EHR-QC - INFO - Columns: Heart rate\n",
      "2023-11-29 21:39:54,836 - EHR-QC - INFO - Columns: Body weight\n",
      "2023-11-29 21:39:55,078 - EHR-QC - INFO - Columns: Oxygen saturation in Arterial blood by Pulse oximetry\n",
      "2023-11-29 21:39:55,404 - EHR-QC - INFO - Columns: Glasgow coma score eye opening\n",
      "2023-11-29 21:39:55,744 - EHR-QC - INFO - Columns: Glasgow coma score verbal\n",
      "2023-11-29 21:39:56,026 - EHR-QC - INFO - Columns: Glasgow coma score motor\n",
      "2023-11-29 21:39:56,328 - EHR-QC - INFO - Columns: Physical mobility Braden scale\n",
      "2023-11-29 21:39:56,712 - EHR-QC - INFO - Columns: Nutrition intake pattern Braden scale\n",
      "2023-11-29 21:39:57,052 - EHR-QC - INFO - Columns: Sensory perception Braden scale\n",
      "2023-11-29 21:39:57,410 - EHR-QC - INFO - Columns: Physical activity Braden scale\n",
      "2023-11-29 21:39:57,820 - EHR-QC - INFO - Columns: Moisture exposure Braden scale\n",
      "2023-11-29 21:39:58,152 - EHR-QC - INFO - Columns: Friction and shear Braden scale\n",
      "2023-11-29 21:39:58,464 - EHR-QC - INFO - Columns: Mean blood pressure\n",
      "2023-11-29 21:39:58,878 - EHR-QC - INFO - Columns: Systolic blood pressure\n",
      "2023-11-29 21:39:59,355 - EHR-QC - INFO - Columns: Diastolic blood pressure\n",
      "2023-11-29 21:39:59,724 - EHR-QC - INFO - Columns: Body temperature\n",
      "2023-11-29 21:40:00,052 - EHR-QC - INFO - Saving the exploration report!!\n",
      "2023-11-29 21:40:00,058 - EHR-QC - INFO - Done!!\n"
     ]
    },
    {
     "data": {
      "text/plain": [
       "0"
      ]
     },
     "execution_count": 4,
     "metadata": {},
     "output_type": "execute_result"
    }
   ],
   "source": [
    "import os\n",
    "\n",
    "\n",
    "os.system(\n",
    "    'cd ' + os.environ['EHR_QC_PREPROCESS_BASE'] + ';'\n",
    "    +\n",
    "    '''.venv/bin/python -m ehrqc.plot.ExplorationGraphs ''' + os.environ['MIMIC_EHR_PIPELINE_BASE'] + '''/data/sepsis_micro_cohort/extracts/vitals_max_episode_date.csv ''' + os.environ['MIMIC_EHR_PIPELINE_BASE'] + '''/data/sepsis_micro_cohort/plots/explore/vitals_max.html -c \"Respiratory rate\" \"Heart rate\" \"Body weight\" \"Oxygen saturation in Arterial blood by Pulse oximetry\" \"Glasgow coma score eye opening\" \"Glasgow coma score verbal\" \"Glasgow coma score motor\" \"Physical mobility Braden scale\" \"Nutrition intake pattern Braden scale\" \"Sensory perception Braden scale\" \"Physical activity Braden scale\" \"Moisture exposure Braden scale\" \"Friction and shear Braden scale\" \"Mean blood pressure\" \"Systolic blood pressure\" \"Diastolic blood pressure\" \"Body temperature\"'''\n",
    "    )\n"
   ]
  },
  {
   "cell_type": "markdown",
   "metadata": {},
   "source": [
    "### first"
   ]
  },
  {
   "cell_type": "code",
   "execution_count": 5,
   "metadata": {},
   "outputs": [
    {
     "name": "stdout",
     "output_type": "stream",
     "text": [
      "2023-11-29 21:40:06,537 - EHR-QC - INFO - Parsing command line arguments\n",
      "2023-11-29 21:40:06,538 - EHR-QC - INFO - args.source_path: /home/yram0006/phd/chapter_2/workspace/MIMIC-EHR-Pipeline/data/sepsis_micro_cohort/extracts/vitals_first_episode_date.csv\n",
      "2023-11-29 21:40:06,538 - EHR-QC - INFO - args.save_path: /home/yram0006/phd/chapter_2/workspace/MIMIC-EHR-Pipeline/data/sepsis_micro_cohort/plots/explore/vitals_first.html\n",
      "2023-11-29 21:40:06,538 - EHR-QC - INFO - args.columns_list: ['Respiratory rate', 'Heart rate', 'Body weight', 'Oxygen saturation in Arterial blood by Pulse oximetry', 'Glasgow coma score eye opening', 'Glasgow coma score verbal', 'Glasgow coma score motor', 'Physical mobility Braden scale', 'Nutrition intake pattern Braden scale', 'Sensory perception Braden scale', 'Physical activity Braden scale', 'Moisture exposure Braden scale', 'Friction and shear Braden scale', 'Mean blood pressure', 'Systolic blood pressure', 'Diastolic blood pressure', 'Body temperature']\n",
      "2023-11-29 21:40:06,597 - EHR-QC - INFO - Generating the exploration report\n",
      "2023-11-29 21:40:06,597 - EHR-QC - INFO - Columns: Respiratory rate\n",
      "2023-11-29 21:40:07,302 - EHR-QC - INFO - Columns: Heart rate\n",
      "2023-11-29 21:40:07,657 - EHR-QC - INFO - Columns: Body weight\n",
      "2023-11-29 21:40:07,907 - EHR-QC - INFO - Columns: Oxygen saturation in Arterial blood by Pulse oximetry\n",
      "2023-11-29 21:40:08,274 - EHR-QC - INFO - Columns: Glasgow coma score eye opening\n",
      "2023-11-29 21:40:08,612 - EHR-QC - INFO - Columns: Glasgow coma score verbal\n",
      "2023-11-29 21:40:08,941 - EHR-QC - INFO - Columns: Glasgow coma score motor\n",
      "2023-11-29 21:40:09,273 - EHR-QC - INFO - Columns: Physical mobility Braden scale\n",
      "2023-11-29 21:40:09,610 - EHR-QC - INFO - Columns: Nutrition intake pattern Braden scale\n",
      "2023-11-29 21:40:09,956 - EHR-QC - INFO - Columns: Sensory perception Braden scale\n",
      "2023-11-29 21:40:10,276 - EHR-QC - INFO - Columns: Physical activity Braden scale\n",
      "2023-11-29 21:40:10,586 - EHR-QC - INFO - Columns: Moisture exposure Braden scale\n",
      "2023-11-29 21:40:10,877 - EHR-QC - INFO - Columns: Friction and shear Braden scale\n",
      "2023-11-29 21:40:11,183 - EHR-QC - INFO - Columns: Mean blood pressure\n",
      "2023-11-29 21:40:11,494 - EHR-QC - INFO - Columns: Systolic blood pressure\n",
      "2023-11-29 21:40:11,920 - EHR-QC - INFO - Columns: Diastolic blood pressure\n",
      "2023-11-29 21:40:12,387 - EHR-QC - INFO - Columns: Body temperature\n",
      "2023-11-29 21:40:12,789 - EHR-QC - INFO - Saving the exploration report!!\n",
      "2023-11-29 21:40:12,795 - EHR-QC - INFO - Done!!\n"
     ]
    },
    {
     "data": {
      "text/plain": [
       "0"
      ]
     },
     "execution_count": 5,
     "metadata": {},
     "output_type": "execute_result"
    }
   ],
   "source": [
    "import os\n",
    "\n",
    "\n",
    "os.system(\n",
    "    'cd ' + os.environ['EHR_QC_PREPROCESS_BASE'] + ';'\n",
    "    +\n",
    "    '''.venv/bin/python -m ehrqc.plot.ExplorationGraphs ''' + os.environ['MIMIC_EHR_PIPELINE_BASE'] + '''/data/sepsis_micro_cohort/extracts/vitals_first_episode_date.csv ''' + os.environ['MIMIC_EHR_PIPELINE_BASE'] + '''/data/sepsis_micro_cohort/plots/explore/vitals_first.html -c \"Respiratory rate\" \"Heart rate\" \"Body weight\" \"Oxygen saturation in Arterial blood by Pulse oximetry\" \"Glasgow coma score eye opening\" \"Glasgow coma score verbal\" \"Glasgow coma score motor\" \"Physical mobility Braden scale\" \"Nutrition intake pattern Braden scale\" \"Sensory perception Braden scale\" \"Physical activity Braden scale\" \"Moisture exposure Braden scale\" \"Friction and shear Braden scale\" \"Mean blood pressure\" \"Systolic blood pressure\" \"Diastolic blood pressure\" \"Body temperature\"'''\n",
    "    )\n"
   ]
  },
  {
   "cell_type": "markdown",
   "metadata": {},
   "source": [
    "### last"
   ]
  },
  {
   "cell_type": "code",
   "execution_count": 6,
   "metadata": {},
   "outputs": [
    {
     "name": "stdout",
     "output_type": "stream",
     "text": [
      "2023-11-29 21:40:19,501 - EHR-QC - INFO - Parsing command line arguments\n",
      "2023-11-29 21:40:19,502 - EHR-QC - INFO - args.source_path: /home/yram0006/phd/chapter_2/workspace/MIMIC-EHR-Pipeline/data/sepsis_micro_cohort/extracts/vitals_last_episode_date.csv\n",
      "2023-11-29 21:40:19,502 - EHR-QC - INFO - args.save_path: /home/yram0006/phd/chapter_2/workspace/MIMIC-EHR-Pipeline/data/sepsis_micro_cohort/plots/explore/vitals_last.html\n",
      "2023-11-29 21:40:19,502 - EHR-QC - INFO - args.columns_list: ['Respiratory rate', 'Heart rate', 'Body weight', 'Oxygen saturation in Arterial blood by Pulse oximetry', 'Glasgow coma score eye opening', 'Glasgow coma score verbal', 'Glasgow coma score motor', 'Physical mobility Braden scale', 'Nutrition intake pattern Braden scale', 'Sensory perception Braden scale', 'Physical activity Braden scale', 'Moisture exposure Braden scale', 'Friction and shear Braden scale', 'Mean blood pressure', 'Systolic blood pressure', 'Diastolic blood pressure', 'Body temperature']\n",
      "2023-11-29 21:40:19,560 - EHR-QC - INFO - Generating the exploration report\n",
      "2023-11-29 21:40:19,561 - EHR-QC - INFO - Columns: Respiratory rate\n",
      "2023-11-29 21:40:20,196 - EHR-QC - INFO - Columns: Heart rate\n",
      "2023-11-29 21:40:20,568 - EHR-QC - INFO - Columns: Body weight\n",
      "2023-11-29 21:40:20,811 - EHR-QC - INFO - Columns: Oxygen saturation in Arterial blood by Pulse oximetry\n",
      "2023-11-29 21:40:21,170 - EHR-QC - INFO - Columns: Glasgow coma score eye opening\n",
      "2023-11-29 21:40:21,489 - EHR-QC - INFO - Columns: Glasgow coma score verbal\n",
      "2023-11-29 21:40:21,786 - EHR-QC - INFO - Columns: Glasgow coma score motor\n",
      "2023-11-29 21:40:22,088 - EHR-QC - INFO - Columns: Physical mobility Braden scale\n",
      "2023-11-29 21:40:22,483 - EHR-QC - INFO - Columns: Nutrition intake pattern Braden scale\n",
      "2023-11-29 21:40:22,818 - EHR-QC - INFO - Columns: Sensory perception Braden scale\n",
      "2023-11-29 21:40:23,151 - EHR-QC - INFO - Columns: Physical activity Braden scale\n",
      "2023-11-29 21:40:23,510 - EHR-QC - INFO - Columns: Moisture exposure Braden scale\n",
      "2023-11-29 21:40:23,847 - EHR-QC - INFO - Columns: Friction and shear Braden scale\n",
      "2023-11-29 21:40:24,171 - EHR-QC - INFO - Columns: Mean blood pressure\n",
      "2023-11-29 21:40:24,513 - EHR-QC - INFO - Columns: Systolic blood pressure\n",
      "2023-11-29 21:40:24,918 - EHR-QC - INFO - Columns: Diastolic blood pressure\n",
      "2023-11-29 21:40:25,255 - EHR-QC - INFO - Columns: Body temperature\n",
      "2023-11-29 21:40:25,577 - EHR-QC - INFO - Saving the exploration report!!\n",
      "2023-11-29 21:40:25,584 - EHR-QC - INFO - Done!!\n"
     ]
    },
    {
     "data": {
      "text/plain": [
       "0"
      ]
     },
     "execution_count": 6,
     "metadata": {},
     "output_type": "execute_result"
    }
   ],
   "source": [
    "import os\n",
    "\n",
    "\n",
    "os.system(\n",
    "    'cd ' + os.environ['EHR_QC_PREPROCESS_BASE'] + ';'\n",
    "    +\n",
    "    '''.venv/bin/python -m ehrqc.plot.ExplorationGraphs ''' + os.environ['MIMIC_EHR_PIPELINE_BASE'] + '''/data/sepsis_micro_cohort/extracts/vitals_last_episode_date.csv ''' + os.environ['MIMIC_EHR_PIPELINE_BASE'] + '''/data/sepsis_micro_cohort/plots/explore/vitals_last.html -c \"Respiratory rate\" \"Heart rate\" \"Body weight\" \"Oxygen saturation in Arterial blood by Pulse oximetry\" \"Glasgow coma score eye opening\" \"Glasgow coma score verbal\" \"Glasgow coma score motor\" \"Physical mobility Braden scale\" \"Nutrition intake pattern Braden scale\" \"Sensory perception Braden scale\" \"Physical activity Braden scale\" \"Moisture exposure Braden scale\" \"Friction and shear Braden scale\" \"Mean blood pressure\" \"Systolic blood pressure\" \"Diastolic blood pressure\" \"Body temperature\"'''\n",
    "    )\n"
   ]
  },
  {
   "cell_type": "markdown",
   "metadata": {},
   "source": [
    "## Labs"
   ]
  },
  {
   "cell_type": "markdown",
   "metadata": {},
   "source": [
    "### avg"
   ]
  },
  {
   "cell_type": "code",
   "execution_count": 7,
   "metadata": {},
   "outputs": [
    {
     "name": "stdout",
     "output_type": "stream",
     "text": [
      "2023-11-29 21:40:42,726 - EHR-QC - INFO - Parsing command line arguments\n",
      "2023-11-29 21:40:42,727 - EHR-QC - INFO - args.source_path: /home/yram0006/phd/chapter_2/workspace/MIMIC-EHR-Pipeline/data/sepsis_micro_cohort/extracts/labs_avg_episode_date.csv\n",
      "2023-11-29 21:40:42,727 - EHR-QC - INFO - args.save_path: /home/yram0006/phd/chapter_2/workspace/MIMIC-EHR-Pipeline/data/sepsis_micro_cohort/plots/explore/labs_avg.html\n",
      "2023-11-29 21:40:42,727 - EHR-QC - INFO - args.columns_list: ['Leukocytes in Blood by Manual count', 'Hematocrit of Blood by Automated count', 'MCHC by Automated count', 'MCH by Automated count', 'Erythrocyte distribution width by Automated count', 'MCV by Automated count', 'Erythrocytes in Blood by Automated count', 'Platelets in Blood by Automated count', 'Hemoglobin in Blood', 'Urea nitrogen in Serum or Plasma', 'Creatinine in Serum or Plasma', 'Potassium in Serum or Plasma', 'Chloride in Serum or Plasma', 'Bicarbonate in Serum or Plasma', 'Sodium in Serum or Plasma', 'Anion gap 4 in Serum or Plasma', 'Glucose in Serum or Plasma', 'Magnesium in Serum or Plasma', 'Calcium in Serum or Plasma', 'Phosphate in Serum or Plasma', 'Neutrophils in Urine by Automated count', 'Lymphocytes in Blood by Automated count', 'Basophils in Blood by Automated count', 'Eosinophils in Blood by Automated count', 'Monocytes in Blood by Automated count', 'Prothrombin time (PT)', 'INR in Platelet poor plasma by Coagulation assay', 'aPTT in Blood by Coagulation assay', 'Protein in Urine by Test strip', 'Specific gravity of Urine by Test strip', 'pH of Urine by Test strip', 'Glucose in Urine by Test strip', 'Ketones in Urine by Test strip', 'Urobilinogen in Urine by Test strip', 'Bilirubin.total in Serum or Plasma', 'Aspartate aminotransferase in Serum or Plasma', 'Alanine aminotransferase in Serum or Plasma', 'Alkaline phosphatase in Serum or Plasma', 'Leukocytes in Urine sediment by Microscopy high power field', 'Bacteria in Urine sediment by Microscopy high power field', 'Epithelial cells in Urine sediment by Microscopy high power fie', 'Erythrocytes in Urine sediment by Microscopy high power field', 'Albumin in Serum or Plasma']\n",
      "2023-11-29 21:40:43,038 - EHR-QC - INFO - Generating the exploration report\n",
      "2023-11-29 21:40:43,038 - EHR-QC - INFO - Columns: Leukocytes in Blood by Manual count\n",
      "2023-11-29 21:40:43,936 - EHR-QC - INFO - Columns: Hematocrit of Blood by Automated count\n",
      "2023-11-29 21:40:44,520 - EHR-QC - INFO - Columns: MCHC by Automated count\n",
      "2023-11-29 21:40:45,137 - EHR-QC - INFO - Columns: MCH by Automated count\n",
      "2023-11-29 21:40:45,725 - EHR-QC - INFO - Columns: Erythrocyte distribution width by Automated count\n",
      "2023-11-29 21:40:46,355 - EHR-QC - INFO - Columns: MCV by Automated count\n",
      "2023-11-29 21:40:47,049 - EHR-QC - INFO - Columns: Erythrocytes in Blood by Automated count\n",
      "2023-11-29 21:40:47,628 - EHR-QC - INFO - Columns: Platelets in Blood by Automated count\n",
      "2023-11-29 21:40:48,244 - EHR-QC - INFO - Columns: Hemoglobin in Blood\n",
      "2023-11-29 21:40:48,974 - EHR-QC - INFO - Columns: Urea nitrogen in Serum or Plasma\n",
      "2023-11-29 21:40:49,664 - EHR-QC - INFO - Columns: Creatinine in Serum or Plasma\n",
      "2023-11-29 21:40:50,330 - EHR-QC - INFO - Columns: Potassium in Serum or Plasma\n",
      "2023-11-29 21:40:50,941 - EHR-QC - INFO - Columns: Chloride in Serum or Plasma\n",
      "2023-11-29 21:40:51,556 - EHR-QC - INFO - Columns: Bicarbonate in Serum or Plasma\n",
      "2023-11-29 21:40:52,152 - EHR-QC - INFO - Columns: Sodium in Serum or Plasma\n",
      "2023-11-29 21:40:52,869 - EHR-QC - INFO - Columns: Anion gap 4 in Serum or Plasma\n",
      "2023-11-29 21:40:53,481 - EHR-QC - INFO - Columns: Glucose in Serum or Plasma\n",
      "2023-11-29 21:40:54,095 - EHR-QC - INFO - Columns: Magnesium in Serum or Plasma\n",
      "2023-11-29 21:40:54,689 - EHR-QC - INFO - Columns: Calcium in Serum or Plasma\n",
      "2023-11-29 21:40:55,224 - EHR-QC - INFO - Columns: Phosphate in Serum or Plasma\n",
      "2023-11-29 21:40:55,837 - EHR-QC - INFO - Columns: Neutrophils in Urine by Automated count\n"
     ]
    },
    {
     "name": "stderr",
     "output_type": "stream",
     "text": [
      "/superbugai-data/yash/chapter_2/workspace/EHR-QC-Preprocess/ehrqc/plot/ExplorationGraphs.py:61: RuntimeWarning: More than 20 figures have been opened. Figures created through the pyplot interface (`matplotlib.pyplot.figure`) are retained until explicitly closed and may consume too much memory. (To control this warning, see the rcParam `figure.max_open_warning`). Consider using `matplotlib.pyplot.close()`.\n",
      "  fig, ax = plt.subplots()\n"
     ]
    },
    {
     "name": "stdout",
     "output_type": "stream",
     "text": [
      "2023-11-29 21:40:56,256 - EHR-QC - INFO - Columns: Lymphocytes in Blood by Automated count\n",
      "2023-11-29 21:40:56,698 - EHR-QC - INFO - Columns: Basophils in Blood by Automated count\n",
      "2023-11-29 21:40:57,156 - EHR-QC - INFO - Columns: Eosinophils in Blood by Automated count\n",
      "2023-11-29 21:40:57,619 - EHR-QC - INFO - Columns: Monocytes in Blood by Automated count\n",
      "2023-11-29 21:40:58,065 - EHR-QC - INFO - Columns: Prothrombin time (PT)\n",
      "2023-11-29 21:40:58,614 - EHR-QC - INFO - Columns: INR in Platelet poor plasma by Coagulation assay\n",
      "2023-11-29 21:40:59,224 - EHR-QC - INFO - Columns: aPTT in Blood by Coagulation assay\n",
      "2023-11-29 21:40:59,760 - EHR-QC - INFO - Columns: Protein in Urine by Test strip\n",
      "2023-11-29 21:41:00,162 - EHR-QC - INFO - Columns: Specific gravity of Urine by Test strip\n",
      "2023-11-29 21:41:00,518 - EHR-QC - INFO - Columns: pH of Urine by Test strip\n",
      "2023-11-29 21:41:00,983 - EHR-QC - INFO - Columns: Glucose in Urine by Test strip\n",
      "2023-11-29 21:41:01,321 - EHR-QC - INFO - Columns: Ketones in Urine by Test strip\n",
      "2023-11-29 21:41:01,649 - EHR-QC - INFO - Columns: Urobilinogen in Urine by Test strip\n",
      "2023-11-29 21:41:01,920 - EHR-QC - INFO - Columns: Bilirubin.total in Serum or Plasma\n",
      "2023-11-29 21:41:02,338 - EHR-QC - INFO - Columns: Aspartate aminotransferase in Serum or Plasma\n",
      "2023-11-29 21:41:02,825 - EHR-QC - INFO - Columns: Alanine aminotransferase in Serum or Plasma\n",
      "2023-11-29 21:41:03,435 - EHR-QC - INFO - Columns: Alkaline phosphatase in Serum or Plasma\n",
      "2023-11-29 21:41:03,905 - EHR-QC - INFO - Columns: Leukocytes in Urine sediment by Microscopy high power field\n",
      "2023-11-29 21:41:04,256 - EHR-QC - INFO - Columns: Bacteria in Urine sediment by Microscopy high power field\n",
      "2023-11-29 21:41:04,493 - EHR-QC - INFO - Columns: Epithelial cells in Urine sediment by Microscopy high power fie\n",
      "2023-11-29 21:41:04,868 - EHR-QC - INFO - Columns: Erythrocytes in Urine sediment by Microscopy high power field\n",
      "2023-11-29 21:41:05,262 - EHR-QC - INFO - Columns: Albumin in Serum or Plasma\n",
      "2023-11-29 21:41:05,718 - EHR-QC - INFO - Saving the exploration report!!\n",
      "2023-11-29 21:41:05,726 - EHR-QC - INFO - Done!!\n"
     ]
    },
    {
     "data": {
      "text/plain": [
       "0"
      ]
     },
     "execution_count": 7,
     "metadata": {},
     "output_type": "execute_result"
    }
   ],
   "source": [
    "import os\n",
    "\n",
    "\n",
    "os.system(\n",
    "    'cd ' + os.environ['EHR_QC_PREPROCESS_BASE'] + ';'\n",
    "    +\n",
    "    '''.venv/bin/python -m ehrqc.plot.ExplorationGraphs ''' + os.environ['MIMIC_EHR_PIPELINE_BASE'] + '''/data/sepsis_micro_cohort/extracts/labs_avg_episode_date.csv ''' + os.environ['MIMIC_EHR_PIPELINE_BASE'] + '''/data/sepsis_micro_cohort/plots/explore/labs_avg.html -c \"Leukocytes in Blood by Manual count\" \"Hematocrit of Blood by Automated count\" \"MCHC by Automated count\" \"MCH by Automated count\" \"Erythrocyte distribution width by Automated count\" \"MCV by Automated count\" \"Erythrocytes in Blood by Automated count\" \"Platelets in Blood by Automated count\" \"Hemoglobin in Blood\" \"Urea nitrogen in Serum or Plasma\" \"Creatinine in Serum or Plasma\" \"Potassium in Serum or Plasma\" \"Chloride in Serum or Plasma\" \"Bicarbonate in Serum or Plasma\" \"Sodium in Serum or Plasma\" \"Anion gap 4 in Serum or Plasma\" \"Glucose in Serum or Plasma\" \"Magnesium in Serum or Plasma\" \"Calcium in Serum or Plasma\" \"Phosphate in Serum or Plasma\" \"Neutrophils in Urine by Automated count\" \"Lymphocytes in Blood by Automated count\" \"Basophils in Blood by Automated count\" \"Eosinophils in Blood by Automated count\" \"Monocytes in Blood by Automated count\" \"Prothrombin time (PT)\" \"INR in Platelet poor plasma by Coagulation assay\" \"aPTT in Blood by Coagulation assay\" \"Protein in Urine by Test strip\" \"Specific gravity of Urine by Test strip\" \"pH of Urine by Test strip\" \"Glucose in Urine by Test strip\" \"Ketones in Urine by Test strip\" \"Urobilinogen in Urine by Test strip\" \"Bilirubin.total in Serum or Plasma\" \"Aspartate aminotransferase in Serum or Plasma\" \"Alanine aminotransferase in Serum or Plasma\" \"Alkaline phosphatase in Serum or Plasma\" \"Leukocytes in Urine sediment by Microscopy high power field\" \"Bacteria in Urine sediment by Microscopy high power field\" \"Epithelial cells in Urine sediment by Microscopy high power fie\" \"Erythrocytes in Urine sediment by Microscopy high power field\" \"Albumin in Serum or Plasma\"'''\n",
    "    )\n"
   ]
  },
  {
   "cell_type": "markdown",
   "metadata": {},
   "source": [
    "### min"
   ]
  },
  {
   "cell_type": "code",
   "execution_count": 8,
   "metadata": {},
   "outputs": [
    {
     "name": "stdout",
     "output_type": "stream",
     "text": [
      "2023-11-29 21:41:07,240 - EHR-QC - INFO - Parsing command line arguments\n",
      "2023-11-29 21:41:07,241 - EHR-QC - INFO - args.source_path: /home/yram0006/phd/chapter_2/workspace/MIMIC-EHR-Pipeline/data/sepsis_micro_cohort/extracts/labs_min_episode_date.csv\n",
      "2023-11-29 21:41:07,241 - EHR-QC - INFO - args.save_path: /home/yram0006/phd/chapter_2/workspace/MIMIC-EHR-Pipeline/data/sepsis_micro_cohort/plots/explore/labs_min.html\n",
      "2023-11-29 21:41:07,242 - EHR-QC - INFO - args.columns_list: ['Leukocytes in Blood by Manual count', 'Hematocrit of Blood by Automated count', 'MCHC by Automated count', 'MCH by Automated count', 'Erythrocyte distribution width by Automated count', 'MCV by Automated count', 'Erythrocytes in Blood by Automated count', 'Platelets in Blood by Automated count', 'Hemoglobin in Blood', 'Urea nitrogen in Serum or Plasma', 'Creatinine in Serum or Plasma', 'Potassium in Serum or Plasma', 'Chloride in Serum or Plasma', 'Bicarbonate in Serum or Plasma', 'Sodium in Serum or Plasma', 'Anion gap 4 in Serum or Plasma', 'Glucose in Serum or Plasma', 'Magnesium in Serum or Plasma', 'Calcium in Serum or Plasma', 'Phosphate in Serum or Plasma', 'Neutrophils in Urine by Automated count', 'Lymphocytes in Blood by Automated count', 'Basophils in Blood by Automated count', 'Eosinophils in Blood by Automated count', 'Monocytes in Blood by Automated count', 'Prothrombin time (PT)', 'INR in Platelet poor plasma by Coagulation assay', 'aPTT in Blood by Coagulation assay', 'Protein in Urine by Test strip', 'Specific gravity of Urine by Test strip', 'pH of Urine by Test strip', 'Glucose in Urine by Test strip', 'Ketones in Urine by Test strip', 'Urobilinogen in Urine by Test strip', 'Bilirubin.total in Serum or Plasma', 'Aspartate aminotransferase in Serum or Plasma', 'Alanine aminotransferase in Serum or Plasma', 'Alkaline phosphatase in Serum or Plasma', 'Leukocytes in Urine sediment by Microscopy high power field', 'Bacteria in Urine sediment by Microscopy high power field', 'Epithelial cells in Urine sediment by Microscopy high power fie', 'Erythrocytes in Urine sediment by Microscopy high power field', 'Albumin in Serum or Plasma']\n",
      "2023-11-29 21:41:07,554 - EHR-QC - INFO - Generating the exploration report\n",
      "2023-11-29 21:41:07,555 - EHR-QC - INFO - Columns: Leukocytes in Blood by Manual count\n",
      "2023-11-29 21:41:08,505 - EHR-QC - INFO - Columns: Hematocrit of Blood by Automated count\n",
      "2023-11-29 21:41:09,157 - EHR-QC - INFO - Columns: MCHC by Automated count\n",
      "2023-11-29 21:41:09,781 - EHR-QC - INFO - Columns: MCH by Automated count\n",
      "2023-11-29 21:41:10,429 - EHR-QC - INFO - Columns: Erythrocyte distribution width by Automated count\n",
      "2023-11-29 21:41:11,016 - EHR-QC - INFO - Columns: MCV by Automated count\n",
      "2023-11-29 21:41:11,602 - EHR-QC - INFO - Columns: Erythrocytes in Blood by Automated count\n",
      "2023-11-29 21:41:12,183 - EHR-QC - INFO - Columns: Platelets in Blood by Automated count\n",
      "2023-11-29 21:41:12,786 - EHR-QC - INFO - Columns: Hemoglobin in Blood\n",
      "2023-11-29 21:41:13,410 - EHR-QC - INFO - Columns: Urea nitrogen in Serum or Plasma\n",
      "2023-11-29 21:41:14,043 - EHR-QC - INFO - Columns: Creatinine in Serum or Plasma\n",
      "2023-11-29 21:41:14,672 - EHR-QC - INFO - Columns: Potassium in Serum or Plasma\n",
      "2023-11-29 21:41:15,307 - EHR-QC - INFO - Columns: Chloride in Serum or Plasma\n",
      "2023-11-29 21:41:15,967 - EHR-QC - INFO - Columns: Bicarbonate in Serum or Plasma\n",
      "2023-11-29 21:41:16,546 - EHR-QC - INFO - Columns: Sodium in Serum or Plasma\n",
      "2023-11-29 21:41:17,247 - EHR-QC - INFO - Columns: Anion gap 4 in Serum or Plasma\n",
      "2023-11-29 21:41:17,855 - EHR-QC - INFO - Columns: Glucose in Serum or Plasma\n",
      "2023-11-29 21:41:18,495 - EHR-QC - INFO - Columns: Magnesium in Serum or Plasma\n",
      "2023-11-29 21:41:19,197 - EHR-QC - INFO - Columns: Calcium in Serum or Plasma\n",
      "2023-11-29 21:41:19,786 - EHR-QC - INFO - Columns: Phosphate in Serum or Plasma\n",
      "2023-11-29 21:41:20,354 - EHR-QC - INFO - Columns: Neutrophils in Urine by Automated count\n"
     ]
    },
    {
     "name": "stderr",
     "output_type": "stream",
     "text": [
      "/superbugai-data/yash/chapter_2/workspace/EHR-QC-Preprocess/ehrqc/plot/ExplorationGraphs.py:61: RuntimeWarning: More than 20 figures have been opened. Figures created through the pyplot interface (`matplotlib.pyplot.figure`) are retained until explicitly closed and may consume too much memory. (To control this warning, see the rcParam `figure.max_open_warning`). Consider using `matplotlib.pyplot.close()`.\n",
      "  fig, ax = plt.subplots()\n"
     ]
    },
    {
     "name": "stdout",
     "output_type": "stream",
     "text": [
      "2023-11-29 21:41:20,751 - EHR-QC - INFO - Columns: Lymphocytes in Blood by Automated count\n",
      "2023-11-29 21:41:21,156 - EHR-QC - INFO - Columns: Basophils in Blood by Automated count\n",
      "2023-11-29 21:41:21,573 - EHR-QC - INFO - Columns: Eosinophils in Blood by Automated count\n",
      "2023-11-29 21:41:21,993 - EHR-QC - INFO - Columns: Monocytes in Blood by Automated count\n",
      "2023-11-29 21:41:22,427 - EHR-QC - INFO - Columns: Prothrombin time (PT)\n",
      "2023-11-29 21:41:22,934 - EHR-QC - INFO - Columns: INR in Platelet poor plasma by Coagulation assay\n",
      "2023-11-29 21:41:23,461 - EHR-QC - INFO - Columns: aPTT in Blood by Coagulation assay\n",
      "2023-11-29 21:41:23,952 - EHR-QC - INFO - Columns: Protein in Urine by Test strip\n",
      "2023-11-29 21:41:24,305 - EHR-QC - INFO - Columns: Specific gravity of Urine by Test strip\n",
      "2023-11-29 21:41:24,688 - EHR-QC - INFO - Columns: pH of Urine by Test strip\n",
      "2023-11-29 21:41:25,117 - EHR-QC - INFO - Columns: Glucose in Urine by Test strip\n",
      "2023-11-29 21:41:25,379 - EHR-QC - INFO - Columns: Ketones in Urine by Test strip\n",
      "2023-11-29 21:41:25,638 - EHR-QC - INFO - Columns: Urobilinogen in Urine by Test strip\n",
      "2023-11-29 21:41:25,898 - EHR-QC - INFO - Columns: Bilirubin.total in Serum or Plasma\n",
      "2023-11-29 21:41:26,357 - EHR-QC - INFO - Columns: Aspartate aminotransferase in Serum or Plasma\n",
      "2023-11-29 21:41:26,790 - EHR-QC - INFO - Columns: Alanine aminotransferase in Serum or Plasma\n",
      "2023-11-29 21:41:27,318 - EHR-QC - INFO - Columns: Alkaline phosphatase in Serum or Plasma\n",
      "2023-11-29 21:41:27,707 - EHR-QC - INFO - Columns: Leukocytes in Urine sediment by Microscopy high power field\n",
      "2023-11-29 21:41:28,001 - EHR-QC - INFO - Columns: Bacteria in Urine sediment by Microscopy high power field\n",
      "2023-11-29 21:41:28,244 - EHR-QC - INFO - Columns: Epithelial cells in Urine sediment by Microscopy high power fie\n",
      "2023-11-29 21:41:28,535 - EHR-QC - INFO - Columns: Erythrocytes in Urine sediment by Microscopy high power field\n",
      "2023-11-29 21:41:28,827 - EHR-QC - INFO - Columns: Albumin in Serum or Plasma\n",
      "2023-11-29 21:41:29,138 - EHR-QC - INFO - Saving the exploration report!!\n",
      "2023-11-29 21:41:29,145 - EHR-QC - INFO - Done!!\n"
     ]
    },
    {
     "data": {
      "text/plain": [
       "0"
      ]
     },
     "execution_count": 8,
     "metadata": {},
     "output_type": "execute_result"
    }
   ],
   "source": [
    "import os\n",
    "\n",
    "\n",
    "os.system(\n",
    "    'cd ' + os.environ['EHR_QC_PREPROCESS_BASE'] + ';'\n",
    "    +\n",
    "    '''.venv/bin/python -m ehrqc.plot.ExplorationGraphs ''' + os.environ['MIMIC_EHR_PIPELINE_BASE'] + '''/data/sepsis_micro_cohort/extracts/labs_min_episode_date.csv ''' + os.environ['MIMIC_EHR_PIPELINE_BASE'] + '''/data/sepsis_micro_cohort/plots/explore/labs_min.html -c \"Leukocytes in Blood by Manual count\" \"Hematocrit of Blood by Automated count\" \"MCHC by Automated count\" \"MCH by Automated count\" \"Erythrocyte distribution width by Automated count\" \"MCV by Automated count\" \"Erythrocytes in Blood by Automated count\" \"Platelets in Blood by Automated count\" \"Hemoglobin in Blood\" \"Urea nitrogen in Serum or Plasma\" \"Creatinine in Serum or Plasma\" \"Potassium in Serum or Plasma\" \"Chloride in Serum or Plasma\" \"Bicarbonate in Serum or Plasma\" \"Sodium in Serum or Plasma\" \"Anion gap 4 in Serum or Plasma\" \"Glucose in Serum or Plasma\" \"Magnesium in Serum or Plasma\" \"Calcium in Serum or Plasma\" \"Phosphate in Serum or Plasma\" \"Neutrophils in Urine by Automated count\" \"Lymphocytes in Blood by Automated count\" \"Basophils in Blood by Automated count\" \"Eosinophils in Blood by Automated count\" \"Monocytes in Blood by Automated count\" \"Prothrombin time (PT)\" \"INR in Platelet poor plasma by Coagulation assay\" \"aPTT in Blood by Coagulation assay\" \"Protein in Urine by Test strip\" \"Specific gravity of Urine by Test strip\" \"pH of Urine by Test strip\" \"Glucose in Urine by Test strip\" \"Ketones in Urine by Test strip\" \"Urobilinogen in Urine by Test strip\" \"Bilirubin.total in Serum or Plasma\" \"Aspartate aminotransferase in Serum or Plasma\" \"Alanine aminotransferase in Serum or Plasma\" \"Alkaline phosphatase in Serum or Plasma\" \"Leukocytes in Urine sediment by Microscopy high power field\" \"Bacteria in Urine sediment by Microscopy high power field\" \"Epithelial cells in Urine sediment by Microscopy high power fie\" \"Erythrocytes in Urine sediment by Microscopy high power field\" \"Albumin in Serum or Plasma\"'''\n",
    "    )\n"
   ]
  },
  {
   "cell_type": "markdown",
   "metadata": {},
   "source": [
    "### max"
   ]
  },
  {
   "cell_type": "code",
   "execution_count": 9,
   "metadata": {},
   "outputs": [
    {
     "name": "stdout",
     "output_type": "stream",
     "text": [
      "2023-11-29 21:41:48,446 - EHR-QC - INFO - Parsing command line arguments\n",
      "2023-11-29 21:41:48,447 - EHR-QC - INFO - args.source_path: /home/yram0006/phd/chapter_2/workspace/MIMIC-EHR-Pipeline/data/sepsis_micro_cohort/extracts/labs_max_episode_date.csv\n",
      "2023-11-29 21:41:48,447 - EHR-QC - INFO - args.save_path: /home/yram0006/phd/chapter_2/workspace/MIMIC-EHR-Pipeline/data/sepsis_micro_cohort/plots/explore/labs_max.html\n",
      "2023-11-29 21:41:48,447 - EHR-QC - INFO - args.columns_list: ['Leukocytes in Blood by Manual count', 'Hematocrit of Blood by Automated count', 'MCHC by Automated count', 'MCH by Automated count', 'Erythrocyte distribution width by Automated count', 'MCV by Automated count', 'Erythrocytes in Blood by Automated count', 'Platelets in Blood by Automated count', 'Hemoglobin in Blood', 'Urea nitrogen in Serum or Plasma', 'Creatinine in Serum or Plasma', 'Potassium in Serum or Plasma', 'Chloride in Serum or Plasma', 'Bicarbonate in Serum or Plasma', 'Sodium in Serum or Plasma', 'Anion gap 4 in Serum or Plasma', 'Glucose in Serum or Plasma', 'Magnesium in Serum or Plasma', 'Calcium in Serum or Plasma', 'Phosphate in Serum or Plasma', 'Neutrophils in Urine by Automated count', 'Lymphocytes in Blood by Automated count', 'Basophils in Blood by Automated count', 'Eosinophils in Blood by Automated count', 'Monocytes in Blood by Automated count', 'Prothrombin time (PT)', 'INR in Platelet poor plasma by Coagulation assay', 'aPTT in Blood by Coagulation assay', 'Protein in Urine by Test strip', 'Specific gravity of Urine by Test strip', 'pH of Urine by Test strip', 'Glucose in Urine by Test strip', 'Ketones in Urine by Test strip', 'Urobilinogen in Urine by Test strip', 'Bilirubin.total in Serum or Plasma', 'Aspartate aminotransferase in Serum or Plasma', 'Alanine aminotransferase in Serum or Plasma', 'Alkaline phosphatase in Serum or Plasma', 'Leukocytes in Urine sediment by Microscopy high power field', 'Bacteria in Urine sediment by Microscopy high power field', 'Epithelial cells in Urine sediment by Microscopy high power fie', 'Erythrocytes in Urine sediment by Microscopy high power field', 'Albumin in Serum or Plasma']\n",
      "2023-11-29 21:41:48,774 - EHR-QC - INFO - Generating the exploration report\n",
      "2023-11-29 21:41:48,775 - EHR-QC - INFO - Columns: Leukocytes in Blood by Manual count\n",
      "2023-11-29 21:41:49,713 - EHR-QC - INFO - Columns: Hematocrit of Blood by Automated count\n",
      "2023-11-29 21:41:50,348 - EHR-QC - INFO - Columns: MCHC by Automated count\n",
      "2023-11-29 21:41:50,931 - EHR-QC - INFO - Columns: MCH by Automated count\n",
      "2023-11-29 21:41:51,518 - EHR-QC - INFO - Columns: Erythrocyte distribution width by Automated count\n",
      "2023-11-29 21:41:52,110 - EHR-QC - INFO - Columns: MCV by Automated count\n",
      "2023-11-29 21:41:52,707 - EHR-QC - INFO - Columns: Erythrocytes in Blood by Automated count\n",
      "2023-11-29 21:41:53,311 - EHR-QC - INFO - Columns: Platelets in Blood by Automated count\n",
      "2023-11-29 21:41:53,858 - EHR-QC - INFO - Columns: Hemoglobin in Blood\n",
      "2023-11-29 21:41:54,411 - EHR-QC - INFO - Columns: Urea nitrogen in Serum or Plasma\n",
      "2023-11-29 21:41:54,965 - EHR-QC - INFO - Columns: Creatinine in Serum or Plasma\n",
      "2023-11-29 21:41:55,512 - EHR-QC - INFO - Columns: Potassium in Serum or Plasma\n",
      "2023-11-29 21:41:56,069 - EHR-QC - INFO - Columns: Chloride in Serum or Plasma\n",
      "2023-11-29 21:41:56,733 - EHR-QC - INFO - Columns: Bicarbonate in Serum or Plasma\n",
      "2023-11-29 21:41:57,360 - EHR-QC - INFO - Columns: Sodium in Serum or Plasma\n",
      "2023-11-29 21:41:58,112 - EHR-QC - INFO - Columns: Anion gap 4 in Serum or Plasma\n",
      "2023-11-29 21:41:58,750 - EHR-QC - INFO - Columns: Glucose in Serum or Plasma\n",
      "2023-11-29 21:41:59,398 - EHR-QC - INFO - Columns: Magnesium in Serum or Plasma\n",
      "2023-11-29 21:42:00,053 - EHR-QC - INFO - Columns: Calcium in Serum or Plasma\n",
      "2023-11-29 21:42:00,692 - EHR-QC - INFO - Columns: Phosphate in Serum or Plasma\n",
      "2023-11-29 21:42:01,304 - EHR-QC - INFO - Columns: Neutrophils in Urine by Automated count\n"
     ]
    },
    {
     "name": "stderr",
     "output_type": "stream",
     "text": [
      "/superbugai-data/yash/chapter_2/workspace/EHR-QC-Preprocess/ehrqc/plot/ExplorationGraphs.py:61: RuntimeWarning: More than 20 figures have been opened. Figures created through the pyplot interface (`matplotlib.pyplot.figure`) are retained until explicitly closed and may consume too much memory. (To control this warning, see the rcParam `figure.max_open_warning`). Consider using `matplotlib.pyplot.close()`.\n",
      "  fig, ax = plt.subplots()\n"
     ]
    },
    {
     "name": "stdout",
     "output_type": "stream",
     "text": [
      "2023-11-29 21:42:01,785 - EHR-QC - INFO - Columns: Lymphocytes in Blood by Automated count\n",
      "2023-11-29 21:42:02,260 - EHR-QC - INFO - Columns: Basophils in Blood by Automated count\n",
      "2023-11-29 21:42:02,696 - EHR-QC - INFO - Columns: Eosinophils in Blood by Automated count\n",
      "2023-11-29 21:42:03,115 - EHR-QC - INFO - Columns: Monocytes in Blood by Automated count\n",
      "2023-11-29 21:42:03,525 - EHR-QC - INFO - Columns: Prothrombin time (PT)\n",
      "2023-11-29 21:42:04,028 - EHR-QC - INFO - Columns: INR in Platelet poor plasma by Coagulation assay\n",
      "2023-11-29 21:42:04,544 - EHR-QC - INFO - Columns: aPTT in Blood by Coagulation assay\n",
      "2023-11-29 21:42:05,027 - EHR-QC - INFO - Columns: Protein in Urine by Test strip\n",
      "2023-11-29 21:42:05,303 - EHR-QC - INFO - Columns: Specific gravity of Urine by Test strip\n",
      "2023-11-29 21:42:05,673 - EHR-QC - INFO - Columns: pH of Urine by Test strip\n",
      "2023-11-29 21:42:06,059 - EHR-QC - INFO - Columns: Glucose in Urine by Test strip\n",
      "2023-11-29 21:42:06,314 - EHR-QC - INFO - Columns: Ketones in Urine by Test strip\n",
      "2023-11-29 21:42:06,588 - EHR-QC - INFO - Columns: Urobilinogen in Urine by Test strip\n",
      "2023-11-29 21:42:06,854 - EHR-QC - INFO - Columns: Bilirubin.total in Serum or Plasma\n",
      "2023-11-29 21:42:07,329 - EHR-QC - INFO - Columns: Aspartate aminotransferase in Serum or Plasma\n",
      "2023-11-29 21:42:07,817 - EHR-QC - INFO - Columns: Alanine aminotransferase in Serum or Plasma\n",
      "2023-11-29 21:42:08,417 - EHR-QC - INFO - Columns: Alkaline phosphatase in Serum or Plasma\n",
      "2023-11-29 21:42:08,967 - EHR-QC - INFO - Columns: Leukocytes in Urine sediment by Microscopy high power field\n",
      "2023-11-29 21:42:09,370 - EHR-QC - INFO - Columns: Bacteria in Urine sediment by Microscopy high power field\n",
      "2023-11-29 21:42:09,607 - EHR-QC - INFO - Columns: Epithelial cells in Urine sediment by Microscopy high power fie\n",
      "2023-11-29 21:42:09,973 - EHR-QC - INFO - Columns: Erythrocytes in Urine sediment by Microscopy high power field\n",
      "2023-11-29 21:42:10,332 - EHR-QC - INFO - Columns: Albumin in Serum or Plasma\n",
      "2023-11-29 21:42:10,742 - EHR-QC - INFO - Saving the exploration report!!\n",
      "2023-11-29 21:42:10,748 - EHR-QC - INFO - Done!!\n"
     ]
    },
    {
     "data": {
      "text/plain": [
       "0"
      ]
     },
     "execution_count": 9,
     "metadata": {},
     "output_type": "execute_result"
    }
   ],
   "source": [
    "import os\n",
    "\n",
    "\n",
    "os.system(\n",
    "    'cd ' + os.environ['EHR_QC_PREPROCESS_BASE'] + ';'\n",
    "    +\n",
    "    '''.venv/bin/python -m ehrqc.plot.ExplorationGraphs ''' + os.environ['MIMIC_EHR_PIPELINE_BASE'] + '''/data/sepsis_micro_cohort/extracts/labs_max_episode_date.csv ''' + os.environ['MIMIC_EHR_PIPELINE_BASE'] + '''/data/sepsis_micro_cohort/plots/explore/labs_max.html -c \"Leukocytes in Blood by Manual count\" \"Hematocrit of Blood by Automated count\" \"MCHC by Automated count\" \"MCH by Automated count\" \"Erythrocyte distribution width by Automated count\" \"MCV by Automated count\" \"Erythrocytes in Blood by Automated count\" \"Platelets in Blood by Automated count\" \"Hemoglobin in Blood\" \"Urea nitrogen in Serum or Plasma\" \"Creatinine in Serum or Plasma\" \"Potassium in Serum or Plasma\" \"Chloride in Serum or Plasma\" \"Bicarbonate in Serum or Plasma\" \"Sodium in Serum or Plasma\" \"Anion gap 4 in Serum or Plasma\" \"Glucose in Serum or Plasma\" \"Magnesium in Serum or Plasma\" \"Calcium in Serum or Plasma\" \"Phosphate in Serum or Plasma\" \"Neutrophils in Urine by Automated count\" \"Lymphocytes in Blood by Automated count\" \"Basophils in Blood by Automated count\" \"Eosinophils in Blood by Automated count\" \"Monocytes in Blood by Automated count\" \"Prothrombin time (PT)\" \"INR in Platelet poor plasma by Coagulation assay\" \"aPTT in Blood by Coagulation assay\" \"Protein in Urine by Test strip\" \"Specific gravity of Urine by Test strip\" \"pH of Urine by Test strip\" \"Glucose in Urine by Test strip\" \"Ketones in Urine by Test strip\" \"Urobilinogen in Urine by Test strip\" \"Bilirubin.total in Serum or Plasma\" \"Aspartate aminotransferase in Serum or Plasma\" \"Alanine aminotransferase in Serum or Plasma\" \"Alkaline phosphatase in Serum or Plasma\" \"Leukocytes in Urine sediment by Microscopy high power field\" \"Bacteria in Urine sediment by Microscopy high power field\" \"Epithelial cells in Urine sediment by Microscopy high power fie\" \"Erythrocytes in Urine sediment by Microscopy high power field\" \"Albumin in Serum or Plasma\"'''\n",
    "    )\n"
   ]
  },
  {
   "cell_type": "markdown",
   "metadata": {},
   "source": [
    "### first"
   ]
  },
  {
   "cell_type": "code",
   "execution_count": 10,
   "metadata": {},
   "outputs": [
    {
     "name": "stdout",
     "output_type": "stream",
     "text": [
      "2023-11-29 21:42:12,279 - EHR-QC - INFO - Parsing command line arguments\n",
      "2023-11-29 21:42:12,280 - EHR-QC - INFO - args.source_path: /home/yram0006/phd/chapter_2/workspace/MIMIC-EHR-Pipeline/data/sepsis_micro_cohort/extracts/labs_first_episode_date.csv\n",
      "2023-11-29 21:42:12,281 - EHR-QC - INFO - args.save_path: /home/yram0006/phd/chapter_2/workspace/MIMIC-EHR-Pipeline/data/sepsis_micro_cohort/plots/explore/labs_first.html\n",
      "2023-11-29 21:42:12,281 - EHR-QC - INFO - args.columns_list: ['Leukocytes in Blood by Manual count', 'Hematocrit of Blood by Automated count', 'MCHC by Automated count', 'MCH by Automated count', 'Erythrocyte distribution width by Automated count', 'MCV by Automated count', 'Erythrocytes in Blood by Automated count', 'Platelets in Blood by Automated count', 'Hemoglobin in Blood', 'Urea nitrogen in Serum or Plasma', 'Creatinine in Serum or Plasma', 'Potassium in Serum or Plasma', 'Chloride in Serum or Plasma', 'Bicarbonate in Serum or Plasma', 'Sodium in Serum or Plasma', 'Anion gap 4 in Serum or Plasma', 'Glucose in Serum or Plasma', 'Magnesium in Serum or Plasma', 'Calcium in Serum or Plasma', 'Phosphate in Serum or Plasma', 'Neutrophils in Urine by Automated count', 'Lymphocytes in Blood by Automated count', 'Basophils in Blood by Automated count', 'Eosinophils in Blood by Automated count', 'Monocytes in Blood by Automated count', 'Prothrombin time (PT)', 'INR in Platelet poor plasma by Coagulation assay', 'aPTT in Blood by Coagulation assay', 'Protein in Urine by Test strip', 'Specific gravity of Urine by Test strip', 'pH of Urine by Test strip', 'Glucose in Urine by Test strip', 'Ketones in Urine by Test strip', 'Urobilinogen in Urine by Test strip', 'Bilirubin.total in Serum or Plasma', 'Aspartate aminotransferase in Serum or Plasma', 'Alanine aminotransferase in Serum or Plasma', 'Alkaline phosphatase in Serum or Plasma', 'Leukocytes in Urine sediment by Microscopy high power field', 'Bacteria in Urine sediment by Microscopy high power field', 'Epithelial cells in Urine sediment by Microscopy high power fie', 'Erythrocytes in Urine sediment by Microscopy high power field', 'Albumin in Serum or Plasma']\n",
      "2023-11-29 21:42:12,565 - EHR-QC - INFO - Generating the exploration report\n",
      "2023-11-29 21:42:12,565 - EHR-QC - INFO - Columns: Leukocytes in Blood by Manual count\n",
      "2023-11-29 21:42:13,501 - EHR-QC - INFO - Columns: Hematocrit of Blood by Automated count\n",
      "2023-11-29 21:42:14,098 - EHR-QC - INFO - Columns: MCHC by Automated count\n",
      "2023-11-29 21:42:14,643 - EHR-QC - INFO - Columns: MCH by Automated count\n",
      "2023-11-29 21:42:15,168 - EHR-QC - INFO - Columns: Erythrocyte distribution width by Automated count\n",
      "2023-11-29 21:42:15,689 - EHR-QC - INFO - Columns: MCV by Automated count\n",
      "2023-11-29 21:42:16,222 - EHR-QC - INFO - Columns: Erythrocytes in Blood by Automated count\n",
      "2023-11-29 21:42:16,764 - EHR-QC - INFO - Columns: Platelets in Blood by Automated count\n",
      "2023-11-29 21:42:17,297 - EHR-QC - INFO - Columns: Hemoglobin in Blood\n",
      "2023-11-29 21:42:17,822 - EHR-QC - INFO - Columns: Urea nitrogen in Serum or Plasma\n",
      "2023-11-29 21:42:18,385 - EHR-QC - INFO - Columns: Creatinine in Serum or Plasma\n",
      "2023-11-29 21:42:18,982 - EHR-QC - INFO - Columns: Potassium in Serum or Plasma\n",
      "2023-11-29 21:42:19,523 - EHR-QC - INFO - Columns: Chloride in Serum or Plasma\n",
      "2023-11-29 21:42:20,101 - EHR-QC - INFO - Columns: Bicarbonate in Serum or Plasma\n",
      "2023-11-29 21:42:20,622 - EHR-QC - INFO - Columns: Sodium in Serum or Plasma\n",
      "2023-11-29 21:42:21,254 - EHR-QC - INFO - Columns: Anion gap 4 in Serum or Plasma\n",
      "2023-11-29 21:42:21,790 - EHR-QC - INFO - Columns: Glucose in Serum or Plasma\n",
      "2023-11-29 21:42:22,370 - EHR-QC - INFO - Columns: Magnesium in Serum or Plasma\n",
      "2023-11-29 21:42:22,919 - EHR-QC - INFO - Columns: Calcium in Serum or Plasma\n",
      "2023-11-29 21:42:23,459 - EHR-QC - INFO - Columns: Phosphate in Serum or Plasma\n",
      "2023-11-29 21:42:24,028 - EHR-QC - INFO - Columns: Neutrophils in Urine by Automated count\n"
     ]
    },
    {
     "name": "stderr",
     "output_type": "stream",
     "text": [
      "/superbugai-data/yash/chapter_2/workspace/EHR-QC-Preprocess/ehrqc/plot/ExplorationGraphs.py:61: RuntimeWarning: More than 20 figures have been opened. Figures created through the pyplot interface (`matplotlib.pyplot.figure`) are retained until explicitly closed and may consume too much memory. (To control this warning, see the rcParam `figure.max_open_warning`). Consider using `matplotlib.pyplot.close()`.\n",
      "  fig, ax = plt.subplots()\n"
     ]
    },
    {
     "name": "stdout",
     "output_type": "stream",
     "text": [
      "2023-11-29 21:42:24,346 - EHR-QC - INFO - Columns: Lymphocytes in Blood by Automated count\n",
      "2023-11-29 21:42:24,688 - EHR-QC - INFO - Columns: Basophils in Blood by Automated count\n",
      "2023-11-29 21:42:25,033 - EHR-QC - INFO - Columns: Eosinophils in Blood by Automated count\n",
      "2023-11-29 21:42:25,442 - EHR-QC - INFO - Columns: Monocytes in Blood by Automated count\n",
      "2023-11-29 21:42:25,894 - EHR-QC - INFO - Columns: Prothrombin time (PT)\n",
      "2023-11-29 21:42:26,414 - EHR-QC - INFO - Columns: INR in Platelet poor plasma by Coagulation assay\n",
      "2023-11-29 21:42:26,927 - EHR-QC - INFO - Columns: aPTT in Blood by Coagulation assay\n",
      "2023-11-29 21:42:27,406 - EHR-QC - INFO - Columns: Protein in Urine by Test strip\n",
      "2023-11-29 21:42:27,743 - EHR-QC - INFO - Columns: Specific gravity of Urine by Test strip\n",
      "2023-11-29 21:42:28,103 - EHR-QC - INFO - Columns: pH of Urine by Test strip\n",
      "2023-11-29 21:42:28,380 - EHR-QC - INFO - Columns: Glucose in Urine by Test strip\n",
      "2023-11-29 21:42:28,702 - EHR-QC - INFO - Columns: Ketones in Urine by Test strip\n",
      "2023-11-29 21:42:28,978 - EHR-QC - INFO - Columns: Urobilinogen in Urine by Test strip\n",
      "2023-11-29 21:42:29,236 - EHR-QC - INFO - Columns: Bilirubin.total in Serum or Plasma\n",
      "2023-11-29 21:42:29,653 - EHR-QC - INFO - Columns: Aspartate aminotransferase in Serum or Plasma\n",
      "2023-11-29 21:42:30,116 - EHR-QC - INFO - Columns: Alanine aminotransferase in Serum or Plasma\n",
      "2023-11-29 21:42:30,738 - EHR-QC - INFO - Columns: Alkaline phosphatase in Serum or Plasma\n",
      "2023-11-29 21:42:31,225 - EHR-QC - INFO - Columns: Leukocytes in Urine sediment by Microscopy high power field\n",
      "2023-11-29 21:42:31,608 - EHR-QC - INFO - Columns: Bacteria in Urine sediment by Microscopy high power field\n",
      "2023-11-29 21:42:31,841 - EHR-QC - INFO - Columns: Epithelial cells in Urine sediment by Microscopy high power fie\n",
      "2023-11-29 21:42:32,239 - EHR-QC - INFO - Columns: Erythrocytes in Urine sediment by Microscopy high power field\n",
      "2023-11-29 21:42:32,660 - EHR-QC - INFO - Columns: Albumin in Serum or Plasma\n",
      "2023-11-29 21:42:33,078 - EHR-QC - INFO - Saving the exploration report!!\n",
      "2023-11-29 21:42:33,085 - EHR-QC - INFO - Done!!\n"
     ]
    },
    {
     "data": {
      "text/plain": [
       "0"
      ]
     },
     "execution_count": 10,
     "metadata": {},
     "output_type": "execute_result"
    }
   ],
   "source": [
    "import os\n",
    "\n",
    "\n",
    "os.system(\n",
    "    'cd ' + os.environ['EHR_QC_PREPROCESS_BASE'] + ';'\n",
    "    +\n",
    "    '''.venv/bin/python -m ehrqc.plot.ExplorationGraphs ''' + os.environ['MIMIC_EHR_PIPELINE_BASE'] + '''/data/sepsis_micro_cohort/extracts/labs_first_episode_date.csv ''' + os.environ['MIMIC_EHR_PIPELINE_BASE'] + '''/data/sepsis_micro_cohort/plots/explore/labs_first.html -c \"Leukocytes in Blood by Manual count\" \"Hematocrit of Blood by Automated count\" \"MCHC by Automated count\" \"MCH by Automated count\" \"Erythrocyte distribution width by Automated count\" \"MCV by Automated count\" \"Erythrocytes in Blood by Automated count\" \"Platelets in Blood by Automated count\" \"Hemoglobin in Blood\" \"Urea nitrogen in Serum or Plasma\" \"Creatinine in Serum or Plasma\" \"Potassium in Serum or Plasma\" \"Chloride in Serum or Plasma\" \"Bicarbonate in Serum or Plasma\" \"Sodium in Serum or Plasma\" \"Anion gap 4 in Serum or Plasma\" \"Glucose in Serum or Plasma\" \"Magnesium in Serum or Plasma\" \"Calcium in Serum or Plasma\" \"Phosphate in Serum or Plasma\" \"Neutrophils in Urine by Automated count\" \"Lymphocytes in Blood by Automated count\" \"Basophils in Blood by Automated count\" \"Eosinophils in Blood by Automated count\" \"Monocytes in Blood by Automated count\" \"Prothrombin time (PT)\" \"INR in Platelet poor plasma by Coagulation assay\" \"aPTT in Blood by Coagulation assay\" \"Protein in Urine by Test strip\" \"Specific gravity of Urine by Test strip\" \"pH of Urine by Test strip\" \"Glucose in Urine by Test strip\" \"Ketones in Urine by Test strip\" \"Urobilinogen in Urine by Test strip\" \"Bilirubin.total in Serum or Plasma\" \"Aspartate aminotransferase in Serum or Plasma\" \"Alanine aminotransferase in Serum or Plasma\" \"Alkaline phosphatase in Serum or Plasma\" \"Leukocytes in Urine sediment by Microscopy high power field\" \"Bacteria in Urine sediment by Microscopy high power field\" \"Epithelial cells in Urine sediment by Microscopy high power fie\" \"Erythrocytes in Urine sediment by Microscopy high power field\" \"Albumin in Serum or Plasma\"'''\n",
    "    )\n"
   ]
  },
  {
   "cell_type": "markdown",
   "metadata": {},
   "source": [
    "### last"
   ]
  },
  {
   "cell_type": "code",
   "execution_count": 11,
   "metadata": {},
   "outputs": [
    {
     "name": "stdout",
     "output_type": "stream",
     "text": [
      "2023-11-29 21:42:34,640 - EHR-QC - INFO - Parsing command line arguments\n",
      "2023-11-29 21:42:34,641 - EHR-QC - INFO - args.source_path: /home/yram0006/phd/chapter_2/workspace/MIMIC-EHR-Pipeline/data/sepsis_micro_cohort/extracts/labs_last_episode_date.csv\n",
      "2023-11-29 21:42:34,641 - EHR-QC - INFO - args.save_path: /home/yram0006/phd/chapter_2/workspace/MIMIC-EHR-Pipeline/data/sepsis_micro_cohort/plots/explore/labs_last.html\n",
      "2023-11-29 21:42:34,641 - EHR-QC - INFO - args.columns_list: ['Leukocytes in Blood by Manual count', 'Hematocrit of Blood by Automated count', 'MCHC by Automated count', 'MCH by Automated count', 'Erythrocyte distribution width by Automated count', 'MCV by Automated count', 'Erythrocytes in Blood by Automated count', 'Platelets in Blood by Automated count', 'Hemoglobin in Blood', 'Urea nitrogen in Serum or Plasma', 'Creatinine in Serum or Plasma', 'Potassium in Serum or Plasma', 'Chloride in Serum or Plasma', 'Bicarbonate in Serum or Plasma', 'Sodium in Serum or Plasma', 'Anion gap 4 in Serum or Plasma', 'Glucose in Serum or Plasma', 'Magnesium in Serum or Plasma', 'Calcium in Serum or Plasma', 'Phosphate in Serum or Plasma', 'Neutrophils in Urine by Automated count', 'Lymphocytes in Blood by Automated count', 'Basophils in Blood by Automated count', 'Eosinophils in Blood by Automated count', 'Monocytes in Blood by Automated count', 'Prothrombin time (PT)', 'INR in Platelet poor plasma by Coagulation assay', 'aPTT in Blood by Coagulation assay', 'Protein in Urine by Test strip', 'Specific gravity of Urine by Test strip', 'pH of Urine by Test strip', 'Glucose in Urine by Test strip', 'Ketones in Urine by Test strip', 'Urobilinogen in Urine by Test strip', 'Bilirubin.total in Serum or Plasma', 'Aspartate aminotransferase in Serum or Plasma', 'Alanine aminotransferase in Serum or Plasma', 'Alkaline phosphatase in Serum or Plasma', 'Leukocytes in Urine sediment by Microscopy high power field', 'Bacteria in Urine sediment by Microscopy high power field', 'Epithelial cells in Urine sediment by Microscopy high power fie', 'Erythrocytes in Urine sediment by Microscopy high power field', 'Albumin in Serum or Plasma']\n",
      "2023-11-29 21:42:34,925 - EHR-QC - INFO - Generating the exploration report\n",
      "2023-11-29 21:42:34,925 - EHR-QC - INFO - Columns: Leukocytes in Blood by Manual count\n",
      "2023-11-29 21:42:35,840 - EHR-QC - INFO - Columns: Hematocrit of Blood by Automated count\n",
      "2023-11-29 21:42:36,449 - EHR-QC - INFO - Columns: MCHC by Automated count\n",
      "2023-11-29 21:42:37,042 - EHR-QC - INFO - Columns: MCH by Automated count\n",
      "2023-11-29 21:42:37,675 - EHR-QC - INFO - Columns: Erythrocyte distribution width by Automated count\n",
      "2023-11-29 21:42:38,277 - EHR-QC - INFO - Columns: MCV by Automated count\n",
      "2023-11-29 21:42:38,860 - EHR-QC - INFO - Columns: Erythrocytes in Blood by Automated count\n",
      "2023-11-29 21:42:39,438 - EHR-QC - INFO - Columns: Platelets in Blood by Automated count\n",
      "2023-11-29 21:42:40,034 - EHR-QC - INFO - Columns: Hemoglobin in Blood\n",
      "2023-11-29 21:42:40,633 - EHR-QC - INFO - Columns: Urea nitrogen in Serum or Plasma\n",
      "2023-11-29 21:42:41,249 - EHR-QC - INFO - Columns: Creatinine in Serum or Plasma\n",
      "2023-11-29 21:42:41,851 - EHR-QC - INFO - Columns: Potassium in Serum or Plasma\n",
      "2023-11-29 21:42:42,437 - EHR-QC - INFO - Columns: Chloride in Serum or Plasma\n",
      "2023-11-29 21:42:43,052 - EHR-QC - INFO - Columns: Bicarbonate in Serum or Plasma\n",
      "2023-11-29 21:42:43,664 - EHR-QC - INFO - Columns: Sodium in Serum or Plasma\n",
      "2023-11-29 21:42:44,376 - EHR-QC - INFO - Columns: Anion gap 4 in Serum or Plasma\n",
      "2023-11-29 21:42:45,024 - EHR-QC - INFO - Columns: Glucose in Serum or Plasma\n",
      "2023-11-29 21:42:45,695 - EHR-QC - INFO - Columns: Magnesium in Serum or Plasma\n",
      "2023-11-29 21:42:46,334 - EHR-QC - INFO - Columns: Calcium in Serum or Plasma\n",
      "2023-11-29 21:42:46,962 - EHR-QC - INFO - Columns: Phosphate in Serum or Plasma\n",
      "2023-11-29 21:42:47,585 - EHR-QC - INFO - Columns: Neutrophils in Urine by Automated count\n"
     ]
    },
    {
     "name": "stderr",
     "output_type": "stream",
     "text": [
      "/superbugai-data/yash/chapter_2/workspace/EHR-QC-Preprocess/ehrqc/plot/ExplorationGraphs.py:61: RuntimeWarning: More than 20 figures have been opened. Figures created through the pyplot interface (`matplotlib.pyplot.figure`) are retained until explicitly closed and may consume too much memory. (To control this warning, see the rcParam `figure.max_open_warning`). Consider using `matplotlib.pyplot.close()`.\n",
      "  fig, ax = plt.subplots()\n"
     ]
    },
    {
     "name": "stdout",
     "output_type": "stream",
     "text": [
      "2023-11-29 21:42:47,971 - EHR-QC - INFO - Columns: Lymphocytes in Blood by Automated count\n",
      "2023-11-29 21:42:48,384 - EHR-QC - INFO - Columns: Basophils in Blood by Automated count\n",
      "2023-11-29 21:42:48,811 - EHR-QC - INFO - Columns: Eosinophils in Blood by Automated count\n",
      "2023-11-29 21:42:49,210 - EHR-QC - INFO - Columns: Monocytes in Blood by Automated count\n",
      "2023-11-29 21:42:49,642 - EHR-QC - INFO - Columns: Prothrombin time (PT)\n",
      "2023-11-29 21:42:50,156 - EHR-QC - INFO - Columns: INR in Platelet poor plasma by Coagulation assay\n",
      "2023-11-29 21:42:50,689 - EHR-QC - INFO - Columns: aPTT in Blood by Coagulation assay\n",
      "2023-11-29 21:42:51,218 - EHR-QC - INFO - Columns: Protein in Urine by Test strip\n",
      "2023-11-29 21:42:51,557 - EHR-QC - INFO - Columns: Specific gravity of Urine by Test strip\n",
      "2023-11-29 21:42:51,945 - EHR-QC - INFO - Columns: pH of Urine by Test strip\n",
      "2023-11-29 21:42:52,320 - EHR-QC - INFO - Columns: Glucose in Urine by Test strip\n",
      "2023-11-29 21:42:52,656 - EHR-QC - INFO - Columns: Ketones in Urine by Test strip\n",
      "2023-11-29 21:42:52,983 - EHR-QC - INFO - Columns: Urobilinogen in Urine by Test strip\n",
      "2023-11-29 21:42:53,321 - EHR-QC - INFO - Columns: Bilirubin.total in Serum or Plasma\n",
      "2023-11-29 21:42:53,826 - EHR-QC - INFO - Columns: Aspartate aminotransferase in Serum or Plasma\n",
      "2023-11-29 21:42:54,342 - EHR-QC - INFO - Columns: Alanine aminotransferase in Serum or Plasma\n",
      "2023-11-29 21:42:54,850 - EHR-QC - INFO - Columns: Alkaline phosphatase in Serum or Plasma\n",
      "2023-11-29 21:42:55,461 - EHR-QC - INFO - Columns: Leukocytes in Urine sediment by Microscopy high power field\n",
      "2023-11-29 21:42:55,852 - EHR-QC - INFO - Columns: Bacteria in Urine sediment by Microscopy high power field\n",
      "2023-11-29 21:42:56,092 - EHR-QC - INFO - Columns: Epithelial cells in Urine sediment by Microscopy high power fie\n",
      "2023-11-29 21:42:56,484 - EHR-QC - INFO - Columns: Erythrocytes in Urine sediment by Microscopy high power field\n",
      "2023-11-29 21:42:56,883 - EHR-QC - INFO - Columns: Albumin in Serum or Plasma\n",
      "2023-11-29 21:42:57,262 - EHR-QC - INFO - Saving the exploration report!!\n",
      "2023-11-29 21:42:57,270 - EHR-QC - INFO - Done!!\n"
     ]
    },
    {
     "data": {
      "text/plain": [
       "0"
      ]
     },
     "execution_count": 11,
     "metadata": {},
     "output_type": "execute_result"
    }
   ],
   "source": [
    "import os\n",
    "\n",
    "\n",
    "os.system(\n",
    "    'cd ' + os.environ['EHR_QC_PREPROCESS_BASE'] + ';'\n",
    "    +\n",
    "    '''.venv/bin/python -m ehrqc.plot.ExplorationGraphs ''' + os.environ['MIMIC_EHR_PIPELINE_BASE'] + '''/data/sepsis_micro_cohort/extracts/labs_last_episode_date.csv ''' + os.environ['MIMIC_EHR_PIPELINE_BASE'] + '''/data/sepsis_micro_cohort/plots/explore/labs_last.html -c \"Leukocytes in Blood by Manual count\" \"Hematocrit of Blood by Automated count\" \"MCHC by Automated count\" \"MCH by Automated count\" \"Erythrocyte distribution width by Automated count\" \"MCV by Automated count\" \"Erythrocytes in Blood by Automated count\" \"Platelets in Blood by Automated count\" \"Hemoglobin in Blood\" \"Urea nitrogen in Serum or Plasma\" \"Creatinine in Serum or Plasma\" \"Potassium in Serum or Plasma\" \"Chloride in Serum or Plasma\" \"Bicarbonate in Serum or Plasma\" \"Sodium in Serum or Plasma\" \"Anion gap 4 in Serum or Plasma\" \"Glucose in Serum or Plasma\" \"Magnesium in Serum or Plasma\" \"Calcium in Serum or Plasma\" \"Phosphate in Serum or Plasma\" \"Neutrophils in Urine by Automated count\" \"Lymphocytes in Blood by Automated count\" \"Basophils in Blood by Automated count\" \"Eosinophils in Blood by Automated count\" \"Monocytes in Blood by Automated count\" \"Prothrombin time (PT)\" \"INR in Platelet poor plasma by Coagulation assay\" \"aPTT in Blood by Coagulation assay\" \"Protein in Urine by Test strip\" \"Specific gravity of Urine by Test strip\" \"pH of Urine by Test strip\" \"Glucose in Urine by Test strip\" \"Ketones in Urine by Test strip\" \"Urobilinogen in Urine by Test strip\" \"Bilirubin.total in Serum or Plasma\" \"Aspartate aminotransferase in Serum or Plasma\" \"Alanine aminotransferase in Serum or Plasma\" \"Alkaline phosphatase in Serum or Plasma\" \"Leukocytes in Urine sediment by Microscopy high power field\" \"Bacteria in Urine sediment by Microscopy high power field\" \"Epithelial cells in Urine sediment by Microscopy high power fie\" \"Erythrocytes in Urine sediment by Microscopy high power field\" \"Albumin in Serum or Plasma\"'''\n",
    "    )\n"
   ]
  }
 ],
 "metadata": {
  "kernelspec": {
   "display_name": ".venv",
   "language": "python",
   "name": "python3"
  },
  "language_info": {
   "codemirror_mode": {
    "name": "ipython",
    "version": 3
   },
   "file_extension": ".py",
   "mimetype": "text/x-python",
   "name": "python",
   "nbconvert_exporter": "python",
   "pygments_lexer": "ipython3",
   "version": "3.8.10"
  }
 },
 "nbformat": 4,
 "nbformat_minor": 2
}
