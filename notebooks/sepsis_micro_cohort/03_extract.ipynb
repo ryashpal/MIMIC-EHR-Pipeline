{
 "cells": [
  {
   "cell_type": "markdown",
   "metadata": {},
   "source": [
    "# Extract the data"
   ]
  },
  {
   "cell_type": "markdown",
   "metadata": {},
   "source": [
    "## Labs - from standard OMOP-CDM schema to csv files"
   ]
  },
  {
   "cell_type": "markdown",
   "metadata": {},
   "source": [
    "### Average per episode and date"
   ]
  },
  {
   "cell_type": "code",
   "execution_count": 14,
   "metadata": {},
   "outputs": [
    {
     "name": "stdout",
     "output_type": "stream",
     "text": [
      "2023-11-29 21:09:21,010 - EHR-QC - INFO - Parsing command line arguments\n",
      "2023-11-29 21:09:21,011 - EHR-QC - INFO - args.save_path: /home/yram0006/phd/chapter_2/workspace/MIMIC-EHR-Pipeline/data/sepsis_micro_cohort/extracts/labs_avg_episode_date.csv\n",
      "2023-11-29 21:09:21,011 - EHR-QC - INFO - args.schema_name: omop_migration_etl_20220817\n",
      "2023-11-29 21:09:21,011 - EHR-QC - INFO - args.sql_file_path: /home/yram0006/phd/chapter_2/workspace/EHR-QC-Preprocess/sql/mimic_micro_cohort/omop_labs_episode_date/avg.sql\n",
      "2023-11-29 21:09:21,034 - EHR-QC - INFO - extracting data\n"
     ]
    },
    {
     "name": "stderr",
     "output_type": "stream",
     "text": [
      "/superbugai-data/yash/chapter_2/workspace/EHR-QC-Preprocess/ehrqc/extract/ExtractData.py:13: UserWarning: pandas only supports SQLAlchemy connectable (engine/connection) or database string URI or sqlite3 DBAPI2 connection. Other DBAPI2 objects are not tested. Please consider using SQLAlchemy.\n",
      "  mimicOmopSepsisIcdDf = pd.read_sql_query(mimicOmopSepsisIcdQuery, con)\n"
     ]
    },
    {
     "name": "stdout",
     "output_type": "stream",
     "text": [
      "2023-11-29 21:09:54,728 - EHR-QC - INFO - Saving raw data to file\n",
      "2023-11-29 21:09:58,554 - EHR-QC - INFO - Done!\n"
     ]
    },
    {
     "data": {
      "text/plain": [
       "0"
      ]
     },
     "execution_count": 14,
     "metadata": {},
     "output_type": "execute_result"
    }
   ],
   "source": [
    "import os\n",
    "\n",
    "\n",
    "os.system(\n",
    "    'cd ' + os.environ['EHR_QC_PREPROCESS_BASE'] + ';'\n",
    "    +\n",
    "    '''.venv/bin/python -m ehrqc.extract.ExtractData ''' + os.environ['MIMIC_EHR_PIPELINE_BASE'] + '''/data/sepsis_micro_cohort/extracts/labs_avg_episode_date.csv omop_migration_etl_20220817 ''' + os.environ['EHR_QC_PREPROCESS_BASE'] + '''/sql/mimic_micro_cohort/omop_labs_episode_date/avg.sql;'''\n",
    "    )\n"
   ]
  },
  {
   "cell_type": "markdown",
   "metadata": {},
   "source": [
    "### Min per episode and date"
   ]
  },
  {
   "cell_type": "code",
   "execution_count": 15,
   "metadata": {},
   "outputs": [
    {
     "name": "stdout",
     "output_type": "stream",
     "text": [
      "2023-11-29 21:15:30,329 - EHR-QC - INFO - Parsing command line arguments\n",
      "2023-11-29 21:15:30,330 - EHR-QC - INFO - args.save_path: /home/yram0006/phd/chapter_2/workspace/MIMIC-EHR-Pipeline/data/sepsis_micro_cohort/extracts/labs_min_episode_date.csv\n",
      "2023-11-29 21:15:30,330 - EHR-QC - INFO - args.schema_name: omop_migration_etl_20220817\n",
      "2023-11-29 21:15:30,330 - EHR-QC - INFO - args.sql_file_path: /home/yram0006/phd/chapter_2/workspace/EHR-QC-Preprocess/sql/mimic_micro_cohort/omop_labs_episode_date/min.sql\n",
      "2023-11-29 21:15:30,363 - EHR-QC - INFO - extracting data\n"
     ]
    },
    {
     "name": "stderr",
     "output_type": "stream",
     "text": [
      "/superbugai-data/yash/chapter_2/workspace/EHR-QC-Preprocess/ehrqc/extract/ExtractData.py:13: UserWarning: pandas only supports SQLAlchemy connectable (engine/connection) or database string URI or sqlite3 DBAPI2 connection. Other DBAPI2 objects are not tested. Please consider using SQLAlchemy.\n",
      "  mimicOmopSepsisIcdDf = pd.read_sql_query(mimicOmopSepsisIcdQuery, con)\n"
     ]
    },
    {
     "name": "stdout",
     "output_type": "stream",
     "text": [
      "2023-11-29 21:15:55,364 - EHR-QC - INFO - Saving raw data to file\n",
      "2023-11-29 21:16:02,649 - EHR-QC - INFO - Done!\n"
     ]
    },
    {
     "data": {
      "text/plain": [
       "0"
      ]
     },
     "execution_count": 15,
     "metadata": {},
     "output_type": "execute_result"
    }
   ],
   "source": [
    "import os\n",
    "\n",
    "\n",
    "os.system(\n",
    "    'cd ' + os.environ['EHR_QC_PREPROCESS_BASE'] + ';'\n",
    "    +\n",
    "    '''.venv/bin/python -m ehrqc.extract.ExtractData ''' + os.environ['MIMIC_EHR_PIPELINE_BASE'] + '''/data/sepsis_micro_cohort/extracts/labs_min_episode_date.csv omop_migration_etl_20220817 ''' + os.environ['EHR_QC_PREPROCESS_BASE'] + '''/sql/mimic_micro_cohort/omop_labs_episode_date/min.sql;'''\n",
    "    )"
   ]
  },
  {
   "cell_type": "markdown",
   "metadata": {},
   "source": [
    "### Max per episode and date"
   ]
  },
  {
   "cell_type": "code",
   "execution_count": 16,
   "metadata": {},
   "outputs": [
    {
     "name": "stdout",
     "output_type": "stream",
     "text": [
      "2023-11-29 21:16:03,047 - EHR-QC - INFO - Parsing command line arguments\n",
      "2023-11-29 21:16:03,048 - EHR-QC - INFO - args.save_path: /home/yram0006/phd/chapter_2/workspace/MIMIC-EHR-Pipeline/data/sepsis_micro_cohort/extracts/labs_max_episode_date.csv\n",
      "2023-11-29 21:16:03,048 - EHR-QC - INFO - args.schema_name: omop_migration_etl_20220817\n",
      "2023-11-29 21:16:03,048 - EHR-QC - INFO - args.sql_file_path: /home/yram0006/phd/chapter_2/workspace/EHR-QC-Preprocess/sql/mimic_micro_cohort/omop_labs_episode_date/max.sql\n",
      "2023-11-29 21:16:03,076 - EHR-QC - INFO - extracting data\n"
     ]
    },
    {
     "name": "stderr",
     "output_type": "stream",
     "text": [
      "/superbugai-data/yash/chapter_2/workspace/EHR-QC-Preprocess/ehrqc/extract/ExtractData.py:13: UserWarning: pandas only supports SQLAlchemy connectable (engine/connection) or database string URI or sqlite3 DBAPI2 connection. Other DBAPI2 objects are not tested. Please consider using SQLAlchemy.\n",
      "  mimicOmopSepsisIcdDf = pd.read_sql_query(mimicOmopSepsisIcdQuery, con)\n"
     ]
    },
    {
     "name": "stdout",
     "output_type": "stream",
     "text": [
      "2023-11-29 21:16:29,099 - EHR-QC - INFO - Saving raw data to file\n",
      "2023-11-29 21:16:32,984 - EHR-QC - INFO - Done!\n"
     ]
    },
    {
     "data": {
      "text/plain": [
       "0"
      ]
     },
     "execution_count": 16,
     "metadata": {},
     "output_type": "execute_result"
    }
   ],
   "source": [
    "import os\n",
    "\n",
    "\n",
    "os.system(\n",
    "    'cd ' + os.environ['EHR_QC_PREPROCESS_BASE'] + ';'\n",
    "    +\n",
    "    '''.venv/bin/python -m ehrqc.extract.ExtractData ''' + os.environ['MIMIC_EHR_PIPELINE_BASE'] + '''/data/sepsis_micro_cohort/extracts/labs_max_episode_date.csv omop_migration_etl_20220817 ''' + os.environ['EHR_QC_PREPROCESS_BASE'] + '''/sql/mimic_micro_cohort/omop_labs_episode_date/max.sql;'''\n",
    "    )"
   ]
  },
  {
   "cell_type": "markdown",
   "metadata": {},
   "source": [
    "### First per episode and date"
   ]
  },
  {
   "cell_type": "code",
   "execution_count": 17,
   "metadata": {},
   "outputs": [
    {
     "name": "stdout",
     "output_type": "stream",
     "text": [
      "2023-11-29 21:16:33,479 - EHR-QC - INFO - Parsing command line arguments\n",
      "2023-11-29 21:16:33,480 - EHR-QC - INFO - args.save_path: /home/yram0006/phd/chapter_2/workspace/MIMIC-EHR-Pipeline/data/sepsis_micro_cohort/extracts/labs_first_episode_date.csv\n",
      "2023-11-29 21:16:33,480 - EHR-QC - INFO - args.schema_name: omop_migration_etl_20220817\n",
      "2023-11-29 21:16:33,480 - EHR-QC - INFO - args.sql_file_path: /home/yram0006/phd/chapter_2/workspace/EHR-QC-Preprocess/sql/mimic_micro_cohort/omop_labs_episode_date/first.sql\n",
      "2023-11-29 21:16:33,503 - EHR-QC - INFO - extracting data\n"
     ]
    },
    {
     "name": "stderr",
     "output_type": "stream",
     "text": [
      "/superbugai-data/yash/chapter_2/workspace/EHR-QC-Preprocess/ehrqc/extract/ExtractData.py:13: UserWarning: pandas only supports SQLAlchemy connectable (engine/connection) or database string URI or sqlite3 DBAPI2 connection. Other DBAPI2 objects are not tested. Please consider using SQLAlchemy.\n",
      "  mimicOmopSepsisIcdDf = pd.read_sql_query(mimicOmopSepsisIcdQuery, con)\n"
     ]
    },
    {
     "name": "stdout",
     "output_type": "stream",
     "text": [
      "2023-11-29 21:17:05,694 - EHR-QC - INFO - Saving raw data to file\n",
      "2023-11-29 21:17:08,950 - EHR-QC - INFO - Done!\n"
     ]
    },
    {
     "data": {
      "text/plain": [
       "0"
      ]
     },
     "execution_count": 17,
     "metadata": {},
     "output_type": "execute_result"
    }
   ],
   "source": [
    "import os\n",
    "\n",
    "\n",
    "os.system(\n",
    "    'cd ' + os.environ['EHR_QC_PREPROCESS_BASE'] + ';'\n",
    "    +\n",
    "    '''.venv/bin/python -m ehrqc.extract.ExtractData ''' + os.environ['MIMIC_EHR_PIPELINE_BASE'] + '''/data/sepsis_micro_cohort/extracts/labs_first_episode_date.csv omop_migration_etl_20220817 ''' + os.environ['EHR_QC_PREPROCESS_BASE'] + '''/sql/mimic_micro_cohort/omop_labs_episode_date/first.sql;'''\n",
    "    )"
   ]
  },
  {
   "cell_type": "markdown",
   "metadata": {},
   "source": [
    "### Last per episode and date"
   ]
  },
  {
   "cell_type": "code",
   "execution_count": 18,
   "metadata": {},
   "outputs": [
    {
     "name": "stdout",
     "output_type": "stream",
     "text": [
      "2023-11-29 21:17:09,402 - EHR-QC - INFO - Parsing command line arguments\n",
      "2023-11-29 21:17:09,403 - EHR-QC - INFO - args.save_path: /home/yram0006/phd/chapter_2/workspace/MIMIC-EHR-Pipeline/data/sepsis_micro_cohort/extracts/labs_last_episode_date.csv\n",
      "2023-11-29 21:17:09,403 - EHR-QC - INFO - args.schema_name: omop_migration_etl_20220817\n",
      "2023-11-29 21:17:09,403 - EHR-QC - INFO - args.sql_file_path: /home/yram0006/phd/chapter_2/workspace/EHR-QC-Preprocess/sql/mimic_micro_cohort/omop_labs_episode_date/last.sql\n",
      "2023-11-29 21:17:09,425 - EHR-QC - INFO - extracting data\n"
     ]
    },
    {
     "name": "stderr",
     "output_type": "stream",
     "text": [
      "/superbugai-data/yash/chapter_2/workspace/EHR-QC-Preprocess/ehrqc/extract/ExtractData.py:13: UserWarning: pandas only supports SQLAlchemy connectable (engine/connection) or database string URI or sqlite3 DBAPI2 connection. Other DBAPI2 objects are not tested. Please consider using SQLAlchemy.\n",
      "  mimicOmopSepsisIcdDf = pd.read_sql_query(mimicOmopSepsisIcdQuery, con)\n"
     ]
    },
    {
     "name": "stdout",
     "output_type": "stream",
     "text": [
      "2023-11-29 21:17:41,476 - EHR-QC - INFO - Saving raw data to file\n",
      "2023-11-29 21:17:45,243 - EHR-QC - INFO - Done!\n"
     ]
    },
    {
     "data": {
      "text/plain": [
       "0"
      ]
     },
     "execution_count": 18,
     "metadata": {},
     "output_type": "execute_result"
    }
   ],
   "source": [
    "import os\n",
    "\n",
    "\n",
    "os.system(\n",
    "    'cd ' + os.environ['EHR_QC_PREPROCESS_BASE'] + ';'\n",
    "    +\n",
    "    '''.venv/bin/python -m ehrqc.extract.ExtractData ''' + os.environ['MIMIC_EHR_PIPELINE_BASE'] + '''/data/sepsis_micro_cohort/extracts/labs_last_episode_date.csv omop_migration_etl_20220817 ''' + os.environ['EHR_QC_PREPROCESS_BASE'] + '''/sql/mimic_micro_cohort/omop_labs_episode_date/last.sql;'''\n",
    "    )"
   ]
  },
  {
   "cell_type": "markdown",
   "metadata": {},
   "source": [
    "## Vitals - from standard OMOP-CDM schema to csv files"
   ]
  },
  {
   "cell_type": "markdown",
   "metadata": {},
   "source": [
    "### Average per episode and date"
   ]
  },
  {
   "cell_type": "code",
   "execution_count": 24,
   "metadata": {},
   "outputs": [
    {
     "name": "stdout",
     "output_type": "stream",
     "text": [
      "2023-11-29 21:37:14,479 - EHR-QC - INFO - Parsing command line arguments\n",
      "2023-11-29 21:37:14,480 - EHR-QC - INFO - args.save_path: /home/yram0006/phd/chapter_2/workspace/MIMIC-EHR-Pipeline/data/sepsis_micro_cohort/extracts/vitals_avg_episode_date.csv\n",
      "2023-11-29 21:37:14,480 - EHR-QC - INFO - args.schema_name: omop_migration_etl_20220817\n",
      "2023-11-29 21:37:14,480 - EHR-QC - INFO - args.sql_file_path: /home/yram0006/phd/chapter_2/workspace/EHR-QC-Preprocess/sql/mimic_micro_cohort/omop_vitals_episode_date/avg.sql\n",
      "2023-11-29 21:37:14,503 - EHR-QC - INFO - extracting data\n"
     ]
    },
    {
     "name": "stderr",
     "output_type": "stream",
     "text": [
      "/superbugai-data/yash/chapter_2/workspace/EHR-QC-Preprocess/ehrqc/extract/ExtractData.py:13: UserWarning: pandas only supports SQLAlchemy connectable (engine/connection) or database string URI or sqlite3 DBAPI2 connection. Other DBAPI2 objects are not tested. Please consider using SQLAlchemy.\n",
      "  mimicOmopSepsisIcdDf = pd.read_sql_query(mimicOmopSepsisIcdQuery, con)\n"
     ]
    },
    {
     "name": "stdout",
     "output_type": "stream",
     "text": [
      "2023-11-29 21:37:44,840 - EHR-QC - INFO - Saving raw data to file\n",
      "2023-11-29 21:37:46,480 - EHR-QC - INFO - Done!\n"
     ]
    },
    {
     "data": {
      "text/plain": [
       "0"
      ]
     },
     "execution_count": 24,
     "metadata": {},
     "output_type": "execute_result"
    }
   ],
   "source": [
    "import os\n",
    "\n",
    "\n",
    "os.system(\n",
    "    'cd ' + os.environ['EHR_QC_PREPROCESS_BASE'] + ';'\n",
    "    +\n",
    "    '''.venv/bin/python -m ehrqc.extract.ExtractData ''' + os.environ['MIMIC_EHR_PIPELINE_BASE'] + '''/data/sepsis_micro_cohort/extracts/vitals_avg_episode_date.csv omop_migration_etl_20220817 ''' + os.environ['EHR_QC_PREPROCESS_BASE'] + '''/sql/mimic_micro_cohort/omop_vitals_episode_date/avg.sql;'''\n",
    "    )\n"
   ]
  },
  {
   "cell_type": "markdown",
   "metadata": {},
   "source": [
    "### Min per episode and date"
   ]
  },
  {
   "cell_type": "code",
   "execution_count": 19,
   "metadata": {},
   "outputs": [
    {
     "name": "stdout",
     "output_type": "stream",
     "text": [
      "2023-11-29 21:17:45,687 - EHR-QC - INFO - Parsing command line arguments\n",
      "2023-11-29 21:17:45,688 - EHR-QC - INFO - args.save_path: /home/yram0006/phd/chapter_2/workspace/MIMIC-EHR-Pipeline/data/sepsis_micro_cohort/extracts/vitals_min_episode_date.csv\n",
      "2023-11-29 21:17:45,688 - EHR-QC - INFO - args.schema_name: omop_migration_etl_20220817\n",
      "2023-11-29 21:17:45,688 - EHR-QC - INFO - args.sql_file_path: /home/yram0006/phd/chapter_2/workspace/EHR-QC-Preprocess/sql/mimic_micro_cohort/omop_vitals_episode_date/min.sql\n",
      "2023-11-29 21:17:45,720 - EHR-QC - INFO - extracting data\n"
     ]
    },
    {
     "name": "stderr",
     "output_type": "stream",
     "text": [
      "/superbugai-data/yash/chapter_2/workspace/EHR-QC-Preprocess/ehrqc/extract/ExtractData.py:13: UserWarning: pandas only supports SQLAlchemy connectable (engine/connection) or database string URI or sqlite3 DBAPI2 connection. Other DBAPI2 objects are not tested. Please consider using SQLAlchemy.\n",
      "  mimicOmopSepsisIcdDf = pd.read_sql_query(mimicOmopSepsisIcdQuery, con)\n"
     ]
    },
    {
     "name": "stdout",
     "output_type": "stream",
     "text": [
      "2023-11-29 21:18:08,509 - EHR-QC - INFO - Saving raw data to file\n",
      "2023-11-29 21:18:09,538 - EHR-QC - INFO - Done!\n"
     ]
    },
    {
     "data": {
      "text/plain": [
       "0"
      ]
     },
     "execution_count": 19,
     "metadata": {},
     "output_type": "execute_result"
    }
   ],
   "source": [
    "import os\n",
    "\n",
    "\n",
    "os.system(\n",
    "    'cd ' + os.environ['EHR_QC_PREPROCESS_BASE'] + ';'\n",
    "    +\n",
    "    '''.venv/bin/python -m ehrqc.extract.ExtractData ''' + os.environ['MIMIC_EHR_PIPELINE_BASE'] + '''/data/sepsis_micro_cohort/extracts/vitals_min_episode_date.csv omop_migration_etl_20220817 ''' + os.environ['EHR_QC_PREPROCESS_BASE'] + '''/sql/mimic_micro_cohort/omop_vitals_episode_date/min.sql;'''\n",
    "    )\n"
   ]
  },
  {
   "cell_type": "markdown",
   "metadata": {},
   "source": [
    "### Max per episode and date"
   ]
  },
  {
   "cell_type": "code",
   "execution_count": 20,
   "metadata": {},
   "outputs": [
    {
     "name": "stdout",
     "output_type": "stream",
     "text": [
      "2023-11-29 21:18:09,988 - EHR-QC - INFO - Parsing command line arguments\n",
      "2023-11-29 21:18:09,989 - EHR-QC - INFO - args.save_path: /home/yram0006/phd/chapter_2/workspace/MIMIC-EHR-Pipeline/data/sepsis_micro_cohort/extracts/vitals_max_episode_date.csv\n",
      "2023-11-29 21:18:09,989 - EHR-QC - INFO - args.schema_name: omop_migration_etl_20220817\n",
      "2023-11-29 21:18:09,989 - EHR-QC - INFO - args.sql_file_path: /home/yram0006/phd/chapter_2/workspace/EHR-QC-Preprocess/sql/mimic_micro_cohort/omop_vitals_episode_date/max.sql\n",
      "2023-11-29 21:18:10,013 - EHR-QC - INFO - extracting data\n"
     ]
    },
    {
     "name": "stderr",
     "output_type": "stream",
     "text": [
      "/superbugai-data/yash/chapter_2/workspace/EHR-QC-Preprocess/ehrqc/extract/ExtractData.py:13: UserWarning: pandas only supports SQLAlchemy connectable (engine/connection) or database string URI or sqlite3 DBAPI2 connection. Other DBAPI2 objects are not tested. Please consider using SQLAlchemy.\n",
      "  mimicOmopSepsisIcdDf = pd.read_sql_query(mimicOmopSepsisIcdQuery, con)\n"
     ]
    },
    {
     "name": "stdout",
     "output_type": "stream",
     "text": [
      "2023-11-29 21:18:31,849 - EHR-QC - INFO - Saving raw data to file\n",
      "2023-11-29 21:18:33,667 - EHR-QC - INFO - Done!\n"
     ]
    },
    {
     "data": {
      "text/plain": [
       "0"
      ]
     },
     "execution_count": 20,
     "metadata": {},
     "output_type": "execute_result"
    }
   ],
   "source": [
    "import os\n",
    "\n",
    "\n",
    "os.system(\n",
    "    'cd ' + os.environ['EHR_QC_PREPROCESS_BASE'] + ';'\n",
    "    +\n",
    "    '''.venv/bin/python -m ehrqc.extract.ExtractData ''' + os.environ['MIMIC_EHR_PIPELINE_BASE'] + '''/data/sepsis_micro_cohort/extracts/vitals_max_episode_date.csv omop_migration_etl_20220817 ''' + os.environ['EHR_QC_PREPROCESS_BASE'] + '''/sql/mimic_micro_cohort/omop_vitals_episode_date/max.sql;'''\n",
    "    )\n"
   ]
  },
  {
   "cell_type": "markdown",
   "metadata": {},
   "source": [
    "### First per episode and date"
   ]
  },
  {
   "cell_type": "code",
   "execution_count": 21,
   "metadata": {},
   "outputs": [
    {
     "name": "stdout",
     "output_type": "stream",
     "text": [
      "2023-11-29 21:18:34,116 - EHR-QC - INFO - Parsing command line arguments\n",
      "2023-11-29 21:18:34,117 - EHR-QC - INFO - args.save_path: /home/yram0006/phd/chapter_2/workspace/MIMIC-EHR-Pipeline/data/sepsis_micro_cohort/extracts/vitals_first_episode_date.csv\n",
      "2023-11-29 21:18:34,117 - EHR-QC - INFO - args.schema_name: omop_migration_etl_20220817\n",
      "2023-11-29 21:18:34,117 - EHR-QC - INFO - args.sql_file_path: /home/yram0006/phd/chapter_2/workspace/EHR-QC-Preprocess/sql/mimic_micro_cohort/omop_vitals_episode_date/first.sql\n",
      "2023-11-29 21:18:34,140 - EHR-QC - INFO - extracting data\n"
     ]
    },
    {
     "name": "stderr",
     "output_type": "stream",
     "text": [
      "/superbugai-data/yash/chapter_2/workspace/EHR-QC-Preprocess/ehrqc/extract/ExtractData.py:13: UserWarning: pandas only supports SQLAlchemy connectable (engine/connection) or database string URI or sqlite3 DBAPI2 connection. Other DBAPI2 objects are not tested. Please consider using SQLAlchemy.\n",
      "  mimicOmopSepsisIcdDf = pd.read_sql_query(mimicOmopSepsisIcdQuery, con)\n"
     ]
    },
    {
     "name": "stdout",
     "output_type": "stream",
     "text": [
      "2023-11-29 21:19:14,082 - EHR-QC - INFO - Saving raw data to file\n",
      "2023-11-29 21:19:14,585 - EHR-QC - INFO - Done!\n"
     ]
    },
    {
     "data": {
      "text/plain": [
       "0"
      ]
     },
     "execution_count": 21,
     "metadata": {},
     "output_type": "execute_result"
    }
   ],
   "source": [
    "import os\n",
    "\n",
    "\n",
    "os.system(\n",
    "    'cd ' + os.environ['EHR_QC_PREPROCESS_BASE'] + ';'\n",
    "    +\n",
    "    '''.venv/bin/python -m ehrqc.extract.ExtractData ''' + os.environ['MIMIC_EHR_PIPELINE_BASE'] + '''/data/sepsis_micro_cohort/extracts/vitals_first_episode_date.csv omop_migration_etl_20220817 ''' + os.environ['EHR_QC_PREPROCESS_BASE'] + '''/sql/mimic_micro_cohort/omop_vitals_episode_date/first.sql;'''\n",
    "    )\n"
   ]
  },
  {
   "cell_type": "markdown",
   "metadata": {},
   "source": [
    "### Last per episode and date"
   ]
  },
  {
   "cell_type": "code",
   "execution_count": 22,
   "metadata": {},
   "outputs": [
    {
     "name": "stdout",
     "output_type": "stream",
     "text": [
      "2023-11-29 21:19:15,044 - EHR-QC - INFO - Parsing command line arguments\n",
      "2023-11-29 21:19:15,045 - EHR-QC - INFO - args.save_path: /home/yram0006/phd/chapter_2/workspace/MIMIC-EHR-Pipeline/data/sepsis_micro_cohort/extracts/vitals_last_episode_date.csv\n",
      "2023-11-29 21:19:15,045 - EHR-QC - INFO - args.schema_name: omop_migration_etl_20220817\n",
      "2023-11-29 21:19:15,045 - EHR-QC - INFO - args.sql_file_path: /home/yram0006/phd/chapter_2/workspace/EHR-QC-Preprocess/sql/mimic_micro_cohort/omop_vitals_episode_date/last.sql\n",
      "2023-11-29 21:19:15,067 - EHR-QC - INFO - extracting data\n"
     ]
    },
    {
     "name": "stderr",
     "output_type": "stream",
     "text": [
      "/superbugai-data/yash/chapter_2/workspace/EHR-QC-Preprocess/ehrqc/extract/ExtractData.py:13: UserWarning: pandas only supports SQLAlchemy connectable (engine/connection) or database string URI or sqlite3 DBAPI2 connection. Other DBAPI2 objects are not tested. Please consider using SQLAlchemy.\n",
      "  mimicOmopSepsisIcdDf = pd.read_sql_query(mimicOmopSepsisIcdQuery, con)\n"
     ]
    },
    {
     "name": "stdout",
     "output_type": "stream",
     "text": [
      "2023-11-29 21:19:54,623 - EHR-QC - INFO - Saving raw data to file\n",
      "2023-11-29 21:19:55,299 - EHR-QC - INFO - Done!\n"
     ]
    },
    {
     "data": {
      "text/plain": [
       "0"
      ]
     },
     "execution_count": 22,
     "metadata": {},
     "output_type": "execute_result"
    }
   ],
   "source": [
    "import os\n",
    "\n",
    "\n",
    "os.system(\n",
    "    'cd ' + os.environ['EHR_QC_PREPROCESS_BASE'] + ';'\n",
    "    +\n",
    "    '''.venv/bin/python -m ehrqc.extract.ExtractData ''' + os.environ['MIMIC_EHR_PIPELINE_BASE'] + '''/data/sepsis_micro_cohort/extracts/vitals_last_episode_date.csv omop_migration_etl_20220817 ''' + os.environ['EHR_QC_PREPROCESS_BASE'] + '''/sql/mimic_micro_cohort/omop_vitals_episode_date/last.sql;'''\n",
    "    )\n"
   ]
  },
  {
   "cell_type": "markdown",
   "metadata": {},
   "source": [
    "## Admissions - from standard OMOP-CDM schema to csv files"
   ]
  },
  {
   "cell_type": "code",
   "execution_count": 23,
   "metadata": {},
   "outputs": [
    {
     "name": "stdout",
     "output_type": "stream",
     "text": [
      "2023-11-29 21:19:55,731 - EHR-QC - INFO - Parsing command line arguments\n",
      "2023-11-29 21:19:55,732 - EHR-QC - INFO - args.save_path: /home/yram0006/phd/chapter_2/workspace/MIMIC-EHR-Pipeline/data/sepsis_micro_cohort/extracts/admissions.csv\n",
      "2023-11-29 21:19:55,732 - EHR-QC - INFO - args.schema_name: omop_migration_etl_20220817\n",
      "2023-11-29 21:19:55,732 - EHR-QC - INFO - args.sql_file_path: /home/yram0006/phd/chapter_2/workspace/EHR-QC-Preprocess/sql/mimic_micro_cohort/admissions.sql\n",
      "2023-11-29 21:19:55,754 - EHR-QC - INFO - extracting data\n"
     ]
    },
    {
     "name": "stderr",
     "output_type": "stream",
     "text": [
      "/superbugai-data/yash/chapter_2/workspace/EHR-QC-Preprocess/ehrqc/extract/ExtractData.py:13: UserWarning: pandas only supports SQLAlchemy connectable (engine/connection) or database string URI or sqlite3 DBAPI2 connection. Other DBAPI2 objects are not tested. Please consider using SQLAlchemy.\n",
      "  mimicOmopSepsisIcdDf = pd.read_sql_query(mimicOmopSepsisIcdQuery, con)\n"
     ]
    },
    {
     "name": "stdout",
     "output_type": "stream",
     "text": [
      "2023-11-29 21:20:01,182 - EHR-QC - INFO - Saving raw data to file\n",
      "2023-11-29 21:20:01,244 - EHR-QC - INFO - Done!\n"
     ]
    },
    {
     "data": {
      "text/plain": [
       "0"
      ]
     },
     "execution_count": 23,
     "metadata": {},
     "output_type": "execute_result"
    }
   ],
   "source": [
    "import os\n",
    "\n",
    "\n",
    "os.system(\n",
    "    'cd ' + os.environ['EHR_QC_PREPROCESS_BASE'] + ';'\n",
    "    +\n",
    "    '''.venv/bin/python -m ehrqc.extract.ExtractData ''' + os.environ['MIMIC_EHR_PIPELINE_BASE'] + '''/data/sepsis_micro_cohort/extracts/admissions.csv omop_migration_etl_20220817 ''' + os.environ['EHR_QC_PREPROCESS_BASE'] + '''/sql/mimic_micro_cohort/admissions.sql;'''\n",
    "    )\n"
   ]
  }
 ],
 "metadata": {
  "kernelspec": {
   "display_name": ".venv",
   "language": "python",
   "name": "python3"
  },
  "language_info": {
   "codemirror_mode": {
    "name": "ipython",
    "version": 3
   },
   "file_extension": ".py",
   "mimetype": "text/x-python",
   "name": "python",
   "nbconvert_exporter": "python",
   "pygments_lexer": "ipython3",
   "version": "3.8.10"
  }
 },
 "nbformat": 4,
 "nbformat_minor": 2
}
