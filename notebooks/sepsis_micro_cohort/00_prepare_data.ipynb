{
 "cells": [
  {
   "cell_type": "markdown",
   "metadata": {},
   "source": [
    "# Data preparation\n",
    "\n",
    "This notebook contains code that is used to prepare the MIMIC ICU cohort before starting the standardisation process"
   ]
  },
  {
   "cell_type": "markdown",
   "metadata": {},
   "source": [
    "## Get DB Connection"
   ]
  },
  {
   "cell_type": "code",
   "execution_count": 2,
   "metadata": {},
   "outputs": [],
   "source": [
    "import os\n",
    "import psycopg2\n",
    "\n",
    "\n",
    "def getConnection():\n",
    "    # Connect to postgres with a copy of the MIMIC-III database\n",
    "    con = psycopg2.connect(\n",
    "        dbname=os.environ['POSTGRES_DB_NAME'],\n",
    "        user=os.environ['POSTGRES_USER_NAME'],\n",
    "        host=os.environ['POSTGRES_HOSTNAME'],\n",
    "        port=os.environ['POSTGRES_PORT_NUMBER'],\n",
    "        password=os.environ['POSTGRES_PASSWORD']\n",
    "        )\n",
    "    return con"
   ]
  },
  {
   "cell_type": "markdown",
   "metadata": {},
   "source": [
    "## Create a Cohort"
   ]
  },
  {
   "cell_type": "code",
   "execution_count": 3,
   "metadata": {},
   "outputs": [],
   "source": [
    "con = getConnection()\n",
    "\n",
    "\n",
    "dropQuery = \"\"\"drop table if exists omop_test_20220817.cohort_micro cascade\"\"\"\n",
    "createQuery = '''\n",
    "    create table omop_test_20220817.cohort_micro AS\n",
    "        with stg1 as\n",
    "    (\n",
    "        select\n",
    "        subject_id\n",
    "        , min(chartdate) as chartdate\n",
    "        , min(charttime) as charttime\n",
    "        from\n",
    "        mimiciv.microbiologyevents\n",
    "        where\n",
    "        spec_type_desc = 'BLOOD CULTURE'\n",
    "        and org_itemid != 90760\n",
    "        and org_name is not null\n",
    "        group by subject_id\n",
    "    ),\n",
    "    stg2 as (\n",
    "        select\n",
    "        per.person_id\n",
    "        , coalesce(stg1.charttime, stg1.chartdate) as anchor_time\n",
    "        from stg1\n",
    "        inner join mimiciv.patients pat\n",
    "        on stg1.subject_id = pat.subject_id\n",
    "        inner join __schema_name__.person per\n",
    "        on per.person_source_value::int = pat.subject_id\n",
    "        where (floor(date_part('day', stg1.chartdate - make_timestamp(pat.anchor_year, 1, 1, 0, 0, 0))/365.0) + pat.anchor_age) > 18\n",
    "    )\n",
    "    select\n",
    "    *\n",
    "    from\n",
    "    stg2\n",
    "'''\n",
    "\n",
    "with con:\n",
    "    with con.cursor() as cursor:\n",
    "        cursor.execute(dropQuery)\n",
    "        cursor.execute(createQuery)\n"
   ]
  },
  {
   "cell_type": "code",
   "execution_count": 5,
   "metadata": {},
   "outputs": [
    {
     "name": "stderr",
     "output_type": "stream",
     "text": [
      "/tmp/ipykernel_133384/692151257.py:5: UserWarning: pandas only supports SQLAlchemy connectable (engine/connection) or database string URI or sqlite3 DBAPI2 connection. Other DBAPI2 objects are not tested. Please consider using SQLAlchemy.\n",
      "  df = pd.read_sql_query(query, con)\n"
     ]
    },
    {
     "data": {
      "text/html": [
       "<div>\n",
       "<style scoped>\n",
       "    .dataframe tbody tr th:only-of-type {\n",
       "        vertical-align: middle;\n",
       "    }\n",
       "\n",
       "    .dataframe tbody tr th {\n",
       "        vertical-align: top;\n",
       "    }\n",
       "\n",
       "    .dataframe thead th {\n",
       "        text-align: right;\n",
       "    }\n",
       "</style>\n",
       "<table border=\"1\" class=\"dataframe\">\n",
       "  <thead>\n",
       "    <tr style=\"text-align: right;\">\n",
       "      <th></th>\n",
       "      <th>count</th>\n",
       "    </tr>\n",
       "  </thead>\n",
       "  <tbody>\n",
       "    <tr>\n",
       "      <th>0</th>\n",
       "      <td>12240</td>\n",
       "    </tr>\n",
       "  </tbody>\n",
       "</table>\n",
       "</div>"
      ],
      "text/plain": [
       "   count\n",
       "0  12240"
      ]
     },
     "execution_count": 5,
     "metadata": {},
     "output_type": "execute_result"
    }
   ],
   "source": [
    "query = '''select count(*) from omop_test_20220817.cohort_icd'''\n",
    "\n",
    "import pandas as pd\n",
    "\n",
    "df = pd.read_sql_query(query, con)\n",
    "df"
   ]
  }
 ],
 "metadata": {
  "kernelspec": {
   "display_name": ".venv",
   "language": "python",
   "name": "python3"
  },
  "language_info": {
   "codemirror_mode": {
    "name": "ipython",
    "version": 3
   },
   "file_extension": ".py",
   "mimetype": "text/x-python",
   "name": "python",
   "nbconvert_exporter": "python",
   "pygments_lexer": "ipython3",
   "version": "3.8.10"
  }
 },
 "nbformat": 4,
 "nbformat_minor": 2
}
