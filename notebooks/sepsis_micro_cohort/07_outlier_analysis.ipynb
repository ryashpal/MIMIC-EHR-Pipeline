{
 "cells": [
  {
   "cell_type": "markdown",
   "metadata": {},
   "source": [
    "# Outlier Analysis"
   ]
  },
  {
   "cell_type": "markdown",
   "metadata": {},
   "source": [
    "## Vitals"
   ]
  },
  {
   "cell_type": "markdown",
   "metadata": {},
   "source": [
    "### avg"
   ]
  },
  {
   "cell_type": "code",
   "execution_count": 1,
   "metadata": {},
   "outputs": [
    {
     "name": "stdout",
     "output_type": "stream",
     "text": [
      "2023-11-30 10:54:49,478 - EHR-QC - INFO - Parsing command line arguments\n",
      "2023-11-30 10:54:49,479 - EHR-QC - INFO - args.source_file: /home/yram0006/phd/chapter_2/workspace/MIMIC-EHR-Pipeline/data/sepsis_micro_cohort/imputed/vitals_avg_episode_date.csv\n",
      "2023-11-30 10:54:49,480 - EHR-QC - INFO - args.save_file: /home/yram0006/phd/chapter_2/workspace/MIMIC-EHR-Pipeline/data/sepsis_micro_cohort/cleaned/vitals_avg_episode_date.csv\n",
      "2023-11-30 10:54:49,480 - EHR-QC - INFO - args.action: clean\n",
      "2023-11-30 10:54:49,480 - EHR-QC - INFO - args.columns: ['Respiratory rate', 'Heart rate', 'Body weight', 'Oxygen saturation in Arterial blood by Pulse oximetry', 'Glasgow coma score eye opening', 'Glasgow coma score verbal', 'Glasgow coma score motor', 'Physical mobility Braden scale', 'Nutrition intake pattern Braden scale', 'Sensory perception Braden scale', 'Physical activity Braden scale', 'Moisture exposure Braden scale', 'Friction and shear Braden scale', 'Mean blood pressure', 'Systolic blood pressure', 'Diastolic blood pressure', 'Body temperature']\n",
      "2023-11-30 10:54:49,566 - EHR-QC - INFO - Validating the input arguments.\n",
      "2023-11-30 10:54:49,568 - EHR-QC - INFO - Validating complete!!\n",
      "2023-11-30 10:54:49,568 - EHR-QC - INFO - Removing outliers\n"
     ]
    },
    {
     "name": "stderr",
     "output_type": "stream",
     "text": [
      "/superbugai-data/yash/chapter_2/workspace/EHR-QC-Preprocess/.venv/lib/python3.9/site-packages/sklearn/utils/validation.py:757: FutureWarning: is_sparse is deprecated and will be removed in a future version. Check `isinstance(dtype, pd.SparseDtype)` instead.\n",
      "  if not hasattr(array, \"sparse\") and array.dtypes.apply(is_sparse).any():\n",
      "/superbugai-data/yash/chapter_2/workspace/EHR-QC-Preprocess/.venv/lib/python3.9/site-packages/sklearn/utils/validation.py:595: FutureWarning: is_sparse is deprecated and will be removed in a future version. Check `isinstance(dtype, pd.SparseDtype)` instead.\n",
      "  if is_sparse(pd_dtype):\n",
      "/superbugai-data/yash/chapter_2/workspace/EHR-QC-Preprocess/.venv/lib/python3.9/site-packages/sklearn/utils/validation.py:604: FutureWarning: is_sparse is deprecated and will be removed in a future version. Check `isinstance(dtype, pd.SparseDtype)` instead.\n",
      "  if is_sparse(pd_dtype) or not is_extension_array_dtype(pd_dtype):\n",
      "/superbugai-data/yash/chapter_2/workspace/EHR-QC-Preprocess/.venv/lib/python3.9/site-packages/sklearn/base.py:450: UserWarning: X does not have valid feature names, but IsolationForest was fitted with feature names\n",
      "  warnings.warn(\n",
      "/superbugai-data/yash/chapter_2/workspace/EHR-QC-Preprocess/.venv/lib/python3.9/site-packages/sklearn/utils/validation.py:757: FutureWarning: is_sparse is deprecated and will be removed in a future version. Check `isinstance(dtype, pd.SparseDtype)` instead.\n",
      "  if not hasattr(array, \"sparse\") and array.dtypes.apply(is_sparse).any():\n",
      "/superbugai-data/yash/chapter_2/workspace/EHR-QC-Preprocess/.venv/lib/python3.9/site-packages/sklearn/utils/validation.py:595: FutureWarning: is_sparse is deprecated and will be removed in a future version. Check `isinstance(dtype, pd.SparseDtype)` instead.\n",
      "  if is_sparse(pd_dtype):\n",
      "/superbugai-data/yash/chapter_2/workspace/EHR-QC-Preprocess/.venv/lib/python3.9/site-packages/sklearn/utils/validation.py:604: FutureWarning: is_sparse is deprecated and will be removed in a future version. Check `isinstance(dtype, pd.SparseDtype)` instead.\n",
      "  if is_sparse(pd_dtype) or not is_extension_array_dtype(pd_dtype):\n",
      "/superbugai-data/yash/chapter_2/workspace/EHR-QC-Preprocess/ehrqc/plot/OutlierIsolationForest.py:88: SettingWithCopyWarning: \n",
      "A value is trying to be set on a copy of a slice from a DataFrame\n",
      "\n",
      "See the caveats in the documentation: https://pandas.pydata.org/pandas-docs/stable/user_guide/indexing.html#returning-a-view-versus-a-copy\n",
      "  correctedDf.drop(columns=['outlier_scores'], inplace=True)\n"
     ]
    },
    {
     "name": "stdout",
     "output_type": "stream",
     "text": [
      "2023-11-30 10:54:51,574 - EHR-QC - INFO - Saving the corrected file\n",
      "2023-11-30 10:54:51,985 - EHR-QC - INFO - Done!!\n"
     ]
    },
    {
     "data": {
      "text/plain": [
       "0"
      ]
     },
     "execution_count": 1,
     "metadata": {},
     "output_type": "execute_result"
    }
   ],
   "source": [
    "import os\n",
    "\n",
    "\n",
    "os.system(\n",
    "    'cd ' + os.environ['EHR_QC_PREPROCESS_BASE'] + ';'\n",
    "    +\n",
    "    '''.venv/bin/python -m ehrqc.plot.OutlierIsolationForest ''' + os.environ['MIMIC_EHR_PIPELINE_BASE'] + '''/data/sepsis_micro_cohort/imputed/vitals_avg_episode_date.csv ''' + os.environ['MIMIC_EHR_PIPELINE_BASE'] + '''/data/sepsis_micro_cohort/cleaned/vitals_avg_episode_date.csv clean -c \"Respiratory rate\" \"Heart rate\" \"Body weight\" \"Oxygen saturation in Arterial blood by Pulse oximetry\" \"Glasgow coma score eye opening\" \"Glasgow coma score verbal\" \"Glasgow coma score motor\" \"Physical mobility Braden scale\" \"Nutrition intake pattern Braden scale\" \"Sensory perception Braden scale\" \"Physical activity Braden scale\" \"Moisture exposure Braden scale\" \"Friction and shear Braden scale\" \"Mean blood pressure\" \"Systolic blood pressure\" \"Diastolic blood pressure\" \"Body temperature\"'''\n",
    "    )\n"
   ]
  },
  {
   "cell_type": "markdown",
   "metadata": {},
   "source": [
    "### min"
   ]
  },
  {
   "cell_type": "code",
   "execution_count": 2,
   "metadata": {},
   "outputs": [
    {
     "name": "stdout",
     "output_type": "stream",
     "text": [
      "2023-11-30 10:54:52,741 - EHR-QC - INFO - Parsing command line arguments\n",
      "2023-11-30 10:54:52,743 - EHR-QC - INFO - args.source_file: /home/yram0006/phd/chapter_2/workspace/MIMIC-EHR-Pipeline/data/sepsis_micro_cohort/imputed/vitals_min_episode_date.csv\n",
      "2023-11-30 10:54:52,743 - EHR-QC - INFO - args.save_file: /home/yram0006/phd/chapter_2/workspace/MIMIC-EHR-Pipeline/data/sepsis_micro_cohort/cleaned/vitals_min_episode_date.csv\n",
      "2023-11-30 10:54:52,743 - EHR-QC - INFO - args.action: clean\n",
      "2023-11-30 10:54:52,743 - EHR-QC - INFO - args.columns: ['Respiratory rate', 'Heart rate', 'Body weight', 'Oxygen saturation in Arterial blood by Pulse oximetry', 'Glasgow coma score eye opening', 'Glasgow coma score verbal', 'Glasgow coma score motor', 'Physical mobility Braden scale', 'Nutrition intake pattern Braden scale', 'Sensory perception Braden scale', 'Physical activity Braden scale', 'Moisture exposure Braden scale', 'Friction and shear Braden scale', 'Mean blood pressure', 'Systolic blood pressure', 'Diastolic blood pressure', 'Body temperature']\n",
      "2023-11-30 10:54:52,835 - EHR-QC - INFO - Validating the input arguments.\n",
      "2023-11-30 10:54:52,837 - EHR-QC - INFO - Validating complete!!\n",
      "2023-11-30 10:54:52,837 - EHR-QC - INFO - Removing outliers\n"
     ]
    },
    {
     "name": "stderr",
     "output_type": "stream",
     "text": [
      "/superbugai-data/yash/chapter_2/workspace/EHR-QC-Preprocess/.venv/lib/python3.9/site-packages/sklearn/utils/validation.py:757: FutureWarning: is_sparse is deprecated and will be removed in a future version. Check `isinstance(dtype, pd.SparseDtype)` instead.\n",
      "  if not hasattr(array, \"sparse\") and array.dtypes.apply(is_sparse).any():\n",
      "/superbugai-data/yash/chapter_2/workspace/EHR-QC-Preprocess/.venv/lib/python3.9/site-packages/sklearn/utils/validation.py:595: FutureWarning: is_sparse is deprecated and will be removed in a future version. Check `isinstance(dtype, pd.SparseDtype)` instead.\n",
      "  if is_sparse(pd_dtype):\n",
      "/superbugai-data/yash/chapter_2/workspace/EHR-QC-Preprocess/.venv/lib/python3.9/site-packages/sklearn/utils/validation.py:604: FutureWarning: is_sparse is deprecated and will be removed in a future version. Check `isinstance(dtype, pd.SparseDtype)` instead.\n",
      "  if is_sparse(pd_dtype) or not is_extension_array_dtype(pd_dtype):\n",
      "/superbugai-data/yash/chapter_2/workspace/EHR-QC-Preprocess/.venv/lib/python3.9/site-packages/sklearn/base.py:450: UserWarning: X does not have valid feature names, but IsolationForest was fitted with feature names\n",
      "  warnings.warn(\n",
      "/superbugai-data/yash/chapter_2/workspace/EHR-QC-Preprocess/.venv/lib/python3.9/site-packages/sklearn/utils/validation.py:757: FutureWarning: is_sparse is deprecated and will be removed in a future version. Check `isinstance(dtype, pd.SparseDtype)` instead.\n",
      "  if not hasattr(array, \"sparse\") and array.dtypes.apply(is_sparse).any():\n",
      "/superbugai-data/yash/chapter_2/workspace/EHR-QC-Preprocess/.venv/lib/python3.9/site-packages/sklearn/utils/validation.py:595: FutureWarning: is_sparse is deprecated and will be removed in a future version. Check `isinstance(dtype, pd.SparseDtype)` instead.\n",
      "  if is_sparse(pd_dtype):\n",
      "/superbugai-data/yash/chapter_2/workspace/EHR-QC-Preprocess/.venv/lib/python3.9/site-packages/sklearn/utils/validation.py:604: FutureWarning: is_sparse is deprecated and will be removed in a future version. Check `isinstance(dtype, pd.SparseDtype)` instead.\n",
      "  if is_sparse(pd_dtype) or not is_extension_array_dtype(pd_dtype):\n",
      "/superbugai-data/yash/chapter_2/workspace/EHR-QC-Preprocess/ehrqc/plot/OutlierIsolationForest.py:88: SettingWithCopyWarning: \n",
      "A value is trying to be set on a copy of a slice from a DataFrame\n",
      "\n",
      "See the caveats in the documentation: https://pandas.pydata.org/pandas-docs/stable/user_guide/indexing.html#returning-a-view-versus-a-copy\n",
      "  correctedDf.drop(columns=['outlier_scores'], inplace=True)\n"
     ]
    },
    {
     "name": "stdout",
     "output_type": "stream",
     "text": [
      "2023-11-30 10:54:54,878 - EHR-QC - INFO - Saving the corrected file\n",
      "2023-11-30 10:54:55,298 - EHR-QC - INFO - Done!!\n"
     ]
    },
    {
     "data": {
      "text/plain": [
       "0"
      ]
     },
     "execution_count": 2,
     "metadata": {},
     "output_type": "execute_result"
    }
   ],
   "source": [
    "import os\n",
    "\n",
    "\n",
    "os.system(\n",
    "    'cd ' + os.environ['EHR_QC_PREPROCESS_BASE'] + ';'\n",
    "    +\n",
    "    '''.venv/bin/python -m ehrqc.plot.OutlierIsolationForest ''' + os.environ['MIMIC_EHR_PIPELINE_BASE'] + '''/data/sepsis_micro_cohort/imputed/vitals_min_episode_date.csv ''' + os.environ['MIMIC_EHR_PIPELINE_BASE'] + '''/data/sepsis_micro_cohort/cleaned/vitals_min_episode_date.csv clean -c \"Respiratory rate\" \"Heart rate\" \"Body weight\" \"Oxygen saturation in Arterial blood by Pulse oximetry\" \"Glasgow coma score eye opening\" \"Glasgow coma score verbal\" \"Glasgow coma score motor\" \"Physical mobility Braden scale\" \"Nutrition intake pattern Braden scale\" \"Sensory perception Braden scale\" \"Physical activity Braden scale\" \"Moisture exposure Braden scale\" \"Friction and shear Braden scale\" \"Mean blood pressure\" \"Systolic blood pressure\" \"Diastolic blood pressure\" \"Body temperature\"'''\n",
    "    )\n"
   ]
  },
  {
   "cell_type": "markdown",
   "metadata": {},
   "source": [
    "### max"
   ]
  },
  {
   "cell_type": "code",
   "execution_count": 3,
   "metadata": {},
   "outputs": [
    {
     "name": "stdout",
     "output_type": "stream",
     "text": [
      "2023-11-30 10:54:56,067 - EHR-QC - INFO - Parsing command line arguments\n",
      "2023-11-30 10:54:56,069 - EHR-QC - INFO - args.source_file: /home/yram0006/phd/chapter_2/workspace/MIMIC-EHR-Pipeline/data/sepsis_micro_cohort/imputed/vitals_max_episode_date.csv\n",
      "2023-11-30 10:54:56,069 - EHR-QC - INFO - args.save_file: /home/yram0006/phd/chapter_2/workspace/MIMIC-EHR-Pipeline/data/sepsis_micro_cohort/cleaned/vitals_max_episode_date.csv\n",
      "2023-11-30 10:54:56,069 - EHR-QC - INFO - args.action: clean\n",
      "2023-11-30 10:54:56,069 - EHR-QC - INFO - args.columns: ['Respiratory rate', 'Heart rate', 'Body weight', 'Oxygen saturation in Arterial blood by Pulse oximetry', 'Glasgow coma score eye opening', 'Glasgow coma score verbal', 'Glasgow coma score motor', 'Physical mobility Braden scale', 'Nutrition intake pattern Braden scale', 'Sensory perception Braden scale', 'Physical activity Braden scale', 'Moisture exposure Braden scale', 'Friction and shear Braden scale', 'Mean blood pressure', 'Systolic blood pressure', 'Diastolic blood pressure', 'Body temperature']\n",
      "2023-11-30 10:54:56,156 - EHR-QC - INFO - Validating the input arguments.\n",
      "2023-11-30 10:54:56,159 - EHR-QC - INFO - Validating complete!!\n",
      "2023-11-30 10:54:56,159 - EHR-QC - INFO - Removing outliers\n"
     ]
    },
    {
     "name": "stderr",
     "output_type": "stream",
     "text": [
      "/superbugai-data/yash/chapter_2/workspace/EHR-QC-Preprocess/.venv/lib/python3.9/site-packages/sklearn/utils/validation.py:757: FutureWarning: is_sparse is deprecated and will be removed in a future version. Check `isinstance(dtype, pd.SparseDtype)` instead.\n",
      "  if not hasattr(array, \"sparse\") and array.dtypes.apply(is_sparse).any():\n",
      "/superbugai-data/yash/chapter_2/workspace/EHR-QC-Preprocess/.venv/lib/python3.9/site-packages/sklearn/utils/validation.py:595: FutureWarning: is_sparse is deprecated and will be removed in a future version. Check `isinstance(dtype, pd.SparseDtype)` instead.\n",
      "  if is_sparse(pd_dtype):\n",
      "/superbugai-data/yash/chapter_2/workspace/EHR-QC-Preprocess/.venv/lib/python3.9/site-packages/sklearn/utils/validation.py:604: FutureWarning: is_sparse is deprecated and will be removed in a future version. Check `isinstance(dtype, pd.SparseDtype)` instead.\n",
      "  if is_sparse(pd_dtype) or not is_extension_array_dtype(pd_dtype):\n",
      "/superbugai-data/yash/chapter_2/workspace/EHR-QC-Preprocess/.venv/lib/python3.9/site-packages/sklearn/base.py:450: UserWarning: X does not have valid feature names, but IsolationForest was fitted with feature names\n",
      "  warnings.warn(\n",
      "/superbugai-data/yash/chapter_2/workspace/EHR-QC-Preprocess/.venv/lib/python3.9/site-packages/sklearn/utils/validation.py:757: FutureWarning: is_sparse is deprecated and will be removed in a future version. Check `isinstance(dtype, pd.SparseDtype)` instead.\n",
      "  if not hasattr(array, \"sparse\") and array.dtypes.apply(is_sparse).any():\n",
      "/superbugai-data/yash/chapter_2/workspace/EHR-QC-Preprocess/.venv/lib/python3.9/site-packages/sklearn/utils/validation.py:595: FutureWarning: is_sparse is deprecated and will be removed in a future version. Check `isinstance(dtype, pd.SparseDtype)` instead.\n",
      "  if is_sparse(pd_dtype):\n",
      "/superbugai-data/yash/chapter_2/workspace/EHR-QC-Preprocess/.venv/lib/python3.9/site-packages/sklearn/utils/validation.py:604: FutureWarning: is_sparse is deprecated and will be removed in a future version. Check `isinstance(dtype, pd.SparseDtype)` instead.\n",
      "  if is_sparse(pd_dtype) or not is_extension_array_dtype(pd_dtype):\n",
      "/superbugai-data/yash/chapter_2/workspace/EHR-QC-Preprocess/ehrqc/plot/OutlierIsolationForest.py:88: SettingWithCopyWarning: \n",
      "A value is trying to be set on a copy of a slice from a DataFrame\n",
      "\n",
      "See the caveats in the documentation: https://pandas.pydata.org/pandas-docs/stable/user_guide/indexing.html#returning-a-view-versus-a-copy\n",
      "  correctedDf.drop(columns=['outlier_scores'], inplace=True)\n"
     ]
    },
    {
     "name": "stdout",
     "output_type": "stream",
     "text": [
      "2023-11-30 10:54:58,189 - EHR-QC - INFO - Saving the corrected file\n",
      "2023-11-30 10:54:58,597 - EHR-QC - INFO - Done!!\n"
     ]
    },
    {
     "data": {
      "text/plain": [
       "0"
      ]
     },
     "execution_count": 3,
     "metadata": {},
     "output_type": "execute_result"
    }
   ],
   "source": [
    "import os\n",
    "\n",
    "\n",
    "os.system(\n",
    "    'cd ' + os.environ['EHR_QC_PREPROCESS_BASE'] + ';'\n",
    "    +\n",
    "    '''.venv/bin/python -m ehrqc.plot.OutlierIsolationForest ''' + os.environ['MIMIC_EHR_PIPELINE_BASE'] + '''/data/sepsis_micro_cohort/imputed/vitals_max_episode_date.csv ''' + os.environ['MIMIC_EHR_PIPELINE_BASE'] + '''/data/sepsis_micro_cohort/cleaned/vitals_max_episode_date.csv clean -c \"Respiratory rate\" \"Heart rate\" \"Body weight\" \"Oxygen saturation in Arterial blood by Pulse oximetry\" \"Glasgow coma score eye opening\" \"Glasgow coma score verbal\" \"Glasgow coma score motor\" \"Physical mobility Braden scale\" \"Nutrition intake pattern Braden scale\" \"Sensory perception Braden scale\" \"Physical activity Braden scale\" \"Moisture exposure Braden scale\" \"Friction and shear Braden scale\" \"Mean blood pressure\" \"Systolic blood pressure\" \"Diastolic blood pressure\" \"Body temperature\"'''\n",
    "    )\n"
   ]
  },
  {
   "cell_type": "markdown",
   "metadata": {},
   "source": [
    "### first"
   ]
  },
  {
   "cell_type": "code",
   "execution_count": 4,
   "metadata": {},
   "outputs": [
    {
     "name": "stdout",
     "output_type": "stream",
     "text": [
      "2023-11-30 10:54:59,354 - EHR-QC - INFO - Parsing command line arguments\n",
      "2023-11-30 10:54:59,355 - EHR-QC - INFO - args.source_file: /home/yram0006/phd/chapter_2/workspace/MIMIC-EHR-Pipeline/data/sepsis_micro_cohort/imputed/vitals_first_episode_date.csv\n",
      "2023-11-30 10:54:59,355 - EHR-QC - INFO - args.save_file: /home/yram0006/phd/chapter_2/workspace/MIMIC-EHR-Pipeline/data/sepsis_micro_cohort/cleaned/vitals_first_episode_date.csv\n",
      "2023-11-30 10:54:59,355 - EHR-QC - INFO - args.action: clean\n",
      "2023-11-30 10:54:59,355 - EHR-QC - INFO - args.columns: ['Respiratory rate', 'Heart rate', 'Body weight', 'Oxygen saturation in Arterial blood by Pulse oximetry', 'Glasgow coma score eye opening', 'Glasgow coma score verbal', 'Glasgow coma score motor', 'Physical mobility Braden scale', 'Nutrition intake pattern Braden scale', 'Sensory perception Braden scale', 'Physical activity Braden scale', 'Moisture exposure Braden scale', 'Friction and shear Braden scale', 'Mean blood pressure', 'Systolic blood pressure', 'Diastolic blood pressure', 'Body temperature']\n",
      "2023-11-30 10:54:59,420 - EHR-QC - INFO - Validating the input arguments.\n",
      "2023-11-30 10:54:59,423 - EHR-QC - INFO - Validating complete!!\n",
      "2023-11-30 10:54:59,423 - EHR-QC - INFO - Removing outliers\n"
     ]
    },
    {
     "name": "stderr",
     "output_type": "stream",
     "text": [
      "/superbugai-data/yash/chapter_2/workspace/EHR-QC-Preprocess/.venv/lib/python3.9/site-packages/sklearn/utils/validation.py:757: FutureWarning: is_sparse is deprecated and will be removed in a future version. Check `isinstance(dtype, pd.SparseDtype)` instead.\n",
      "  if not hasattr(array, \"sparse\") and array.dtypes.apply(is_sparse).any():\n",
      "/superbugai-data/yash/chapter_2/workspace/EHR-QC-Preprocess/.venv/lib/python3.9/site-packages/sklearn/utils/validation.py:595: FutureWarning: is_sparse is deprecated and will be removed in a future version. Check `isinstance(dtype, pd.SparseDtype)` instead.\n",
      "  if is_sparse(pd_dtype):\n",
      "/superbugai-data/yash/chapter_2/workspace/EHR-QC-Preprocess/.venv/lib/python3.9/site-packages/sklearn/utils/validation.py:604: FutureWarning: is_sparse is deprecated and will be removed in a future version. Check `isinstance(dtype, pd.SparseDtype)` instead.\n",
      "  if is_sparse(pd_dtype) or not is_extension_array_dtype(pd_dtype):\n",
      "/superbugai-data/yash/chapter_2/workspace/EHR-QC-Preprocess/.venv/lib/python3.9/site-packages/sklearn/base.py:450: UserWarning: X does not have valid feature names, but IsolationForest was fitted with feature names\n",
      "  warnings.warn(\n",
      "/superbugai-data/yash/chapter_2/workspace/EHR-QC-Preprocess/.venv/lib/python3.9/site-packages/sklearn/utils/validation.py:757: FutureWarning: is_sparse is deprecated and will be removed in a future version. Check `isinstance(dtype, pd.SparseDtype)` instead.\n",
      "  if not hasattr(array, \"sparse\") and array.dtypes.apply(is_sparse).any():\n",
      "/superbugai-data/yash/chapter_2/workspace/EHR-QC-Preprocess/.venv/lib/python3.9/site-packages/sklearn/utils/validation.py:595: FutureWarning: is_sparse is deprecated and will be removed in a future version. Check `isinstance(dtype, pd.SparseDtype)` instead.\n",
      "  if is_sparse(pd_dtype):\n",
      "/superbugai-data/yash/chapter_2/workspace/EHR-QC-Preprocess/.venv/lib/python3.9/site-packages/sklearn/utils/validation.py:604: FutureWarning: is_sparse is deprecated and will be removed in a future version. Check `isinstance(dtype, pd.SparseDtype)` instead.\n",
      "  if is_sparse(pd_dtype) or not is_extension_array_dtype(pd_dtype):\n",
      "/superbugai-data/yash/chapter_2/workspace/EHR-QC-Preprocess/ehrqc/plot/OutlierIsolationForest.py:88: SettingWithCopyWarning: \n",
      "A value is trying to be set on a copy of a slice from a DataFrame\n",
      "\n",
      "See the caveats in the documentation: https://pandas.pydata.org/pandas-docs/stable/user_guide/indexing.html#returning-a-view-versus-a-copy\n",
      "  correctedDf.drop(columns=['outlier_scores'], inplace=True)\n"
     ]
    },
    {
     "name": "stdout",
     "output_type": "stream",
     "text": [
      "2023-11-30 10:55:01,545 - EHR-QC - INFO - Saving the corrected file\n",
      "2023-11-30 10:55:01,843 - EHR-QC - INFO - Done!!\n"
     ]
    },
    {
     "data": {
      "text/plain": [
       "0"
      ]
     },
     "execution_count": 4,
     "metadata": {},
     "output_type": "execute_result"
    }
   ],
   "source": [
    "import os\n",
    "\n",
    "\n",
    "os.system(\n",
    "    'cd ' + os.environ['EHR_QC_PREPROCESS_BASE'] + ';'\n",
    "    +\n",
    "    '''.venv/bin/python -m ehrqc.plot.OutlierIsolationForest ''' + os.environ['MIMIC_EHR_PIPELINE_BASE'] + '''/data/sepsis_micro_cohort/imputed/vitals_first_episode_date.csv ''' + os.environ['MIMIC_EHR_PIPELINE_BASE'] + '''/data/sepsis_micro_cohort/cleaned/vitals_first_episode_date.csv clean -c \"Respiratory rate\" \"Heart rate\" \"Body weight\" \"Oxygen saturation in Arterial blood by Pulse oximetry\" \"Glasgow coma score eye opening\" \"Glasgow coma score verbal\" \"Glasgow coma score motor\" \"Physical mobility Braden scale\" \"Nutrition intake pattern Braden scale\" \"Sensory perception Braden scale\" \"Physical activity Braden scale\" \"Moisture exposure Braden scale\" \"Friction and shear Braden scale\" \"Mean blood pressure\" \"Systolic blood pressure\" \"Diastolic blood pressure\" \"Body temperature\"'''\n",
    "    )\n"
   ]
  },
  {
   "cell_type": "markdown",
   "metadata": {},
   "source": [
    "### last"
   ]
  },
  {
   "cell_type": "code",
   "execution_count": 5,
   "metadata": {},
   "outputs": [
    {
     "name": "stdout",
     "output_type": "stream",
     "text": [
      "2023-11-30 10:55:02,570 - EHR-QC - INFO - Parsing command line arguments\n",
      "2023-11-30 10:55:02,571 - EHR-QC - INFO - args.source_file: /home/yram0006/phd/chapter_2/workspace/MIMIC-EHR-Pipeline/data/sepsis_micro_cohort/imputed/vitals_last_episode_date.csv\n",
      "2023-11-30 10:55:02,571 - EHR-QC - INFO - args.save_file: /home/yram0006/phd/chapter_2/workspace/MIMIC-EHR-Pipeline/data/sepsis_micro_cohort/cleaned/vitals_last_episode_date.csv\n",
      "2023-11-30 10:55:02,571 - EHR-QC - INFO - args.action: clean\n",
      "2023-11-30 10:55:02,571 - EHR-QC - INFO - args.columns: ['Respiratory rate', 'Heart rate', 'Body weight', 'Oxygen saturation in Arterial blood by Pulse oximetry', 'Glasgow coma score eye opening', 'Glasgow coma score verbal', 'Glasgow coma score motor', 'Physical mobility Braden scale', 'Nutrition intake pattern Braden scale', 'Sensory perception Braden scale', 'Physical activity Braden scale', 'Moisture exposure Braden scale', 'Friction and shear Braden scale', 'Mean blood pressure', 'Systolic blood pressure', 'Diastolic blood pressure', 'Body temperature']\n",
      "2023-11-30 10:55:02,634 - EHR-QC - INFO - Validating the input arguments.\n",
      "2023-11-30 10:55:02,637 - EHR-QC - INFO - Validating complete!!\n",
      "2023-11-30 10:55:02,637 - EHR-QC - INFO - Removing outliers\n"
     ]
    },
    {
     "name": "stderr",
     "output_type": "stream",
     "text": [
      "/superbugai-data/yash/chapter_2/workspace/EHR-QC-Preprocess/.venv/lib/python3.9/site-packages/sklearn/utils/validation.py:757: FutureWarning: is_sparse is deprecated and will be removed in a future version. Check `isinstance(dtype, pd.SparseDtype)` instead.\n",
      "  if not hasattr(array, \"sparse\") and array.dtypes.apply(is_sparse).any():\n",
      "/superbugai-data/yash/chapter_2/workspace/EHR-QC-Preprocess/.venv/lib/python3.9/site-packages/sklearn/utils/validation.py:595: FutureWarning: is_sparse is deprecated and will be removed in a future version. Check `isinstance(dtype, pd.SparseDtype)` instead.\n",
      "  if is_sparse(pd_dtype):\n",
      "/superbugai-data/yash/chapter_2/workspace/EHR-QC-Preprocess/.venv/lib/python3.9/site-packages/sklearn/utils/validation.py:604: FutureWarning: is_sparse is deprecated and will be removed in a future version. Check `isinstance(dtype, pd.SparseDtype)` instead.\n",
      "  if is_sparse(pd_dtype) or not is_extension_array_dtype(pd_dtype):\n",
      "/superbugai-data/yash/chapter_2/workspace/EHR-QC-Preprocess/.venv/lib/python3.9/site-packages/sklearn/base.py:450: UserWarning: X does not have valid feature names, but IsolationForest was fitted with feature names\n",
      "  warnings.warn(\n",
      "/superbugai-data/yash/chapter_2/workspace/EHR-QC-Preprocess/.venv/lib/python3.9/site-packages/sklearn/utils/validation.py:757: FutureWarning: is_sparse is deprecated and will be removed in a future version. Check `isinstance(dtype, pd.SparseDtype)` instead.\n",
      "  if not hasattr(array, \"sparse\") and array.dtypes.apply(is_sparse).any():\n",
      "/superbugai-data/yash/chapter_2/workspace/EHR-QC-Preprocess/.venv/lib/python3.9/site-packages/sklearn/utils/validation.py:595: FutureWarning: is_sparse is deprecated and will be removed in a future version. Check `isinstance(dtype, pd.SparseDtype)` instead.\n",
      "  if is_sparse(pd_dtype):\n",
      "/superbugai-data/yash/chapter_2/workspace/EHR-QC-Preprocess/.venv/lib/python3.9/site-packages/sklearn/utils/validation.py:604: FutureWarning: is_sparse is deprecated and will be removed in a future version. Check `isinstance(dtype, pd.SparseDtype)` instead.\n",
      "  if is_sparse(pd_dtype) or not is_extension_array_dtype(pd_dtype):\n",
      "/superbugai-data/yash/chapter_2/workspace/EHR-QC-Preprocess/ehrqc/plot/OutlierIsolationForest.py:88: SettingWithCopyWarning: \n",
      "A value is trying to be set on a copy of a slice from a DataFrame\n",
      "\n",
      "See the caveats in the documentation: https://pandas.pydata.org/pandas-docs/stable/user_guide/indexing.html#returning-a-view-versus-a-copy\n",
      "  correctedDf.drop(columns=['outlier_scores'], inplace=True)\n"
     ]
    },
    {
     "name": "stdout",
     "output_type": "stream",
     "text": [
      "2023-11-30 10:55:04,671 - EHR-QC - INFO - Saving the corrected file\n",
      "2023-11-30 10:55:04,969 - EHR-QC - INFO - Done!!\n"
     ]
    },
    {
     "data": {
      "text/plain": [
       "0"
      ]
     },
     "execution_count": 5,
     "metadata": {},
     "output_type": "execute_result"
    }
   ],
   "source": [
    "import os\n",
    "\n",
    "\n",
    "os.system(\n",
    "    'cd ' + os.environ['EHR_QC_PREPROCESS_BASE'] + ';'\n",
    "    +\n",
    "    '''.venv/bin/python -m ehrqc.plot.OutlierIsolationForest ''' + os.environ['MIMIC_EHR_PIPELINE_BASE'] + '''/data/sepsis_micro_cohort/imputed/vitals_last_episode_date.csv ''' + os.environ['MIMIC_EHR_PIPELINE_BASE'] + '''/data/sepsis_micro_cohort/cleaned/vitals_last_episode_date.csv clean -c \"Respiratory rate\" \"Heart rate\" \"Body weight\" \"Oxygen saturation in Arterial blood by Pulse oximetry\" \"Glasgow coma score eye opening\" \"Glasgow coma score verbal\" \"Glasgow coma score motor\" \"Physical mobility Braden scale\" \"Nutrition intake pattern Braden scale\" \"Sensory perception Braden scale\" \"Physical activity Braden scale\" \"Moisture exposure Braden scale\" \"Friction and shear Braden scale\" \"Mean blood pressure\" \"Systolic blood pressure\" \"Diastolic blood pressure\" \"Body temperature\"'''\n",
    "    )\n"
   ]
  },
  {
   "cell_type": "markdown",
   "metadata": {},
   "source": [
    "## Labs"
   ]
  },
  {
   "cell_type": "markdown",
   "metadata": {},
   "source": [
    "### avg"
   ]
  },
  {
   "cell_type": "code",
   "execution_count": 6,
   "metadata": {},
   "outputs": [
    {
     "name": "stdout",
     "output_type": "stream",
     "text": [
      "2023-11-30 10:55:05,892 - EHR-QC - INFO - Parsing command line arguments\n",
      "2023-11-30 10:55:05,893 - EHR-QC - INFO - args.source_file: /home/yram0006/phd/chapter_2/workspace/MIMIC-EHR-Pipeline/data/sepsis_micro_cohort/imputed/labs_avg_episode_date.csv\n",
      "2023-11-30 10:55:05,893 - EHR-QC - INFO - args.save_file: /home/yram0006/phd/chapter_2/workspace/MIMIC-EHR-Pipeline/data/sepsis_micro_cohort/cleaned/labs_avg_episode_date.csv\n",
      "2023-11-30 10:55:05,893 - EHR-QC - INFO - args.action: clean\n",
      "2023-11-30 10:55:05,893 - EHR-QC - INFO - args.columns: ['Leukocytes in Blood by Manual count', 'Hematocrit of Blood by Automated count', 'MCHC by Automated count', 'MCH by Automated count', 'Erythrocyte distribution width by Automated count', 'MCV by Automated count', 'Erythrocytes in Blood by Automated count', 'Platelets in Blood by Automated count', 'Hemoglobin in Blood', 'Urea nitrogen in Serum or Plasma', 'Creatinine in Serum or Plasma', 'Potassium in Serum or Plasma', 'Chloride in Serum or Plasma', 'Bicarbonate in Serum or Plasma', 'Sodium in Serum or Plasma', 'Anion gap 4 in Serum or Plasma', 'Glucose in Serum or Plasma', 'Magnesium in Serum or Plasma', 'Calcium in Serum or Plasma', 'Phosphate in Serum or Plasma', 'Neutrophils in Urine by Automated count', 'Lymphocytes in Blood by Automated count', 'Basophils in Blood by Automated count', 'Eosinophils in Blood by Automated count', 'Monocytes in Blood by Automated count', 'Prothrombin time (PT)', 'INR in Platelet poor plasma by Coagulation assay', 'aPTT in Blood by Coagulation assay', 'Specific gravity of Urine by Test strip', 'pH of Urine by Test strip', 'Bilirubin.total in Serum or Plasma', 'Aspartate aminotransferase in Serum or Plasma', 'Alanine aminotransferase in Serum or Plasma', 'Alkaline phosphatase in Serum or Plasma', 'Albumin in Serum or Plasma']\n",
      "2023-11-30 10:55:06,292 - EHR-QC - INFO - Validating the input arguments.\n",
      "2023-11-30 10:55:06,301 - EHR-QC - INFO - Validating complete!!\n",
      "2023-11-30 10:55:06,301 - EHR-QC - INFO - Removing outliers\n"
     ]
    },
    {
     "name": "stderr",
     "output_type": "stream",
     "text": [
      "/superbugai-data/yash/chapter_2/workspace/EHR-QC-Preprocess/.venv/lib/python3.9/site-packages/sklearn/utils/validation.py:757: FutureWarning: is_sparse is deprecated and will be removed in a future version. Check `isinstance(dtype, pd.SparseDtype)` instead.\n",
      "  if not hasattr(array, \"sparse\") and array.dtypes.apply(is_sparse).any():\n",
      "/superbugai-data/yash/chapter_2/workspace/EHR-QC-Preprocess/.venv/lib/python3.9/site-packages/sklearn/utils/validation.py:595: FutureWarning: is_sparse is deprecated and will be removed in a future version. Check `isinstance(dtype, pd.SparseDtype)` instead.\n",
      "  if is_sparse(pd_dtype):\n",
      "/superbugai-data/yash/chapter_2/workspace/EHR-QC-Preprocess/.venv/lib/python3.9/site-packages/sklearn/utils/validation.py:604: FutureWarning: is_sparse is deprecated and will be removed in a future version. Check `isinstance(dtype, pd.SparseDtype)` instead.\n",
      "  if is_sparse(pd_dtype) or not is_extension_array_dtype(pd_dtype):\n",
      "/superbugai-data/yash/chapter_2/workspace/EHR-QC-Preprocess/.venv/lib/python3.9/site-packages/sklearn/base.py:450: UserWarning: X does not have valid feature names, but IsolationForest was fitted with feature names\n",
      "  warnings.warn(\n",
      "/superbugai-data/yash/chapter_2/workspace/EHR-QC-Preprocess/.venv/lib/python3.9/site-packages/sklearn/utils/validation.py:757: FutureWarning: is_sparse is deprecated and will be removed in a future version. Check `isinstance(dtype, pd.SparseDtype)` instead.\n",
      "  if not hasattr(array, \"sparse\") and array.dtypes.apply(is_sparse).any():\n",
      "/superbugai-data/yash/chapter_2/workspace/EHR-QC-Preprocess/.venv/lib/python3.9/site-packages/sklearn/utils/validation.py:595: FutureWarning: is_sparse is deprecated and will be removed in a future version. Check `isinstance(dtype, pd.SparseDtype)` instead.\n",
      "  if is_sparse(pd_dtype):\n",
      "/superbugai-data/yash/chapter_2/workspace/EHR-QC-Preprocess/.venv/lib/python3.9/site-packages/sklearn/utils/validation.py:604: FutureWarning: is_sparse is deprecated and will be removed in a future version. Check `isinstance(dtype, pd.SparseDtype)` instead.\n",
      "  if is_sparse(pd_dtype) or not is_extension_array_dtype(pd_dtype):\n",
      "/superbugai-data/yash/chapter_2/workspace/EHR-QC-Preprocess/ehrqc/plot/OutlierIsolationForest.py:88: SettingWithCopyWarning: \n",
      "A value is trying to be set on a copy of a slice from a DataFrame\n",
      "\n",
      "See the caveats in the documentation: https://pandas.pydata.org/pandas-docs/stable/user_guide/indexing.html#returning-a-view-versus-a-copy\n",
      "  correctedDf.drop(columns=['outlier_scores'], inplace=True)\n"
     ]
    },
    {
     "name": "stdout",
     "output_type": "stream",
     "text": [
      "2023-11-30 10:55:13,712 - EHR-QC - INFO - Saving the corrected file\n",
      "2023-11-30 10:55:15,896 - EHR-QC - INFO - Done!!\n"
     ]
    },
    {
     "data": {
      "text/plain": [
       "0"
      ]
     },
     "execution_count": 6,
     "metadata": {},
     "output_type": "execute_result"
    }
   ],
   "source": [
    "import os\n",
    "\n",
    "\n",
    "os.system(\n",
    "    'cd ' + os.environ['EHR_QC_PREPROCESS_BASE'] + ';'\n",
    "    +\n",
    "    '''.venv/bin/python -m ehrqc.plot.OutlierIsolationForest ''' + os.environ['MIMIC_EHR_PIPELINE_BASE'] + '''/data/sepsis_micro_cohort/imputed/labs_avg_episode_date.csv ''' + os.environ['MIMIC_EHR_PIPELINE_BASE'] + '''/data/sepsis_micro_cohort/cleaned/labs_avg_episode_date.csv clean -c \"Leukocytes in Blood by Manual count\" \"Hematocrit of Blood by Automated count\" \"MCHC by Automated count\" \"MCH by Automated count\" \"Erythrocyte distribution width by Automated count\" \"MCV by Automated count\" \"Erythrocytes in Blood by Automated count\" \"Platelets in Blood by Automated count\" \"Hemoglobin in Blood\" \"Urea nitrogen in Serum or Plasma\" \"Creatinine in Serum or Plasma\" \"Potassium in Serum or Plasma\" \"Chloride in Serum or Plasma\" \"Bicarbonate in Serum or Plasma\" \"Sodium in Serum or Plasma\" \"Anion gap 4 in Serum or Plasma\" \"Glucose in Serum or Plasma\" \"Magnesium in Serum or Plasma\" \"Calcium in Serum or Plasma\" \"Phosphate in Serum or Plasma\" \"Neutrophils in Urine by Automated count\" \"Lymphocytes in Blood by Automated count\" \"Basophils in Blood by Automated count\" \"Eosinophils in Blood by Automated count\" \"Monocytes in Blood by Automated count\" \"Prothrombin time (PT)\" \"INR in Platelet poor plasma by Coagulation assay\" \"aPTT in Blood by Coagulation assay\" \"Specific gravity of Urine by Test strip\" \"pH of Urine by Test strip\" \"Bilirubin.total in Serum or Plasma\" \"Aspartate aminotransferase in Serum or Plasma\" \"Alanine aminotransferase in Serum or Plasma\" \"Alkaline phosphatase in Serum or Plasma\" \"Albumin in Serum or Plasma\"'''\n",
    "    )\n"
   ]
  },
  {
   "cell_type": "markdown",
   "metadata": {},
   "source": [
    "### min"
   ]
  },
  {
   "cell_type": "code",
   "execution_count": 7,
   "metadata": {},
   "outputs": [
    {
     "name": "stdout",
     "output_type": "stream",
     "text": [
      "2023-11-30 10:55:16,808 - EHR-QC - INFO - Parsing command line arguments\n",
      "2023-11-30 10:55:16,809 - EHR-QC - INFO - args.source_file: /home/yram0006/phd/chapter_2/workspace/MIMIC-EHR-Pipeline/data/sepsis_micro_cohort/imputed/labs_min_episode_date.csv\n",
      "2023-11-30 10:55:16,809 - EHR-QC - INFO - args.save_file: /home/yram0006/phd/chapter_2/workspace/MIMIC-EHR-Pipeline/data/sepsis_micro_cohort/cleaned/labs_min_episode_date.csv\n",
      "2023-11-30 10:55:16,809 - EHR-QC - INFO - args.action: clean\n",
      "2023-11-30 10:55:16,809 - EHR-QC - INFO - args.columns: ['Leukocytes in Blood by Manual count', 'Hematocrit of Blood by Automated count', 'MCHC by Automated count', 'MCH by Automated count', 'Erythrocyte distribution width by Automated count', 'MCV by Automated count', 'Erythrocytes in Blood by Automated count', 'Platelets in Blood by Automated count', 'Hemoglobin in Blood', 'Urea nitrogen in Serum or Plasma', 'Creatinine in Serum or Plasma', 'Potassium in Serum or Plasma', 'Chloride in Serum or Plasma', 'Bicarbonate in Serum or Plasma', 'Sodium in Serum or Plasma', 'Anion gap 4 in Serum or Plasma', 'Glucose in Serum or Plasma', 'Magnesium in Serum or Plasma', 'Calcium in Serum or Plasma', 'Phosphate in Serum or Plasma', 'Neutrophils in Urine by Automated count', 'Lymphocytes in Blood by Automated count', 'Basophils in Blood by Automated count', 'Eosinophils in Blood by Automated count', 'Monocytes in Blood by Automated count', 'Prothrombin time (PT)', 'INR in Platelet poor plasma by Coagulation assay', 'aPTT in Blood by Coagulation assay', 'Specific gravity of Urine by Test strip', 'pH of Urine by Test strip', 'Bilirubin.total in Serum or Plasma', 'Aspartate aminotransferase in Serum or Plasma', 'Alanine aminotransferase in Serum or Plasma', 'Alkaline phosphatase in Serum or Plasma', 'Albumin in Serum or Plasma']\n",
      "2023-11-30 10:55:17,206 - EHR-QC - INFO - Validating the input arguments.\n",
      "2023-11-30 10:55:17,213 - EHR-QC - INFO - Validating complete!!\n",
      "2023-11-30 10:55:17,213 - EHR-QC - INFO - Removing outliers\n"
     ]
    },
    {
     "name": "stderr",
     "output_type": "stream",
     "text": [
      "/superbugai-data/yash/chapter_2/workspace/EHR-QC-Preprocess/.venv/lib/python3.9/site-packages/sklearn/utils/validation.py:757: FutureWarning: is_sparse is deprecated and will be removed in a future version. Check `isinstance(dtype, pd.SparseDtype)` instead.\n",
      "  if not hasattr(array, \"sparse\") and array.dtypes.apply(is_sparse).any():\n",
      "/superbugai-data/yash/chapter_2/workspace/EHR-QC-Preprocess/.venv/lib/python3.9/site-packages/sklearn/utils/validation.py:595: FutureWarning: is_sparse is deprecated and will be removed in a future version. Check `isinstance(dtype, pd.SparseDtype)` instead.\n",
      "  if is_sparse(pd_dtype):\n",
      "/superbugai-data/yash/chapter_2/workspace/EHR-QC-Preprocess/.venv/lib/python3.9/site-packages/sklearn/utils/validation.py:604: FutureWarning: is_sparse is deprecated and will be removed in a future version. Check `isinstance(dtype, pd.SparseDtype)` instead.\n",
      "  if is_sparse(pd_dtype) or not is_extension_array_dtype(pd_dtype):\n",
      "/superbugai-data/yash/chapter_2/workspace/EHR-QC-Preprocess/.venv/lib/python3.9/site-packages/sklearn/base.py:450: UserWarning: X does not have valid feature names, but IsolationForest was fitted with feature names\n",
      "  warnings.warn(\n",
      "/superbugai-data/yash/chapter_2/workspace/EHR-QC-Preprocess/.venv/lib/python3.9/site-packages/sklearn/utils/validation.py:757: FutureWarning: is_sparse is deprecated and will be removed in a future version. Check `isinstance(dtype, pd.SparseDtype)` instead.\n",
      "  if not hasattr(array, \"sparse\") and array.dtypes.apply(is_sparse).any():\n",
      "/superbugai-data/yash/chapter_2/workspace/EHR-QC-Preprocess/.venv/lib/python3.9/site-packages/sklearn/utils/validation.py:595: FutureWarning: is_sparse is deprecated and will be removed in a future version. Check `isinstance(dtype, pd.SparseDtype)` instead.\n",
      "  if is_sparse(pd_dtype):\n",
      "/superbugai-data/yash/chapter_2/workspace/EHR-QC-Preprocess/.venv/lib/python3.9/site-packages/sklearn/utils/validation.py:604: FutureWarning: is_sparse is deprecated and will be removed in a future version. Check `isinstance(dtype, pd.SparseDtype)` instead.\n",
      "  if is_sparse(pd_dtype) or not is_extension_array_dtype(pd_dtype):\n",
      "/superbugai-data/yash/chapter_2/workspace/EHR-QC-Preprocess/ehrqc/plot/OutlierIsolationForest.py:88: SettingWithCopyWarning: \n",
      "A value is trying to be set on a copy of a slice from a DataFrame\n",
      "\n",
      "See the caveats in the documentation: https://pandas.pydata.org/pandas-docs/stable/user_guide/indexing.html#returning-a-view-versus-a-copy\n",
      "  correctedDf.drop(columns=['outlier_scores'], inplace=True)\n"
     ]
    },
    {
     "name": "stdout",
     "output_type": "stream",
     "text": [
      "2023-11-30 10:55:24,430 - EHR-QC - INFO - Saving the corrected file\n",
      "2023-11-30 10:55:26,508 - EHR-QC - INFO - Done!!\n"
     ]
    },
    {
     "data": {
      "text/plain": [
       "0"
      ]
     },
     "execution_count": 7,
     "metadata": {},
     "output_type": "execute_result"
    }
   ],
   "source": [
    "import os\n",
    "\n",
    "\n",
    "os.system(\n",
    "    'cd ' + os.environ['EHR_QC_PREPROCESS_BASE'] + ';'\n",
    "    +\n",
    "    '''.venv/bin/python -m ehrqc.plot.OutlierIsolationForest ''' + os.environ['MIMIC_EHR_PIPELINE_BASE'] + '''/data/sepsis_micro_cohort/imputed/labs_min_episode_date.csv ''' + os.environ['MIMIC_EHR_PIPELINE_BASE'] + '''/data/sepsis_micro_cohort/cleaned/labs_min_episode_date.csv clean -c \"Leukocytes in Blood by Manual count\" \"Hematocrit of Blood by Automated count\" \"MCHC by Automated count\" \"MCH by Automated count\" \"Erythrocyte distribution width by Automated count\" \"MCV by Automated count\" \"Erythrocytes in Blood by Automated count\" \"Platelets in Blood by Automated count\" \"Hemoglobin in Blood\" \"Urea nitrogen in Serum or Plasma\" \"Creatinine in Serum or Plasma\" \"Potassium in Serum or Plasma\" \"Chloride in Serum or Plasma\" \"Bicarbonate in Serum or Plasma\" \"Sodium in Serum or Plasma\" \"Anion gap 4 in Serum or Plasma\" \"Glucose in Serum or Plasma\" \"Magnesium in Serum or Plasma\" \"Calcium in Serum or Plasma\" \"Phosphate in Serum or Plasma\" \"Neutrophils in Urine by Automated count\" \"Lymphocytes in Blood by Automated count\" \"Basophils in Blood by Automated count\" \"Eosinophils in Blood by Automated count\" \"Monocytes in Blood by Automated count\" \"Prothrombin time (PT)\" \"INR in Platelet poor plasma by Coagulation assay\" \"aPTT in Blood by Coagulation assay\" \"Specific gravity of Urine by Test strip\" \"pH of Urine by Test strip\" \"Bilirubin.total in Serum or Plasma\" \"Aspartate aminotransferase in Serum or Plasma\" \"Alanine aminotransferase in Serum or Plasma\" \"Alkaline phosphatase in Serum or Plasma\" \"Albumin in Serum or Plasma\"'''\n",
    "    )\n"
   ]
  },
  {
   "cell_type": "markdown",
   "metadata": {},
   "source": [
    "### max"
   ]
  },
  {
   "cell_type": "code",
   "execution_count": 8,
   "metadata": {},
   "outputs": [
    {
     "name": "stdout",
     "output_type": "stream",
     "text": [
      "2023-11-30 10:55:27,437 - EHR-QC - INFO - Parsing command line arguments\n",
      "2023-11-30 10:55:27,438 - EHR-QC - INFO - args.source_file: /home/yram0006/phd/chapter_2/workspace/MIMIC-EHR-Pipeline/data/sepsis_micro_cohort/imputed/labs_max_episode_date.csv\n",
      "2023-11-30 10:55:27,438 - EHR-QC - INFO - args.save_file: /home/yram0006/phd/chapter_2/workspace/MIMIC-EHR-Pipeline/data/sepsis_micro_cohort/cleaned/labs_max_episode_date.csv\n",
      "2023-11-30 10:55:27,438 - EHR-QC - INFO - args.action: clean\n",
      "2023-11-30 10:55:27,438 - EHR-QC - INFO - args.columns: ['Leukocytes in Blood by Manual count', 'Hematocrit of Blood by Automated count', 'MCHC by Automated count', 'MCH by Automated count', 'Erythrocyte distribution width by Automated count', 'MCV by Automated count', 'Erythrocytes in Blood by Automated count', 'Platelets in Blood by Automated count', 'Hemoglobin in Blood', 'Urea nitrogen in Serum or Plasma', 'Creatinine in Serum or Plasma', 'Potassium in Serum or Plasma', 'Chloride in Serum or Plasma', 'Bicarbonate in Serum or Plasma', 'Sodium in Serum or Plasma', 'Anion gap 4 in Serum or Plasma', 'Glucose in Serum or Plasma', 'Magnesium in Serum or Plasma', 'Calcium in Serum or Plasma', 'Phosphate in Serum or Plasma', 'Neutrophils in Urine by Automated count', 'Lymphocytes in Blood by Automated count', 'Basophils in Blood by Automated count', 'Eosinophils in Blood by Automated count', 'Monocytes in Blood by Automated count', 'Prothrombin time (PT)', 'INR in Platelet poor plasma by Coagulation assay', 'aPTT in Blood by Coagulation assay', 'Specific gravity of Urine by Test strip', 'pH of Urine by Test strip', 'Bilirubin.total in Serum or Plasma', 'Aspartate aminotransferase in Serum or Plasma', 'Alanine aminotransferase in Serum or Plasma', 'Alkaline phosphatase in Serum or Plasma', 'Albumin in Serum or Plasma']\n",
      "2023-11-30 10:55:27,836 - EHR-QC - INFO - Validating the input arguments.\n",
      "2023-11-30 10:55:27,844 - EHR-QC - INFO - Validating complete!!\n",
      "2023-11-30 10:55:27,844 - EHR-QC - INFO - Removing outliers\n"
     ]
    },
    {
     "name": "stderr",
     "output_type": "stream",
     "text": [
      "/superbugai-data/yash/chapter_2/workspace/EHR-QC-Preprocess/.venv/lib/python3.9/site-packages/sklearn/utils/validation.py:757: FutureWarning: is_sparse is deprecated and will be removed in a future version. Check `isinstance(dtype, pd.SparseDtype)` instead.\n",
      "  if not hasattr(array, \"sparse\") and array.dtypes.apply(is_sparse).any():\n",
      "/superbugai-data/yash/chapter_2/workspace/EHR-QC-Preprocess/.venv/lib/python3.9/site-packages/sklearn/utils/validation.py:595: FutureWarning: is_sparse is deprecated and will be removed in a future version. Check `isinstance(dtype, pd.SparseDtype)` instead.\n",
      "  if is_sparse(pd_dtype):\n",
      "/superbugai-data/yash/chapter_2/workspace/EHR-QC-Preprocess/.venv/lib/python3.9/site-packages/sklearn/utils/validation.py:604: FutureWarning: is_sparse is deprecated and will be removed in a future version. Check `isinstance(dtype, pd.SparseDtype)` instead.\n",
      "  if is_sparse(pd_dtype) or not is_extension_array_dtype(pd_dtype):\n",
      "/superbugai-data/yash/chapter_2/workspace/EHR-QC-Preprocess/.venv/lib/python3.9/site-packages/sklearn/base.py:450: UserWarning: X does not have valid feature names, but IsolationForest was fitted with feature names\n",
      "  warnings.warn(\n",
      "/superbugai-data/yash/chapter_2/workspace/EHR-QC-Preprocess/.venv/lib/python3.9/site-packages/sklearn/utils/validation.py:757: FutureWarning: is_sparse is deprecated and will be removed in a future version. Check `isinstance(dtype, pd.SparseDtype)` instead.\n",
      "  if not hasattr(array, \"sparse\") and array.dtypes.apply(is_sparse).any():\n",
      "/superbugai-data/yash/chapter_2/workspace/EHR-QC-Preprocess/.venv/lib/python3.9/site-packages/sklearn/utils/validation.py:595: FutureWarning: is_sparse is deprecated and will be removed in a future version. Check `isinstance(dtype, pd.SparseDtype)` instead.\n",
      "  if is_sparse(pd_dtype):\n",
      "/superbugai-data/yash/chapter_2/workspace/EHR-QC-Preprocess/.venv/lib/python3.9/site-packages/sklearn/utils/validation.py:604: FutureWarning: is_sparse is deprecated and will be removed in a future version. Check `isinstance(dtype, pd.SparseDtype)` instead.\n",
      "  if is_sparse(pd_dtype) or not is_extension_array_dtype(pd_dtype):\n",
      "/superbugai-data/yash/chapter_2/workspace/EHR-QC-Preprocess/ehrqc/plot/OutlierIsolationForest.py:88: SettingWithCopyWarning: \n",
      "A value is trying to be set on a copy of a slice from a DataFrame\n",
      "\n",
      "See the caveats in the documentation: https://pandas.pydata.org/pandas-docs/stable/user_guide/indexing.html#returning-a-view-versus-a-copy\n",
      "  correctedDf.drop(columns=['outlier_scores'], inplace=True)\n"
     ]
    },
    {
     "name": "stdout",
     "output_type": "stream",
     "text": [
      "2023-11-30 10:55:35,139 - EHR-QC - INFO - Saving the corrected file\n",
      "2023-11-30 10:55:37,175 - EHR-QC - INFO - Done!!\n"
     ]
    },
    {
     "data": {
      "text/plain": [
       "0"
      ]
     },
     "execution_count": 8,
     "metadata": {},
     "output_type": "execute_result"
    }
   ],
   "source": [
    "import os\n",
    "\n",
    "\n",
    "os.system(\n",
    "    'cd ' + os.environ['EHR_QC_PREPROCESS_BASE'] + ';'\n",
    "    +\n",
    "    '''.venv/bin/python -m ehrqc.plot.OutlierIsolationForest ''' + os.environ['MIMIC_EHR_PIPELINE_BASE'] + '''/data/sepsis_micro_cohort/imputed/labs_max_episode_date.csv ''' + os.environ['MIMIC_EHR_PIPELINE_BASE'] + '''/data/sepsis_micro_cohort/cleaned/labs_max_episode_date.csv clean -c \"Leukocytes in Blood by Manual count\" \"Hematocrit of Blood by Automated count\" \"MCHC by Automated count\" \"MCH by Automated count\" \"Erythrocyte distribution width by Automated count\" \"MCV by Automated count\" \"Erythrocytes in Blood by Automated count\" \"Platelets in Blood by Automated count\" \"Hemoglobin in Blood\" \"Urea nitrogen in Serum or Plasma\" \"Creatinine in Serum or Plasma\" \"Potassium in Serum or Plasma\" \"Chloride in Serum or Plasma\" \"Bicarbonate in Serum or Plasma\" \"Sodium in Serum or Plasma\" \"Anion gap 4 in Serum or Plasma\" \"Glucose in Serum or Plasma\" \"Magnesium in Serum or Plasma\" \"Calcium in Serum or Plasma\" \"Phosphate in Serum or Plasma\" \"Neutrophils in Urine by Automated count\" \"Lymphocytes in Blood by Automated count\" \"Basophils in Blood by Automated count\" \"Eosinophils in Blood by Automated count\" \"Monocytes in Blood by Automated count\" \"Prothrombin time (PT)\" \"INR in Platelet poor plasma by Coagulation assay\" \"aPTT in Blood by Coagulation assay\" \"Specific gravity of Urine by Test strip\" \"pH of Urine by Test strip\" \"Bilirubin.total in Serum or Plasma\" \"Aspartate aminotransferase in Serum or Plasma\" \"Alanine aminotransferase in Serum or Plasma\" \"Alkaline phosphatase in Serum or Plasma\" \"Albumin in Serum or Plasma\"'''\n",
    "    )\n"
   ]
  },
  {
   "cell_type": "markdown",
   "metadata": {},
   "source": [
    "### first"
   ]
  },
  {
   "cell_type": "code",
   "execution_count": 9,
   "metadata": {},
   "outputs": [
    {
     "name": "stdout",
     "output_type": "stream",
     "text": [
      "2023-11-30 10:55:38,077 - EHR-QC - INFO - Parsing command line arguments\n",
      "2023-11-30 10:55:38,078 - EHR-QC - INFO - args.source_file: /home/yram0006/phd/chapter_2/workspace/MIMIC-EHR-Pipeline/data/sepsis_micro_cohort/imputed/labs_first_episode_date.csv\n",
      "2023-11-30 10:55:38,078 - EHR-QC - INFO - args.save_file: /home/yram0006/phd/chapter_2/workspace/MIMIC-EHR-Pipeline/data/sepsis_micro_cohort/cleaned/labs_first_episode_date.csv\n",
      "2023-11-30 10:55:38,078 - EHR-QC - INFO - args.action: clean\n",
      "2023-11-30 10:55:38,078 - EHR-QC - INFO - args.columns: ['Leukocytes in Blood by Manual count', 'Hematocrit of Blood by Automated count', 'MCHC by Automated count', 'MCH by Automated count', 'Erythrocyte distribution width by Automated count', 'MCV by Automated count', 'Erythrocytes in Blood by Automated count', 'Platelets in Blood by Automated count', 'Hemoglobin in Blood', 'Urea nitrogen in Serum or Plasma', 'Creatinine in Serum or Plasma', 'Potassium in Serum or Plasma', 'Chloride in Serum or Plasma', 'Bicarbonate in Serum or Plasma', 'Sodium in Serum or Plasma', 'Anion gap 4 in Serum or Plasma', 'Glucose in Serum or Plasma', 'Magnesium in Serum or Plasma', 'Calcium in Serum or Plasma', 'Phosphate in Serum or Plasma', 'Neutrophils in Urine by Automated count', 'Lymphocytes in Blood by Automated count', 'Basophils in Blood by Automated count', 'Eosinophils in Blood by Automated count', 'Monocytes in Blood by Automated count', 'Prothrombin time (PT)', 'INR in Platelet poor plasma by Coagulation assay', 'aPTT in Blood by Coagulation assay', 'Specific gravity of Urine by Test strip', 'pH of Urine by Test strip', 'Bilirubin.total in Serum or Plasma', 'Aspartate aminotransferase in Serum or Plasma', 'Alanine aminotransferase in Serum or Plasma', 'Alkaline phosphatase in Serum or Plasma', 'Albumin in Serum or Plasma']\n",
      "2023-11-30 10:55:38,447 - EHR-QC - INFO - Validating the input arguments.\n",
      "2023-11-30 10:55:38,454 - EHR-QC - INFO - Validating complete!!\n",
      "2023-11-30 10:55:38,454 - EHR-QC - INFO - Removing outliers\n"
     ]
    },
    {
     "name": "stderr",
     "output_type": "stream",
     "text": [
      "/superbugai-data/yash/chapter_2/workspace/EHR-QC-Preprocess/.venv/lib/python3.9/site-packages/sklearn/utils/validation.py:757: FutureWarning: is_sparse is deprecated and will be removed in a future version. Check `isinstance(dtype, pd.SparseDtype)` instead.\n",
      "  if not hasattr(array, \"sparse\") and array.dtypes.apply(is_sparse).any():\n",
      "/superbugai-data/yash/chapter_2/workspace/EHR-QC-Preprocess/.venv/lib/python3.9/site-packages/sklearn/utils/validation.py:595: FutureWarning: is_sparse is deprecated and will be removed in a future version. Check `isinstance(dtype, pd.SparseDtype)` instead.\n",
      "  if is_sparse(pd_dtype):\n",
      "/superbugai-data/yash/chapter_2/workspace/EHR-QC-Preprocess/.venv/lib/python3.9/site-packages/sklearn/utils/validation.py:604: FutureWarning: is_sparse is deprecated and will be removed in a future version. Check `isinstance(dtype, pd.SparseDtype)` instead.\n",
      "  if is_sparse(pd_dtype) or not is_extension_array_dtype(pd_dtype):\n",
      "/superbugai-data/yash/chapter_2/workspace/EHR-QC-Preprocess/.venv/lib/python3.9/site-packages/sklearn/base.py:450: UserWarning: X does not have valid feature names, but IsolationForest was fitted with feature names\n",
      "  warnings.warn(\n",
      "/superbugai-data/yash/chapter_2/workspace/EHR-QC-Preprocess/.venv/lib/python3.9/site-packages/sklearn/utils/validation.py:757: FutureWarning: is_sparse is deprecated and will be removed in a future version. Check `isinstance(dtype, pd.SparseDtype)` instead.\n",
      "  if not hasattr(array, \"sparse\") and array.dtypes.apply(is_sparse).any():\n",
      "/superbugai-data/yash/chapter_2/workspace/EHR-QC-Preprocess/.venv/lib/python3.9/site-packages/sklearn/utils/validation.py:595: FutureWarning: is_sparse is deprecated and will be removed in a future version. Check `isinstance(dtype, pd.SparseDtype)` instead.\n",
      "  if is_sparse(pd_dtype):\n",
      "/superbugai-data/yash/chapter_2/workspace/EHR-QC-Preprocess/.venv/lib/python3.9/site-packages/sklearn/utils/validation.py:604: FutureWarning: is_sparse is deprecated and will be removed in a future version. Check `isinstance(dtype, pd.SparseDtype)` instead.\n",
      "  if is_sparse(pd_dtype) or not is_extension_array_dtype(pd_dtype):\n",
      "/superbugai-data/yash/chapter_2/workspace/EHR-QC-Preprocess/ehrqc/plot/OutlierIsolationForest.py:88: SettingWithCopyWarning: \n",
      "A value is trying to be set on a copy of a slice from a DataFrame\n",
      "\n",
      "See the caveats in the documentation: https://pandas.pydata.org/pandas-docs/stable/user_guide/indexing.html#returning-a-view-versus-a-copy\n",
      "  correctedDf.drop(columns=['outlier_scores'], inplace=True)\n"
     ]
    },
    {
     "name": "stdout",
     "output_type": "stream",
     "text": [
      "2023-11-30 10:55:45,460 - EHR-QC - INFO - Saving the corrected file\n",
      "2023-11-30 10:55:47,402 - EHR-QC - INFO - Done!!\n"
     ]
    },
    {
     "data": {
      "text/plain": [
       "0"
      ]
     },
     "execution_count": 9,
     "metadata": {},
     "output_type": "execute_result"
    }
   ],
   "source": [
    "import os\n",
    "\n",
    "\n",
    "os.system(\n",
    "    'cd ' + os.environ['EHR_QC_PREPROCESS_BASE'] + ';'\n",
    "    +\n",
    "    '''.venv/bin/python -m ehrqc.plot.OutlierIsolationForest ''' + os.environ['MIMIC_EHR_PIPELINE_BASE'] + '''/data/sepsis_micro_cohort/imputed/labs_first_episode_date.csv ''' + os.environ['MIMIC_EHR_PIPELINE_BASE'] + '''/data/sepsis_micro_cohort/cleaned/labs_first_episode_date.csv clean -c \"Leukocytes in Blood by Manual count\" \"Hematocrit of Blood by Automated count\" \"MCHC by Automated count\" \"MCH by Automated count\" \"Erythrocyte distribution width by Automated count\" \"MCV by Automated count\" \"Erythrocytes in Blood by Automated count\" \"Platelets in Blood by Automated count\" \"Hemoglobin in Blood\" \"Urea nitrogen in Serum or Plasma\" \"Creatinine in Serum or Plasma\" \"Potassium in Serum or Plasma\" \"Chloride in Serum or Plasma\" \"Bicarbonate in Serum or Plasma\" \"Sodium in Serum or Plasma\" \"Anion gap 4 in Serum or Plasma\" \"Glucose in Serum or Plasma\" \"Magnesium in Serum or Plasma\" \"Calcium in Serum or Plasma\" \"Phosphate in Serum or Plasma\" \"Neutrophils in Urine by Automated count\" \"Lymphocytes in Blood by Automated count\" \"Basophils in Blood by Automated count\" \"Eosinophils in Blood by Automated count\" \"Monocytes in Blood by Automated count\" \"Prothrombin time (PT)\" \"INR in Platelet poor plasma by Coagulation assay\" \"aPTT in Blood by Coagulation assay\" \"Specific gravity of Urine by Test strip\" \"pH of Urine by Test strip\" \"Bilirubin.total in Serum or Plasma\" \"Aspartate aminotransferase in Serum or Plasma\" \"Alanine aminotransferase in Serum or Plasma\" \"Alkaline phosphatase in Serum or Plasma\" \"Albumin in Serum or Plasma\"'''\n",
    "    )\n"
   ]
  },
  {
   "cell_type": "markdown",
   "metadata": {},
   "source": [
    "### last"
   ]
  },
  {
   "cell_type": "code",
   "execution_count": 10,
   "metadata": {},
   "outputs": [
    {
     "name": "stdout",
     "output_type": "stream",
     "text": [
      "2023-11-30 10:55:48,281 - EHR-QC - INFO - Parsing command line arguments\n",
      "2023-11-30 10:55:48,282 - EHR-QC - INFO - args.source_file: /home/yram0006/phd/chapter_2/workspace/MIMIC-EHR-Pipeline/data/sepsis_micro_cohort/imputed/labs_last_episode_date.csv\n",
      "2023-11-30 10:55:48,282 - EHR-QC - INFO - args.save_file: /home/yram0006/phd/chapter_2/workspace/MIMIC-EHR-Pipeline/data/sepsis_micro_cohort/cleaned/labs_last_episode_date.csv\n",
      "2023-11-30 10:55:48,282 - EHR-QC - INFO - args.action: clean\n",
      "2023-11-30 10:55:48,282 - EHR-QC - INFO - args.columns: ['Leukocytes in Blood by Manual count', 'Hematocrit of Blood by Automated count', 'MCHC by Automated count', 'MCH by Automated count', 'Erythrocyte distribution width by Automated count', 'MCV by Automated count', 'Erythrocytes in Blood by Automated count', 'Platelets in Blood by Automated count', 'Hemoglobin in Blood', 'Urea nitrogen in Serum or Plasma', 'Creatinine in Serum or Plasma', 'Potassium in Serum or Plasma', 'Chloride in Serum or Plasma', 'Bicarbonate in Serum or Plasma', 'Sodium in Serum or Plasma', 'Anion gap 4 in Serum or Plasma', 'Glucose in Serum or Plasma', 'Magnesium in Serum or Plasma', 'Calcium in Serum or Plasma', 'Phosphate in Serum or Plasma', 'Neutrophils in Urine by Automated count', 'Lymphocytes in Blood by Automated count', 'Basophils in Blood by Automated count', 'Eosinophils in Blood by Automated count', 'Monocytes in Blood by Automated count', 'Prothrombin time (PT)', 'INR in Platelet poor plasma by Coagulation assay', 'aPTT in Blood by Coagulation assay', 'Specific gravity of Urine by Test strip', 'pH of Urine by Test strip', 'Bilirubin.total in Serum or Plasma', 'Aspartate aminotransferase in Serum or Plasma', 'Alanine aminotransferase in Serum or Plasma', 'Alkaline phosphatase in Serum or Plasma', 'Albumin in Serum or Plasma']\n",
      "2023-11-30 10:55:48,644 - EHR-QC - INFO - Validating the input arguments.\n",
      "2023-11-30 10:55:48,652 - EHR-QC - INFO - Validating complete!!\n",
      "2023-11-30 10:55:48,652 - EHR-QC - INFO - Removing outliers\n"
     ]
    },
    {
     "name": "stderr",
     "output_type": "stream",
     "text": [
      "/superbugai-data/yash/chapter_2/workspace/EHR-QC-Preprocess/.venv/lib/python3.9/site-packages/sklearn/utils/validation.py:757: FutureWarning: is_sparse is deprecated and will be removed in a future version. Check `isinstance(dtype, pd.SparseDtype)` instead.\n",
      "  if not hasattr(array, \"sparse\") and array.dtypes.apply(is_sparse).any():\n",
      "/superbugai-data/yash/chapter_2/workspace/EHR-QC-Preprocess/.venv/lib/python3.9/site-packages/sklearn/utils/validation.py:595: FutureWarning: is_sparse is deprecated and will be removed in a future version. Check `isinstance(dtype, pd.SparseDtype)` instead.\n",
      "  if is_sparse(pd_dtype):\n",
      "/superbugai-data/yash/chapter_2/workspace/EHR-QC-Preprocess/.venv/lib/python3.9/site-packages/sklearn/utils/validation.py:604: FutureWarning: is_sparse is deprecated and will be removed in a future version. Check `isinstance(dtype, pd.SparseDtype)` instead.\n",
      "  if is_sparse(pd_dtype) or not is_extension_array_dtype(pd_dtype):\n",
      "/superbugai-data/yash/chapter_2/workspace/EHR-QC-Preprocess/.venv/lib/python3.9/site-packages/sklearn/base.py:450: UserWarning: X does not have valid feature names, but IsolationForest was fitted with feature names\n",
      "  warnings.warn(\n",
      "/superbugai-data/yash/chapter_2/workspace/EHR-QC-Preprocess/.venv/lib/python3.9/site-packages/sklearn/utils/validation.py:757: FutureWarning: is_sparse is deprecated and will be removed in a future version. Check `isinstance(dtype, pd.SparseDtype)` instead.\n",
      "  if not hasattr(array, \"sparse\") and array.dtypes.apply(is_sparse).any():\n",
      "/superbugai-data/yash/chapter_2/workspace/EHR-QC-Preprocess/.venv/lib/python3.9/site-packages/sklearn/utils/validation.py:595: FutureWarning: is_sparse is deprecated and will be removed in a future version. Check `isinstance(dtype, pd.SparseDtype)` instead.\n",
      "  if is_sparse(pd_dtype):\n",
      "/superbugai-data/yash/chapter_2/workspace/EHR-QC-Preprocess/.venv/lib/python3.9/site-packages/sklearn/utils/validation.py:604: FutureWarning: is_sparse is deprecated and will be removed in a future version. Check `isinstance(dtype, pd.SparseDtype)` instead.\n",
      "  if is_sparse(pd_dtype) or not is_extension_array_dtype(pd_dtype):\n",
      "/superbugai-data/yash/chapter_2/workspace/EHR-QC-Preprocess/ehrqc/plot/OutlierIsolationForest.py:88: SettingWithCopyWarning: \n",
      "A value is trying to be set on a copy of a slice from a DataFrame\n",
      "\n",
      "See the caveats in the documentation: https://pandas.pydata.org/pandas-docs/stable/user_guide/indexing.html#returning-a-view-versus-a-copy\n",
      "  correctedDf.drop(columns=['outlier_scores'], inplace=True)\n"
     ]
    },
    {
     "name": "stdout",
     "output_type": "stream",
     "text": [
      "2023-11-30 10:55:55,621 - EHR-QC - INFO - Saving the corrected file\n",
      "2023-11-30 10:55:57,548 - EHR-QC - INFO - Done!!\n"
     ]
    },
    {
     "data": {
      "text/plain": [
       "0"
      ]
     },
     "execution_count": 10,
     "metadata": {},
     "output_type": "execute_result"
    }
   ],
   "source": [
    "import os\n",
    "\n",
    "\n",
    "os.system(\n",
    "    'cd ' + os.environ['EHR_QC_PREPROCESS_BASE'] + ';'\n",
    "    +\n",
    "    '''.venv/bin/python -m ehrqc.plot.OutlierIsolationForest ''' + os.environ['MIMIC_EHR_PIPELINE_BASE'] + '''/data/sepsis_micro_cohort/imputed/labs_last_episode_date.csv ''' + os.environ['MIMIC_EHR_PIPELINE_BASE'] + '''/data/sepsis_micro_cohort/cleaned/labs_last_episode_date.csv clean -c \"Leukocytes in Blood by Manual count\" \"Hematocrit of Blood by Automated count\" \"MCHC by Automated count\" \"MCH by Automated count\" \"Erythrocyte distribution width by Automated count\" \"MCV by Automated count\" \"Erythrocytes in Blood by Automated count\" \"Platelets in Blood by Automated count\" \"Hemoglobin in Blood\" \"Urea nitrogen in Serum or Plasma\" \"Creatinine in Serum or Plasma\" \"Potassium in Serum or Plasma\" \"Chloride in Serum or Plasma\" \"Bicarbonate in Serum or Plasma\" \"Sodium in Serum or Plasma\" \"Anion gap 4 in Serum or Plasma\" \"Glucose in Serum or Plasma\" \"Magnesium in Serum or Plasma\" \"Calcium in Serum or Plasma\" \"Phosphate in Serum or Plasma\" \"Neutrophils in Urine by Automated count\" \"Lymphocytes in Blood by Automated count\" \"Basophils in Blood by Automated count\" \"Eosinophils in Blood by Automated count\" \"Monocytes in Blood by Automated count\" \"Prothrombin time (PT)\" \"INR in Platelet poor plasma by Coagulation assay\" \"aPTT in Blood by Coagulation assay\" \"Specific gravity of Urine by Test strip\" \"pH of Urine by Test strip\" \"Bilirubin.total in Serum or Plasma\" \"Aspartate aminotransferase in Serum or Plasma\" \"Alanine aminotransferase in Serum or Plasma\" \"Alkaline phosphatase in Serum or Plasma\" \"Albumin in Serum or Plasma\"'''\n",
    "    )\n"
   ]
  }
 ],
 "metadata": {
  "kernelspec": {
   "display_name": ".venv",
   "language": "python",
   "name": "python3"
  },
  "language_info": {
   "codemirror_mode": {
    "name": "ipython",
    "version": 3
   },
   "file_extension": ".py",
   "mimetype": "text/x-python",
   "name": "python",
   "nbconvert_exporter": "python",
   "pygments_lexer": "ipython3",
   "version": "3.8.10"
  }
 },
 "nbformat": 4,
 "nbformat_minor": 2
}
