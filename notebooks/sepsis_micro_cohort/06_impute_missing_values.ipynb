{
 "cells": [
  {
   "cell_type": "markdown",
   "metadata": {},
   "source": [
    "# Impute Missing Values"
   ]
  },
  {
   "cell_type": "markdown",
   "metadata": {},
   "source": [
    "## Labs"
   ]
  },
  {
   "cell_type": "markdown",
   "metadata": {},
   "source": [
    "### avg"
   ]
  },
  {
   "cell_type": "code",
   "execution_count": 1,
   "metadata": {},
   "outputs": [
    {
     "name": "stdout",
     "output_type": "stream",
     "text": [
      "2023-11-30 08:36:40,644 - EHR-QC - INFO - Parsing command line arguments\n",
      "2023-11-30 08:36:40,646 - EHR-QC - INFO - args.action: impute\n",
      "2023-11-30 08:36:40,646 - EHR-QC - INFO - args.source_path: /home/yram0006/phd/chapter_2/workspace/MIMIC-EHR-Pipeline/data/sepsis_micro_cohort/dropped/labs_avg_episode_date.csv\n",
      "2023-11-30 08:36:40,646 - EHR-QC - INFO - args.percentage: None\n",
      "2023-11-30 08:36:40,646 - EHR-QC - INFO - args.save_path: /home/yram0006/phd/chapter_2/workspace/MIMIC-EHR-Pipeline/data/sepsis_micro_cohort/imputed/labs_avg_episode_date.csv\n",
      "2023-11-30 08:36:40,647 - EHR-QC - INFO - args.algorithm: miss_forest\n",
      "2023-11-30 08:36:40,647 - EHR-QC - INFO - args.columns: ['Leukocytes in Blood by Manual count', 'Hematocrit of Blood by Automated count', 'MCHC by Automated count', 'MCH by Automated count', 'Erythrocyte distribution width by Automated count', 'MCV by Automated count', 'Erythrocytes in Blood by Automated count', 'Platelets in Blood by Automated count', 'Hemoglobin in Blood', 'Urea nitrogen in Serum or Plasma', 'Creatinine in Serum or Plasma', 'Potassium in Serum or Plasma', 'Chloride in Serum or Plasma', 'Bicarbonate in Serum or Plasma', 'Sodium in Serum or Plasma', 'Anion gap 4 in Serum or Plasma', 'Glucose in Serum or Plasma', 'Magnesium in Serum or Plasma', 'Calcium in Serum or Plasma', 'Phosphate in Serum or Plasma', 'Neutrophils in Urine by Automated count', 'Lymphocytes in Blood by Automated count', 'Basophils in Blood by Automated count', 'Eosinophils in Blood by Automated count', 'Monocytes in Blood by Automated count', 'Prothrombin time (PT)', 'INR in Platelet poor plasma by Coagulation assay', 'aPTT in Blood by Coagulation assay', 'Specific gravity of Urine by Test strip', 'pH of Urine by Test strip', 'Bilirubin.total in Serum or Plasma', 'Aspartate aminotransferase in Serum or Plasma', 'Alanine aminotransferase in Serum or Plasma', 'Alkaline phosphatase in Serum or Plasma', 'Albumin in Serum or Plasma']\n",
      "Iteration: 0\n",
      "Iteration: 1\n",
      "Iteration: 2\n",
      "2023-11-30 09:01:53,263 - EHR-QC - INFO - Done!!\n"
     ]
    },
    {
     "data": {
      "text/plain": [
       "0"
      ]
     },
     "execution_count": 1,
     "metadata": {},
     "output_type": "execute_result"
    }
   ],
   "source": [
    "import os\n",
    "\n",
    "\n",
    "os.system(\n",
    "    'cd ' + os.environ['EHR_QC_PREPROCESS_BASE'] + ';'\n",
    "    +\n",
    "    '''.venv/bin/python -m ehrqc.impute.Impute -ac 'impute' ''' + os.environ['MIMIC_EHR_PIPELINE_BASE'] + '''/data/sepsis_micro_cohort/dropped/labs_avg_episode_date.csv -sp ''' + os.environ['MIMIC_EHR_PIPELINE_BASE'] + '''/data/sepsis_micro_cohort/imputed/labs_avg_episode_date.csv -al miss_forest -c \"Leukocytes in Blood by Manual count\" \"Hematocrit of Blood by Automated count\" \"MCHC by Automated count\" \"MCH by Automated count\" \"Erythrocyte distribution width by Automated count\" \"MCV by Automated count\" \"Erythrocytes in Blood by Automated count\" \"Platelets in Blood by Automated count\" \"Hemoglobin in Blood\" \"Urea nitrogen in Serum or Plasma\" \"Creatinine in Serum or Plasma\" \"Potassium in Serum or Plasma\" \"Chloride in Serum or Plasma\" \"Bicarbonate in Serum or Plasma\" \"Sodium in Serum or Plasma\" \"Anion gap 4 in Serum or Plasma\" \"Glucose in Serum or Plasma\" \"Magnesium in Serum or Plasma\" \"Calcium in Serum or Plasma\" \"Phosphate in Serum or Plasma\" \"Neutrophils in Urine by Automated count\" \"Lymphocytes in Blood by Automated count\" \"Basophils in Blood by Automated count\" \"Eosinophils in Blood by Automated count\" \"Monocytes in Blood by Automated count\" \"Prothrombin time (PT)\" \"INR in Platelet poor plasma by Coagulation assay\" \"aPTT in Blood by Coagulation assay\" \"Specific gravity of Urine by Test strip\" \"pH of Urine by Test strip\" \"Bilirubin.total in Serum or Plasma\" \"Aspartate aminotransferase in Serum or Plasma\" \"Alanine aminotransferase in Serum or Plasma\" \"Alkaline phosphatase in Serum or Plasma\" \"Albumin in Serum or Plasma\"'''\n",
    "    )\n"
   ]
  },
  {
   "cell_type": "markdown",
   "metadata": {},
   "source": [
    "### min"
   ]
  },
  {
   "cell_type": "code",
   "execution_count": 2,
   "metadata": {},
   "outputs": [
    {
     "name": "stdout",
     "output_type": "stream",
     "text": [
      "2023-11-30 09:01:54,271 - EHR-QC - INFO - Parsing command line arguments\n",
      "2023-11-30 09:01:54,273 - EHR-QC - INFO - args.action: impute\n",
      "2023-11-30 09:01:54,273 - EHR-QC - INFO - args.source_path: /home/yram0006/phd/chapter_2/workspace/MIMIC-EHR-Pipeline/data/sepsis_micro_cohort/dropped/labs_min_episode_date.csv\n",
      "2023-11-30 09:01:54,273 - EHR-QC - INFO - args.percentage: None\n",
      "2023-11-30 09:01:54,273 - EHR-QC - INFO - args.save_path: /home/yram0006/phd/chapter_2/workspace/MIMIC-EHR-Pipeline/data/sepsis_micro_cohort/imputed/labs_min_episode_date.csv\n",
      "2023-11-30 09:01:54,273 - EHR-QC - INFO - args.algorithm: miss_forest\n",
      "2023-11-30 09:01:54,273 - EHR-QC - INFO - args.columns: ['Leukocytes in Blood by Manual count', 'Hematocrit of Blood by Automated count', 'MCHC by Automated count', 'MCH by Automated count', 'Erythrocyte distribution width by Automated count', 'MCV by Automated count', 'Erythrocytes in Blood by Automated count', 'Platelets in Blood by Automated count', 'Hemoglobin in Blood', 'Urea nitrogen in Serum or Plasma', 'Creatinine in Serum or Plasma', 'Potassium in Serum or Plasma', 'Chloride in Serum or Plasma', 'Bicarbonate in Serum or Plasma', 'Sodium in Serum or Plasma', 'Anion gap 4 in Serum or Plasma', 'Glucose in Serum or Plasma', 'Magnesium in Serum or Plasma', 'Calcium in Serum or Plasma', 'Phosphate in Serum or Plasma', 'Neutrophils in Urine by Automated count', 'Lymphocytes in Blood by Automated count', 'Basophils in Blood by Automated count', 'Eosinophils in Blood by Automated count', 'Monocytes in Blood by Automated count', 'Prothrombin time (PT)', 'INR in Platelet poor plasma by Coagulation assay', 'aPTT in Blood by Coagulation assay', 'Specific gravity of Urine by Test strip', 'pH of Urine by Test strip', 'Bilirubin.total in Serum or Plasma', 'Aspartate aminotransferase in Serum or Plasma', 'Alanine aminotransferase in Serum or Plasma', 'Alkaline phosphatase in Serum or Plasma', 'Albumin in Serum or Plasma']\n",
      "Iteration: 0\n",
      "Iteration: 1\n",
      "Iteration: 2\n",
      "2023-11-30 09:27:08,354 - EHR-QC - INFO - Done!!\n"
     ]
    },
    {
     "data": {
      "text/plain": [
       "0"
      ]
     },
     "execution_count": 2,
     "metadata": {},
     "output_type": "execute_result"
    }
   ],
   "source": [
    "import os\n",
    "\n",
    "\n",
    "os.system(\n",
    "    'cd ' + os.environ['EHR_QC_PREPROCESS_BASE'] + ';'\n",
    "    +\n",
    "    '''.venv/bin/python -m ehrqc.impute.Impute -ac 'impute' ''' + os.environ['MIMIC_EHR_PIPELINE_BASE'] + '''/data/sepsis_micro_cohort/dropped/labs_min_episode_date.csv -sp ''' + os.environ['MIMIC_EHR_PIPELINE_BASE'] + '''/data/sepsis_micro_cohort/imputed/labs_min_episode_date.csv -al miss_forest -c \"Leukocytes in Blood by Manual count\" \"Hematocrit of Blood by Automated count\" \"MCHC by Automated count\" \"MCH by Automated count\" \"Erythrocyte distribution width by Automated count\" \"MCV by Automated count\" \"Erythrocytes in Blood by Automated count\" \"Platelets in Blood by Automated count\" \"Hemoglobin in Blood\" \"Urea nitrogen in Serum or Plasma\" \"Creatinine in Serum or Plasma\" \"Potassium in Serum or Plasma\" \"Chloride in Serum or Plasma\" \"Bicarbonate in Serum or Plasma\" \"Sodium in Serum or Plasma\" \"Anion gap 4 in Serum or Plasma\" \"Glucose in Serum or Plasma\" \"Magnesium in Serum or Plasma\" \"Calcium in Serum or Plasma\" \"Phosphate in Serum or Plasma\" \"Neutrophils in Urine by Automated count\" \"Lymphocytes in Blood by Automated count\" \"Basophils in Blood by Automated count\" \"Eosinophils in Blood by Automated count\" \"Monocytes in Blood by Automated count\" \"Prothrombin time (PT)\" \"INR in Platelet poor plasma by Coagulation assay\" \"aPTT in Blood by Coagulation assay\" \"Specific gravity of Urine by Test strip\" \"pH of Urine by Test strip\" \"Bilirubin.total in Serum or Plasma\" \"Aspartate aminotransferase in Serum or Plasma\" \"Alanine aminotransferase in Serum or Plasma\" \"Alkaline phosphatase in Serum or Plasma\" \"Albumin in Serum or Plasma\"'''\n",
    "    )\n"
   ]
  },
  {
   "cell_type": "markdown",
   "metadata": {},
   "source": [
    "### max"
   ]
  },
  {
   "cell_type": "code",
   "execution_count": 3,
   "metadata": {},
   "outputs": [
    {
     "name": "stdout",
     "output_type": "stream",
     "text": [
      "2023-11-30 09:27:09,317 - EHR-QC - INFO - Parsing command line arguments\n",
      "2023-11-30 09:27:09,319 - EHR-QC - INFO - args.action: impute\n",
      "2023-11-30 09:27:09,319 - EHR-QC - INFO - args.source_path: /home/yram0006/phd/chapter_2/workspace/MIMIC-EHR-Pipeline/data/sepsis_micro_cohort/dropped/labs_max_episode_date.csv\n",
      "2023-11-30 09:27:09,319 - EHR-QC - INFO - args.percentage: None\n",
      "2023-11-30 09:27:09,319 - EHR-QC - INFO - args.save_path: /home/yram0006/phd/chapter_2/workspace/MIMIC-EHR-Pipeline/data/sepsis_micro_cohort/imputed/labs_max_episode_date.csv\n",
      "2023-11-30 09:27:09,319 - EHR-QC - INFO - args.algorithm: miss_forest\n",
      "2023-11-30 09:27:09,319 - EHR-QC - INFO - args.columns: ['Leukocytes in Blood by Manual count', 'Hematocrit of Blood by Automated count', 'MCHC by Automated count', 'MCH by Automated count', 'Erythrocyte distribution width by Automated count', 'MCV by Automated count', 'Erythrocytes in Blood by Automated count', 'Platelets in Blood by Automated count', 'Hemoglobin in Blood', 'Urea nitrogen in Serum or Plasma', 'Creatinine in Serum or Plasma', 'Potassium in Serum or Plasma', 'Chloride in Serum or Plasma', 'Bicarbonate in Serum or Plasma', 'Sodium in Serum or Plasma', 'Anion gap 4 in Serum or Plasma', 'Glucose in Serum or Plasma', 'Magnesium in Serum or Plasma', 'Calcium in Serum or Plasma', 'Phosphate in Serum or Plasma', 'Neutrophils in Urine by Automated count', 'Lymphocytes in Blood by Automated count', 'Basophils in Blood by Automated count', 'Eosinophils in Blood by Automated count', 'Monocytes in Blood by Automated count', 'Prothrombin time (PT)', 'INR in Platelet poor plasma by Coagulation assay', 'aPTT in Blood by Coagulation assay', 'Specific gravity of Urine by Test strip', 'pH of Urine by Test strip', 'Bilirubin.total in Serum or Plasma', 'Aspartate aminotransferase in Serum or Plasma', 'Alanine aminotransferase in Serum or Plasma', 'Alkaline phosphatase in Serum or Plasma', 'Albumin in Serum or Plasma']\n",
      "Iteration: 0\n",
      "Iteration: 1\n",
      "Iteration: 2\n",
      "2023-11-30 09:52:28,216 - EHR-QC - INFO - Done!!\n"
     ]
    },
    {
     "data": {
      "text/plain": [
       "0"
      ]
     },
     "execution_count": 3,
     "metadata": {},
     "output_type": "execute_result"
    }
   ],
   "source": [
    "import os\n",
    "\n",
    "\n",
    "os.system(\n",
    "    'cd ' + os.environ['EHR_QC_PREPROCESS_BASE'] + ';'\n",
    "    +\n",
    "    '''.venv/bin/python -m ehrqc.impute.Impute -ac 'impute' ''' + os.environ['MIMIC_EHR_PIPELINE_BASE'] + '''/data/sepsis_micro_cohort/dropped/labs_max_episode_date.csv -sp ''' + os.environ['MIMIC_EHR_PIPELINE_BASE'] + '''/data/sepsis_micro_cohort/imputed/labs_max_episode_date.csv -al miss_forest -c \"Leukocytes in Blood by Manual count\" \"Hematocrit of Blood by Automated count\" \"MCHC by Automated count\" \"MCH by Automated count\" \"Erythrocyte distribution width by Automated count\" \"MCV by Automated count\" \"Erythrocytes in Blood by Automated count\" \"Platelets in Blood by Automated count\" \"Hemoglobin in Blood\" \"Urea nitrogen in Serum or Plasma\" \"Creatinine in Serum or Plasma\" \"Potassium in Serum or Plasma\" \"Chloride in Serum or Plasma\" \"Bicarbonate in Serum or Plasma\" \"Sodium in Serum or Plasma\" \"Anion gap 4 in Serum or Plasma\" \"Glucose in Serum or Plasma\" \"Magnesium in Serum or Plasma\" \"Calcium in Serum or Plasma\" \"Phosphate in Serum or Plasma\" \"Neutrophils in Urine by Automated count\" \"Lymphocytes in Blood by Automated count\" \"Basophils in Blood by Automated count\" \"Eosinophils in Blood by Automated count\" \"Monocytes in Blood by Automated count\" \"Prothrombin time (PT)\" \"INR in Platelet poor plasma by Coagulation assay\" \"aPTT in Blood by Coagulation assay\" \"Specific gravity of Urine by Test strip\" \"pH of Urine by Test strip\" \"Bilirubin.total in Serum or Plasma\" \"Aspartate aminotransferase in Serum or Plasma\" \"Alanine aminotransferase in Serum or Plasma\" \"Alkaline phosphatase in Serum or Plasma\" \"Albumin in Serum or Plasma\"'''\n",
    "    )\n"
   ]
  },
  {
   "cell_type": "markdown",
   "metadata": {},
   "source": [
    "### first"
   ]
  },
  {
   "cell_type": "code",
   "execution_count": 4,
   "metadata": {},
   "outputs": [
    {
     "name": "stdout",
     "output_type": "stream",
     "text": [
      "2023-11-30 09:52:29,192 - EHR-QC - INFO - Parsing command line arguments\n",
      "2023-11-30 09:52:29,193 - EHR-QC - INFO - args.action: impute\n",
      "2023-11-30 09:52:29,194 - EHR-QC - INFO - args.source_path: /home/yram0006/phd/chapter_2/workspace/MIMIC-EHR-Pipeline/data/sepsis_micro_cohort/dropped/labs_first_episode_date.csv\n",
      "2023-11-30 09:52:29,194 - EHR-QC - INFO - args.percentage: None\n",
      "2023-11-30 09:52:29,194 - EHR-QC - INFO - args.save_path: /home/yram0006/phd/chapter_2/workspace/MIMIC-EHR-Pipeline/data/sepsis_micro_cohort/imputed/labs_first_episode_date.csv\n",
      "2023-11-30 09:52:29,194 - EHR-QC - INFO - args.algorithm: miss_forest\n",
      "2023-11-30 09:52:29,194 - EHR-QC - INFO - args.columns: ['Leukocytes in Blood by Manual count', 'Hematocrit of Blood by Automated count', 'MCHC by Automated count', 'MCH by Automated count', 'Erythrocyte distribution width by Automated count', 'MCV by Automated count', 'Erythrocytes in Blood by Automated count', 'Platelets in Blood by Automated count', 'Hemoglobin in Blood', 'Urea nitrogen in Serum or Plasma', 'Creatinine in Serum or Plasma', 'Potassium in Serum or Plasma', 'Chloride in Serum or Plasma', 'Bicarbonate in Serum or Plasma', 'Sodium in Serum or Plasma', 'Anion gap 4 in Serum or Plasma', 'Glucose in Serum or Plasma', 'Magnesium in Serum or Plasma', 'Calcium in Serum or Plasma', 'Phosphate in Serum or Plasma', 'Neutrophils in Urine by Automated count', 'Lymphocytes in Blood by Automated count', 'Basophils in Blood by Automated count', 'Eosinophils in Blood by Automated count', 'Monocytes in Blood by Automated count', 'Prothrombin time (PT)', 'INR in Platelet poor plasma by Coagulation assay', 'aPTT in Blood by Coagulation assay', 'Specific gravity of Urine by Test strip', 'pH of Urine by Test strip', 'Bilirubin.total in Serum or Plasma', 'Aspartate aminotransferase in Serum or Plasma', 'Alanine aminotransferase in Serum or Plasma', 'Alkaline phosphatase in Serum or Plasma', 'Albumin in Serum or Plasma']\n",
      "Iteration: 0\n",
      "Iteration: 1\n",
      "Iteration: 2\n",
      "2023-11-30 10:15:52,088 - EHR-QC - INFO - Done!!\n"
     ]
    },
    {
     "data": {
      "text/plain": [
       "0"
      ]
     },
     "execution_count": 4,
     "metadata": {},
     "output_type": "execute_result"
    }
   ],
   "source": [
    "import os\n",
    "\n",
    "\n",
    "os.system(\n",
    "    'cd ' + os.environ['EHR_QC_PREPROCESS_BASE'] + ';'\n",
    "    +\n",
    "    '''.venv/bin/python -m ehrqc.impute.Impute -ac 'impute' ''' + os.environ['MIMIC_EHR_PIPELINE_BASE'] + '''/data/sepsis_micro_cohort/dropped/labs_first_episode_date.csv -sp ''' + os.environ['MIMIC_EHR_PIPELINE_BASE'] + '''/data/sepsis_micro_cohort/imputed/labs_first_episode_date.csv -al miss_forest -c \"Leukocytes in Blood by Manual count\" \"Hematocrit of Blood by Automated count\" \"MCHC by Automated count\" \"MCH by Automated count\" \"Erythrocyte distribution width by Automated count\" \"MCV by Automated count\" \"Erythrocytes in Blood by Automated count\" \"Platelets in Blood by Automated count\" \"Hemoglobin in Blood\" \"Urea nitrogen in Serum or Plasma\" \"Creatinine in Serum or Plasma\" \"Potassium in Serum or Plasma\" \"Chloride in Serum or Plasma\" \"Bicarbonate in Serum or Plasma\" \"Sodium in Serum or Plasma\" \"Anion gap 4 in Serum or Plasma\" \"Glucose in Serum or Plasma\" \"Magnesium in Serum or Plasma\" \"Calcium in Serum or Plasma\" \"Phosphate in Serum or Plasma\" \"Neutrophils in Urine by Automated count\" \"Lymphocytes in Blood by Automated count\" \"Basophils in Blood by Automated count\" \"Eosinophils in Blood by Automated count\" \"Monocytes in Blood by Automated count\" \"Prothrombin time (PT)\" \"INR in Platelet poor plasma by Coagulation assay\" \"aPTT in Blood by Coagulation assay\" \"Specific gravity of Urine by Test strip\" \"pH of Urine by Test strip\" \"Bilirubin.total in Serum or Plasma\" \"Aspartate aminotransferase in Serum or Plasma\" \"Alanine aminotransferase in Serum or Plasma\" \"Alkaline phosphatase in Serum or Plasma\" \"Albumin in Serum or Plasma\"'''\n",
    "    )\n"
   ]
  },
  {
   "cell_type": "markdown",
   "metadata": {},
   "source": [
    "### last"
   ]
  },
  {
   "cell_type": "code",
   "execution_count": 5,
   "metadata": {},
   "outputs": [
    {
     "name": "stdout",
     "output_type": "stream",
     "text": [
      "2023-11-30 10:15:53,079 - EHR-QC - INFO - Parsing command line arguments\n",
      "2023-11-30 10:15:53,081 - EHR-QC - INFO - args.action: impute\n",
      "2023-11-30 10:15:53,081 - EHR-QC - INFO - args.source_path: /home/yram0006/phd/chapter_2/workspace/MIMIC-EHR-Pipeline/data/sepsis_micro_cohort/dropped/labs_last_episode_date.csv\n",
      "2023-11-30 10:15:53,081 - EHR-QC - INFO - args.percentage: None\n",
      "2023-11-30 10:15:53,081 - EHR-QC - INFO - args.save_path: /home/yram0006/phd/chapter_2/workspace/MIMIC-EHR-Pipeline/data/sepsis_micro_cohort/imputed/labs_last_episode_date.csv\n",
      "2023-11-30 10:15:53,081 - EHR-QC - INFO - args.algorithm: miss_forest\n",
      "2023-11-30 10:15:53,081 - EHR-QC - INFO - args.columns: ['Leukocytes in Blood by Manual count', 'Hematocrit of Blood by Automated count', 'MCHC by Automated count', 'MCH by Automated count', 'Erythrocyte distribution width by Automated count', 'MCV by Automated count', 'Erythrocytes in Blood by Automated count', 'Platelets in Blood by Automated count', 'Hemoglobin in Blood', 'Urea nitrogen in Serum or Plasma', 'Creatinine in Serum or Plasma', 'Potassium in Serum or Plasma', 'Chloride in Serum or Plasma', 'Bicarbonate in Serum or Plasma', 'Sodium in Serum or Plasma', 'Anion gap 4 in Serum or Plasma', 'Glucose in Serum or Plasma', 'Magnesium in Serum or Plasma', 'Calcium in Serum or Plasma', 'Phosphate in Serum or Plasma', 'Neutrophils in Urine by Automated count', 'Lymphocytes in Blood by Automated count', 'Basophils in Blood by Automated count', 'Eosinophils in Blood by Automated count', 'Monocytes in Blood by Automated count', 'Prothrombin time (PT)', 'INR in Platelet poor plasma by Coagulation assay', 'aPTT in Blood by Coagulation assay', 'Specific gravity of Urine by Test strip', 'pH of Urine by Test strip', 'Bilirubin.total in Serum or Plasma', 'Aspartate aminotransferase in Serum or Plasma', 'Alanine aminotransferase in Serum or Plasma', 'Alkaline phosphatase in Serum or Plasma', 'Albumin in Serum or Plasma']\n",
      "Iteration: 0\n",
      "Iteration: 1\n",
      "Iteration: 2\n",
      "2023-11-30 10:39:31,607 - EHR-QC - INFO - Done!!\n"
     ]
    },
    {
     "data": {
      "text/plain": [
       "0"
      ]
     },
     "execution_count": 5,
     "metadata": {},
     "output_type": "execute_result"
    }
   ],
   "source": [
    "import os\n",
    "\n",
    "\n",
    "os.system(\n",
    "    'cd ' + os.environ['EHR_QC_PREPROCESS_BASE'] + ';'\n",
    "    +\n",
    "    '''.venv/bin/python -m ehrqc.impute.Impute -ac 'impute' ''' + os.environ['MIMIC_EHR_PIPELINE_BASE'] + '''/data/sepsis_micro_cohort/dropped/labs_last_episode_date.csv -sp ''' + os.environ['MIMIC_EHR_PIPELINE_BASE'] + '''/data/sepsis_micro_cohort/imputed/labs_last_episode_date.csv -al miss_forest -c \"Leukocytes in Blood by Manual count\" \"Hematocrit of Blood by Automated count\" \"MCHC by Automated count\" \"MCH by Automated count\" \"Erythrocyte distribution width by Automated count\" \"MCV by Automated count\" \"Erythrocytes in Blood by Automated count\" \"Platelets in Blood by Automated count\" \"Hemoglobin in Blood\" \"Urea nitrogen in Serum or Plasma\" \"Creatinine in Serum or Plasma\" \"Potassium in Serum or Plasma\" \"Chloride in Serum or Plasma\" \"Bicarbonate in Serum or Plasma\" \"Sodium in Serum or Plasma\" \"Anion gap 4 in Serum or Plasma\" \"Glucose in Serum or Plasma\" \"Magnesium in Serum or Plasma\" \"Calcium in Serum or Plasma\" \"Phosphate in Serum or Plasma\" \"Neutrophils in Urine by Automated count\" \"Lymphocytes in Blood by Automated count\" \"Basophils in Blood by Automated count\" \"Eosinophils in Blood by Automated count\" \"Monocytes in Blood by Automated count\" \"Prothrombin time (PT)\" \"INR in Platelet poor plasma by Coagulation assay\" \"aPTT in Blood by Coagulation assay\" \"Specific gravity of Urine by Test strip\" \"pH of Urine by Test strip\" \"Bilirubin.total in Serum or Plasma\" \"Aspartate aminotransferase in Serum or Plasma\" \"Alanine aminotransferase in Serum or Plasma\" \"Alkaline phosphatase in Serum or Plasma\" \"Albumin in Serum or Plasma\"'''\n",
    "    )\n"
   ]
  },
  {
   "cell_type": "markdown",
   "metadata": {},
   "source": [
    "## Vitals"
   ]
  },
  {
   "cell_type": "markdown",
   "metadata": {},
   "source": [
    "### avg"
   ]
  },
  {
   "cell_type": "code",
   "execution_count": 6,
   "metadata": {},
   "outputs": [
    {
     "name": "stdout",
     "output_type": "stream",
     "text": [
      "2023-11-30 10:39:32,548 - EHR-QC - INFO - Parsing command line arguments\n",
      "2023-11-30 10:39:32,549 - EHR-QC - INFO - args.action: impute\n",
      "2023-11-30 10:39:32,549 - EHR-QC - INFO - args.source_path: /home/yram0006/phd/chapter_2/workspace/MIMIC-EHR-Pipeline/data/sepsis_micro_cohort/dropped/vitals_avg_episode_date.csv\n",
      "2023-11-30 10:39:32,549 - EHR-QC - INFO - args.percentage: None\n",
      "2023-11-30 10:39:32,549 - EHR-QC - INFO - args.save_path: /home/yram0006/phd/chapter_2/workspace/MIMIC-EHR-Pipeline/data/sepsis_micro_cohort/imputed/vitals_avg_episode_date.csv\n",
      "2023-11-30 10:39:32,549 - EHR-QC - INFO - args.algorithm: miss_forest\n",
      "2023-11-30 10:39:32,550 - EHR-QC - INFO - args.columns: ['Respiratory rate', 'Heart rate', 'Body weight', 'Oxygen saturation in Arterial blood by Pulse oximetry', 'Glasgow coma score eye opening', 'Glasgow coma score verbal', 'Glasgow coma score motor', 'Physical mobility Braden scale', 'Nutrition intake pattern Braden scale', 'Sensory perception Braden scale', 'Physical activity Braden scale', 'Moisture exposure Braden scale', 'Friction and shear Braden scale', 'Mean blood pressure', 'Systolic blood pressure', 'Diastolic blood pressure', 'Body temperature']\n",
      "Iteration: 0\n",
      "Iteration: 1\n",
      "Iteration: 2\n",
      "Iteration: 3\n",
      "Iteration: 4\n",
      "2023-11-30 10:43:23,965 - EHR-QC - INFO - Done!!\n"
     ]
    },
    {
     "data": {
      "text/plain": [
       "0"
      ]
     },
     "execution_count": 6,
     "metadata": {},
     "output_type": "execute_result"
    }
   ],
   "source": [
    "import os\n",
    "\n",
    "\n",
    "os.system(\n",
    "    'cd ' + os.environ['EHR_QC_PREPROCESS_BASE'] + ';'\n",
    "    +\n",
    "    '''.venv/bin/python -m ehrqc.impute.Impute -ac 'impute' ''' + os.environ['MIMIC_EHR_PIPELINE_BASE'] + '''/data/sepsis_micro_cohort/dropped/vitals_avg_episode_date.csv -sp ''' + os.environ['MIMIC_EHR_PIPELINE_BASE'] + '''/data/sepsis_micro_cohort/imputed/vitals_avg_episode_date.csv -al miss_forest -c \"Respiratory rate\" \"Heart rate\" \"Body weight\" \"Oxygen saturation in Arterial blood by Pulse oximetry\" \"Glasgow coma score eye opening\" \"Glasgow coma score verbal\" \"Glasgow coma score motor\" \"Physical mobility Braden scale\" \"Nutrition intake pattern Braden scale\" \"Sensory perception Braden scale\" \"Physical activity Braden scale\" \"Moisture exposure Braden scale\" \"Friction and shear Braden scale\" \"Mean blood pressure\" \"Systolic blood pressure\" \"Diastolic blood pressure\" \"Body temperature\"'''\n",
    "    )\n"
   ]
  },
  {
   "cell_type": "markdown",
   "metadata": {},
   "source": [
    "### min"
   ]
  },
  {
   "cell_type": "code",
   "execution_count": 7,
   "metadata": {},
   "outputs": [
    {
     "name": "stdout",
     "output_type": "stream",
     "text": [
      "2023-11-30 10:43:24,907 - EHR-QC - INFO - Parsing command line arguments\n",
      "2023-11-30 10:43:24,909 - EHR-QC - INFO - args.action: impute\n",
      "2023-11-30 10:43:24,909 - EHR-QC - INFO - args.source_path: /home/yram0006/phd/chapter_2/workspace/MIMIC-EHR-Pipeline/data/sepsis_micro_cohort/dropped/vitals_min_episode_date.csv\n",
      "2023-11-30 10:43:24,909 - EHR-QC - INFO - args.percentage: None\n",
      "2023-11-30 10:43:24,909 - EHR-QC - INFO - args.save_path: /home/yram0006/phd/chapter_2/workspace/MIMIC-EHR-Pipeline/data/sepsis_micro_cohort/imputed/vitals_min_episode_date.csv\n",
      "2023-11-30 10:43:24,909 - EHR-QC - INFO - args.algorithm: miss_forest\n",
      "2023-11-30 10:43:24,909 - EHR-QC - INFO - args.columns: ['Respiratory rate', 'Heart rate', 'Body weight', 'Oxygen saturation in Arterial blood by Pulse oximetry', 'Glasgow coma score eye opening', 'Glasgow coma score verbal', 'Glasgow coma score motor', 'Physical mobility Braden scale', 'Nutrition intake pattern Braden scale', 'Sensory perception Braden scale', 'Physical activity Braden scale', 'Moisture exposure Braden scale', 'Friction and shear Braden scale', 'Mean blood pressure', 'Systolic blood pressure', 'Diastolic blood pressure', 'Body temperature']\n",
      "Iteration: 0\n",
      "Iteration: 1\n",
      "Iteration: 2\n",
      "Iteration: 3\n",
      "2023-11-30 10:46:29,902 - EHR-QC - INFO - Done!!\n"
     ]
    },
    {
     "data": {
      "text/plain": [
       "0"
      ]
     },
     "execution_count": 7,
     "metadata": {},
     "output_type": "execute_result"
    }
   ],
   "source": [
    "import os\n",
    "\n",
    "\n",
    "os.system(\n",
    "    'cd ' + os.environ['EHR_QC_PREPROCESS_BASE'] + ';'\n",
    "    +\n",
    "    '''.venv/bin/python -m ehrqc.impute.Impute -ac 'impute' ''' + os.environ['MIMIC_EHR_PIPELINE_BASE'] + '''/data/sepsis_micro_cohort/dropped/vitals_min_episode_date.csv -sp ''' + os.environ['MIMIC_EHR_PIPELINE_BASE'] + '''/data/sepsis_micro_cohort/imputed/vitals_min_episode_date.csv -al miss_forest -c \"Respiratory rate\" \"Heart rate\" \"Body weight\" \"Oxygen saturation in Arterial blood by Pulse oximetry\" \"Glasgow coma score eye opening\" \"Glasgow coma score verbal\" \"Glasgow coma score motor\" \"Physical mobility Braden scale\" \"Nutrition intake pattern Braden scale\" \"Sensory perception Braden scale\" \"Physical activity Braden scale\" \"Moisture exposure Braden scale\" \"Friction and shear Braden scale\" \"Mean blood pressure\" \"Systolic blood pressure\" \"Diastolic blood pressure\" \"Body temperature\"'''\n",
    "    )\n"
   ]
  },
  {
   "cell_type": "markdown",
   "metadata": {},
   "source": [
    "### max"
   ]
  },
  {
   "cell_type": "code",
   "execution_count": 8,
   "metadata": {},
   "outputs": [
    {
     "name": "stdout",
     "output_type": "stream",
     "text": [
      "2023-11-30 10:46:30,835 - EHR-QC - INFO - Parsing command line arguments\n",
      "2023-11-30 10:46:30,836 - EHR-QC - INFO - args.action: impute\n",
      "2023-11-30 10:46:30,836 - EHR-QC - INFO - args.source_path: /home/yram0006/phd/chapter_2/workspace/MIMIC-EHR-Pipeline/data/sepsis_micro_cohort/dropped/vitals_max_episode_date.csv\n",
      "2023-11-30 10:46:30,836 - EHR-QC - INFO - args.percentage: None\n",
      "2023-11-30 10:46:30,836 - EHR-QC - INFO - args.save_path: /home/yram0006/phd/chapter_2/workspace/MIMIC-EHR-Pipeline/data/sepsis_micro_cohort/imputed/vitals_max_episode_date.csv\n",
      "2023-11-30 10:46:30,836 - EHR-QC - INFO - args.algorithm: miss_forest\n",
      "2023-11-30 10:46:30,836 - EHR-QC - INFO - args.columns: ['Respiratory rate', 'Heart rate', 'Body weight', 'Oxygen saturation in Arterial blood by Pulse oximetry', 'Glasgow coma score eye opening', 'Glasgow coma score verbal', 'Glasgow coma score motor', 'Physical mobility Braden scale', 'Nutrition intake pattern Braden scale', 'Sensory perception Braden scale', 'Physical activity Braden scale', 'Moisture exposure Braden scale', 'Friction and shear Braden scale', 'Mean blood pressure', 'Systolic blood pressure', 'Diastolic blood pressure', 'Body temperature']\n",
      "Iteration: 0\n",
      "Iteration: 1\n",
      "Iteration: 2\n",
      "Iteration: 3\n",
      "2023-11-30 10:49:36,543 - EHR-QC - INFO - Done!!\n"
     ]
    },
    {
     "data": {
      "text/plain": [
       "0"
      ]
     },
     "execution_count": 8,
     "metadata": {},
     "output_type": "execute_result"
    }
   ],
   "source": [
    "import os\n",
    "\n",
    "\n",
    "os.system(\n",
    "    'cd ' + os.environ['EHR_QC_PREPROCESS_BASE'] + ';'\n",
    "    +\n",
    "    '''.venv/bin/python -m ehrqc.impute.Impute -ac 'impute' ''' + os.environ['MIMIC_EHR_PIPELINE_BASE'] + '''/data/sepsis_micro_cohort/dropped/vitals_max_episode_date.csv -sp ''' + os.environ['MIMIC_EHR_PIPELINE_BASE'] + '''/data/sepsis_micro_cohort/imputed/vitals_max_episode_date.csv -al miss_forest -c \"Respiratory rate\" \"Heart rate\" \"Body weight\" \"Oxygen saturation in Arterial blood by Pulse oximetry\" \"Glasgow coma score eye opening\" \"Glasgow coma score verbal\" \"Glasgow coma score motor\" \"Physical mobility Braden scale\" \"Nutrition intake pattern Braden scale\" \"Sensory perception Braden scale\" \"Physical activity Braden scale\" \"Moisture exposure Braden scale\" \"Friction and shear Braden scale\" \"Mean blood pressure\" \"Systolic blood pressure\" \"Diastolic blood pressure\" \"Body temperature\"'''\n",
    "    )\n"
   ]
  },
  {
   "cell_type": "markdown",
   "metadata": {},
   "source": [
    "### first"
   ]
  },
  {
   "cell_type": "code",
   "execution_count": 9,
   "metadata": {},
   "outputs": [
    {
     "name": "stdout",
     "output_type": "stream",
     "text": [
      "2023-11-30 10:49:37,463 - EHR-QC - INFO - Parsing command line arguments\n",
      "2023-11-30 10:49:37,464 - EHR-QC - INFO - args.action: impute\n",
      "2023-11-30 10:49:37,465 - EHR-QC - INFO - args.source_path: /home/yram0006/phd/chapter_2/workspace/MIMIC-EHR-Pipeline/data/sepsis_micro_cohort/dropped/vitals_first_episode_date.csv\n",
      "2023-11-30 10:49:37,465 - EHR-QC - INFO - args.percentage: None\n",
      "2023-11-30 10:49:37,465 - EHR-QC - INFO - args.save_path: /home/yram0006/phd/chapter_2/workspace/MIMIC-EHR-Pipeline/data/sepsis_micro_cohort/imputed/vitals_first_episode_date.csv\n",
      "2023-11-30 10:49:37,465 - EHR-QC - INFO - args.algorithm: miss_forest\n",
      "2023-11-30 10:49:37,465 - EHR-QC - INFO - args.columns: ['Respiratory rate', 'Heart rate', 'Body weight', 'Oxygen saturation in Arterial blood by Pulse oximetry', 'Glasgow coma score eye opening', 'Glasgow coma score verbal', 'Glasgow coma score motor', 'Physical mobility Braden scale', 'Nutrition intake pattern Braden scale', 'Sensory perception Braden scale', 'Physical activity Braden scale', 'Moisture exposure Braden scale', 'Friction and shear Braden scale', 'Mean blood pressure', 'Systolic blood pressure', 'Diastolic blood pressure', 'Body temperature']\n",
      "Iteration: 0\n",
      "Iteration: 1\n",
      "Iteration: 2\n",
      "Iteration: 3\n",
      "Iteration: 4\n",
      "Iteration: 5\n",
      "2023-11-30 10:52:25,652 - EHR-QC - INFO - Done!!\n"
     ]
    },
    {
     "data": {
      "text/plain": [
       "0"
      ]
     },
     "execution_count": 9,
     "metadata": {},
     "output_type": "execute_result"
    }
   ],
   "source": [
    "import os\n",
    "\n",
    "\n",
    "os.system(\n",
    "    'cd ' + os.environ['EHR_QC_PREPROCESS_BASE'] + ';'\n",
    "    +\n",
    "    '''.venv/bin/python -m ehrqc.impute.Impute -ac 'impute' ''' + os.environ['MIMIC_EHR_PIPELINE_BASE'] + '''/data/sepsis_micro_cohort/dropped/vitals_first_episode_date.csv -sp ''' + os.environ['MIMIC_EHR_PIPELINE_BASE'] + '''/data/sepsis_micro_cohort/imputed/vitals_first_episode_date.csv -al miss_forest -c \"Respiratory rate\" \"Heart rate\" \"Body weight\" \"Oxygen saturation in Arterial blood by Pulse oximetry\" \"Glasgow coma score eye opening\" \"Glasgow coma score verbal\" \"Glasgow coma score motor\" \"Physical mobility Braden scale\" \"Nutrition intake pattern Braden scale\" \"Sensory perception Braden scale\" \"Physical activity Braden scale\" \"Moisture exposure Braden scale\" \"Friction and shear Braden scale\" \"Mean blood pressure\" \"Systolic blood pressure\" \"Diastolic blood pressure\" \"Body temperature\"'''\n",
    "    )\n"
   ]
  },
  {
   "cell_type": "markdown",
   "metadata": {},
   "source": [
    "### last"
   ]
  },
  {
   "cell_type": "code",
   "execution_count": 10,
   "metadata": {},
   "outputs": [
    {
     "name": "stdout",
     "output_type": "stream",
     "text": [
      "2023-11-30 10:52:26,542 - EHR-QC - INFO - Parsing command line arguments\n",
      "2023-11-30 10:52:26,543 - EHR-QC - INFO - args.action: impute\n",
      "2023-11-30 10:52:26,543 - EHR-QC - INFO - args.source_path: /home/yram0006/phd/chapter_2/workspace/MIMIC-EHR-Pipeline/data/sepsis_micro_cohort/dropped/vitals_last_episode_date.csv\n",
      "2023-11-30 10:52:26,543 - EHR-QC - INFO - args.percentage: None\n",
      "2023-11-30 10:52:26,544 - EHR-QC - INFO - args.save_path: /home/yram0006/phd/chapter_2/workspace/MIMIC-EHR-Pipeline/data/sepsis_micro_cohort/imputed/vitals_last_episode_date.csv\n",
      "2023-11-30 10:52:26,544 - EHR-QC - INFO - args.algorithm: miss_forest\n",
      "2023-11-30 10:52:26,544 - EHR-QC - INFO - args.columns: ['Respiratory rate', 'Heart rate', 'Body weight', 'Oxygen saturation in Arterial blood by Pulse oximetry', 'Glasgow coma score eye opening', 'Glasgow coma score verbal', 'Glasgow coma score motor', 'Physical mobility Braden scale', 'Nutrition intake pattern Braden scale', 'Sensory perception Braden scale', 'Physical activity Braden scale', 'Moisture exposure Braden scale', 'Friction and shear Braden scale', 'Mean blood pressure', 'Systolic blood pressure', 'Diastolic blood pressure', 'Body temperature']\n",
      "Iteration: 0\n",
      "Iteration: 1\n",
      "Iteration: 2\n",
      "Iteration: 3\n",
      "2023-11-30 10:54:17,077 - EHR-QC - INFO - Done!!\n"
     ]
    },
    {
     "data": {
      "text/plain": [
       "0"
      ]
     },
     "execution_count": 10,
     "metadata": {},
     "output_type": "execute_result"
    }
   ],
   "source": [
    "import os\n",
    "\n",
    "\n",
    "os.system(\n",
    "    'cd ' + os.environ['EHR_QC_PREPROCESS_BASE'] + ';'\n",
    "    +\n",
    "    '''.venv/bin/python -m ehrqc.impute.Impute -ac 'impute' ''' + os.environ['MIMIC_EHR_PIPELINE_BASE'] + '''/data/sepsis_micro_cohort/dropped/vitals_last_episode_date.csv -sp ''' + os.environ['MIMIC_EHR_PIPELINE_BASE'] + '''/data/sepsis_micro_cohort/imputed/vitals_last_episode_date.csv -al miss_forest -c \"Respiratory rate\" \"Heart rate\" \"Body weight\" \"Oxygen saturation in Arterial blood by Pulse oximetry\" \"Glasgow coma score eye opening\" \"Glasgow coma score verbal\" \"Glasgow coma score motor\" \"Physical mobility Braden scale\" \"Nutrition intake pattern Braden scale\" \"Sensory perception Braden scale\" \"Physical activity Braden scale\" \"Moisture exposure Braden scale\" \"Friction and shear Braden scale\" \"Mean blood pressure\" \"Systolic blood pressure\" \"Diastolic blood pressure\" \"Body temperature\"'''\n",
    "    )\n"
   ]
  }
 ],
 "metadata": {
  "kernelspec": {
   "display_name": ".venv",
   "language": "python",
   "name": "python3"
  },
  "language_info": {
   "codemirror_mode": {
    "name": "ipython",
    "version": 3
   },
   "file_extension": ".py",
   "mimetype": "text/x-python",
   "name": "python",
   "nbconvert_exporter": "python",
   "pygments_lexer": "ipython3",
   "version": "3.8.10"
  }
 },
 "nbformat": 4,
 "nbformat_minor": 2
}
