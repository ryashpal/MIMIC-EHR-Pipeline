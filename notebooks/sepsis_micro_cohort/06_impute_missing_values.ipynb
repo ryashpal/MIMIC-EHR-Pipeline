{
 "cells": [
  {
   "cell_type": "markdown",
   "metadata": {},
   "source": [
    "# Impute Missing Values"
   ]
  },
  {
   "cell_type": "markdown",
   "metadata": {},
   "source": [
    "## Labs"
   ]
  },
  {
   "cell_type": "markdown",
   "metadata": {},
   "source": [
    "### avg"
   ]
  },
  {
   "cell_type": "code",
   "execution_count": 11,
   "metadata": {},
   "outputs": [
    {
     "name": "stdout",
     "output_type": "stream",
     "text": [
      "2023-11-29 05:46:47,989 - EHR-QC - INFO - Parsing command line arguments\n",
      "2023-11-29 05:46:47,990 - EHR-QC - INFO - args.action: impute\n",
      "2023-11-29 05:46:47,990 - EHR-QC - INFO - args.source_path: /home/yram0006/phd/chapter_2/workspace/MIMIC-EHR-Pipeline/data/sepsis_icd_cohort/dropped/labs_avg_episode_date.csv\n",
      "2023-11-29 05:46:47,990 - EHR-QC - INFO - args.percentage: None\n",
      "2023-11-29 05:46:47,990 - EHR-QC - INFO - args.save_path: /home/yram0006/phd/chapter_2/workspace/MIMIC-EHR-Pipeline/data/sepsis_icd_cohort/imputed/labs_avg_episode_date.csv\n",
      "2023-11-29 05:46:47,990 - EHR-QC - INFO - args.algorithm: miss_forest\n",
      "2023-11-29 05:46:47,990 - EHR-QC - INFO - args.columns: ['Leukocytes in Blood by Manual count', 'Hematocrit of Blood by Automated count', 'MCHC by Automated count', 'MCH by Automated count', 'Erythrocyte distribution width by Automated count', 'MCV by Automated count', 'Erythrocytes in Blood by Automated count', 'Platelets in Blood by Automated count', 'Hemoglobin in Blood', 'Urea nitrogen in Serum or Plasma', 'Creatinine in Serum or Plasma', 'Potassium in Serum or Plasma', 'Chloride in Serum or Plasma', 'Bicarbonate in Serum or Plasma', 'Sodium in Serum or Plasma', 'Anion gap 4 in Serum or Plasma', 'Glucose in Serum or Plasma', 'Magnesium in Serum or Plasma', 'Calcium in Serum or Plasma', 'Phosphate in Serum or Plasma', 'Neutrophils in Urine by Automated count', 'Lymphocytes in Blood by Automated count', 'Basophils in Blood by Automated count', 'Eosinophils in Blood by Automated count', 'Monocytes in Blood by Automated count', 'Prothrombin time (PT)', 'INR in Platelet poor plasma by Coagulation assay', 'aPTT in Blood by Coagulation assay', 'Specific gravity of Urine by Test strip', 'pH of Urine by Test strip', 'Bilirubin.total in Serum or Plasma', 'Aspartate aminotransferase in Serum or Plasma', 'Alanine aminotransferase in Serum or Plasma', 'Alkaline phosphatase in Serum or Plasma', 'Albumin in Serum or Plasma']\n",
      "Iteration: 0\n",
      "Iteration: 1\n",
      "Iteration: 2\n",
      "2023-11-29 06:22:24,510 - EHR-QC - INFO - Done!!\n"
     ]
    },
    {
     "data": {
      "text/plain": [
       "0"
      ]
     },
     "execution_count": 11,
     "metadata": {},
     "output_type": "execute_result"
    }
   ],
   "source": [
    "import os\n",
    "\n",
    "\n",
    "os.system(\n",
    "    'cd ' + os.environ['EHR_QC_PREPROCESS_BASE'] + ';'\n",
    "    +\n",
    "    '''.venv/bin/python -m ehrqc.impute.Impute -ac 'impute' ''' + os.environ['MIMIC_EHR_PIPELINE_BASE'] + '''/data/sepsis_micro_cohort/dropped/labs_avg_episode_date.csv -sp ''' + os.environ['MIMIC_EHR_PIPELINE_BASE'] + '''/data/sepsis_micro_cohort/imputed/labs_avg_episode_date.csv -al miss_forest -c \"Leukocytes in Blood by Manual count\" \"Hematocrit of Blood by Automated count\" \"MCHC by Automated count\" \"MCH by Automated count\" \"Erythrocyte distribution width by Automated count\" \"MCV by Automated count\" \"Erythrocytes in Blood by Automated count\" \"Platelets in Blood by Automated count\" \"Hemoglobin in Blood\" \"Urea nitrogen in Serum or Plasma\" \"Creatinine in Serum or Plasma\" \"Potassium in Serum or Plasma\" \"Chloride in Serum or Plasma\" \"Bicarbonate in Serum or Plasma\" \"Sodium in Serum or Plasma\" \"Anion gap 4 in Serum or Plasma\" \"Glucose in Serum or Plasma\" \"Magnesium in Serum or Plasma\" \"Calcium in Serum or Plasma\" \"Phosphate in Serum or Plasma\" \"Neutrophils in Urine by Automated count\" \"Lymphocytes in Blood by Automated count\" \"Basophils in Blood by Automated count\" \"Eosinophils in Blood by Automated count\" \"Monocytes in Blood by Automated count\" \"Prothrombin time (PT)\" \"INR in Platelet poor plasma by Coagulation assay\" \"aPTT in Blood by Coagulation assay\" \"Specific gravity of Urine by Test strip\" \"pH of Urine by Test strip\" \"Bilirubin.total in Serum or Plasma\" \"Aspartate aminotransferase in Serum or Plasma\" \"Alanine aminotransferase in Serum or Plasma\" \"Alkaline phosphatase in Serum or Plasma\" \"Albumin in Serum or Plasma\"'''\n",
    "    )\n"
   ]
  },
  {
   "cell_type": "markdown",
   "metadata": {},
   "source": [
    "### min"
   ]
  },
  {
   "cell_type": "code",
   "execution_count": 12,
   "metadata": {},
   "outputs": [
    {
     "name": "stdout",
     "output_type": "stream",
     "text": [
      "2023-11-29 07:27:58,371 - EHR-QC - INFO - Parsing command line arguments\n",
      "2023-11-29 07:27:58,373 - EHR-QC - INFO - args.action: impute\n",
      "2023-11-29 07:27:58,373 - EHR-QC - INFO - args.source_path: /home/yram0006/phd/chapter_2/workspace/MIMIC-EHR-Pipeline/data/sepsis_icd_cohort/dropped/labs_min_episode_date.csv\n",
      "2023-11-29 07:27:58,373 - EHR-QC - INFO - args.percentage: None\n",
      "2023-11-29 07:27:58,373 - EHR-QC - INFO - args.save_path: /home/yram0006/phd/chapter_2/workspace/MIMIC-EHR-Pipeline/data/sepsis_icd_cohort/imputed/labs_min_episode_date.csv\n",
      "2023-11-29 07:27:58,373 - EHR-QC - INFO - args.algorithm: miss_forest\n",
      "2023-11-29 07:27:58,373 - EHR-QC - INFO - args.columns: ['Leukocytes in Blood by Manual count', 'Hematocrit of Blood by Automated count', 'MCHC by Automated count', 'MCH by Automated count', 'Erythrocyte distribution width by Automated count', 'MCV by Automated count', 'Erythrocytes in Blood by Automated count', 'Platelets in Blood by Automated count', 'Hemoglobin in Blood', 'Urea nitrogen in Serum or Plasma', 'Creatinine in Serum or Plasma', 'Potassium in Serum or Plasma', 'Chloride in Serum or Plasma', 'Bicarbonate in Serum or Plasma', 'Sodium in Serum or Plasma', 'Anion gap 4 in Serum or Plasma', 'Glucose in Serum or Plasma', 'Magnesium in Serum or Plasma', 'Calcium in Serum or Plasma', 'Phosphate in Serum or Plasma', 'Neutrophils in Urine by Automated count', 'Lymphocytes in Blood by Automated count', 'Basophils in Blood by Automated count', 'Eosinophils in Blood by Automated count', 'Monocytes in Blood by Automated count', 'Prothrombin time (PT)', 'INR in Platelet poor plasma by Coagulation assay', 'aPTT in Blood by Coagulation assay', 'Specific gravity of Urine by Test strip', 'pH of Urine by Test strip', 'Bilirubin.total in Serum or Plasma', 'Aspartate aminotransferase in Serum or Plasma', 'Alanine aminotransferase in Serum or Plasma', 'Alkaline phosphatase in Serum or Plasma', 'Albumin in Serum or Plasma']\n",
      "Iteration: 0\n",
      "Iteration: 1\n",
      "Iteration: 2\n",
      "2023-11-29 08:03:41,035 - EHR-QC - INFO - Done!!\n"
     ]
    },
    {
     "data": {
      "text/plain": [
       "0"
      ]
     },
     "execution_count": 12,
     "metadata": {},
     "output_type": "execute_result"
    }
   ],
   "source": [
    "import os\n",
    "\n",
    "\n",
    "os.system(\n",
    "    'cd ' + os.environ['EHR_QC_PREPROCESS_BASE'] + ';'\n",
    "    +\n",
    "    '''.venv/bin/python -m ehrqc.impute.Impute -ac 'impute' ''' + os.environ['MIMIC_EHR_PIPELINE_BASE'] + '''/data/sepsis_micro_cohort/dropped/labs_min_episode_date.csv -sp ''' + os.environ['MIMIC_EHR_PIPELINE_BASE'] + '''/data/sepsis_micro_cohort/imputed/labs_min_episode_date.csv -al miss_forest -c \"Leukocytes in Blood by Manual count\" \"Hematocrit of Blood by Automated count\" \"MCHC by Automated count\" \"MCH by Automated count\" \"Erythrocyte distribution width by Automated count\" \"MCV by Automated count\" \"Erythrocytes in Blood by Automated count\" \"Platelets in Blood by Automated count\" \"Hemoglobin in Blood\" \"Urea nitrogen in Serum or Plasma\" \"Creatinine in Serum or Plasma\" \"Potassium in Serum or Plasma\" \"Chloride in Serum or Plasma\" \"Bicarbonate in Serum or Plasma\" \"Sodium in Serum or Plasma\" \"Anion gap 4 in Serum or Plasma\" \"Glucose in Serum or Plasma\" \"Magnesium in Serum or Plasma\" \"Calcium in Serum or Plasma\" \"Phosphate in Serum or Plasma\" \"Neutrophils in Urine by Automated count\" \"Lymphocytes in Blood by Automated count\" \"Basophils in Blood by Automated count\" \"Eosinophils in Blood by Automated count\" \"Monocytes in Blood by Automated count\" \"Prothrombin time (PT)\" \"INR in Platelet poor plasma by Coagulation assay\" \"aPTT in Blood by Coagulation assay\" \"Specific gravity of Urine by Test strip\" \"pH of Urine by Test strip\" \"Bilirubin.total in Serum or Plasma\" \"Aspartate aminotransferase in Serum or Plasma\" \"Alanine aminotransferase in Serum or Plasma\" \"Alkaline phosphatase in Serum or Plasma\" \"Albumin in Serum or Plasma\"'''\n",
    "    )\n"
   ]
  },
  {
   "cell_type": "markdown",
   "metadata": {},
   "source": [
    "### max"
   ]
  },
  {
   "cell_type": "code",
   "execution_count": 3,
   "metadata": {},
   "outputs": [
    {
     "name": "stdout",
     "output_type": "stream",
     "text": [
      "2023-11-29 02:22:54,216 - EHR-QC - INFO - Parsing command line arguments\n",
      "2023-11-29 02:22:54,218 - EHR-QC - INFO - args.action: impute\n",
      "2023-11-29 02:22:54,218 - EHR-QC - INFO - args.source_path: /home/yram0006/phd/chapter_2/workspace/MIMIC-EHR-Pipeline/data/sepsis_icd_cohort/dropped/labs_max_episode_date.csv\n",
      "2023-11-29 02:22:54,218 - EHR-QC - INFO - args.percentage: None\n",
      "2023-11-29 02:22:54,218 - EHR-QC - INFO - args.save_path: /home/yram0006/phd/chapter_2/workspace/MIMIC-EHR-Pipeline/data/sepsis_icd_cohort/imputed/labs_max_episode_date.csv\n",
      "2023-11-29 02:22:54,218 - EHR-QC - INFO - args.algorithm: miss_forest\n",
      "2023-11-29 02:22:54,218 - EHR-QC - INFO - args.columns: ['Leukocytes in Blood by Manual count', 'Hematocrit of Blood by Automated count', 'MCHC by Automated count', 'MCH by Automated count', 'Erythrocyte distribution width by Automated count', 'MCV by Automated count', 'Erythrocytes in Blood by Automated count', 'Platelets in Blood by Automated count', 'Hemoglobin in Blood', 'Urea nitrogen in Serum or Plasma', 'Creatinine in Serum or Plasma', 'Potassium in Serum or Plasma', 'Chloride in Serum or Plasma', 'Bicarbonate in Serum or Plasma', 'Sodium in Serum or Plasma', 'Anion gap 4 in Serum or Plasma', 'Glucose in Serum or Plasma', 'Magnesium in Serum or Plasma', 'Calcium in Serum or Plasma', 'Phosphate in Serum or Plasma', 'Neutrophils in Urine by Automated count', 'Lymphocytes in Blood by Automated count', 'Basophils in Blood by Automated count', 'Eosinophils in Blood by Automated count', 'Monocytes in Blood by Automated count', 'Prothrombin time (PT)', 'INR in Platelet poor plasma by Coagulation assay', 'aPTT in Blood by Coagulation assay', 'Specific gravity of Urine by Test strip', 'pH of Urine by Test strip', 'Bilirubin.total in Serum or Plasma', 'Aspartate aminotransferase in Serum or Plasma', 'Alanine aminotransferase in Serum or Plasma', 'Alkaline phosphatase in Serum or Plasma', 'Albumin in Serum or Plasma']\n",
      "Iteration: 0\n",
      "Iteration: 1\n",
      "Iteration: 2\n"
     ]
    },
    {
     "name": "stderr",
     "output_type": "stream",
     "text": [
      "Traceback (most recent call last):\n",
      "  File \"/usr/lib/python3.9/runpy.py\", line 197, in _run_module_as_main\n",
      "    return _run_code(code, main_globals, None,\n",
      "  File \"/usr/lib/python3.9/runpy.py\", line 87, in _run_code\n",
      "    exec(code, run_globals)\n",
      "  File \"/superbugai-data/yash/chapter_2/workspace/EHR-QC-Preprocess/ehrqc/impute/Impute.py\", line 213, in <module>\n",
      "    run(\n",
      "  File \"/superbugai-data/yash/chapter_2/workspace/EHR-QC-Preprocess/ehrqc/impute/Impute.py\", line 165, in run\n",
      "    finalDf.to_csv(save_path, index=None)\n",
      "  File \"/superbugai-data/yash/chapter_2/workspace/EHR-QC-Preprocess/.venv/lib/python3.9/site-packages/pandas/core/generic.py\", line 3902, in to_csv\n",
      "    return DataFrameRenderer(formatter).to_csv(\n",
      "  File \"/superbugai-data/yash/chapter_2/workspace/EHR-QC-Preprocess/.venv/lib/python3.9/site-packages/pandas/io/formats/format.py\", line 1152, in to_csv\n",
      "    csv_formatter.save()\n",
      "  File \"/superbugai-data/yash/chapter_2/workspace/EHR-QC-Preprocess/.venv/lib/python3.9/site-packages/pandas/io/formats/csvs.py\", line 247, in save\n",
      "    with get_handle(\n",
      "  File \"/superbugai-data/yash/chapter_2/workspace/EHR-QC-Preprocess/.venv/lib/python3.9/site-packages/pandas/io/common.py\", line 739, in get_handle\n",
      "    check_parent_directory(str(handle))\n",
      "  File \"/superbugai-data/yash/chapter_2/workspace/EHR-QC-Preprocess/.venv/lib/python3.9/site-packages/pandas/io/common.py\", line 604, in check_parent_directory\n",
      "    raise OSError(rf\"Cannot save file into a non-existent directory: '{parent}'\")\n",
      "OSError: Cannot save file into a non-existent directory: '/home/yram0006/phd/chapter_2/workspace/MIMIC-EHR-Pipeline/data/sepsis_icd_cohort/imputed'\n"
     ]
    },
    {
     "data": {
      "text/plain": [
       "256"
      ]
     },
     "execution_count": 3,
     "metadata": {},
     "output_type": "execute_result"
    }
   ],
   "source": [
    "import os\n",
    "\n",
    "\n",
    "os.system(\n",
    "    'cd ' + os.environ['EHR_QC_PREPROCESS_BASE'] + ';'\n",
    "    +\n",
    "    '''.venv/bin/python -m ehrqc.impute.Impute -ac 'impute' ''' + os.environ['MIMIC_EHR_PIPELINE_BASE'] + '''/data/sepsis_micro_cohort/dropped/labs_max_episode_date.csv -sp ''' + os.environ['MIMIC_EHR_PIPELINE_BASE'] + '''/data/sepsis_micro_cohort/imputed/labs_max_episode_date.csv -al miss_forest -c \"Leukocytes in Blood by Manual count\" \"Hematocrit of Blood by Automated count\" \"MCHC by Automated count\" \"MCH by Automated count\" \"Erythrocyte distribution width by Automated count\" \"MCV by Automated count\" \"Erythrocytes in Blood by Automated count\" \"Platelets in Blood by Automated count\" \"Hemoglobin in Blood\" \"Urea nitrogen in Serum or Plasma\" \"Creatinine in Serum or Plasma\" \"Potassium in Serum or Plasma\" \"Chloride in Serum or Plasma\" \"Bicarbonate in Serum or Plasma\" \"Sodium in Serum or Plasma\" \"Anion gap 4 in Serum or Plasma\" \"Glucose in Serum or Plasma\" \"Magnesium in Serum or Plasma\" \"Calcium in Serum or Plasma\" \"Phosphate in Serum or Plasma\" \"Neutrophils in Urine by Automated count\" \"Lymphocytes in Blood by Automated count\" \"Basophils in Blood by Automated count\" \"Eosinophils in Blood by Automated count\" \"Monocytes in Blood by Automated count\" \"Prothrombin time (PT)\" \"INR in Platelet poor plasma by Coagulation assay\" \"aPTT in Blood by Coagulation assay\" \"Specific gravity of Urine by Test strip\" \"pH of Urine by Test strip\" \"Bilirubin.total in Serum or Plasma\" \"Aspartate aminotransferase in Serum or Plasma\" \"Alanine aminotransferase in Serum or Plasma\" \"Alkaline phosphatase in Serum or Plasma\" \"Albumin in Serum or Plasma\"'''\n",
    "    )\n"
   ]
  },
  {
   "cell_type": "markdown",
   "metadata": {},
   "source": [
    "### first"
   ]
  },
  {
   "cell_type": "code",
   "execution_count": 4,
   "metadata": {},
   "outputs": [
    {
     "name": "stdout",
     "output_type": "stream",
     "text": [
      "2023-11-29 02:58:36,353 - EHR-QC - INFO - Parsing command line arguments\n",
      "2023-11-29 02:58:36,354 - EHR-QC - INFO - args.action: impute\n",
      "2023-11-29 02:58:36,354 - EHR-QC - INFO - args.source_path: /home/yram0006/phd/chapter_2/workspace/MIMIC-EHR-Pipeline/data/sepsis_icd_cohort/dropped/labs_first_episode_date.csv\n",
      "2023-11-29 02:58:36,354 - EHR-QC - INFO - args.percentage: None\n",
      "2023-11-29 02:58:36,354 - EHR-QC - INFO - args.save_path: /home/yram0006/phd/chapter_2/workspace/MIMIC-EHR-Pipeline/data/sepsis_icd_cohort/imputed/labs_first_episode_date.csv\n",
      "2023-11-29 02:58:36,354 - EHR-QC - INFO - args.algorithm: miss_forest\n",
      "2023-11-29 02:58:36,355 - EHR-QC - INFO - args.columns: ['Leukocytes in Blood by Manual count', 'Hematocrit of Blood by Automated count', 'MCHC by Automated count', 'MCH by Automated count', 'Erythrocyte distribution width by Automated count', 'MCV by Automated count', 'Erythrocytes in Blood by Automated count', 'Platelets in Blood by Automated count', 'Hemoglobin in Blood', 'Urea nitrogen in Serum or Plasma', 'Creatinine in Serum or Plasma', 'Potassium in Serum or Plasma', 'Chloride in Serum or Plasma', 'Bicarbonate in Serum or Plasma', 'Sodium in Serum or Plasma', 'Anion gap 4 in Serum or Plasma', 'Glucose in Serum or Plasma', 'Magnesium in Serum or Plasma', 'Calcium in Serum or Plasma', 'Phosphate in Serum or Plasma', 'Neutrophils in Urine by Automated count', 'Lymphocytes in Blood by Automated count', 'Basophils in Blood by Automated count', 'Eosinophils in Blood by Automated count', 'Monocytes in Blood by Automated count', 'Prothrombin time (PT)', 'INR in Platelet poor plasma by Coagulation assay', 'aPTT in Blood by Coagulation assay', 'Specific gravity of Urine by Test strip', 'pH of Urine by Test strip', 'Bilirubin.total in Serum or Plasma', 'Aspartate aminotransferase in Serum or Plasma', 'Alanine aminotransferase in Serum or Plasma', 'Alkaline phosphatase in Serum or Plasma', 'Albumin in Serum or Plasma']\n",
      "Iteration: 0\n",
      "Iteration: 1\n",
      "Iteration: 2\n"
     ]
    },
    {
     "name": "stderr",
     "output_type": "stream",
     "text": [
      "Traceback (most recent call last):\n",
      "  File \"/usr/lib/python3.9/runpy.py\", line 197, in _run_module_as_main\n",
      "    return _run_code(code, main_globals, None,\n",
      "  File \"/usr/lib/python3.9/runpy.py\", line 87, in _run_code\n",
      "    exec(code, run_globals)\n",
      "  File \"/superbugai-data/yash/chapter_2/workspace/EHR-QC-Preprocess/ehrqc/impute/Impute.py\", line 213, in <module>\n",
      "    run(\n",
      "  File \"/superbugai-data/yash/chapter_2/workspace/EHR-QC-Preprocess/ehrqc/impute/Impute.py\", line 165, in run\n",
      "    finalDf.to_csv(save_path, index=None)\n",
      "  File \"/superbugai-data/yash/chapter_2/workspace/EHR-QC-Preprocess/.venv/lib/python3.9/site-packages/pandas/core/generic.py\", line 3902, in to_csv\n",
      "    return DataFrameRenderer(formatter).to_csv(\n",
      "  File \"/superbugai-data/yash/chapter_2/workspace/EHR-QC-Preprocess/.venv/lib/python3.9/site-packages/pandas/io/formats/format.py\", line 1152, in to_csv\n",
      "    csv_formatter.save()\n",
      "  File \"/superbugai-data/yash/chapter_2/workspace/EHR-QC-Preprocess/.venv/lib/python3.9/site-packages/pandas/io/formats/csvs.py\", line 247, in save\n",
      "    with get_handle(\n",
      "  File \"/superbugai-data/yash/chapter_2/workspace/EHR-QC-Preprocess/.venv/lib/python3.9/site-packages/pandas/io/common.py\", line 739, in get_handle\n",
      "    check_parent_directory(str(handle))\n",
      "  File \"/superbugai-data/yash/chapter_2/workspace/EHR-QC-Preprocess/.venv/lib/python3.9/site-packages/pandas/io/common.py\", line 604, in check_parent_directory\n",
      "    raise OSError(rf\"Cannot save file into a non-existent directory: '{parent}'\")\n",
      "OSError: Cannot save file into a non-existent directory: '/home/yram0006/phd/chapter_2/workspace/MIMIC-EHR-Pipeline/data/sepsis_icd_cohort/imputed'\n"
     ]
    },
    {
     "data": {
      "text/plain": [
       "256"
      ]
     },
     "execution_count": 4,
     "metadata": {},
     "output_type": "execute_result"
    }
   ],
   "source": [
    "import os\n",
    "\n",
    "\n",
    "os.system(\n",
    "    'cd ' + os.environ['EHR_QC_PREPROCESS_BASE'] + ';'\n",
    "    +\n",
    "    '''.venv/bin/python -m ehrqc.impute.Impute -ac 'impute' ''' + os.environ['MIMIC_EHR_PIPELINE_BASE'] + '''/data/sepsis_micro_cohort/dropped/labs_first_episode_date.csv -sp ''' + os.environ['MIMIC_EHR_PIPELINE_BASE'] + '''/data/sepsis_micro_cohort/imputed/labs_first_episode_date.csv -al miss_forest -c \"Leukocytes in Blood by Manual count\" \"Hematocrit of Blood by Automated count\" \"MCHC by Automated count\" \"MCH by Automated count\" \"Erythrocyte distribution width by Automated count\" \"MCV by Automated count\" \"Erythrocytes in Blood by Automated count\" \"Platelets in Blood by Automated count\" \"Hemoglobin in Blood\" \"Urea nitrogen in Serum or Plasma\" \"Creatinine in Serum or Plasma\" \"Potassium in Serum or Plasma\" \"Chloride in Serum or Plasma\" \"Bicarbonate in Serum or Plasma\" \"Sodium in Serum or Plasma\" \"Anion gap 4 in Serum or Plasma\" \"Glucose in Serum or Plasma\" \"Magnesium in Serum or Plasma\" \"Calcium in Serum or Plasma\" \"Phosphate in Serum or Plasma\" \"Neutrophils in Urine by Automated count\" \"Lymphocytes in Blood by Automated count\" \"Basophils in Blood by Automated count\" \"Eosinophils in Blood by Automated count\" \"Monocytes in Blood by Automated count\" \"Prothrombin time (PT)\" \"INR in Platelet poor plasma by Coagulation assay\" \"aPTT in Blood by Coagulation assay\" \"Specific gravity of Urine by Test strip\" \"pH of Urine by Test strip\" \"Bilirubin.total in Serum or Plasma\" \"Aspartate aminotransferase in Serum or Plasma\" \"Alanine aminotransferase in Serum or Plasma\" \"Alkaline phosphatase in Serum or Plasma\" \"Albumin in Serum or Plasma\"'''\n",
    "    )\n"
   ]
  },
  {
   "cell_type": "markdown",
   "metadata": {},
   "source": [
    "### last"
   ]
  },
  {
   "cell_type": "code",
   "execution_count": 5,
   "metadata": {},
   "outputs": [
    {
     "name": "stdout",
     "output_type": "stream",
     "text": [
      "2023-11-29 03:31:20,428 - EHR-QC - INFO - Parsing command line arguments\n",
      "2023-11-29 03:31:20,429 - EHR-QC - INFO - args.action: impute\n",
      "2023-11-29 03:31:20,429 - EHR-QC - INFO - args.source_path: /home/yram0006/phd/chapter_2/workspace/MIMIC-EHR-Pipeline/data/sepsis_icd_cohort/dropped/labs_last_episode_date.csv\n",
      "2023-11-29 03:31:20,429 - EHR-QC - INFO - args.percentage: None\n",
      "2023-11-29 03:31:20,429 - EHR-QC - INFO - args.save_path: /home/yram0006/phd/chapter_2/workspace/MIMIC-EHR-Pipeline/data/sepsis_icd_cohort/imputed/labs_last_episode_date.csv\n",
      "2023-11-29 03:31:20,429 - EHR-QC - INFO - args.algorithm: miss_forest\n",
      "2023-11-29 03:31:20,429 - EHR-QC - INFO - args.columns: ['Leukocytes in Blood by Manual count', 'Hematocrit of Blood by Automated count', 'MCHC by Automated count', 'MCH by Automated count', 'Erythrocyte distribution width by Automated count', 'MCV by Automated count', 'Erythrocytes in Blood by Automated count', 'Platelets in Blood by Automated count', 'Hemoglobin in Blood', 'Urea nitrogen in Serum or Plasma', 'Creatinine in Serum or Plasma', 'Potassium in Serum or Plasma', 'Chloride in Serum or Plasma', 'Bicarbonate in Serum or Plasma', 'Sodium in Serum or Plasma', 'Anion gap 4 in Serum or Plasma', 'Glucose in Serum or Plasma', 'Magnesium in Serum or Plasma', 'Calcium in Serum or Plasma', 'Phosphate in Serum or Plasma', 'Neutrophils in Urine by Automated count', 'Lymphocytes in Blood by Automated count', 'Basophils in Blood by Automated count', 'Eosinophils in Blood by Automated count', 'Monocytes in Blood by Automated count', 'Prothrombin time (PT)', 'INR in Platelet poor plasma by Coagulation assay', 'aPTT in Blood by Coagulation assay', 'Specific gravity of Urine by Test strip', 'pH of Urine by Test strip', 'Bilirubin.total in Serum or Plasma', 'Aspartate aminotransferase in Serum or Plasma', 'Alanine aminotransferase in Serum or Plasma', 'Alkaline phosphatase in Serum or Plasma', 'Albumin in Serum or Plasma']\n",
      "Iteration: 0\n",
      "Iteration: 1\n",
      "Iteration: 2\n"
     ]
    },
    {
     "name": "stderr",
     "output_type": "stream",
     "text": [
      "Traceback (most recent call last):\n",
      "  File \"/usr/lib/python3.9/runpy.py\", line 197, in _run_module_as_main\n",
      "    return _run_code(code, main_globals, None,\n",
      "  File \"/usr/lib/python3.9/runpy.py\", line 87, in _run_code\n",
      "    exec(code, run_globals)\n",
      "  File \"/superbugai-data/yash/chapter_2/workspace/EHR-QC-Preprocess/ehrqc/impute/Impute.py\", line 213, in <module>\n",
      "    run(\n",
      "  File \"/superbugai-data/yash/chapter_2/workspace/EHR-QC-Preprocess/ehrqc/impute/Impute.py\", line 165, in run\n",
      "    finalDf.to_csv(save_path, index=None)\n",
      "  File \"/superbugai-data/yash/chapter_2/workspace/EHR-QC-Preprocess/.venv/lib/python3.9/site-packages/pandas/core/generic.py\", line 3902, in to_csv\n",
      "    return DataFrameRenderer(formatter).to_csv(\n",
      "  File \"/superbugai-data/yash/chapter_2/workspace/EHR-QC-Preprocess/.venv/lib/python3.9/site-packages/pandas/io/formats/format.py\", line 1152, in to_csv\n",
      "    csv_formatter.save()\n",
      "  File \"/superbugai-data/yash/chapter_2/workspace/EHR-QC-Preprocess/.venv/lib/python3.9/site-packages/pandas/io/formats/csvs.py\", line 247, in save\n",
      "    with get_handle(\n",
      "  File \"/superbugai-data/yash/chapter_2/workspace/EHR-QC-Preprocess/.venv/lib/python3.9/site-packages/pandas/io/common.py\", line 739, in get_handle\n",
      "    check_parent_directory(str(handle))\n",
      "  File \"/superbugai-data/yash/chapter_2/workspace/EHR-QC-Preprocess/.venv/lib/python3.9/site-packages/pandas/io/common.py\", line 604, in check_parent_directory\n",
      "    raise OSError(rf\"Cannot save file into a non-existent directory: '{parent}'\")\n",
      "OSError: Cannot save file into a non-existent directory: '/home/yram0006/phd/chapter_2/workspace/MIMIC-EHR-Pipeline/data/sepsis_icd_cohort/imputed'\n"
     ]
    },
    {
     "data": {
      "text/plain": [
       "256"
      ]
     },
     "execution_count": 5,
     "metadata": {},
     "output_type": "execute_result"
    }
   ],
   "source": [
    "import os\n",
    "\n",
    "\n",
    "os.system(\n",
    "    'cd ' + os.environ['EHR_QC_PREPROCESS_BASE'] + ';'\n",
    "    +\n",
    "    '''.venv/bin/python -m ehrqc.impute.Impute -ac 'impute' ''' + os.environ['MIMIC_EHR_PIPELINE_BASE'] + '''/data/sepsis_micro_cohort/dropped/labs_last_episode_date.csv -sp ''' + os.environ['MIMIC_EHR_PIPELINE_BASE'] + '''/data/sepsis_micro_cohort/imputed/labs_last_episode_date.csv -al miss_forest -c \"Leukocytes in Blood by Manual count\" \"Hematocrit of Blood by Automated count\" \"MCHC by Automated count\" \"MCH by Automated count\" \"Erythrocyte distribution width by Automated count\" \"MCV by Automated count\" \"Erythrocytes in Blood by Automated count\" \"Platelets in Blood by Automated count\" \"Hemoglobin in Blood\" \"Urea nitrogen in Serum or Plasma\" \"Creatinine in Serum or Plasma\" \"Potassium in Serum or Plasma\" \"Chloride in Serum or Plasma\" \"Bicarbonate in Serum or Plasma\" \"Sodium in Serum or Plasma\" \"Anion gap 4 in Serum or Plasma\" \"Glucose in Serum or Plasma\" \"Magnesium in Serum or Plasma\" \"Calcium in Serum or Plasma\" \"Phosphate in Serum or Plasma\" \"Neutrophils in Urine by Automated count\" \"Lymphocytes in Blood by Automated count\" \"Basophils in Blood by Automated count\" \"Eosinophils in Blood by Automated count\" \"Monocytes in Blood by Automated count\" \"Prothrombin time (PT)\" \"INR in Platelet poor plasma by Coagulation assay\" \"aPTT in Blood by Coagulation assay\" \"Specific gravity of Urine by Test strip\" \"pH of Urine by Test strip\" \"Bilirubin.total in Serum or Plasma\" \"Aspartate aminotransferase in Serum or Plasma\" \"Alanine aminotransferase in Serum or Plasma\" \"Alkaline phosphatase in Serum or Plasma\" \"Albumin in Serum or Plasma\"'''\n",
    "    )\n"
   ]
  },
  {
   "cell_type": "markdown",
   "metadata": {},
   "source": [
    "## Vitals"
   ]
  },
  {
   "cell_type": "markdown",
   "metadata": {},
   "source": [
    "### avg"
   ]
  },
  {
   "cell_type": "code",
   "execution_count": 6,
   "metadata": {},
   "outputs": [
    {
     "name": "stdout",
     "output_type": "stream",
     "text": [
      "2023-11-29 04:04:24,657 - EHR-QC - INFO - Parsing command line arguments\n",
      "2023-11-29 04:04:24,658 - EHR-QC - INFO - args.action: impute\n",
      "2023-11-29 04:04:24,659 - EHR-QC - INFO - args.source_path: /home/yram0006/phd/chapter_2/workspace/MIMIC-EHR-Pipeline/data/sepsis_icd_cohort/dropped/vitals_avg_episode_date.csv\n",
      "2023-11-29 04:04:24,659 - EHR-QC - INFO - args.percentage: None\n",
      "2023-11-29 04:04:24,659 - EHR-QC - INFO - args.save_path: /home/yram0006/phd/chapter_2/workspace/MIMIC-EHR-Pipeline/data/sepsis_icd_cohort/imputed/vitals_avg_episode_date.csv\n",
      "2023-11-29 04:04:24,659 - EHR-QC - INFO - args.algorithm: miss_forest\n",
      "2023-11-29 04:04:24,659 - EHR-QC - INFO - args.columns: ['Respiratory rate', 'Heart rate', 'Body weight', 'Oxygen saturation in Arterial blood by Pulse oximetry', 'Glasgow coma score eye opening', 'Glasgow coma score verbal', 'Glasgow coma score motor', 'Physical mobility Braden scale', 'Nutrition intake pattern Braden scale', 'Sensory perception Braden scale', 'Physical activity Braden scale', 'Moisture exposure Braden scale', 'Friction and shear Braden scale', 'Mean blood pressure', 'Systolic blood pressure', 'Diastolic blood pressure', 'Body temperature']\n",
      "Iteration: 0\n",
      "Iteration: 1\n",
      "Iteration: 2\n",
      "Iteration: 3\n",
      "Iteration: 4\n",
      "Iteration: 5\n"
     ]
    },
    {
     "name": "stderr",
     "output_type": "stream",
     "text": [
      "Traceback (most recent call last):\n",
      "  File \"/usr/lib/python3.9/runpy.py\", line 197, in _run_module_as_main\n",
      "    return _run_code(code, main_globals, None,\n",
      "  File \"/usr/lib/python3.9/runpy.py\", line 87, in _run_code\n",
      "    exec(code, run_globals)\n",
      "  File \"/superbugai-data/yash/chapter_2/workspace/EHR-QC-Preprocess/ehrqc/impute/Impute.py\", line 213, in <module>\n",
      "    run(\n",
      "  File \"/superbugai-data/yash/chapter_2/workspace/EHR-QC-Preprocess/ehrqc/impute/Impute.py\", line 165, in run\n",
      "    finalDf.to_csv(save_path, index=None)\n",
      "  File \"/superbugai-data/yash/chapter_2/workspace/EHR-QC-Preprocess/.venv/lib/python3.9/site-packages/pandas/core/generic.py\", line 3902, in to_csv\n",
      "    return DataFrameRenderer(formatter).to_csv(\n",
      "  File \"/superbugai-data/yash/chapter_2/workspace/EHR-QC-Preprocess/.venv/lib/python3.9/site-packages/pandas/io/formats/format.py\", line 1152, in to_csv\n",
      "    csv_formatter.save()\n",
      "  File \"/superbugai-data/yash/chapter_2/workspace/EHR-QC-Preprocess/.venv/lib/python3.9/site-packages/pandas/io/formats/csvs.py\", line 247, in save\n",
      "    with get_handle(\n",
      "  File \"/superbugai-data/yash/chapter_2/workspace/EHR-QC-Preprocess/.venv/lib/python3.9/site-packages/pandas/io/common.py\", line 739, in get_handle\n",
      "    check_parent_directory(str(handle))\n",
      "  File \"/superbugai-data/yash/chapter_2/workspace/EHR-QC-Preprocess/.venv/lib/python3.9/site-packages/pandas/io/common.py\", line 604, in check_parent_directory\n",
      "    raise OSError(rf\"Cannot save file into a non-existent directory: '{parent}'\")\n",
      "OSError: Cannot save file into a non-existent directory: '/home/yram0006/phd/chapter_2/workspace/MIMIC-EHR-Pipeline/data/sepsis_icd_cohort/imputed'\n"
     ]
    },
    {
     "data": {
      "text/plain": [
       "256"
      ]
     },
     "execution_count": 6,
     "metadata": {},
     "output_type": "execute_result"
    }
   ],
   "source": [
    "import os\n",
    "\n",
    "\n",
    "os.system(\n",
    "    'cd ' + os.environ['EHR_QC_PREPROCESS_BASE'] + ';'\n",
    "    +\n",
    "    '''.venv/bin/python -m ehrqc.impute.Impute -ac 'impute' ''' + os.environ['MIMIC_EHR_PIPELINE_BASE'] + '''/data/sepsis_micro_cohort/dropped/vitals_avg_episode_date.csv -sp ''' + os.environ['MIMIC_EHR_PIPELINE_BASE'] + '''/data/sepsis_micro_cohort/imputed/vitals_avg_episode_date.csv -al miss_forest -c \"Respiratory rate\" \"Heart rate\" \"Body weight\" \"Oxygen saturation in Arterial blood by Pulse oximetry\" \"Glasgow coma score eye opening\" \"Glasgow coma score verbal\" \"Glasgow coma score motor\" \"Physical mobility Braden scale\" \"Nutrition intake pattern Braden scale\" \"Sensory perception Braden scale\" \"Physical activity Braden scale\" \"Moisture exposure Braden scale\" \"Friction and shear Braden scale\" \"Mean blood pressure\" \"Systolic blood pressure\" \"Diastolic blood pressure\" \"Body temperature\"'''\n",
    "    )\n"
   ]
  },
  {
   "cell_type": "markdown",
   "metadata": {},
   "source": [
    "### min"
   ]
  },
  {
   "cell_type": "code",
   "execution_count": 7,
   "metadata": {},
   "outputs": [
    {
     "name": "stdout",
     "output_type": "stream",
     "text": [
      "2023-11-29 04:13:03,364 - EHR-QC - INFO - Parsing command line arguments\n",
      "2023-11-29 04:13:03,365 - EHR-QC - INFO - args.action: impute\n",
      "2023-11-29 04:13:03,365 - EHR-QC - INFO - args.source_path: /home/yram0006/phd/chapter_2/workspace/MIMIC-EHR-Pipeline/data/sepsis_icd_cohort/dropped/vitals_min_episode_date.csv\n",
      "2023-11-29 04:13:03,365 - EHR-QC - INFO - args.percentage: None\n",
      "2023-11-29 04:13:03,365 - EHR-QC - INFO - args.save_path: /home/yram0006/phd/chapter_2/workspace/MIMIC-EHR-Pipeline/data/sepsis_icd_cohort/imputed/vitals_min_episode_date.csv\n",
      "2023-11-29 04:13:03,366 - EHR-QC - INFO - args.algorithm: miss_forest\n",
      "2023-11-29 04:13:03,366 - EHR-QC - INFO - args.columns: ['Respiratory rate', 'Heart rate', 'Body weight', 'Oxygen saturation in Arterial blood by Pulse oximetry', 'Glasgow coma score eye opening', 'Glasgow coma score verbal', 'Glasgow coma score motor', 'Physical mobility Braden scale', 'Nutrition intake pattern Braden scale', 'Sensory perception Braden scale', 'Physical activity Braden scale', 'Moisture exposure Braden scale', 'Friction and shear Braden scale', 'Mean blood pressure', 'Systolic blood pressure', 'Diastolic blood pressure', 'Body temperature']\n",
      "Iteration: 0\n",
      "Iteration: 1\n",
      "Iteration: 2\n"
     ]
    },
    {
     "name": "stderr",
     "output_type": "stream",
     "text": [
      "Traceback (most recent call last):\n",
      "  File \"/usr/lib/python3.9/runpy.py\", line 197, in _run_module_as_main\n",
      "    return _run_code(code, main_globals, None,\n",
      "  File \"/usr/lib/python3.9/runpy.py\", line 87, in _run_code\n",
      "    exec(code, run_globals)\n",
      "  File \"/superbugai-data/yash/chapter_2/workspace/EHR-QC-Preprocess/ehrqc/impute/Impute.py\", line 213, in <module>\n",
      "    run(\n",
      "  File \"/superbugai-data/yash/chapter_2/workspace/EHR-QC-Preprocess/ehrqc/impute/Impute.py\", line 165, in run\n",
      "    finalDf.to_csv(save_path, index=None)\n",
      "  File \"/superbugai-data/yash/chapter_2/workspace/EHR-QC-Preprocess/.venv/lib/python3.9/site-packages/pandas/core/generic.py\", line 3902, in to_csv\n",
      "    return DataFrameRenderer(formatter).to_csv(\n",
      "  File \"/superbugai-data/yash/chapter_2/workspace/EHR-QC-Preprocess/.venv/lib/python3.9/site-packages/pandas/io/formats/format.py\", line 1152, in to_csv\n",
      "    csv_formatter.save()\n",
      "  File \"/superbugai-data/yash/chapter_2/workspace/EHR-QC-Preprocess/.venv/lib/python3.9/site-packages/pandas/io/formats/csvs.py\", line 247, in save\n",
      "    with get_handle(\n",
      "  File \"/superbugai-data/yash/chapter_2/workspace/EHR-QC-Preprocess/.venv/lib/python3.9/site-packages/pandas/io/common.py\", line 739, in get_handle\n",
      "    check_parent_directory(str(handle))\n",
      "  File \"/superbugai-data/yash/chapter_2/workspace/EHR-QC-Preprocess/.venv/lib/python3.9/site-packages/pandas/io/common.py\", line 604, in check_parent_directory\n",
      "    raise OSError(rf\"Cannot save file into a non-existent directory: '{parent}'\")\n",
      "OSError: Cannot save file into a non-existent directory: '/home/yram0006/phd/chapter_2/workspace/MIMIC-EHR-Pipeline/data/sepsis_icd_cohort/imputed'\n"
     ]
    },
    {
     "data": {
      "text/plain": [
       "256"
      ]
     },
     "execution_count": 7,
     "metadata": {},
     "output_type": "execute_result"
    }
   ],
   "source": [
    "import os\n",
    "\n",
    "\n",
    "os.system(\n",
    "    'cd ' + os.environ['EHR_QC_PREPROCESS_BASE'] + ';'\n",
    "    +\n",
    "    '''.venv/bin/python -m ehrqc.impute.Impute -ac 'impute' ''' + os.environ['MIMIC_EHR_PIPELINE_BASE'] + '''/data/sepsis_micro_cohort/dropped/vitals_min_episode_date.csv -sp ''' + os.environ['MIMIC_EHR_PIPELINE_BASE'] + '''/data/sepsis_micro_cohort/imputed/vitals_min_episode_date.csv -al miss_forest -c \"Respiratory rate\" \"Heart rate\" \"Body weight\" \"Oxygen saturation in Arterial blood by Pulse oximetry\" \"Glasgow coma score eye opening\" \"Glasgow coma score verbal\" \"Glasgow coma score motor\" \"Physical mobility Braden scale\" \"Nutrition intake pattern Braden scale\" \"Sensory perception Braden scale\" \"Physical activity Braden scale\" \"Moisture exposure Braden scale\" \"Friction and shear Braden scale\" \"Mean blood pressure\" \"Systolic blood pressure\" \"Diastolic blood pressure\" \"Body temperature\"'''\n",
    "    )\n"
   ]
  },
  {
   "cell_type": "markdown",
   "metadata": {},
   "source": [
    "### max"
   ]
  },
  {
   "cell_type": "code",
   "execution_count": 8,
   "metadata": {},
   "outputs": [
    {
     "name": "stdout",
     "output_type": "stream",
     "text": [
      "2023-11-29 04:17:20,629 - EHR-QC - INFO - Parsing command line arguments\n",
      "2023-11-29 04:17:20,630 - EHR-QC - INFO - args.action: impute\n",
      "2023-11-29 04:17:20,630 - EHR-QC - INFO - args.source_path: /home/yram0006/phd/chapter_2/workspace/MIMIC-EHR-Pipeline/data/sepsis_icd_cohort/dropped/vitals_max_episode_date.csv\n",
      "2023-11-29 04:17:20,630 - EHR-QC - INFO - args.percentage: None\n",
      "2023-11-29 04:17:20,630 - EHR-QC - INFO - args.save_path: /home/yram0006/phd/chapter_2/workspace/MIMIC-EHR-Pipeline/data/sepsis_icd_cohort/imputed/vitals_max_episode_date.csv\n",
      "2023-11-29 04:17:20,631 - EHR-QC - INFO - args.algorithm: miss_forest\n",
      "2023-11-29 04:17:20,631 - EHR-QC - INFO - args.columns: ['Respiratory rate', 'Heart rate', 'Body weight', 'Oxygen saturation in Arterial blood by Pulse oximetry', 'Glasgow coma score eye opening', 'Glasgow coma score verbal', 'Glasgow coma score motor', 'Physical mobility Braden scale', 'Nutrition intake pattern Braden scale', 'Sensory perception Braden scale', 'Physical activity Braden scale', 'Moisture exposure Braden scale', 'Friction and shear Braden scale', 'Mean blood pressure', 'Systolic blood pressure', 'Diastolic blood pressure', 'Body temperature']\n",
      "Iteration: 0\n",
      "Iteration: 1\n",
      "Iteration: 2\n"
     ]
    },
    {
     "name": "stderr",
     "output_type": "stream",
     "text": [
      "Traceback (most recent call last):\n",
      "  File \"/usr/lib/python3.9/runpy.py\", line 197, in _run_module_as_main\n",
      "    return _run_code(code, main_globals, None,\n",
      "  File \"/usr/lib/python3.9/runpy.py\", line 87, in _run_code\n",
      "    exec(code, run_globals)\n",
      "  File \"/superbugai-data/yash/chapter_2/workspace/EHR-QC-Preprocess/ehrqc/impute/Impute.py\", line 213, in <module>\n",
      "    run(\n",
      "  File \"/superbugai-data/yash/chapter_2/workspace/EHR-QC-Preprocess/ehrqc/impute/Impute.py\", line 165, in run\n",
      "    finalDf.to_csv(save_path, index=None)\n",
      "  File \"/superbugai-data/yash/chapter_2/workspace/EHR-QC-Preprocess/.venv/lib/python3.9/site-packages/pandas/core/generic.py\", line 3902, in to_csv\n",
      "    return DataFrameRenderer(formatter).to_csv(\n",
      "  File \"/superbugai-data/yash/chapter_2/workspace/EHR-QC-Preprocess/.venv/lib/python3.9/site-packages/pandas/io/formats/format.py\", line 1152, in to_csv\n",
      "    csv_formatter.save()\n",
      "  File \"/superbugai-data/yash/chapter_2/workspace/EHR-QC-Preprocess/.venv/lib/python3.9/site-packages/pandas/io/formats/csvs.py\", line 247, in save\n",
      "    with get_handle(\n",
      "  File \"/superbugai-data/yash/chapter_2/workspace/EHR-QC-Preprocess/.venv/lib/python3.9/site-packages/pandas/io/common.py\", line 739, in get_handle\n",
      "    check_parent_directory(str(handle))\n",
      "  File \"/superbugai-data/yash/chapter_2/workspace/EHR-QC-Preprocess/.venv/lib/python3.9/site-packages/pandas/io/common.py\", line 604, in check_parent_directory\n",
      "    raise OSError(rf\"Cannot save file into a non-existent directory: '{parent}'\")\n",
      "OSError: Cannot save file into a non-existent directory: '/home/yram0006/phd/chapter_2/workspace/MIMIC-EHR-Pipeline/data/sepsis_icd_cohort/imputed'\n"
     ]
    },
    {
     "data": {
      "text/plain": [
       "256"
      ]
     },
     "execution_count": 8,
     "metadata": {},
     "output_type": "execute_result"
    }
   ],
   "source": [
    "import os\n",
    "\n",
    "\n",
    "os.system(\n",
    "    'cd ' + os.environ['EHR_QC_PREPROCESS_BASE'] + ';'\n",
    "    +\n",
    "    '''.venv/bin/python -m ehrqc.impute.Impute -ac 'impute' ''' + os.environ['MIMIC_EHR_PIPELINE_BASE'] + '''/data/sepsis_micro_cohort/dropped/vitals_max_episode_date.csv -sp ''' + os.environ['MIMIC_EHR_PIPELINE_BASE'] + '''/data/sepsis_micro_cohort/imputed/vitals_max_episode_date.csv -al miss_forest -c \"Respiratory rate\" \"Heart rate\" \"Body weight\" \"Oxygen saturation in Arterial blood by Pulse oximetry\" \"Glasgow coma score eye opening\" \"Glasgow coma score verbal\" \"Glasgow coma score motor\" \"Physical mobility Braden scale\" \"Nutrition intake pattern Braden scale\" \"Sensory perception Braden scale\" \"Physical activity Braden scale\" \"Moisture exposure Braden scale\" \"Friction and shear Braden scale\" \"Mean blood pressure\" \"Systolic blood pressure\" \"Diastolic blood pressure\" \"Body temperature\"'''\n",
    "    )\n"
   ]
  },
  {
   "cell_type": "markdown",
   "metadata": {},
   "source": [
    "### first"
   ]
  },
  {
   "cell_type": "code",
   "execution_count": 1,
   "metadata": {},
   "outputs": [
    {
     "name": "stdout",
     "output_type": "stream",
     "text": [
      "2023-11-29 11:22:32,634 - EHR-QC - INFO - Parsing command line arguments\n",
      "2023-11-29 11:22:32,636 - EHR-QC - INFO - args.action: impute\n",
      "2023-11-29 11:22:32,636 - EHR-QC - INFO - args.source_path: /home/yram0006/phd/chapter_2/workspace/MIMIC-EHR-Pipeline/data/sepsis_icd_cohort/dropped/vitals_first_episode_date.csv\n",
      "2023-11-29 11:22:32,636 - EHR-QC - INFO - args.percentage: None\n",
      "2023-11-29 11:22:32,636 - EHR-QC - INFO - args.save_path: /home/yram0006/phd/chapter_2/workspace/MIMIC-EHR-Pipeline/data/sepsis_icd_cohort/imputed/vitals_first_episode_date.csv\n",
      "2023-11-29 11:22:32,636 - EHR-QC - INFO - args.algorithm: miss_forest\n",
      "2023-11-29 11:22:32,636 - EHR-QC - INFO - args.columns: ['Respiratory rate', 'Heart rate', 'Body weight', 'Oxygen saturation in Arterial blood by Pulse oximetry', 'Glasgow coma score eye opening', 'Glasgow coma score verbal', 'Glasgow coma score motor', 'Physical mobility Braden scale', 'Nutrition intake pattern Braden scale', 'Sensory perception Braden scale', 'Physical activity Braden scale', 'Moisture exposure Braden scale', 'Friction and shear Braden scale', 'Mean blood pressure', 'Systolic blood pressure', 'Diastolic blood pressure', 'Body temperature']\n",
      "Iteration: 0\n",
      "Iteration: 1\n",
      "Iteration: 2\n",
      "2023-11-29 11:25:00,963 - EHR-QC - INFO - Done!!\n"
     ]
    },
    {
     "data": {
      "text/plain": [
       "0"
      ]
     },
     "execution_count": 1,
     "metadata": {},
     "output_type": "execute_result"
    }
   ],
   "source": [
    "import os\n",
    "\n",
    "\n",
    "os.system(\n",
    "    'cd ' + os.environ['EHR_QC_PREPROCESS_BASE'] + ';'\n",
    "    +\n",
    "    '''.venv/bin/python -m ehrqc.impute.Impute -ac 'impute' ''' + os.environ['MIMIC_EHR_PIPELINE_BASE'] + '''/data/sepsis_micro_cohort/dropped/vitals_first_episode_date.csv -sp ''' + os.environ['MIMIC_EHR_PIPELINE_BASE'] + '''/data/sepsis_micro_cohort/imputed/vitals_first_episode_date.csv -al miss_forest -c \"Respiratory rate\" \"Heart rate\" \"Body weight\" \"Oxygen saturation in Arterial blood by Pulse oximetry\" \"Glasgow coma score eye opening\" \"Glasgow coma score verbal\" \"Glasgow coma score motor\" \"Physical mobility Braden scale\" \"Nutrition intake pattern Braden scale\" \"Sensory perception Braden scale\" \"Physical activity Braden scale\" \"Moisture exposure Braden scale\" \"Friction and shear Braden scale\" \"Mean blood pressure\" \"Systolic blood pressure\" \"Diastolic blood pressure\" \"Body temperature\"'''\n",
    "    )\n"
   ]
  },
  {
   "cell_type": "markdown",
   "metadata": {},
   "source": [
    "### last"
   ]
  },
  {
   "cell_type": "code",
   "execution_count": 2,
   "metadata": {},
   "outputs": [
    {
     "name": "stdout",
     "output_type": "stream",
     "text": [
      "2023-11-29 11:25:01,897 - EHR-QC - INFO - Parsing command line arguments\n",
      "2023-11-29 11:25:01,898 - EHR-QC - INFO - args.action: impute\n",
      "2023-11-29 11:25:01,898 - EHR-QC - INFO - args.source_path: /home/yram0006/phd/chapter_2/workspace/MIMIC-EHR-Pipeline/data/sepsis_icd_cohort/dropped/vitals_last_episode_date.csv\n",
      "2023-11-29 11:25:01,898 - EHR-QC - INFO - args.percentage: None\n",
      "2023-11-29 11:25:01,898 - EHR-QC - INFO - args.save_path: /home/yram0006/phd/chapter_2/workspace/MIMIC-EHR-Pipeline/data/sepsis_icd_cohort/imputed/vitals_last_episode_date.csv\n",
      "2023-11-29 11:25:01,898 - EHR-QC - INFO - args.algorithm: miss_forest\n",
      "2023-11-29 11:25:01,898 - EHR-QC - INFO - args.columns: ['Respiratory rate', 'Heart rate', 'Body weight', 'Oxygen saturation in Arterial blood by Pulse oximetry', 'Glasgow coma score eye opening', 'Glasgow coma score verbal', 'Glasgow coma score motor', 'Physical mobility Braden scale', 'Nutrition intake pattern Braden scale', 'Sensory perception Braden scale', 'Physical activity Braden scale', 'Moisture exposure Braden scale', 'Friction and shear Braden scale', 'Mean blood pressure', 'Systolic blood pressure', 'Diastolic blood pressure', 'Body temperature']\n",
      "Iteration: 0\n",
      "Iteration: 1\n",
      "Iteration: 2\n",
      "Iteration: 3\n",
      "Iteration: 4\n",
      "Iteration: 5\n",
      "Iteration: 6\n",
      "2023-11-29 11:30:55,174 - EHR-QC - INFO - Done!!\n"
     ]
    },
    {
     "data": {
      "text/plain": [
       "0"
      ]
     },
     "execution_count": 2,
     "metadata": {},
     "output_type": "execute_result"
    }
   ],
   "source": [
    "import os\n",
    "\n",
    "\n",
    "os.system(\n",
    "    'cd ' + os.environ['EHR_QC_PREPROCESS_BASE'] + ';'\n",
    "    +\n",
    "    '''.venv/bin/python -m ehrqc.impute.Impute -ac 'impute' ''' + os.environ['MIMIC_EHR_PIPELINE_BASE'] + '''/data/sepsis_micro_cohort/dropped/vitals_last_episode_date.csv -sp ''' + os.environ['MIMIC_EHR_PIPELINE_BASE'] + '''/data/sepsis_micro_cohort/imputed/vitals_last_episode_date.csv -al miss_forest -c \"Respiratory rate\" \"Heart rate\" \"Body weight\" \"Oxygen saturation in Arterial blood by Pulse oximetry\" \"Glasgow coma score eye opening\" \"Glasgow coma score verbal\" \"Glasgow coma score motor\" \"Physical mobility Braden scale\" \"Nutrition intake pattern Braden scale\" \"Sensory perception Braden scale\" \"Physical activity Braden scale\" \"Moisture exposure Braden scale\" \"Friction and shear Braden scale\" \"Mean blood pressure\" \"Systolic blood pressure\" \"Diastolic blood pressure\" \"Body temperature\"'''\n",
    "    )\n"
   ]
  }
 ],
 "metadata": {
  "kernelspec": {
   "display_name": ".venv",
   "language": "python",
   "name": "python3"
  },
  "language_info": {
   "codemirror_mode": {
    "name": "ipython",
    "version": 3
   },
   "file_extension": ".py",
   "mimetype": "text/x-python",
   "name": "python",
   "nbconvert_exporter": "python",
   "pygments_lexer": "ipython3",
   "version": "3.8.10"
  }
 },
 "nbformat": 4,
 "nbformat_minor": 2
}
